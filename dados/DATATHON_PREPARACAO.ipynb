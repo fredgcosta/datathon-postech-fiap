{
 "cells": [
  {
   "cell_type": "code",
   "id": "initial_id",
   "metadata": {
    "collapsed": true,
    "ExecuteTime": {
     "end_time": "2024-08-11T15:11:15.486875Z",
     "start_time": "2024-08-11T15:11:15.452416Z"
    }
   },
   "source": [
    "import pandas as pd\n",
    "import numpy as np\n",
    "import matplotlib.pyplot as plt\n",
    "import matplotlib.ticker as ticker\n",
    "import plotly.express as px\n",
    "import plotly.graph_objects as go\n",
    "from plotly.subplots import make_subplots\n",
    "\n",
    "file_path = './dados/PEDE_PASSOS_DATASET_FIAP.csv'\n",
    "pd.set_option('display.max_columns', None)\n",
    "pd.options.mode.copy_on_write = True\n",
    "df_original = pd.read_csv(file_path, delimiter=';')"
   ],
   "outputs": [],
   "execution_count": 173
  },
  {
   "metadata": {
    "ExecuteTime": {
     "end_time": "2024-08-11T15:11:16.357647Z",
     "start_time": "2024-08-11T15:11:16.284880Z"
    }
   },
   "cell_type": "code",
   "source": "df_original.head()",
   "id": "32bd10c224b153b6",
   "outputs": [
    {
     "data": {
      "text/plain": [
       "  INSTITUICAO_ENSINO_ALUNO_2020     NOME IDADE_ALUNO_2020 ANOS_PM_2020  \\\n",
       "0                Escola Pública  ALUNO-1               11            2   \n",
       "1                           NaN  ALUNO-2              NaN          NaN   \n",
       "2                Escola Pública  ALUNO-3               12            2   \n",
       "3                Escola Pública  ALUNO-4               10            2   \n",
       "4                Escola Pública  ALUNO-5               10            1   \n",
       "\n",
       "  FASE_TURMA_2020 PONTO_VIRADA_2020          INDE_2020 INDE_CONCEITO_2020  \\\n",
       "0              2H               Não           7.883752                  B   \n",
       "1             NaN               NaN                NaN                NaN   \n",
       "2              3H               Não  7.856389666666666                  B   \n",
       "3              1D               Não           5.076252                  D   \n",
       "4              2M               Não           8.077085                  B   \n",
       "\n",
       "  PEDRA_2020                                  DESTAQUE_IEG_2020  \\\n",
       "0   Ametista  Seu destaque em 2020: A sua boa entrega das li...   \n",
       "1        NaN                                                NaN   \n",
       "2   Ametista  Seu destaque em 2020: A sua boa entrega das li...   \n",
       "3    Quartzo  Ponto a melhorar em 2021: Melhorar a sua entre...   \n",
       "4   Ametista  Seu destaque em 2020: A sua boa entrega das li...   \n",
       "\n",
       "                                   DESTAQUE_IDA_2020  \\\n",
       "0  Ponto a melhorar em 2021: Empenhar-se mais nas...   \n",
       "1                                                NaN   \n",
       "2  Ponto a melhorar em 2021: Empenhar-se mais nas...   \n",
       "3  Ponto a melhorar em 2021: Empenhar-se mais nas...   \n",
       "4  Seu destaque em 2020: As suas boas notas na Pa...   \n",
       "\n",
       "                                   DESTAQUE_IPV_2020           IAA_2020  \\\n",
       "0  Seu destaque em 2020: A sua boa integração aos...  8.500020000000001   \n",
       "1                                                NaN                NaN   \n",
       "2  Seu destaque em 2020: A sua boa integração aos...            7.91667   \n",
       "3  Ponto a melhorar em 2021: Integrar-se mais aos...  8.000020000000001   \n",
       "4  Seu destaque em 2020: A sua boa integração aos...            7.50002   \n",
       "\n",
       "  IEG_2020 IPS_2020 IDA_2020 IPP_2020           IPV_2020 IAN_2020  FASE_2021  \\\n",
       "0      8.7      7.5        7   5.9375               7.75       10        2.0   \n",
       "1      NaN      NaN      NaN      NaN                NaN      NaN        NaN   \n",
       "2      8.9      7.5      5.5    8.125  8.111113333333334       10        3.0   \n",
       "3      4.1    6.875        0   7.1875               7.75        5        NaN   \n",
       "4        8      7.5      7.5   8.4375           8.166665       10        2.0   \n",
       "\n",
       "  TURMA_2021 INSTITUICAO_ENSINO_ALUNO_2021 SINALIZADOR_INGRESSANTE_2021  \\\n",
       "0          G                  Rede Decisão                  Ingressante   \n",
       "1        NaN                           NaN                          NaN   \n",
       "2          F                Escola Pública                     Veterano   \n",
       "3        NaN                           NaN                          NaN   \n",
       "4          L                Escola Pública                     Veterano   \n",
       "\n",
       "  PEDRA_2021 INDE_2021  IAA_2021  IEG_2021  IPS_2021  IDA_2021  IPP_2021  \\\n",
       "0   Ametista     7.319       7.5       6.3       6.9       8.8       7.7   \n",
       "1        NaN       NaN       NaN       NaN       NaN       NaN       NaN   \n",
       "2   Ametista     7.021       7.1       6.9       6.3       5.6       7.3   \n",
       "3        NaN       NaN       NaN       NaN       NaN       NaN       NaN   \n",
       "4   Ametista     7.399       7.4       7.5       7.5       5.4       8.5   \n",
       "\n",
       "   REC_EQUIPE_1_2021      REC_EQUIPE_2_2021      REC_EQUIPE_3_2021  \\\n",
       "0  Promovido de Fase      Promovido de Fase  Mantido na Fase atual   \n",
       "1                NaN                    NaN                    NaN   \n",
       "2  Promovido de Fase      Promovido de Fase  Mantido na Fase atual   \n",
       "3                NaN                    NaN                    NaN   \n",
       "4  Promovido de Fase  Mantido na Fase atual  Mantido na Fase atual   \n",
       "\n",
       "  REC_EQUIPE_4_2021 PONTO_VIRADA_2021  IPV_2021  IAN_2021  \\\n",
       "0      Não avaliado               Não       8.1       5.0   \n",
       "1               NaN               NaN       NaN       NaN   \n",
       "2      Não avaliado               Não       7.2      10.0   \n",
       "3               NaN               NaN       NaN       NaN   \n",
       "4      Não avaliado               Não       7.4      10.0   \n",
       "\n",
       "        NIVEL_IDEAL_2021  DEFASAGEM_2021  FASE_2022 TURMA_2022  \\\n",
       "0  Nível 3 (7o e 8o ano)            -1.0        NaN        NaN   \n",
       "1                    NaN             NaN        0.0          K   \n",
       "2  Nível 3 (7o e 8o ano)             0.0        NaN        NaN   \n",
       "3                    NaN             NaN        2.0          J   \n",
       "4  Nível 2 (5o e 6o ano)             0.0        2.0          L   \n",
       "\n",
       "   ANO_INGRESSO_2022 BOLSISTA_2022  INDE_2022  CG_2022  CF_2022  CT_2022  \\\n",
       "0                NaN           NaN        NaN      NaN      NaN      NaN   \n",
       "1             2022.0           Não   7.675509    245.0     66.0      6.0   \n",
       "2                NaN           NaN        NaN      NaN      NaN      NaN   \n",
       "3             2022.0           Não   7.117065    451.0     69.0      3.0   \n",
       "4             2019.0           Não   7.232336    415.0     61.0     12.0   \n",
       "\n",
       "  PEDRA_2022                                DESTAQUE_IEG_2022  \\\n",
       "0        NaN                                              NaN   \n",
       "1   Ametista  Destaque: A sua boa entrega das lições de casa.   \n",
       "2        NaN                                              NaN   \n",
       "3   Ametista  Destaque: A sua boa entrega das lições de casa.   \n",
       "4   Ametista  Destaque: A sua boa entrega das lições de casa.   \n",
       "\n",
       "                                   DESTAQUE_IDA_2022  \\\n",
       "0                                                NaN   \n",
       "1    Destaque: As suas boas notas na Passos Mágicos.   \n",
       "2                                                NaN   \n",
       "3  Melhorar: Empenhar-se mais nas aulas e avaliaç...   \n",
       "4  Melhorar: Empenhar-se mais nas aulas e avaliaç...   \n",
       "\n",
       "                                   DESTAQUE_IPV_2022  IAA_2022  IEG_2022  \\\n",
       "0                                                NaN       NaN       NaN   \n",
       "1  Destaque: A sua boa integração aos Princípios ...  10.00002  7.581705   \n",
       "2                                                NaN       NaN       NaN   \n",
       "3  Destaque: A sua boa integração aos Princípios ...  10.00002  8.071429   \n",
       "4  Destaque: A sua boa integração aos Princípios ...   6.41668  8.557505   \n",
       "\n",
       "   IPS_2022  IDA_2022  NOTA_PORT_2022  NOTA_MAT_2022  NOTA_ING_2022  \\\n",
       "0       NaN       NaN             NaN            NaN            NaN   \n",
       "1       7.5  8.816667        8.200000       9.433333            NaN   \n",
       "2       NaN       NaN             NaN            NaN            NaN   \n",
       "3       7.5  5.083333        5.000000       5.166667            NaN   \n",
       "4       7.5  7.083333        6.666667       7.500000            NaN   \n",
       "\n",
       "   QTD_AVAL_2022  IPP_2022           REC_AVA_1_2022         REC_AVA_2_2022  \\\n",
       "0            NaN       NaN                      NaN                    NaN   \n",
       "1            2.0  5.625000  Mantido na Fase + Bolsa  Mantido na Fase atual   \n",
       "2            NaN       NaN                      NaN                    NaN   \n",
       "3            3.0  6.250000        Promovido de Fase  Mantido na Fase atual   \n",
       "4            3.0  6.458333    Mantido na Fase atual      Promovido de Fase   \n",
       "\n",
       "          REC_AVA_3_2022 REC_AVA_4_2022 INDICADO_BOLSA_2022 PONTO_VIRADA_2022  \\\n",
       "0                    NaN            NaN                 NaN               NaN   \n",
       "1                    NaN            NaN                 Sim               Não   \n",
       "2                    NaN            NaN                 NaN               NaN   \n",
       "3      Promovido de Fase            NaN                 Não               Não   \n",
       "4  Mantido na Fase atual            NaN                 Não               Não   \n",
       "\n",
       "   IPV_2022  IAN_2022      NIVEL_IDEAL_2022  \n",
       "0       NaN       NaN                   NaN  \n",
       "1  7.916665       5.0  Fase 2 (5º e 6º ano)  \n",
       "2       NaN       NaN                   NaN  \n",
       "3  8.055553       5.0  Fase 3 (7º e 8º ano)  \n",
       "4  7.833337       5.0  Fase 3 (7º e 8º ano)  "
      ],
      "text/html": [
       "<div>\n",
       "<style scoped>\n",
       "    .dataframe tbody tr th:only-of-type {\n",
       "        vertical-align: middle;\n",
       "    }\n",
       "\n",
       "    .dataframe tbody tr th {\n",
       "        vertical-align: top;\n",
       "    }\n",
       "\n",
       "    .dataframe thead th {\n",
       "        text-align: right;\n",
       "    }\n",
       "</style>\n",
       "<table border=\"1\" class=\"dataframe\">\n",
       "  <thead>\n",
       "    <tr style=\"text-align: right;\">\n",
       "      <th></th>\n",
       "      <th>INSTITUICAO_ENSINO_ALUNO_2020</th>\n",
       "      <th>NOME</th>\n",
       "      <th>IDADE_ALUNO_2020</th>\n",
       "      <th>ANOS_PM_2020</th>\n",
       "      <th>FASE_TURMA_2020</th>\n",
       "      <th>PONTO_VIRADA_2020</th>\n",
       "      <th>INDE_2020</th>\n",
       "      <th>INDE_CONCEITO_2020</th>\n",
       "      <th>PEDRA_2020</th>\n",
       "      <th>DESTAQUE_IEG_2020</th>\n",
       "      <th>DESTAQUE_IDA_2020</th>\n",
       "      <th>DESTAQUE_IPV_2020</th>\n",
       "      <th>IAA_2020</th>\n",
       "      <th>IEG_2020</th>\n",
       "      <th>IPS_2020</th>\n",
       "      <th>IDA_2020</th>\n",
       "      <th>IPP_2020</th>\n",
       "      <th>IPV_2020</th>\n",
       "      <th>IAN_2020</th>\n",
       "      <th>FASE_2021</th>\n",
       "      <th>TURMA_2021</th>\n",
       "      <th>INSTITUICAO_ENSINO_ALUNO_2021</th>\n",
       "      <th>SINALIZADOR_INGRESSANTE_2021</th>\n",
       "      <th>PEDRA_2021</th>\n",
       "      <th>INDE_2021</th>\n",
       "      <th>IAA_2021</th>\n",
       "      <th>IEG_2021</th>\n",
       "      <th>IPS_2021</th>\n",
       "      <th>IDA_2021</th>\n",
       "      <th>IPP_2021</th>\n",
       "      <th>REC_EQUIPE_1_2021</th>\n",
       "      <th>REC_EQUIPE_2_2021</th>\n",
       "      <th>REC_EQUIPE_3_2021</th>\n",
       "      <th>REC_EQUIPE_4_2021</th>\n",
       "      <th>PONTO_VIRADA_2021</th>\n",
       "      <th>IPV_2021</th>\n",
       "      <th>IAN_2021</th>\n",
       "      <th>NIVEL_IDEAL_2021</th>\n",
       "      <th>DEFASAGEM_2021</th>\n",
       "      <th>FASE_2022</th>\n",
       "      <th>TURMA_2022</th>\n",
       "      <th>ANO_INGRESSO_2022</th>\n",
       "      <th>BOLSISTA_2022</th>\n",
       "      <th>INDE_2022</th>\n",
       "      <th>CG_2022</th>\n",
       "      <th>CF_2022</th>\n",
       "      <th>CT_2022</th>\n",
       "      <th>PEDRA_2022</th>\n",
       "      <th>DESTAQUE_IEG_2022</th>\n",
       "      <th>DESTAQUE_IDA_2022</th>\n",
       "      <th>DESTAQUE_IPV_2022</th>\n",
       "      <th>IAA_2022</th>\n",
       "      <th>IEG_2022</th>\n",
       "      <th>IPS_2022</th>\n",
       "      <th>IDA_2022</th>\n",
       "      <th>NOTA_PORT_2022</th>\n",
       "      <th>NOTA_MAT_2022</th>\n",
       "      <th>NOTA_ING_2022</th>\n",
       "      <th>QTD_AVAL_2022</th>\n",
       "      <th>IPP_2022</th>\n",
       "      <th>REC_AVA_1_2022</th>\n",
       "      <th>REC_AVA_2_2022</th>\n",
       "      <th>REC_AVA_3_2022</th>\n",
       "      <th>REC_AVA_4_2022</th>\n",
       "      <th>INDICADO_BOLSA_2022</th>\n",
       "      <th>PONTO_VIRADA_2022</th>\n",
       "      <th>IPV_2022</th>\n",
       "      <th>IAN_2022</th>\n",
       "      <th>NIVEL_IDEAL_2022</th>\n",
       "    </tr>\n",
       "  </thead>\n",
       "  <tbody>\n",
       "    <tr>\n",
       "      <th>0</th>\n",
       "      <td>Escola Pública</td>\n",
       "      <td>ALUNO-1</td>\n",
       "      <td>11</td>\n",
       "      <td>2</td>\n",
       "      <td>2H</td>\n",
       "      <td>Não</td>\n",
       "      <td>7.883752</td>\n",
       "      <td>B</td>\n",
       "      <td>Ametista</td>\n",
       "      <td>Seu destaque em 2020: A sua boa entrega das li...</td>\n",
       "      <td>Ponto a melhorar em 2021: Empenhar-se mais nas...</td>\n",
       "      <td>Seu destaque em 2020: A sua boa integração aos...</td>\n",
       "      <td>8.500020000000001</td>\n",
       "      <td>8.7</td>\n",
       "      <td>7.5</td>\n",
       "      <td>7</td>\n",
       "      <td>5.9375</td>\n",
       "      <td>7.75</td>\n",
       "      <td>10</td>\n",
       "      <td>2.0</td>\n",
       "      <td>G</td>\n",
       "      <td>Rede Decisão</td>\n",
       "      <td>Ingressante</td>\n",
       "      <td>Ametista</td>\n",
       "      <td>7.319</td>\n",
       "      <td>7.5</td>\n",
       "      <td>6.3</td>\n",
       "      <td>6.9</td>\n",
       "      <td>8.8</td>\n",
       "      <td>7.7</td>\n",
       "      <td>Promovido de Fase</td>\n",
       "      <td>Promovido de Fase</td>\n",
       "      <td>Mantido na Fase atual</td>\n",
       "      <td>Não avaliado</td>\n",
       "      <td>Não</td>\n",
       "      <td>8.1</td>\n",
       "      <td>5.0</td>\n",
       "      <td>Nível 3 (7o e 8o ano)</td>\n",
       "      <td>-1.0</td>\n",
       "      <td>NaN</td>\n",
       "      <td>NaN</td>\n",
       "      <td>NaN</td>\n",
       "      <td>NaN</td>\n",
       "      <td>NaN</td>\n",
       "      <td>NaN</td>\n",
       "      <td>NaN</td>\n",
       "      <td>NaN</td>\n",
       "      <td>NaN</td>\n",
       "      <td>NaN</td>\n",
       "      <td>NaN</td>\n",
       "      <td>NaN</td>\n",
       "      <td>NaN</td>\n",
       "      <td>NaN</td>\n",
       "      <td>NaN</td>\n",
       "      <td>NaN</td>\n",
       "      <td>NaN</td>\n",
       "      <td>NaN</td>\n",
       "      <td>NaN</td>\n",
       "      <td>NaN</td>\n",
       "      <td>NaN</td>\n",
       "      <td>NaN</td>\n",
       "      <td>NaN</td>\n",
       "      <td>NaN</td>\n",
       "      <td>NaN</td>\n",
       "      <td>NaN</td>\n",
       "      <td>NaN</td>\n",
       "      <td>NaN</td>\n",
       "      <td>NaN</td>\n",
       "      <td>NaN</td>\n",
       "    </tr>\n",
       "    <tr>\n",
       "      <th>1</th>\n",
       "      <td>NaN</td>\n",
       "      <td>ALUNO-2</td>\n",
       "      <td>NaN</td>\n",
       "      <td>NaN</td>\n",
       "      <td>NaN</td>\n",
       "      <td>NaN</td>\n",
       "      <td>NaN</td>\n",
       "      <td>NaN</td>\n",
       "      <td>NaN</td>\n",
       "      <td>NaN</td>\n",
       "      <td>NaN</td>\n",
       "      <td>NaN</td>\n",
       "      <td>NaN</td>\n",
       "      <td>NaN</td>\n",
       "      <td>NaN</td>\n",
       "      <td>NaN</td>\n",
       "      <td>NaN</td>\n",
       "      <td>NaN</td>\n",
       "      <td>NaN</td>\n",
       "      <td>NaN</td>\n",
       "      <td>NaN</td>\n",
       "      <td>NaN</td>\n",
       "      <td>NaN</td>\n",
       "      <td>NaN</td>\n",
       "      <td>NaN</td>\n",
       "      <td>NaN</td>\n",
       "      <td>NaN</td>\n",
       "      <td>NaN</td>\n",
       "      <td>NaN</td>\n",
       "      <td>NaN</td>\n",
       "      <td>NaN</td>\n",
       "      <td>NaN</td>\n",
       "      <td>NaN</td>\n",
       "      <td>NaN</td>\n",
       "      <td>NaN</td>\n",
       "      <td>NaN</td>\n",
       "      <td>NaN</td>\n",
       "      <td>NaN</td>\n",
       "      <td>NaN</td>\n",
       "      <td>0.0</td>\n",
       "      <td>K</td>\n",
       "      <td>2022.0</td>\n",
       "      <td>Não</td>\n",
       "      <td>7.675509</td>\n",
       "      <td>245.0</td>\n",
       "      <td>66.0</td>\n",
       "      <td>6.0</td>\n",
       "      <td>Ametista</td>\n",
       "      <td>Destaque: A sua boa entrega das lições de casa.</td>\n",
       "      <td>Destaque: As suas boas notas na Passos Mágicos.</td>\n",
       "      <td>Destaque: A sua boa integração aos Princípios ...</td>\n",
       "      <td>10.00002</td>\n",
       "      <td>7.581705</td>\n",
       "      <td>7.5</td>\n",
       "      <td>8.816667</td>\n",
       "      <td>8.200000</td>\n",
       "      <td>9.433333</td>\n",
       "      <td>NaN</td>\n",
       "      <td>2.0</td>\n",
       "      <td>5.625000</td>\n",
       "      <td>Mantido na Fase + Bolsa</td>\n",
       "      <td>Mantido na Fase atual</td>\n",
       "      <td>NaN</td>\n",
       "      <td>NaN</td>\n",
       "      <td>Sim</td>\n",
       "      <td>Não</td>\n",
       "      <td>7.916665</td>\n",
       "      <td>5.0</td>\n",
       "      <td>Fase 2 (5º e 6º ano)</td>\n",
       "    </tr>\n",
       "    <tr>\n",
       "      <th>2</th>\n",
       "      <td>Escola Pública</td>\n",
       "      <td>ALUNO-3</td>\n",
       "      <td>12</td>\n",
       "      <td>2</td>\n",
       "      <td>3H</td>\n",
       "      <td>Não</td>\n",
       "      <td>7.856389666666666</td>\n",
       "      <td>B</td>\n",
       "      <td>Ametista</td>\n",
       "      <td>Seu destaque em 2020: A sua boa entrega das li...</td>\n",
       "      <td>Ponto a melhorar em 2021: Empenhar-se mais nas...</td>\n",
       "      <td>Seu destaque em 2020: A sua boa integração aos...</td>\n",
       "      <td>7.91667</td>\n",
       "      <td>8.9</td>\n",
       "      <td>7.5</td>\n",
       "      <td>5.5</td>\n",
       "      <td>8.125</td>\n",
       "      <td>8.111113333333334</td>\n",
       "      <td>10</td>\n",
       "      <td>3.0</td>\n",
       "      <td>F</td>\n",
       "      <td>Escola Pública</td>\n",
       "      <td>Veterano</td>\n",
       "      <td>Ametista</td>\n",
       "      <td>7.021</td>\n",
       "      <td>7.1</td>\n",
       "      <td>6.9</td>\n",
       "      <td>6.3</td>\n",
       "      <td>5.6</td>\n",
       "      <td>7.3</td>\n",
       "      <td>Promovido de Fase</td>\n",
       "      <td>Promovido de Fase</td>\n",
       "      <td>Mantido na Fase atual</td>\n",
       "      <td>Não avaliado</td>\n",
       "      <td>Não</td>\n",
       "      <td>7.2</td>\n",
       "      <td>10.0</td>\n",
       "      <td>Nível 3 (7o e 8o ano)</td>\n",
       "      <td>0.0</td>\n",
       "      <td>NaN</td>\n",
       "      <td>NaN</td>\n",
       "      <td>NaN</td>\n",
       "      <td>NaN</td>\n",
       "      <td>NaN</td>\n",
       "      <td>NaN</td>\n",
       "      <td>NaN</td>\n",
       "      <td>NaN</td>\n",
       "      <td>NaN</td>\n",
       "      <td>NaN</td>\n",
       "      <td>NaN</td>\n",
       "      <td>NaN</td>\n",
       "      <td>NaN</td>\n",
       "      <td>NaN</td>\n",
       "      <td>NaN</td>\n",
       "      <td>NaN</td>\n",
       "      <td>NaN</td>\n",
       "      <td>NaN</td>\n",
       "      <td>NaN</td>\n",
       "      <td>NaN</td>\n",
       "      <td>NaN</td>\n",
       "      <td>NaN</td>\n",
       "      <td>NaN</td>\n",
       "      <td>NaN</td>\n",
       "      <td>NaN</td>\n",
       "      <td>NaN</td>\n",
       "      <td>NaN</td>\n",
       "      <td>NaN</td>\n",
       "      <td>NaN</td>\n",
       "      <td>NaN</td>\n",
       "    </tr>\n",
       "    <tr>\n",
       "      <th>3</th>\n",
       "      <td>Escola Pública</td>\n",
       "      <td>ALUNO-4</td>\n",
       "      <td>10</td>\n",
       "      <td>2</td>\n",
       "      <td>1D</td>\n",
       "      <td>Não</td>\n",
       "      <td>5.076252</td>\n",
       "      <td>D</td>\n",
       "      <td>Quartzo</td>\n",
       "      <td>Ponto a melhorar em 2021: Melhorar a sua entre...</td>\n",
       "      <td>Ponto a melhorar em 2021: Empenhar-se mais nas...</td>\n",
       "      <td>Ponto a melhorar em 2021: Integrar-se mais aos...</td>\n",
       "      <td>8.000020000000001</td>\n",
       "      <td>4.1</td>\n",
       "      <td>6.875</td>\n",
       "      <td>0</td>\n",
       "      <td>7.1875</td>\n",
       "      <td>7.75</td>\n",
       "      <td>5</td>\n",
       "      <td>NaN</td>\n",
       "      <td>NaN</td>\n",
       "      <td>NaN</td>\n",
       "      <td>NaN</td>\n",
       "      <td>NaN</td>\n",
       "      <td>NaN</td>\n",
       "      <td>NaN</td>\n",
       "      <td>NaN</td>\n",
       "      <td>NaN</td>\n",
       "      <td>NaN</td>\n",
       "      <td>NaN</td>\n",
       "      <td>NaN</td>\n",
       "      <td>NaN</td>\n",
       "      <td>NaN</td>\n",
       "      <td>NaN</td>\n",
       "      <td>NaN</td>\n",
       "      <td>NaN</td>\n",
       "      <td>NaN</td>\n",
       "      <td>NaN</td>\n",
       "      <td>NaN</td>\n",
       "      <td>2.0</td>\n",
       "      <td>J</td>\n",
       "      <td>2022.0</td>\n",
       "      <td>Não</td>\n",
       "      <td>7.117065</td>\n",
       "      <td>451.0</td>\n",
       "      <td>69.0</td>\n",
       "      <td>3.0</td>\n",
       "      <td>Ametista</td>\n",
       "      <td>Destaque: A sua boa entrega das lições de casa.</td>\n",
       "      <td>Melhorar: Empenhar-se mais nas aulas e avaliaç...</td>\n",
       "      <td>Destaque: A sua boa integração aos Princípios ...</td>\n",
       "      <td>10.00002</td>\n",
       "      <td>8.071429</td>\n",
       "      <td>7.5</td>\n",
       "      <td>5.083333</td>\n",
       "      <td>5.000000</td>\n",
       "      <td>5.166667</td>\n",
       "      <td>NaN</td>\n",
       "      <td>3.0</td>\n",
       "      <td>6.250000</td>\n",
       "      <td>Promovido de Fase</td>\n",
       "      <td>Mantido na Fase atual</td>\n",
       "      <td>Promovido de Fase</td>\n",
       "      <td>NaN</td>\n",
       "      <td>Não</td>\n",
       "      <td>Não</td>\n",
       "      <td>8.055553</td>\n",
       "      <td>5.0</td>\n",
       "      <td>Fase 3 (7º e 8º ano)</td>\n",
       "    </tr>\n",
       "    <tr>\n",
       "      <th>4</th>\n",
       "      <td>Escola Pública</td>\n",
       "      <td>ALUNO-5</td>\n",
       "      <td>10</td>\n",
       "      <td>1</td>\n",
       "      <td>2M</td>\n",
       "      <td>Não</td>\n",
       "      <td>8.077085</td>\n",
       "      <td>B</td>\n",
       "      <td>Ametista</td>\n",
       "      <td>Seu destaque em 2020: A sua boa entrega das li...</td>\n",
       "      <td>Seu destaque em 2020: As suas boas notas na Pa...</td>\n",
       "      <td>Seu destaque em 2020: A sua boa integração aos...</td>\n",
       "      <td>7.50002</td>\n",
       "      <td>8</td>\n",
       "      <td>7.5</td>\n",
       "      <td>7.5</td>\n",
       "      <td>8.4375</td>\n",
       "      <td>8.166665</td>\n",
       "      <td>10</td>\n",
       "      <td>2.0</td>\n",
       "      <td>L</td>\n",
       "      <td>Escola Pública</td>\n",
       "      <td>Veterano</td>\n",
       "      <td>Ametista</td>\n",
       "      <td>7.399</td>\n",
       "      <td>7.4</td>\n",
       "      <td>7.5</td>\n",
       "      <td>7.5</td>\n",
       "      <td>5.4</td>\n",
       "      <td>8.5</td>\n",
       "      <td>Promovido de Fase</td>\n",
       "      <td>Mantido na Fase atual</td>\n",
       "      <td>Mantido na Fase atual</td>\n",
       "      <td>Não avaliado</td>\n",
       "      <td>Não</td>\n",
       "      <td>7.4</td>\n",
       "      <td>10.0</td>\n",
       "      <td>Nível 2 (5o e 6o ano)</td>\n",
       "      <td>0.0</td>\n",
       "      <td>2.0</td>\n",
       "      <td>L</td>\n",
       "      <td>2019.0</td>\n",
       "      <td>Não</td>\n",
       "      <td>7.232336</td>\n",
       "      <td>415.0</td>\n",
       "      <td>61.0</td>\n",
       "      <td>12.0</td>\n",
       "      <td>Ametista</td>\n",
       "      <td>Destaque: A sua boa entrega das lições de casa.</td>\n",
       "      <td>Melhorar: Empenhar-se mais nas aulas e avaliaç...</td>\n",
       "      <td>Destaque: A sua boa integração aos Princípios ...</td>\n",
       "      <td>6.41668</td>\n",
       "      <td>8.557505</td>\n",
       "      <td>7.5</td>\n",
       "      <td>7.083333</td>\n",
       "      <td>6.666667</td>\n",
       "      <td>7.500000</td>\n",
       "      <td>NaN</td>\n",
       "      <td>3.0</td>\n",
       "      <td>6.458333</td>\n",
       "      <td>Mantido na Fase atual</td>\n",
       "      <td>Promovido de Fase</td>\n",
       "      <td>Mantido na Fase atual</td>\n",
       "      <td>NaN</td>\n",
       "      <td>Não</td>\n",
       "      <td>Não</td>\n",
       "      <td>7.833337</td>\n",
       "      <td>5.0</td>\n",
       "      <td>Fase 3 (7º e 8º ano)</td>\n",
       "    </tr>\n",
       "  </tbody>\n",
       "</table>\n",
       "</div>"
      ]
     },
     "execution_count": 174,
     "metadata": {},
     "output_type": "execute_result"
    }
   ],
   "execution_count": 174
  },
  {
   "metadata": {},
   "cell_type": "markdown",
   "source": "Primeiramente, vamos separar os dados da coluna 'FASE_TURMA_2020' em duas colunas: 'FASE_2020' e 'TURMA_2020'",
   "id": "78ccf9f40c2bec62"
  },
  {
   "metadata": {
    "ExecuteTime": {
     "end_time": "2024-08-11T15:11:16.386030Z",
     "start_time": "2024-08-11T15:11:16.375655Z"
    }
   },
   "cell_type": "code",
   "source": [
    "df_original[['FASE_2020', 'TURMA_2020']] = df_original['FASE_TURMA_2020'].str.extract(r'(.{1})(.{1})')\n",
    "df_original.drop('FASE_TURMA_2020', axis=1, inplace=True)"
   ],
   "id": "1f076caf444127f4",
   "outputs": [],
   "execution_count": 175
  },
  {
   "metadata": {
    "ExecuteTime": {
     "end_time": "2024-08-11T15:11:16.514762Z",
     "start_time": "2024-08-11T15:11:16.504039Z"
    }
   },
   "cell_type": "code",
   "source": [
    "df_original['ID_ALUNO']=df_original['NOME'].str.split('-').str[1].astype(int)\n",
    "#df_original.set_index('ID_ALUNO', inplace=True)\n",
    "#df_original.drop('NOME', axis=1, inplace=True)"
   ],
   "id": "2d123a1eace38494",
   "outputs": [],
   "execution_count": 176
  },
  {
   "metadata": {
    "ExecuteTime": {
     "end_time": "2024-08-11T15:11:16.940732Z",
     "start_time": "2024-08-11T15:11:16.834168Z"
    }
   },
   "cell_type": "code",
   "source": "df_original.head()",
   "id": "d3f050e5ee5e13c9",
   "outputs": [
    {
     "data": {
      "text/plain": [
       "  INSTITUICAO_ENSINO_ALUNO_2020     NOME IDADE_ALUNO_2020 ANOS_PM_2020  \\\n",
       "0                Escola Pública  ALUNO-1               11            2   \n",
       "1                           NaN  ALUNO-2              NaN          NaN   \n",
       "2                Escola Pública  ALUNO-3               12            2   \n",
       "3                Escola Pública  ALUNO-4               10            2   \n",
       "4                Escola Pública  ALUNO-5               10            1   \n",
       "\n",
       "  PONTO_VIRADA_2020          INDE_2020 INDE_CONCEITO_2020 PEDRA_2020  \\\n",
       "0               Não           7.883752                  B   Ametista   \n",
       "1               NaN                NaN                NaN        NaN   \n",
       "2               Não  7.856389666666666                  B   Ametista   \n",
       "3               Não           5.076252                  D    Quartzo   \n",
       "4               Não           8.077085                  B   Ametista   \n",
       "\n",
       "                                   DESTAQUE_IEG_2020  \\\n",
       "0  Seu destaque em 2020: A sua boa entrega das li...   \n",
       "1                                                NaN   \n",
       "2  Seu destaque em 2020: A sua boa entrega das li...   \n",
       "3  Ponto a melhorar em 2021: Melhorar a sua entre...   \n",
       "4  Seu destaque em 2020: A sua boa entrega das li...   \n",
       "\n",
       "                                   DESTAQUE_IDA_2020  \\\n",
       "0  Ponto a melhorar em 2021: Empenhar-se mais nas...   \n",
       "1                                                NaN   \n",
       "2  Ponto a melhorar em 2021: Empenhar-se mais nas...   \n",
       "3  Ponto a melhorar em 2021: Empenhar-se mais nas...   \n",
       "4  Seu destaque em 2020: As suas boas notas na Pa...   \n",
       "\n",
       "                                   DESTAQUE_IPV_2020           IAA_2020  \\\n",
       "0  Seu destaque em 2020: A sua boa integração aos...  8.500020000000001   \n",
       "1                                                NaN                NaN   \n",
       "2  Seu destaque em 2020: A sua boa integração aos...            7.91667   \n",
       "3  Ponto a melhorar em 2021: Integrar-se mais aos...  8.000020000000001   \n",
       "4  Seu destaque em 2020: A sua boa integração aos...            7.50002   \n",
       "\n",
       "  IEG_2020 IPS_2020 IDA_2020 IPP_2020           IPV_2020 IAN_2020  FASE_2021  \\\n",
       "0      8.7      7.5        7   5.9375               7.75       10        2.0   \n",
       "1      NaN      NaN      NaN      NaN                NaN      NaN        NaN   \n",
       "2      8.9      7.5      5.5    8.125  8.111113333333334       10        3.0   \n",
       "3      4.1    6.875        0   7.1875               7.75        5        NaN   \n",
       "4        8      7.5      7.5   8.4375           8.166665       10        2.0   \n",
       "\n",
       "  TURMA_2021 INSTITUICAO_ENSINO_ALUNO_2021 SINALIZADOR_INGRESSANTE_2021  \\\n",
       "0          G                  Rede Decisão                  Ingressante   \n",
       "1        NaN                           NaN                          NaN   \n",
       "2          F                Escola Pública                     Veterano   \n",
       "3        NaN                           NaN                          NaN   \n",
       "4          L                Escola Pública                     Veterano   \n",
       "\n",
       "  PEDRA_2021 INDE_2021  IAA_2021  IEG_2021  IPS_2021  IDA_2021  IPP_2021  \\\n",
       "0   Ametista     7.319       7.5       6.3       6.9       8.8       7.7   \n",
       "1        NaN       NaN       NaN       NaN       NaN       NaN       NaN   \n",
       "2   Ametista     7.021       7.1       6.9       6.3       5.6       7.3   \n",
       "3        NaN       NaN       NaN       NaN       NaN       NaN       NaN   \n",
       "4   Ametista     7.399       7.4       7.5       7.5       5.4       8.5   \n",
       "\n",
       "   REC_EQUIPE_1_2021      REC_EQUIPE_2_2021      REC_EQUIPE_3_2021  \\\n",
       "0  Promovido de Fase      Promovido de Fase  Mantido na Fase atual   \n",
       "1                NaN                    NaN                    NaN   \n",
       "2  Promovido de Fase      Promovido de Fase  Mantido na Fase atual   \n",
       "3                NaN                    NaN                    NaN   \n",
       "4  Promovido de Fase  Mantido na Fase atual  Mantido na Fase atual   \n",
       "\n",
       "  REC_EQUIPE_4_2021 PONTO_VIRADA_2021  IPV_2021  IAN_2021  \\\n",
       "0      Não avaliado               Não       8.1       5.0   \n",
       "1               NaN               NaN       NaN       NaN   \n",
       "2      Não avaliado               Não       7.2      10.0   \n",
       "3               NaN               NaN       NaN       NaN   \n",
       "4      Não avaliado               Não       7.4      10.0   \n",
       "\n",
       "        NIVEL_IDEAL_2021  DEFASAGEM_2021  FASE_2022 TURMA_2022  \\\n",
       "0  Nível 3 (7o e 8o ano)            -1.0        NaN        NaN   \n",
       "1                    NaN             NaN        0.0          K   \n",
       "2  Nível 3 (7o e 8o ano)             0.0        NaN        NaN   \n",
       "3                    NaN             NaN        2.0          J   \n",
       "4  Nível 2 (5o e 6o ano)             0.0        2.0          L   \n",
       "\n",
       "   ANO_INGRESSO_2022 BOLSISTA_2022  INDE_2022  CG_2022  CF_2022  CT_2022  \\\n",
       "0                NaN           NaN        NaN      NaN      NaN      NaN   \n",
       "1             2022.0           Não   7.675509    245.0     66.0      6.0   \n",
       "2                NaN           NaN        NaN      NaN      NaN      NaN   \n",
       "3             2022.0           Não   7.117065    451.0     69.0      3.0   \n",
       "4             2019.0           Não   7.232336    415.0     61.0     12.0   \n",
       "\n",
       "  PEDRA_2022                                DESTAQUE_IEG_2022  \\\n",
       "0        NaN                                              NaN   \n",
       "1   Ametista  Destaque: A sua boa entrega das lições de casa.   \n",
       "2        NaN                                              NaN   \n",
       "3   Ametista  Destaque: A sua boa entrega das lições de casa.   \n",
       "4   Ametista  Destaque: A sua boa entrega das lições de casa.   \n",
       "\n",
       "                                   DESTAQUE_IDA_2022  \\\n",
       "0                                                NaN   \n",
       "1    Destaque: As suas boas notas na Passos Mágicos.   \n",
       "2                                                NaN   \n",
       "3  Melhorar: Empenhar-se mais nas aulas e avaliaç...   \n",
       "4  Melhorar: Empenhar-se mais nas aulas e avaliaç...   \n",
       "\n",
       "                                   DESTAQUE_IPV_2022  IAA_2022  IEG_2022  \\\n",
       "0                                                NaN       NaN       NaN   \n",
       "1  Destaque: A sua boa integração aos Princípios ...  10.00002  7.581705   \n",
       "2                                                NaN       NaN       NaN   \n",
       "3  Destaque: A sua boa integração aos Princípios ...  10.00002  8.071429   \n",
       "4  Destaque: A sua boa integração aos Princípios ...   6.41668  8.557505   \n",
       "\n",
       "   IPS_2022  IDA_2022  NOTA_PORT_2022  NOTA_MAT_2022  NOTA_ING_2022  \\\n",
       "0       NaN       NaN             NaN            NaN            NaN   \n",
       "1       7.5  8.816667        8.200000       9.433333            NaN   \n",
       "2       NaN       NaN             NaN            NaN            NaN   \n",
       "3       7.5  5.083333        5.000000       5.166667            NaN   \n",
       "4       7.5  7.083333        6.666667       7.500000            NaN   \n",
       "\n",
       "   QTD_AVAL_2022  IPP_2022           REC_AVA_1_2022         REC_AVA_2_2022  \\\n",
       "0            NaN       NaN                      NaN                    NaN   \n",
       "1            2.0  5.625000  Mantido na Fase + Bolsa  Mantido na Fase atual   \n",
       "2            NaN       NaN                      NaN                    NaN   \n",
       "3            3.0  6.250000        Promovido de Fase  Mantido na Fase atual   \n",
       "4            3.0  6.458333    Mantido na Fase atual      Promovido de Fase   \n",
       "\n",
       "          REC_AVA_3_2022 REC_AVA_4_2022 INDICADO_BOLSA_2022 PONTO_VIRADA_2022  \\\n",
       "0                    NaN            NaN                 NaN               NaN   \n",
       "1                    NaN            NaN                 Sim               Não   \n",
       "2                    NaN            NaN                 NaN               NaN   \n",
       "3      Promovido de Fase            NaN                 Não               Não   \n",
       "4  Mantido na Fase atual            NaN                 Não               Não   \n",
       "\n",
       "   IPV_2022  IAN_2022      NIVEL_IDEAL_2022 FASE_2020 TURMA_2020  ID_ALUNO  \n",
       "0       NaN       NaN                   NaN         2          H         1  \n",
       "1  7.916665       5.0  Fase 2 (5º e 6º ano)       NaN        NaN         2  \n",
       "2       NaN       NaN                   NaN         3          H         3  \n",
       "3  8.055553       5.0  Fase 3 (7º e 8º ano)         1          D         4  \n",
       "4  7.833337       5.0  Fase 3 (7º e 8º ano)         2          M         5  "
      ],
      "text/html": [
       "<div>\n",
       "<style scoped>\n",
       "    .dataframe tbody tr th:only-of-type {\n",
       "        vertical-align: middle;\n",
       "    }\n",
       "\n",
       "    .dataframe tbody tr th {\n",
       "        vertical-align: top;\n",
       "    }\n",
       "\n",
       "    .dataframe thead th {\n",
       "        text-align: right;\n",
       "    }\n",
       "</style>\n",
       "<table border=\"1\" class=\"dataframe\">\n",
       "  <thead>\n",
       "    <tr style=\"text-align: right;\">\n",
       "      <th></th>\n",
       "      <th>INSTITUICAO_ENSINO_ALUNO_2020</th>\n",
       "      <th>NOME</th>\n",
       "      <th>IDADE_ALUNO_2020</th>\n",
       "      <th>ANOS_PM_2020</th>\n",
       "      <th>PONTO_VIRADA_2020</th>\n",
       "      <th>INDE_2020</th>\n",
       "      <th>INDE_CONCEITO_2020</th>\n",
       "      <th>PEDRA_2020</th>\n",
       "      <th>DESTAQUE_IEG_2020</th>\n",
       "      <th>DESTAQUE_IDA_2020</th>\n",
       "      <th>DESTAQUE_IPV_2020</th>\n",
       "      <th>IAA_2020</th>\n",
       "      <th>IEG_2020</th>\n",
       "      <th>IPS_2020</th>\n",
       "      <th>IDA_2020</th>\n",
       "      <th>IPP_2020</th>\n",
       "      <th>IPV_2020</th>\n",
       "      <th>IAN_2020</th>\n",
       "      <th>FASE_2021</th>\n",
       "      <th>TURMA_2021</th>\n",
       "      <th>INSTITUICAO_ENSINO_ALUNO_2021</th>\n",
       "      <th>SINALIZADOR_INGRESSANTE_2021</th>\n",
       "      <th>PEDRA_2021</th>\n",
       "      <th>INDE_2021</th>\n",
       "      <th>IAA_2021</th>\n",
       "      <th>IEG_2021</th>\n",
       "      <th>IPS_2021</th>\n",
       "      <th>IDA_2021</th>\n",
       "      <th>IPP_2021</th>\n",
       "      <th>REC_EQUIPE_1_2021</th>\n",
       "      <th>REC_EQUIPE_2_2021</th>\n",
       "      <th>REC_EQUIPE_3_2021</th>\n",
       "      <th>REC_EQUIPE_4_2021</th>\n",
       "      <th>PONTO_VIRADA_2021</th>\n",
       "      <th>IPV_2021</th>\n",
       "      <th>IAN_2021</th>\n",
       "      <th>NIVEL_IDEAL_2021</th>\n",
       "      <th>DEFASAGEM_2021</th>\n",
       "      <th>FASE_2022</th>\n",
       "      <th>TURMA_2022</th>\n",
       "      <th>ANO_INGRESSO_2022</th>\n",
       "      <th>BOLSISTA_2022</th>\n",
       "      <th>INDE_2022</th>\n",
       "      <th>CG_2022</th>\n",
       "      <th>CF_2022</th>\n",
       "      <th>CT_2022</th>\n",
       "      <th>PEDRA_2022</th>\n",
       "      <th>DESTAQUE_IEG_2022</th>\n",
       "      <th>DESTAQUE_IDA_2022</th>\n",
       "      <th>DESTAQUE_IPV_2022</th>\n",
       "      <th>IAA_2022</th>\n",
       "      <th>IEG_2022</th>\n",
       "      <th>IPS_2022</th>\n",
       "      <th>IDA_2022</th>\n",
       "      <th>NOTA_PORT_2022</th>\n",
       "      <th>NOTA_MAT_2022</th>\n",
       "      <th>NOTA_ING_2022</th>\n",
       "      <th>QTD_AVAL_2022</th>\n",
       "      <th>IPP_2022</th>\n",
       "      <th>REC_AVA_1_2022</th>\n",
       "      <th>REC_AVA_2_2022</th>\n",
       "      <th>REC_AVA_3_2022</th>\n",
       "      <th>REC_AVA_4_2022</th>\n",
       "      <th>INDICADO_BOLSA_2022</th>\n",
       "      <th>PONTO_VIRADA_2022</th>\n",
       "      <th>IPV_2022</th>\n",
       "      <th>IAN_2022</th>\n",
       "      <th>NIVEL_IDEAL_2022</th>\n",
       "      <th>FASE_2020</th>\n",
       "      <th>TURMA_2020</th>\n",
       "      <th>ID_ALUNO</th>\n",
       "    </tr>\n",
       "  </thead>\n",
       "  <tbody>\n",
       "    <tr>\n",
       "      <th>0</th>\n",
       "      <td>Escola Pública</td>\n",
       "      <td>ALUNO-1</td>\n",
       "      <td>11</td>\n",
       "      <td>2</td>\n",
       "      <td>Não</td>\n",
       "      <td>7.883752</td>\n",
       "      <td>B</td>\n",
       "      <td>Ametista</td>\n",
       "      <td>Seu destaque em 2020: A sua boa entrega das li...</td>\n",
       "      <td>Ponto a melhorar em 2021: Empenhar-se mais nas...</td>\n",
       "      <td>Seu destaque em 2020: A sua boa integração aos...</td>\n",
       "      <td>8.500020000000001</td>\n",
       "      <td>8.7</td>\n",
       "      <td>7.5</td>\n",
       "      <td>7</td>\n",
       "      <td>5.9375</td>\n",
       "      <td>7.75</td>\n",
       "      <td>10</td>\n",
       "      <td>2.0</td>\n",
       "      <td>G</td>\n",
       "      <td>Rede Decisão</td>\n",
       "      <td>Ingressante</td>\n",
       "      <td>Ametista</td>\n",
       "      <td>7.319</td>\n",
       "      <td>7.5</td>\n",
       "      <td>6.3</td>\n",
       "      <td>6.9</td>\n",
       "      <td>8.8</td>\n",
       "      <td>7.7</td>\n",
       "      <td>Promovido de Fase</td>\n",
       "      <td>Promovido de Fase</td>\n",
       "      <td>Mantido na Fase atual</td>\n",
       "      <td>Não avaliado</td>\n",
       "      <td>Não</td>\n",
       "      <td>8.1</td>\n",
       "      <td>5.0</td>\n",
       "      <td>Nível 3 (7o e 8o ano)</td>\n",
       "      <td>-1.0</td>\n",
       "      <td>NaN</td>\n",
       "      <td>NaN</td>\n",
       "      <td>NaN</td>\n",
       "      <td>NaN</td>\n",
       "      <td>NaN</td>\n",
       "      <td>NaN</td>\n",
       "      <td>NaN</td>\n",
       "      <td>NaN</td>\n",
       "      <td>NaN</td>\n",
       "      <td>NaN</td>\n",
       "      <td>NaN</td>\n",
       "      <td>NaN</td>\n",
       "      <td>NaN</td>\n",
       "      <td>NaN</td>\n",
       "      <td>NaN</td>\n",
       "      <td>NaN</td>\n",
       "      <td>NaN</td>\n",
       "      <td>NaN</td>\n",
       "      <td>NaN</td>\n",
       "      <td>NaN</td>\n",
       "      <td>NaN</td>\n",
       "      <td>NaN</td>\n",
       "      <td>NaN</td>\n",
       "      <td>NaN</td>\n",
       "      <td>NaN</td>\n",
       "      <td>NaN</td>\n",
       "      <td>NaN</td>\n",
       "      <td>NaN</td>\n",
       "      <td>NaN</td>\n",
       "      <td>NaN</td>\n",
       "      <td>2</td>\n",
       "      <td>H</td>\n",
       "      <td>1</td>\n",
       "    </tr>\n",
       "    <tr>\n",
       "      <th>1</th>\n",
       "      <td>NaN</td>\n",
       "      <td>ALUNO-2</td>\n",
       "      <td>NaN</td>\n",
       "      <td>NaN</td>\n",
       "      <td>NaN</td>\n",
       "      <td>NaN</td>\n",
       "      <td>NaN</td>\n",
       "      <td>NaN</td>\n",
       "      <td>NaN</td>\n",
       "      <td>NaN</td>\n",
       "      <td>NaN</td>\n",
       "      <td>NaN</td>\n",
       "      <td>NaN</td>\n",
       "      <td>NaN</td>\n",
       "      <td>NaN</td>\n",
       "      <td>NaN</td>\n",
       "      <td>NaN</td>\n",
       "      <td>NaN</td>\n",
       "      <td>NaN</td>\n",
       "      <td>NaN</td>\n",
       "      <td>NaN</td>\n",
       "      <td>NaN</td>\n",
       "      <td>NaN</td>\n",
       "      <td>NaN</td>\n",
       "      <td>NaN</td>\n",
       "      <td>NaN</td>\n",
       "      <td>NaN</td>\n",
       "      <td>NaN</td>\n",
       "      <td>NaN</td>\n",
       "      <td>NaN</td>\n",
       "      <td>NaN</td>\n",
       "      <td>NaN</td>\n",
       "      <td>NaN</td>\n",
       "      <td>NaN</td>\n",
       "      <td>NaN</td>\n",
       "      <td>NaN</td>\n",
       "      <td>NaN</td>\n",
       "      <td>NaN</td>\n",
       "      <td>0.0</td>\n",
       "      <td>K</td>\n",
       "      <td>2022.0</td>\n",
       "      <td>Não</td>\n",
       "      <td>7.675509</td>\n",
       "      <td>245.0</td>\n",
       "      <td>66.0</td>\n",
       "      <td>6.0</td>\n",
       "      <td>Ametista</td>\n",
       "      <td>Destaque: A sua boa entrega das lições de casa.</td>\n",
       "      <td>Destaque: As suas boas notas na Passos Mágicos.</td>\n",
       "      <td>Destaque: A sua boa integração aos Princípios ...</td>\n",
       "      <td>10.00002</td>\n",
       "      <td>7.581705</td>\n",
       "      <td>7.5</td>\n",
       "      <td>8.816667</td>\n",
       "      <td>8.200000</td>\n",
       "      <td>9.433333</td>\n",
       "      <td>NaN</td>\n",
       "      <td>2.0</td>\n",
       "      <td>5.625000</td>\n",
       "      <td>Mantido na Fase + Bolsa</td>\n",
       "      <td>Mantido na Fase atual</td>\n",
       "      <td>NaN</td>\n",
       "      <td>NaN</td>\n",
       "      <td>Sim</td>\n",
       "      <td>Não</td>\n",
       "      <td>7.916665</td>\n",
       "      <td>5.0</td>\n",
       "      <td>Fase 2 (5º e 6º ano)</td>\n",
       "      <td>NaN</td>\n",
       "      <td>NaN</td>\n",
       "      <td>2</td>\n",
       "    </tr>\n",
       "    <tr>\n",
       "      <th>2</th>\n",
       "      <td>Escola Pública</td>\n",
       "      <td>ALUNO-3</td>\n",
       "      <td>12</td>\n",
       "      <td>2</td>\n",
       "      <td>Não</td>\n",
       "      <td>7.856389666666666</td>\n",
       "      <td>B</td>\n",
       "      <td>Ametista</td>\n",
       "      <td>Seu destaque em 2020: A sua boa entrega das li...</td>\n",
       "      <td>Ponto a melhorar em 2021: Empenhar-se mais nas...</td>\n",
       "      <td>Seu destaque em 2020: A sua boa integração aos...</td>\n",
       "      <td>7.91667</td>\n",
       "      <td>8.9</td>\n",
       "      <td>7.5</td>\n",
       "      <td>5.5</td>\n",
       "      <td>8.125</td>\n",
       "      <td>8.111113333333334</td>\n",
       "      <td>10</td>\n",
       "      <td>3.0</td>\n",
       "      <td>F</td>\n",
       "      <td>Escola Pública</td>\n",
       "      <td>Veterano</td>\n",
       "      <td>Ametista</td>\n",
       "      <td>7.021</td>\n",
       "      <td>7.1</td>\n",
       "      <td>6.9</td>\n",
       "      <td>6.3</td>\n",
       "      <td>5.6</td>\n",
       "      <td>7.3</td>\n",
       "      <td>Promovido de Fase</td>\n",
       "      <td>Promovido de Fase</td>\n",
       "      <td>Mantido na Fase atual</td>\n",
       "      <td>Não avaliado</td>\n",
       "      <td>Não</td>\n",
       "      <td>7.2</td>\n",
       "      <td>10.0</td>\n",
       "      <td>Nível 3 (7o e 8o ano)</td>\n",
       "      <td>0.0</td>\n",
       "      <td>NaN</td>\n",
       "      <td>NaN</td>\n",
       "      <td>NaN</td>\n",
       "      <td>NaN</td>\n",
       "      <td>NaN</td>\n",
       "      <td>NaN</td>\n",
       "      <td>NaN</td>\n",
       "      <td>NaN</td>\n",
       "      <td>NaN</td>\n",
       "      <td>NaN</td>\n",
       "      <td>NaN</td>\n",
       "      <td>NaN</td>\n",
       "      <td>NaN</td>\n",
       "      <td>NaN</td>\n",
       "      <td>NaN</td>\n",
       "      <td>NaN</td>\n",
       "      <td>NaN</td>\n",
       "      <td>NaN</td>\n",
       "      <td>NaN</td>\n",
       "      <td>NaN</td>\n",
       "      <td>NaN</td>\n",
       "      <td>NaN</td>\n",
       "      <td>NaN</td>\n",
       "      <td>NaN</td>\n",
       "      <td>NaN</td>\n",
       "      <td>NaN</td>\n",
       "      <td>NaN</td>\n",
       "      <td>NaN</td>\n",
       "      <td>NaN</td>\n",
       "      <td>NaN</td>\n",
       "      <td>3</td>\n",
       "      <td>H</td>\n",
       "      <td>3</td>\n",
       "    </tr>\n",
       "    <tr>\n",
       "      <th>3</th>\n",
       "      <td>Escola Pública</td>\n",
       "      <td>ALUNO-4</td>\n",
       "      <td>10</td>\n",
       "      <td>2</td>\n",
       "      <td>Não</td>\n",
       "      <td>5.076252</td>\n",
       "      <td>D</td>\n",
       "      <td>Quartzo</td>\n",
       "      <td>Ponto a melhorar em 2021: Melhorar a sua entre...</td>\n",
       "      <td>Ponto a melhorar em 2021: Empenhar-se mais nas...</td>\n",
       "      <td>Ponto a melhorar em 2021: Integrar-se mais aos...</td>\n",
       "      <td>8.000020000000001</td>\n",
       "      <td>4.1</td>\n",
       "      <td>6.875</td>\n",
       "      <td>0</td>\n",
       "      <td>7.1875</td>\n",
       "      <td>7.75</td>\n",
       "      <td>5</td>\n",
       "      <td>NaN</td>\n",
       "      <td>NaN</td>\n",
       "      <td>NaN</td>\n",
       "      <td>NaN</td>\n",
       "      <td>NaN</td>\n",
       "      <td>NaN</td>\n",
       "      <td>NaN</td>\n",
       "      <td>NaN</td>\n",
       "      <td>NaN</td>\n",
       "      <td>NaN</td>\n",
       "      <td>NaN</td>\n",
       "      <td>NaN</td>\n",
       "      <td>NaN</td>\n",
       "      <td>NaN</td>\n",
       "      <td>NaN</td>\n",
       "      <td>NaN</td>\n",
       "      <td>NaN</td>\n",
       "      <td>NaN</td>\n",
       "      <td>NaN</td>\n",
       "      <td>NaN</td>\n",
       "      <td>2.0</td>\n",
       "      <td>J</td>\n",
       "      <td>2022.0</td>\n",
       "      <td>Não</td>\n",
       "      <td>7.117065</td>\n",
       "      <td>451.0</td>\n",
       "      <td>69.0</td>\n",
       "      <td>3.0</td>\n",
       "      <td>Ametista</td>\n",
       "      <td>Destaque: A sua boa entrega das lições de casa.</td>\n",
       "      <td>Melhorar: Empenhar-se mais nas aulas e avaliaç...</td>\n",
       "      <td>Destaque: A sua boa integração aos Princípios ...</td>\n",
       "      <td>10.00002</td>\n",
       "      <td>8.071429</td>\n",
       "      <td>7.5</td>\n",
       "      <td>5.083333</td>\n",
       "      <td>5.000000</td>\n",
       "      <td>5.166667</td>\n",
       "      <td>NaN</td>\n",
       "      <td>3.0</td>\n",
       "      <td>6.250000</td>\n",
       "      <td>Promovido de Fase</td>\n",
       "      <td>Mantido na Fase atual</td>\n",
       "      <td>Promovido de Fase</td>\n",
       "      <td>NaN</td>\n",
       "      <td>Não</td>\n",
       "      <td>Não</td>\n",
       "      <td>8.055553</td>\n",
       "      <td>5.0</td>\n",
       "      <td>Fase 3 (7º e 8º ano)</td>\n",
       "      <td>1</td>\n",
       "      <td>D</td>\n",
       "      <td>4</td>\n",
       "    </tr>\n",
       "    <tr>\n",
       "      <th>4</th>\n",
       "      <td>Escola Pública</td>\n",
       "      <td>ALUNO-5</td>\n",
       "      <td>10</td>\n",
       "      <td>1</td>\n",
       "      <td>Não</td>\n",
       "      <td>8.077085</td>\n",
       "      <td>B</td>\n",
       "      <td>Ametista</td>\n",
       "      <td>Seu destaque em 2020: A sua boa entrega das li...</td>\n",
       "      <td>Seu destaque em 2020: As suas boas notas na Pa...</td>\n",
       "      <td>Seu destaque em 2020: A sua boa integração aos...</td>\n",
       "      <td>7.50002</td>\n",
       "      <td>8</td>\n",
       "      <td>7.5</td>\n",
       "      <td>7.5</td>\n",
       "      <td>8.4375</td>\n",
       "      <td>8.166665</td>\n",
       "      <td>10</td>\n",
       "      <td>2.0</td>\n",
       "      <td>L</td>\n",
       "      <td>Escola Pública</td>\n",
       "      <td>Veterano</td>\n",
       "      <td>Ametista</td>\n",
       "      <td>7.399</td>\n",
       "      <td>7.4</td>\n",
       "      <td>7.5</td>\n",
       "      <td>7.5</td>\n",
       "      <td>5.4</td>\n",
       "      <td>8.5</td>\n",
       "      <td>Promovido de Fase</td>\n",
       "      <td>Mantido na Fase atual</td>\n",
       "      <td>Mantido na Fase atual</td>\n",
       "      <td>Não avaliado</td>\n",
       "      <td>Não</td>\n",
       "      <td>7.4</td>\n",
       "      <td>10.0</td>\n",
       "      <td>Nível 2 (5o e 6o ano)</td>\n",
       "      <td>0.0</td>\n",
       "      <td>2.0</td>\n",
       "      <td>L</td>\n",
       "      <td>2019.0</td>\n",
       "      <td>Não</td>\n",
       "      <td>7.232336</td>\n",
       "      <td>415.0</td>\n",
       "      <td>61.0</td>\n",
       "      <td>12.0</td>\n",
       "      <td>Ametista</td>\n",
       "      <td>Destaque: A sua boa entrega das lições de casa.</td>\n",
       "      <td>Melhorar: Empenhar-se mais nas aulas e avaliaç...</td>\n",
       "      <td>Destaque: A sua boa integração aos Princípios ...</td>\n",
       "      <td>6.41668</td>\n",
       "      <td>8.557505</td>\n",
       "      <td>7.5</td>\n",
       "      <td>7.083333</td>\n",
       "      <td>6.666667</td>\n",
       "      <td>7.500000</td>\n",
       "      <td>NaN</td>\n",
       "      <td>3.0</td>\n",
       "      <td>6.458333</td>\n",
       "      <td>Mantido na Fase atual</td>\n",
       "      <td>Promovido de Fase</td>\n",
       "      <td>Mantido na Fase atual</td>\n",
       "      <td>NaN</td>\n",
       "      <td>Não</td>\n",
       "      <td>Não</td>\n",
       "      <td>7.833337</td>\n",
       "      <td>5.0</td>\n",
       "      <td>Fase 3 (7º e 8º ano)</td>\n",
       "      <td>2</td>\n",
       "      <td>M</td>\n",
       "      <td>5</td>\n",
       "    </tr>\n",
       "  </tbody>\n",
       "</table>\n",
       "</div>"
      ]
     },
     "execution_count": 177,
     "metadata": {},
     "output_type": "execute_result"
    }
   ],
   "execution_count": 177
  },
  {
   "metadata": {
    "ExecuteTime": {
     "end_time": "2024-08-11T15:11:17.126648Z",
     "start_time": "2024-08-11T15:11:17.116328Z"
    }
   },
   "cell_type": "code",
   "source": "df_original.columns",
   "id": "efb66763e168f41e",
   "outputs": [
    {
     "data": {
      "text/plain": [
       "Index(['INSTITUICAO_ENSINO_ALUNO_2020', 'NOME', 'IDADE_ALUNO_2020',\n",
       "       'ANOS_PM_2020', 'PONTO_VIRADA_2020', 'INDE_2020', 'INDE_CONCEITO_2020',\n",
       "       'PEDRA_2020', 'DESTAQUE_IEG_2020', 'DESTAQUE_IDA_2020',\n",
       "       'DESTAQUE_IPV_2020', 'IAA_2020', 'IEG_2020', 'IPS_2020', 'IDA_2020',\n",
       "       'IPP_2020', 'IPV_2020', 'IAN_2020', 'FASE_2021', 'TURMA_2021',\n",
       "       'INSTITUICAO_ENSINO_ALUNO_2021', 'SINALIZADOR_INGRESSANTE_2021',\n",
       "       'PEDRA_2021', 'INDE_2021', 'IAA_2021', 'IEG_2021', 'IPS_2021',\n",
       "       'IDA_2021', 'IPP_2021', 'REC_EQUIPE_1_2021', 'REC_EQUIPE_2_2021',\n",
       "       'REC_EQUIPE_3_2021', 'REC_EQUIPE_4_2021', 'PONTO_VIRADA_2021',\n",
       "       'IPV_2021', 'IAN_2021', 'NIVEL_IDEAL_2021', 'DEFASAGEM_2021',\n",
       "       'FASE_2022', 'TURMA_2022', 'ANO_INGRESSO_2022', 'BOLSISTA_2022',\n",
       "       'INDE_2022', 'CG_2022', 'CF_2022', 'CT_2022', 'PEDRA_2022',\n",
       "       'DESTAQUE_IEG_2022', 'DESTAQUE_IDA_2022', 'DESTAQUE_IPV_2022',\n",
       "       'IAA_2022', 'IEG_2022', 'IPS_2022', 'IDA_2022', 'NOTA_PORT_2022',\n",
       "       'NOTA_MAT_2022', 'NOTA_ING_2022', 'QTD_AVAL_2022', 'IPP_2022',\n",
       "       'REC_AVA_1_2022', 'REC_AVA_2_2022', 'REC_AVA_3_2022', 'REC_AVA_4_2022',\n",
       "       'INDICADO_BOLSA_2022', 'PONTO_VIRADA_2022', 'IPV_2022', 'IAN_2022',\n",
       "       'NIVEL_IDEAL_2022', 'FASE_2020', 'TURMA_2020', 'ID_ALUNO'],\n",
       "      dtype='object')"
      ]
     },
     "execution_count": 178,
     "metadata": {},
     "output_type": "execute_result"
    }
   ],
   "execution_count": 178
  },
  {
   "metadata": {},
   "cell_type": "markdown",
   "source": "Para facilitar a análise dos dados, vamos selecionar apenas as colunas que são comuns a todos os anos.",
   "id": "9011a2233fb65aa4"
  },
  {
   "metadata": {
    "ExecuteTime": {
     "end_time": "2024-08-11T15:11:17.781211Z",
     "start_time": "2024-08-11T15:11:17.730014Z"
    }
   },
   "cell_type": "code",
   "source": [
    "df_novo = df_original[['ID_ALUNO','NOME','FASE_2020','TURMA_2020','PONTO_VIRADA_2020','INDE_2020','PEDRA_2020','IAA_2020','IEG_2020','IPS_2020','IDA_2020','IPP_2020','IPV_2020','IAN_2020',\n",
    "'FASE_2021','TURMA_2021','PONTO_VIRADA_2021','INDE_2021','PEDRA_2021','IAA_2021','IEG_2021','IPS_2021','IDA_2021','IPP_2021','IPV_2021','IAN_2021',\n",
    "'FASE_2022','TURMA_2022','PONTO_VIRADA_2022','INDE_2022','PEDRA_2022','IAA_2022','IEG_2022','IPS_2022','IDA_2022','IPP_2022','IPV_2022','IAN_2022']]\n",
    "df_novo"
   ],
   "id": "5ddfaadb8652c921",
   "outputs": [
    {
     "data": {
      "text/plain": [
       "      ID_ALUNO        NOME FASE_2020 TURMA_2020 PONTO_VIRADA_2020  \\\n",
       "0            1     ALUNO-1         2          H               Não   \n",
       "1            2     ALUNO-2       NaN        NaN               NaN   \n",
       "2            3     ALUNO-3         3          H               Não   \n",
       "3            4     ALUNO-4         1          D               Não   \n",
       "4            5     ALUNO-5         2          M               Não   \n",
       "...        ...         ...       ...        ...               ...   \n",
       "1344      1345  ALUNO-1345       NaN        NaN               NaN   \n",
       "1345      1346  ALUNO-1346       NaN        NaN               NaN   \n",
       "1346      1347  ALUNO-1347         7          B               Não   \n",
       "1347      1348  ALUNO-1348         3          R               Sim   \n",
       "1348      1349  ALUNO-1349       NaN        NaN               NaN   \n",
       "\n",
       "              INDE_2020 PEDRA_2020           IAA_2020 IEG_2020 IPS_2020  \\\n",
       "0              7.883752   Ametista  8.500020000000001      8.7      7.5   \n",
       "1                   NaN        NaN                NaN      NaN      NaN   \n",
       "2     7.856389666666666   Ametista            7.91667      8.9      7.5   \n",
       "3              5.076252    Quartzo  8.000020000000001      4.1    6.875   \n",
       "4              8.077085   Ametista            7.50002        8      7.5   \n",
       "...                 ...        ...                ...      ...      ...   \n",
       "1344                NaN        NaN                NaN      NaN      NaN   \n",
       "1345                NaN        NaN                NaN      NaN      NaN   \n",
       "1346  7.158543333333334      Ágata            9.16668      8.1    6.875   \n",
       "1347  7.842224333333333   Ametista            7.91667      7.1    6.875   \n",
       "1348                NaN        NaN                NaN      NaN      NaN   \n",
       "\n",
       "               IDA_2020           IPP_2020           IPV_2020 IAN_2020  \\\n",
       "0                     7             5.9375               7.75       10   \n",
       "1                   NaN                NaN                NaN      NaN   \n",
       "2                   5.5              8.125  8.111113333333334       10   \n",
       "3                     0             7.1875               7.75        5   \n",
       "4                   7.5             8.4375           8.166665       10   \n",
       "...                 ...                ...                ...      ...   \n",
       "1344                NaN                NaN                NaN      NaN   \n",
       "1345                NaN                NaN                NaN      NaN   \n",
       "1346  4.666666666666667            7.34375           6.333335       10   \n",
       "1347  6.333333333333333  8.541666666666666            9.11112       10   \n",
       "1348                NaN                NaN                NaN      NaN   \n",
       "\n",
       "      FASE_2021 TURMA_2021 PONTO_VIRADA_2021 INDE_2021 PEDRA_2021  IAA_2021  \\\n",
       "0           2.0          G               Não     7.319   Ametista       7.5   \n",
       "1           NaN        NaN               NaN       NaN        NaN       NaN   \n",
       "2           3.0          F               Não     7.021   Ametista       7.1   \n",
       "3           NaN        NaN               NaN       NaN        NaN       NaN   \n",
       "4           2.0          L               Não     7.399   Ametista       7.4   \n",
       "...         ...        ...               ...       ...        ...       ...   \n",
       "1344        0.0          L               Não     6.606      Ágata       9.0   \n",
       "1345        NaN        NaN               NaN       NaN        NaN       NaN   \n",
       "1346        NaN        NaN               NaN       NaN        NaN       NaN   \n",
       "1347        3.0          J               Não     7.422   Ametista       7.5   \n",
       "1348        NaN        NaN               NaN       NaN        NaN       NaN   \n",
       "\n",
       "      IEG_2021  IPS_2021  IDA_2021  IPP_2021  IPV_2021  IAN_2021  FASE_2022  \\\n",
       "0          6.3       6.9       8.8       7.7       8.1       5.0        NaN   \n",
       "1          NaN       NaN       NaN       NaN       NaN       NaN        0.0   \n",
       "2          6.9       6.3       5.6       7.3       7.2      10.0        NaN   \n",
       "3          NaN       NaN       NaN       NaN       NaN       NaN        2.0   \n",
       "4          7.5       7.5       5.4       8.5       7.4      10.0        2.0   \n",
       "...        ...       ...       ...       ...       ...       ...        ...   \n",
       "1344       6.7       7.5       4.9       7.2       7.1       5.0        NaN   \n",
       "1345       NaN       NaN       NaN       NaN       NaN       NaN        0.0   \n",
       "1346       NaN       NaN       NaN       NaN       NaN       NaN        NaN   \n",
       "1347       8.6       6.3       6.9       7.5       8.5       5.0        4.0   \n",
       "1348       NaN       NaN       NaN       NaN       NaN       NaN        3.0   \n",
       "\n",
       "     TURMA_2022 PONTO_VIRADA_2022  INDE_2022 PEDRA_2022  IAA_2022  IEG_2022  \\\n",
       "0           NaN               NaN        NaN        NaN       NaN       NaN   \n",
       "1             K               Não   7.675509   Ametista  10.00002  7.581705   \n",
       "2           NaN               NaN        NaN        NaN       NaN       NaN   \n",
       "3             J               Não   7.117065   Ametista  10.00002  8.071429   \n",
       "4             L               Não   7.232336   Ametista   6.41668  8.557505   \n",
       "...         ...               ...        ...        ...       ...       ...   \n",
       "1344        NaN               NaN        NaN        NaN       NaN       NaN   \n",
       "1345          U               Sim   8.135538    Topázio   9.00002  9.031839   \n",
       "1346        NaN               NaN        NaN        NaN       NaN       NaN   \n",
       "1347          P               Não   6.749981      Ágata   8.33334  9.178030   \n",
       "1348          M               Não   6.399688      Ágata   7.91667  7.540114   \n",
       "\n",
       "      IPS_2022  IDA_2022  IPP_2022  IPV_2022  IAN_2022  \n",
       "0          NaN       NaN       NaN       NaN       NaN  \n",
       "1        7.500  8.816667  5.625000  7.916665       5.0  \n",
       "2          NaN       NaN       NaN       NaN       NaN  \n",
       "3        7.500  5.083333  6.250000  8.055553       5.0  \n",
       "4        7.500  7.083333  6.458333  7.833337       5.0  \n",
       "...        ...       ...       ...       ...       ...  \n",
       "1344       NaN       NaN       NaN       NaN       NaN  \n",
       "1345     7.500  9.000000  5.625000  9.083340       5.0  \n",
       "1346       NaN       NaN       NaN       NaN       NaN  \n",
       "1347     5.625  5.900000  6.718750  5.833328       5.0  \n",
       "1348     7.500  4.500000  7.500000  5.999993       5.0  \n",
       "\n",
       "[1349 rows x 38 columns]"
      ],
      "text/html": [
       "<div>\n",
       "<style scoped>\n",
       "    .dataframe tbody tr th:only-of-type {\n",
       "        vertical-align: middle;\n",
       "    }\n",
       "\n",
       "    .dataframe tbody tr th {\n",
       "        vertical-align: top;\n",
       "    }\n",
       "\n",
       "    .dataframe thead th {\n",
       "        text-align: right;\n",
       "    }\n",
       "</style>\n",
       "<table border=\"1\" class=\"dataframe\">\n",
       "  <thead>\n",
       "    <tr style=\"text-align: right;\">\n",
       "      <th></th>\n",
       "      <th>ID_ALUNO</th>\n",
       "      <th>NOME</th>\n",
       "      <th>FASE_2020</th>\n",
       "      <th>TURMA_2020</th>\n",
       "      <th>PONTO_VIRADA_2020</th>\n",
       "      <th>INDE_2020</th>\n",
       "      <th>PEDRA_2020</th>\n",
       "      <th>IAA_2020</th>\n",
       "      <th>IEG_2020</th>\n",
       "      <th>IPS_2020</th>\n",
       "      <th>IDA_2020</th>\n",
       "      <th>IPP_2020</th>\n",
       "      <th>IPV_2020</th>\n",
       "      <th>IAN_2020</th>\n",
       "      <th>FASE_2021</th>\n",
       "      <th>TURMA_2021</th>\n",
       "      <th>PONTO_VIRADA_2021</th>\n",
       "      <th>INDE_2021</th>\n",
       "      <th>PEDRA_2021</th>\n",
       "      <th>IAA_2021</th>\n",
       "      <th>IEG_2021</th>\n",
       "      <th>IPS_2021</th>\n",
       "      <th>IDA_2021</th>\n",
       "      <th>IPP_2021</th>\n",
       "      <th>IPV_2021</th>\n",
       "      <th>IAN_2021</th>\n",
       "      <th>FASE_2022</th>\n",
       "      <th>TURMA_2022</th>\n",
       "      <th>PONTO_VIRADA_2022</th>\n",
       "      <th>INDE_2022</th>\n",
       "      <th>PEDRA_2022</th>\n",
       "      <th>IAA_2022</th>\n",
       "      <th>IEG_2022</th>\n",
       "      <th>IPS_2022</th>\n",
       "      <th>IDA_2022</th>\n",
       "      <th>IPP_2022</th>\n",
       "      <th>IPV_2022</th>\n",
       "      <th>IAN_2022</th>\n",
       "    </tr>\n",
       "  </thead>\n",
       "  <tbody>\n",
       "    <tr>\n",
       "      <th>0</th>\n",
       "      <td>1</td>\n",
       "      <td>ALUNO-1</td>\n",
       "      <td>2</td>\n",
       "      <td>H</td>\n",
       "      <td>Não</td>\n",
       "      <td>7.883752</td>\n",
       "      <td>Ametista</td>\n",
       "      <td>8.500020000000001</td>\n",
       "      <td>8.7</td>\n",
       "      <td>7.5</td>\n",
       "      <td>7</td>\n",
       "      <td>5.9375</td>\n",
       "      <td>7.75</td>\n",
       "      <td>10</td>\n",
       "      <td>2.0</td>\n",
       "      <td>G</td>\n",
       "      <td>Não</td>\n",
       "      <td>7.319</td>\n",
       "      <td>Ametista</td>\n",
       "      <td>7.5</td>\n",
       "      <td>6.3</td>\n",
       "      <td>6.9</td>\n",
       "      <td>8.8</td>\n",
       "      <td>7.7</td>\n",
       "      <td>8.1</td>\n",
       "      <td>5.0</td>\n",
       "      <td>NaN</td>\n",
       "      <td>NaN</td>\n",
       "      <td>NaN</td>\n",
       "      <td>NaN</td>\n",
       "      <td>NaN</td>\n",
       "      <td>NaN</td>\n",
       "      <td>NaN</td>\n",
       "      <td>NaN</td>\n",
       "      <td>NaN</td>\n",
       "      <td>NaN</td>\n",
       "      <td>NaN</td>\n",
       "      <td>NaN</td>\n",
       "    </tr>\n",
       "    <tr>\n",
       "      <th>1</th>\n",
       "      <td>2</td>\n",
       "      <td>ALUNO-2</td>\n",
       "      <td>NaN</td>\n",
       "      <td>NaN</td>\n",
       "      <td>NaN</td>\n",
       "      <td>NaN</td>\n",
       "      <td>NaN</td>\n",
       "      <td>NaN</td>\n",
       "      <td>NaN</td>\n",
       "      <td>NaN</td>\n",
       "      <td>NaN</td>\n",
       "      <td>NaN</td>\n",
       "      <td>NaN</td>\n",
       "      <td>NaN</td>\n",
       "      <td>NaN</td>\n",
       "      <td>NaN</td>\n",
       "      <td>NaN</td>\n",
       "      <td>NaN</td>\n",
       "      <td>NaN</td>\n",
       "      <td>NaN</td>\n",
       "      <td>NaN</td>\n",
       "      <td>NaN</td>\n",
       "      <td>NaN</td>\n",
       "      <td>NaN</td>\n",
       "      <td>NaN</td>\n",
       "      <td>NaN</td>\n",
       "      <td>0.0</td>\n",
       "      <td>K</td>\n",
       "      <td>Não</td>\n",
       "      <td>7.675509</td>\n",
       "      <td>Ametista</td>\n",
       "      <td>10.00002</td>\n",
       "      <td>7.581705</td>\n",
       "      <td>7.500</td>\n",
       "      <td>8.816667</td>\n",
       "      <td>5.625000</td>\n",
       "      <td>7.916665</td>\n",
       "      <td>5.0</td>\n",
       "    </tr>\n",
       "    <tr>\n",
       "      <th>2</th>\n",
       "      <td>3</td>\n",
       "      <td>ALUNO-3</td>\n",
       "      <td>3</td>\n",
       "      <td>H</td>\n",
       "      <td>Não</td>\n",
       "      <td>7.856389666666666</td>\n",
       "      <td>Ametista</td>\n",
       "      <td>7.91667</td>\n",
       "      <td>8.9</td>\n",
       "      <td>7.5</td>\n",
       "      <td>5.5</td>\n",
       "      <td>8.125</td>\n",
       "      <td>8.111113333333334</td>\n",
       "      <td>10</td>\n",
       "      <td>3.0</td>\n",
       "      <td>F</td>\n",
       "      <td>Não</td>\n",
       "      <td>7.021</td>\n",
       "      <td>Ametista</td>\n",
       "      <td>7.1</td>\n",
       "      <td>6.9</td>\n",
       "      <td>6.3</td>\n",
       "      <td>5.6</td>\n",
       "      <td>7.3</td>\n",
       "      <td>7.2</td>\n",
       "      <td>10.0</td>\n",
       "      <td>NaN</td>\n",
       "      <td>NaN</td>\n",
       "      <td>NaN</td>\n",
       "      <td>NaN</td>\n",
       "      <td>NaN</td>\n",
       "      <td>NaN</td>\n",
       "      <td>NaN</td>\n",
       "      <td>NaN</td>\n",
       "      <td>NaN</td>\n",
       "      <td>NaN</td>\n",
       "      <td>NaN</td>\n",
       "      <td>NaN</td>\n",
       "    </tr>\n",
       "    <tr>\n",
       "      <th>3</th>\n",
       "      <td>4</td>\n",
       "      <td>ALUNO-4</td>\n",
       "      <td>1</td>\n",
       "      <td>D</td>\n",
       "      <td>Não</td>\n",
       "      <td>5.076252</td>\n",
       "      <td>Quartzo</td>\n",
       "      <td>8.000020000000001</td>\n",
       "      <td>4.1</td>\n",
       "      <td>6.875</td>\n",
       "      <td>0</td>\n",
       "      <td>7.1875</td>\n",
       "      <td>7.75</td>\n",
       "      <td>5</td>\n",
       "      <td>NaN</td>\n",
       "      <td>NaN</td>\n",
       "      <td>NaN</td>\n",
       "      <td>NaN</td>\n",
       "      <td>NaN</td>\n",
       "      <td>NaN</td>\n",
       "      <td>NaN</td>\n",
       "      <td>NaN</td>\n",
       "      <td>NaN</td>\n",
       "      <td>NaN</td>\n",
       "      <td>NaN</td>\n",
       "      <td>NaN</td>\n",
       "      <td>2.0</td>\n",
       "      <td>J</td>\n",
       "      <td>Não</td>\n",
       "      <td>7.117065</td>\n",
       "      <td>Ametista</td>\n",
       "      <td>10.00002</td>\n",
       "      <td>8.071429</td>\n",
       "      <td>7.500</td>\n",
       "      <td>5.083333</td>\n",
       "      <td>6.250000</td>\n",
       "      <td>8.055553</td>\n",
       "      <td>5.0</td>\n",
       "    </tr>\n",
       "    <tr>\n",
       "      <th>4</th>\n",
       "      <td>5</td>\n",
       "      <td>ALUNO-5</td>\n",
       "      <td>2</td>\n",
       "      <td>M</td>\n",
       "      <td>Não</td>\n",
       "      <td>8.077085</td>\n",
       "      <td>Ametista</td>\n",
       "      <td>7.50002</td>\n",
       "      <td>8</td>\n",
       "      <td>7.5</td>\n",
       "      <td>7.5</td>\n",
       "      <td>8.4375</td>\n",
       "      <td>8.166665</td>\n",
       "      <td>10</td>\n",
       "      <td>2.0</td>\n",
       "      <td>L</td>\n",
       "      <td>Não</td>\n",
       "      <td>7.399</td>\n",
       "      <td>Ametista</td>\n",
       "      <td>7.4</td>\n",
       "      <td>7.5</td>\n",
       "      <td>7.5</td>\n",
       "      <td>5.4</td>\n",
       "      <td>8.5</td>\n",
       "      <td>7.4</td>\n",
       "      <td>10.0</td>\n",
       "      <td>2.0</td>\n",
       "      <td>L</td>\n",
       "      <td>Não</td>\n",
       "      <td>7.232336</td>\n",
       "      <td>Ametista</td>\n",
       "      <td>6.41668</td>\n",
       "      <td>8.557505</td>\n",
       "      <td>7.500</td>\n",
       "      <td>7.083333</td>\n",
       "      <td>6.458333</td>\n",
       "      <td>7.833337</td>\n",
       "      <td>5.0</td>\n",
       "    </tr>\n",
       "    <tr>\n",
       "      <th>...</th>\n",
       "      <td>...</td>\n",
       "      <td>...</td>\n",
       "      <td>...</td>\n",
       "      <td>...</td>\n",
       "      <td>...</td>\n",
       "      <td>...</td>\n",
       "      <td>...</td>\n",
       "      <td>...</td>\n",
       "      <td>...</td>\n",
       "      <td>...</td>\n",
       "      <td>...</td>\n",
       "      <td>...</td>\n",
       "      <td>...</td>\n",
       "      <td>...</td>\n",
       "      <td>...</td>\n",
       "      <td>...</td>\n",
       "      <td>...</td>\n",
       "      <td>...</td>\n",
       "      <td>...</td>\n",
       "      <td>...</td>\n",
       "      <td>...</td>\n",
       "      <td>...</td>\n",
       "      <td>...</td>\n",
       "      <td>...</td>\n",
       "      <td>...</td>\n",
       "      <td>...</td>\n",
       "      <td>...</td>\n",
       "      <td>...</td>\n",
       "      <td>...</td>\n",
       "      <td>...</td>\n",
       "      <td>...</td>\n",
       "      <td>...</td>\n",
       "      <td>...</td>\n",
       "      <td>...</td>\n",
       "      <td>...</td>\n",
       "      <td>...</td>\n",
       "      <td>...</td>\n",
       "      <td>...</td>\n",
       "    </tr>\n",
       "    <tr>\n",
       "      <th>1344</th>\n",
       "      <td>1345</td>\n",
       "      <td>ALUNO-1345</td>\n",
       "      <td>NaN</td>\n",
       "      <td>NaN</td>\n",
       "      <td>NaN</td>\n",
       "      <td>NaN</td>\n",
       "      <td>NaN</td>\n",
       "      <td>NaN</td>\n",
       "      <td>NaN</td>\n",
       "      <td>NaN</td>\n",
       "      <td>NaN</td>\n",
       "      <td>NaN</td>\n",
       "      <td>NaN</td>\n",
       "      <td>NaN</td>\n",
       "      <td>0.0</td>\n",
       "      <td>L</td>\n",
       "      <td>Não</td>\n",
       "      <td>6.606</td>\n",
       "      <td>Ágata</td>\n",
       "      <td>9.0</td>\n",
       "      <td>6.7</td>\n",
       "      <td>7.5</td>\n",
       "      <td>4.9</td>\n",
       "      <td>7.2</td>\n",
       "      <td>7.1</td>\n",
       "      <td>5.0</td>\n",
       "      <td>NaN</td>\n",
       "      <td>NaN</td>\n",
       "      <td>NaN</td>\n",
       "      <td>NaN</td>\n",
       "      <td>NaN</td>\n",
       "      <td>NaN</td>\n",
       "      <td>NaN</td>\n",
       "      <td>NaN</td>\n",
       "      <td>NaN</td>\n",
       "      <td>NaN</td>\n",
       "      <td>NaN</td>\n",
       "      <td>NaN</td>\n",
       "    </tr>\n",
       "    <tr>\n",
       "      <th>1345</th>\n",
       "      <td>1346</td>\n",
       "      <td>ALUNO-1346</td>\n",
       "      <td>NaN</td>\n",
       "      <td>NaN</td>\n",
       "      <td>NaN</td>\n",
       "      <td>NaN</td>\n",
       "      <td>NaN</td>\n",
       "      <td>NaN</td>\n",
       "      <td>NaN</td>\n",
       "      <td>NaN</td>\n",
       "      <td>NaN</td>\n",
       "      <td>NaN</td>\n",
       "      <td>NaN</td>\n",
       "      <td>NaN</td>\n",
       "      <td>NaN</td>\n",
       "      <td>NaN</td>\n",
       "      <td>NaN</td>\n",
       "      <td>NaN</td>\n",
       "      <td>NaN</td>\n",
       "      <td>NaN</td>\n",
       "      <td>NaN</td>\n",
       "      <td>NaN</td>\n",
       "      <td>NaN</td>\n",
       "      <td>NaN</td>\n",
       "      <td>NaN</td>\n",
       "      <td>NaN</td>\n",
       "      <td>0.0</td>\n",
       "      <td>U</td>\n",
       "      <td>Sim</td>\n",
       "      <td>8.135538</td>\n",
       "      <td>Topázio</td>\n",
       "      <td>9.00002</td>\n",
       "      <td>9.031839</td>\n",
       "      <td>7.500</td>\n",
       "      <td>9.000000</td>\n",
       "      <td>5.625000</td>\n",
       "      <td>9.083340</td>\n",
       "      <td>5.0</td>\n",
       "    </tr>\n",
       "    <tr>\n",
       "      <th>1346</th>\n",
       "      <td>1347</td>\n",
       "      <td>ALUNO-1347</td>\n",
       "      <td>7</td>\n",
       "      <td>B</td>\n",
       "      <td>Não</td>\n",
       "      <td>7.158543333333334</td>\n",
       "      <td>Ágata</td>\n",
       "      <td>9.16668</td>\n",
       "      <td>8.1</td>\n",
       "      <td>6.875</td>\n",
       "      <td>4.666666666666667</td>\n",
       "      <td>7.34375</td>\n",
       "      <td>6.333335</td>\n",
       "      <td>10</td>\n",
       "      <td>NaN</td>\n",
       "      <td>NaN</td>\n",
       "      <td>NaN</td>\n",
       "      <td>NaN</td>\n",
       "      <td>NaN</td>\n",
       "      <td>NaN</td>\n",
       "      <td>NaN</td>\n",
       "      <td>NaN</td>\n",
       "      <td>NaN</td>\n",
       "      <td>NaN</td>\n",
       "      <td>NaN</td>\n",
       "      <td>NaN</td>\n",
       "      <td>NaN</td>\n",
       "      <td>NaN</td>\n",
       "      <td>NaN</td>\n",
       "      <td>NaN</td>\n",
       "      <td>NaN</td>\n",
       "      <td>NaN</td>\n",
       "      <td>NaN</td>\n",
       "      <td>NaN</td>\n",
       "      <td>NaN</td>\n",
       "      <td>NaN</td>\n",
       "      <td>NaN</td>\n",
       "      <td>NaN</td>\n",
       "    </tr>\n",
       "    <tr>\n",
       "      <th>1347</th>\n",
       "      <td>1348</td>\n",
       "      <td>ALUNO-1348</td>\n",
       "      <td>3</td>\n",
       "      <td>R</td>\n",
       "      <td>Sim</td>\n",
       "      <td>7.842224333333333</td>\n",
       "      <td>Ametista</td>\n",
       "      <td>7.91667</td>\n",
       "      <td>7.1</td>\n",
       "      <td>6.875</td>\n",
       "      <td>6.333333333333333</td>\n",
       "      <td>8.541666666666666</td>\n",
       "      <td>9.11112</td>\n",
       "      <td>10</td>\n",
       "      <td>3.0</td>\n",
       "      <td>J</td>\n",
       "      <td>Não</td>\n",
       "      <td>7.422</td>\n",
       "      <td>Ametista</td>\n",
       "      <td>7.5</td>\n",
       "      <td>8.6</td>\n",
       "      <td>6.3</td>\n",
       "      <td>6.9</td>\n",
       "      <td>7.5</td>\n",
       "      <td>8.5</td>\n",
       "      <td>5.0</td>\n",
       "      <td>4.0</td>\n",
       "      <td>P</td>\n",
       "      <td>Não</td>\n",
       "      <td>6.749981</td>\n",
       "      <td>Ágata</td>\n",
       "      <td>8.33334</td>\n",
       "      <td>9.178030</td>\n",
       "      <td>5.625</td>\n",
       "      <td>5.900000</td>\n",
       "      <td>6.718750</td>\n",
       "      <td>5.833328</td>\n",
       "      <td>5.0</td>\n",
       "    </tr>\n",
       "    <tr>\n",
       "      <th>1348</th>\n",
       "      <td>1349</td>\n",
       "      <td>ALUNO-1349</td>\n",
       "      <td>NaN</td>\n",
       "      <td>NaN</td>\n",
       "      <td>NaN</td>\n",
       "      <td>NaN</td>\n",
       "      <td>NaN</td>\n",
       "      <td>NaN</td>\n",
       "      <td>NaN</td>\n",
       "      <td>NaN</td>\n",
       "      <td>NaN</td>\n",
       "      <td>NaN</td>\n",
       "      <td>NaN</td>\n",
       "      <td>NaN</td>\n",
       "      <td>NaN</td>\n",
       "      <td>NaN</td>\n",
       "      <td>NaN</td>\n",
       "      <td>NaN</td>\n",
       "      <td>NaN</td>\n",
       "      <td>NaN</td>\n",
       "      <td>NaN</td>\n",
       "      <td>NaN</td>\n",
       "      <td>NaN</td>\n",
       "      <td>NaN</td>\n",
       "      <td>NaN</td>\n",
       "      <td>NaN</td>\n",
       "      <td>3.0</td>\n",
       "      <td>M</td>\n",
       "      <td>Não</td>\n",
       "      <td>6.399688</td>\n",
       "      <td>Ágata</td>\n",
       "      <td>7.91667</td>\n",
       "      <td>7.540114</td>\n",
       "      <td>7.500</td>\n",
       "      <td>4.500000</td>\n",
       "      <td>7.500000</td>\n",
       "      <td>5.999993</td>\n",
       "      <td>5.0</td>\n",
       "    </tr>\n",
       "  </tbody>\n",
       "</table>\n",
       "<p>1349 rows × 38 columns</p>\n",
       "</div>"
      ]
     },
     "execution_count": 179,
     "metadata": {},
     "output_type": "execute_result"
    }
   ],
   "execution_count": 179
  },
  {
   "metadata": {},
   "cell_type": "markdown",
   "source": "Observa-se que temos colunas atribuidas por ano, vamos separar esse DataFrame em 3 DataFrames por colunas referentes a cada ano, usando o \"ID_ALUNO\" e o \"NOME\" como chave",
   "id": "1dc6b8ad4105a918"
  },
  {
   "metadata": {
    "ExecuteTime": {
     "end_time": "2024-08-11T15:11:18.130112Z",
     "start_time": "2024-08-11T15:11:18.117547Z"
    }
   },
   "cell_type": "code",
   "source": [
    "df_2020 = pd.concat([df_novo[['ID_ALUNO','NOME']], df_novo.filter(regex='_2020')], axis=1)\n",
    "df_2021 = pd.concat([df_novo[['ID_ALUNO','NOME']], df_novo.filter(regex='_2021')], axis=1)\n",
    "df_2022 = pd.concat([df_novo[['ID_ALUNO','NOME']], df_novo.filter(regex='_2022')], axis=1)"
   ],
   "id": "ed1ed0d04bce45f7",
   "outputs": [],
   "execution_count": 180
  },
  {
   "metadata": {
    "ExecuteTime": {
     "end_time": "2024-08-11T15:11:18.272913Z",
     "start_time": "2024-08-11T15:11:18.253119Z"
    }
   },
   "cell_type": "code",
   "source": "df_2020.head()",
   "id": "235825b76df37e0",
   "outputs": [
    {
     "data": {
      "text/plain": [
       "   ID_ALUNO     NOME FASE_2020 TURMA_2020 PONTO_VIRADA_2020  \\\n",
       "0         1  ALUNO-1         2          H               Não   \n",
       "1         2  ALUNO-2       NaN        NaN               NaN   \n",
       "2         3  ALUNO-3         3          H               Não   \n",
       "3         4  ALUNO-4         1          D               Não   \n",
       "4         5  ALUNO-5         2          M               Não   \n",
       "\n",
       "           INDE_2020 PEDRA_2020           IAA_2020 IEG_2020 IPS_2020 IDA_2020  \\\n",
       "0           7.883752   Ametista  8.500020000000001      8.7      7.5        7   \n",
       "1                NaN        NaN                NaN      NaN      NaN      NaN   \n",
       "2  7.856389666666666   Ametista            7.91667      8.9      7.5      5.5   \n",
       "3           5.076252    Quartzo  8.000020000000001      4.1    6.875        0   \n",
       "4           8.077085   Ametista            7.50002        8      7.5      7.5   \n",
       "\n",
       "  IPP_2020           IPV_2020 IAN_2020  \n",
       "0   5.9375               7.75       10  \n",
       "1      NaN                NaN      NaN  \n",
       "2    8.125  8.111113333333334       10  \n",
       "3   7.1875               7.75        5  \n",
       "4   8.4375           8.166665       10  "
      ],
      "text/html": [
       "<div>\n",
       "<style scoped>\n",
       "    .dataframe tbody tr th:only-of-type {\n",
       "        vertical-align: middle;\n",
       "    }\n",
       "\n",
       "    .dataframe tbody tr th {\n",
       "        vertical-align: top;\n",
       "    }\n",
       "\n",
       "    .dataframe thead th {\n",
       "        text-align: right;\n",
       "    }\n",
       "</style>\n",
       "<table border=\"1\" class=\"dataframe\">\n",
       "  <thead>\n",
       "    <tr style=\"text-align: right;\">\n",
       "      <th></th>\n",
       "      <th>ID_ALUNO</th>\n",
       "      <th>NOME</th>\n",
       "      <th>FASE_2020</th>\n",
       "      <th>TURMA_2020</th>\n",
       "      <th>PONTO_VIRADA_2020</th>\n",
       "      <th>INDE_2020</th>\n",
       "      <th>PEDRA_2020</th>\n",
       "      <th>IAA_2020</th>\n",
       "      <th>IEG_2020</th>\n",
       "      <th>IPS_2020</th>\n",
       "      <th>IDA_2020</th>\n",
       "      <th>IPP_2020</th>\n",
       "      <th>IPV_2020</th>\n",
       "      <th>IAN_2020</th>\n",
       "    </tr>\n",
       "  </thead>\n",
       "  <tbody>\n",
       "    <tr>\n",
       "      <th>0</th>\n",
       "      <td>1</td>\n",
       "      <td>ALUNO-1</td>\n",
       "      <td>2</td>\n",
       "      <td>H</td>\n",
       "      <td>Não</td>\n",
       "      <td>7.883752</td>\n",
       "      <td>Ametista</td>\n",
       "      <td>8.500020000000001</td>\n",
       "      <td>8.7</td>\n",
       "      <td>7.5</td>\n",
       "      <td>7</td>\n",
       "      <td>5.9375</td>\n",
       "      <td>7.75</td>\n",
       "      <td>10</td>\n",
       "    </tr>\n",
       "    <tr>\n",
       "      <th>1</th>\n",
       "      <td>2</td>\n",
       "      <td>ALUNO-2</td>\n",
       "      <td>NaN</td>\n",
       "      <td>NaN</td>\n",
       "      <td>NaN</td>\n",
       "      <td>NaN</td>\n",
       "      <td>NaN</td>\n",
       "      <td>NaN</td>\n",
       "      <td>NaN</td>\n",
       "      <td>NaN</td>\n",
       "      <td>NaN</td>\n",
       "      <td>NaN</td>\n",
       "      <td>NaN</td>\n",
       "      <td>NaN</td>\n",
       "    </tr>\n",
       "    <tr>\n",
       "      <th>2</th>\n",
       "      <td>3</td>\n",
       "      <td>ALUNO-3</td>\n",
       "      <td>3</td>\n",
       "      <td>H</td>\n",
       "      <td>Não</td>\n",
       "      <td>7.856389666666666</td>\n",
       "      <td>Ametista</td>\n",
       "      <td>7.91667</td>\n",
       "      <td>8.9</td>\n",
       "      <td>7.5</td>\n",
       "      <td>5.5</td>\n",
       "      <td>8.125</td>\n",
       "      <td>8.111113333333334</td>\n",
       "      <td>10</td>\n",
       "    </tr>\n",
       "    <tr>\n",
       "      <th>3</th>\n",
       "      <td>4</td>\n",
       "      <td>ALUNO-4</td>\n",
       "      <td>1</td>\n",
       "      <td>D</td>\n",
       "      <td>Não</td>\n",
       "      <td>5.076252</td>\n",
       "      <td>Quartzo</td>\n",
       "      <td>8.000020000000001</td>\n",
       "      <td>4.1</td>\n",
       "      <td>6.875</td>\n",
       "      <td>0</td>\n",
       "      <td>7.1875</td>\n",
       "      <td>7.75</td>\n",
       "      <td>5</td>\n",
       "    </tr>\n",
       "    <tr>\n",
       "      <th>4</th>\n",
       "      <td>5</td>\n",
       "      <td>ALUNO-5</td>\n",
       "      <td>2</td>\n",
       "      <td>M</td>\n",
       "      <td>Não</td>\n",
       "      <td>8.077085</td>\n",
       "      <td>Ametista</td>\n",
       "      <td>7.50002</td>\n",
       "      <td>8</td>\n",
       "      <td>7.5</td>\n",
       "      <td>7.5</td>\n",
       "      <td>8.4375</td>\n",
       "      <td>8.166665</td>\n",
       "      <td>10</td>\n",
       "    </tr>\n",
       "  </tbody>\n",
       "</table>\n",
       "</div>"
      ]
     },
     "execution_count": 181,
     "metadata": {},
     "output_type": "execute_result"
    }
   ],
   "execution_count": 181
  },
  {
   "metadata": {},
   "cell_type": "markdown",
   "source": "Agora iremos retirar as linhas que possuem somente valores nulos (NaN)",
   "id": "d536044770bb15f7"
  },
  {
   "metadata": {
    "ExecuteTime": {
     "end_time": "2024-08-11T15:11:19.133076Z",
     "start_time": "2024-08-11T15:11:19.111662Z"
    }
   },
   "cell_type": "code",
   "source": [
    "df_2020_filtrado = df_2020[df_2020['FASE_2020'].notnull()]\n",
    "df_2021_filtrado = df_2021[df_2021['FASE_2021'].notnull()]\n",
    "df_2022_filtrado = df_2022[df_2022['FASE_2022'].notnull()]"
   ],
   "id": "3ca78791c0c19b35",
   "outputs": [],
   "execution_count": 182
  },
  {
   "metadata": {},
   "cell_type": "markdown",
   "source": "Agora vamos remover o sufixo das colunas e criar uma nova coluna 'ANO_PESQUISA'",
   "id": "372d154bc169c53"
  },
  {
   "metadata": {
    "ExecuteTime": {
     "end_time": "2024-08-11T15:11:19.382065Z",
     "start_time": "2024-08-11T15:11:19.374136Z"
    }
   },
   "cell_type": "code",
   "source": [
    "df_2020_filtrado.columns = df_2020_filtrado.columns.str.removesuffix(\"_2020\")\n",
    "df_2021_filtrado.columns = df_2021_filtrado.columns.str.removesuffix(\"_2021\")\n",
    "df_2022_filtrado.columns = df_2022_filtrado.columns.str.removesuffix(\"_2022\")"
   ],
   "id": "dd5464485a8795a6",
   "outputs": [],
   "execution_count": 183
  },
  {
   "metadata": {
    "ExecuteTime": {
     "end_time": "2024-08-11T15:11:20.204251Z",
     "start_time": "2024-08-11T15:11:20.190769Z"
    }
   },
   "cell_type": "code",
   "source": [
    "df_2020_filtrado.insert(loc=0, column='ANO_PESQUISA', value=2020)\n",
    "df_2021_filtrado.insert(loc=0, column='ANO_PESQUISA', value=2021)\n",
    "df_2022_filtrado.insert(loc=0, column='ANO_PESQUISA', value=2022)"
   ],
   "id": "ec41fb1400a2839",
   "outputs": [],
   "execution_count": 184
  },
  {
   "metadata": {
    "ExecuteTime": {
     "end_time": "2024-08-11T15:11:20.531432Z",
     "start_time": "2024-08-11T15:11:20.521240Z"
    }
   },
   "cell_type": "code",
   "source": [
    "print(df_2020_filtrado.columns)\n",
    "print(df_2021_filtrado.columns)\n",
    "print(df_2022_filtrado.columns)"
   ],
   "id": "f3075aaafb9f6019",
   "outputs": [
    {
     "name": "stdout",
     "output_type": "stream",
     "text": [
      "Index(['ANO_PESQUISA', 'ID_ALUNO', 'NOME', 'FASE', 'TURMA', 'PONTO_VIRADA',\n",
      "       'INDE', 'PEDRA', 'IAA', 'IEG', 'IPS', 'IDA', 'IPP', 'IPV', 'IAN'],\n",
      "      dtype='object')\n",
      "Index(['ANO_PESQUISA', 'ID_ALUNO', 'NOME', 'FASE', 'TURMA', 'PONTO_VIRADA',\n",
      "       'INDE', 'PEDRA', 'IAA', 'IEG', 'IPS', 'IDA', 'IPP', 'IPV', 'IAN'],\n",
      "      dtype='object')\n",
      "Index(['ANO_PESQUISA', 'ID_ALUNO', 'NOME', 'FASE', 'TURMA', 'PONTO_VIRADA',\n",
      "       'INDE', 'PEDRA', 'IAA', 'IEG', 'IPS', 'IDA', 'IPP', 'IPV', 'IAN'],\n",
      "      dtype='object')\n"
     ]
    }
   ],
   "execution_count": 185
  },
  {
   "metadata": {
    "ExecuteTime": {
     "end_time": "2024-08-11T15:11:20.768209Z",
     "start_time": "2024-08-11T15:11:20.749199Z"
    }
   },
   "cell_type": "code",
   "source": "df_2020_filtrado.info()",
   "id": "71e6b1ae309598f9",
   "outputs": [
    {
     "name": "stdout",
     "output_type": "stream",
     "text": [
      "<class 'pandas.core.frame.DataFrame'>\n",
      "Index: 728 entries, 0 to 1347\n",
      "Data columns (total 15 columns):\n",
      " #   Column        Non-Null Count  Dtype \n",
      "---  ------        --------------  ----- \n",
      " 0   ANO_PESQUISA  728 non-null    int64 \n",
      " 1   ID_ALUNO      728 non-null    int32 \n",
      " 2   NOME          728 non-null    object\n",
      " 3   FASE          728 non-null    object\n",
      " 4   TURMA         728 non-null    object\n",
      " 5   PONTO_VIRADA  702 non-null    object\n",
      " 6   INDE          728 non-null    object\n",
      " 7   PEDRA         728 non-null    object\n",
      " 8   IAA           728 non-null    object\n",
      " 9   IEG           728 non-null    object\n",
      " 10  IPS           728 non-null    object\n",
      " 11  IDA           728 non-null    object\n",
      " 12  IPP           728 non-null    object\n",
      " 13  IPV           728 non-null    object\n",
      " 14  IAN           728 non-null    object\n",
      "dtypes: int32(1), int64(1), object(13)\n",
      "memory usage: 88.2+ KB\n"
     ]
    }
   ],
   "execution_count": 186
  },
  {
   "metadata": {
    "ExecuteTime": {
     "end_time": "2024-08-11T15:11:20.997867Z",
     "start_time": "2024-08-11T15:11:20.987522Z"
    }
   },
   "cell_type": "code",
   "source": "df_final = pd.concat([df_2020_filtrado, df_2021_filtrado, df_2022_filtrado], axis=0, ignore_index=True)",
   "id": "99f76e76eff0974e",
   "outputs": [],
   "execution_count": 187
  },
  {
   "metadata": {
    "ExecuteTime": {
     "end_time": "2024-08-11T15:11:21.173675Z",
     "start_time": "2024-08-11T15:11:21.133671Z"
    }
   },
   "cell_type": "code",
   "source": "df_final",
   "id": "8e6f28221a0217ff",
   "outputs": [
    {
     "data": {
      "text/plain": [
       "      ANO_PESQUISA  ID_ALUNO        NOME FASE TURMA PONTO_VIRADA  \\\n",
       "0             2020         1     ALUNO-1    2     H          Não   \n",
       "1             2020         3     ALUNO-3    3     H          Não   \n",
       "2             2020         4     ALUNO-4    1     D          Não   \n",
       "3             2020         5     ALUNO-5    2     M          Não   \n",
       "4             2020         8     ALUNO-8    4     L          Sim   \n",
       "...            ...       ...         ...  ...   ...          ...   \n",
       "2271          2022      1342  ALUNO-1342  2.0     K          Não   \n",
       "2272          2022      1343  ALUNO-1343  2.0     K          Não   \n",
       "2273          2022      1346  ALUNO-1346  0.0     U          Sim   \n",
       "2274          2022      1348  ALUNO-1348  4.0     P          Não   \n",
       "2275          2022      1349  ALUNO-1349  3.0     M          Não   \n",
       "\n",
       "                   INDE     PEDRA                IAA       IEG    IPS  \\\n",
       "0              7.883752  Ametista  8.500020000000001       8.7    7.5   \n",
       "1     7.856389666666666  Ametista            7.91667       8.9    7.5   \n",
       "2              5.076252   Quartzo  8.000020000000001       4.1  6.875   \n",
       "3              8.077085  Ametista            7.50002         8    7.5   \n",
       "4     8.381390666666666  Ametista            8.33334       9.9  4.375   \n",
       "...                 ...       ...                ...       ...    ...   \n",
       "2271           8.150001   Topázio            7.91668  9.666667    7.5   \n",
       "2272           5.674644   Quartzo            7.41668  6.470435   6.25   \n",
       "2273           8.135538   Topázio            9.00002  9.031839    7.5   \n",
       "2274           6.749981     Ágata            8.33334   9.17803  5.625   \n",
       "2275           6.399688     Ágata            7.91667  7.540114    7.5   \n",
       "\n",
       "                    IDA                IPP                IPV   IAN  \n",
       "0                     7             5.9375               7.75    10  \n",
       "1                   5.5              8.125  8.111113333333334    10  \n",
       "2                     0             7.1875               7.75     5  \n",
       "3                   7.5             8.4375           8.166665    10  \n",
       "4     7.333333333333333  8.749999999999998            8.94445    10  \n",
       "...                 ...                ...                ...   ...  \n",
       "2271               7.75               6.25                7.5  10.0  \n",
       "2272                2.0               6.25           7.444443   5.0  \n",
       "2273                9.0              5.625            9.08334   5.0  \n",
       "2274                5.9            6.71875           5.833328   5.0  \n",
       "2275                4.5                7.5           5.999993   5.0  \n",
       "\n",
       "[2276 rows x 15 columns]"
      ],
      "text/html": [
       "<div>\n",
       "<style scoped>\n",
       "    .dataframe tbody tr th:only-of-type {\n",
       "        vertical-align: middle;\n",
       "    }\n",
       "\n",
       "    .dataframe tbody tr th {\n",
       "        vertical-align: top;\n",
       "    }\n",
       "\n",
       "    .dataframe thead th {\n",
       "        text-align: right;\n",
       "    }\n",
       "</style>\n",
       "<table border=\"1\" class=\"dataframe\">\n",
       "  <thead>\n",
       "    <tr style=\"text-align: right;\">\n",
       "      <th></th>\n",
       "      <th>ANO_PESQUISA</th>\n",
       "      <th>ID_ALUNO</th>\n",
       "      <th>NOME</th>\n",
       "      <th>FASE</th>\n",
       "      <th>TURMA</th>\n",
       "      <th>PONTO_VIRADA</th>\n",
       "      <th>INDE</th>\n",
       "      <th>PEDRA</th>\n",
       "      <th>IAA</th>\n",
       "      <th>IEG</th>\n",
       "      <th>IPS</th>\n",
       "      <th>IDA</th>\n",
       "      <th>IPP</th>\n",
       "      <th>IPV</th>\n",
       "      <th>IAN</th>\n",
       "    </tr>\n",
       "  </thead>\n",
       "  <tbody>\n",
       "    <tr>\n",
       "      <th>0</th>\n",
       "      <td>2020</td>\n",
       "      <td>1</td>\n",
       "      <td>ALUNO-1</td>\n",
       "      <td>2</td>\n",
       "      <td>H</td>\n",
       "      <td>Não</td>\n",
       "      <td>7.883752</td>\n",
       "      <td>Ametista</td>\n",
       "      <td>8.500020000000001</td>\n",
       "      <td>8.7</td>\n",
       "      <td>7.5</td>\n",
       "      <td>7</td>\n",
       "      <td>5.9375</td>\n",
       "      <td>7.75</td>\n",
       "      <td>10</td>\n",
       "    </tr>\n",
       "    <tr>\n",
       "      <th>1</th>\n",
       "      <td>2020</td>\n",
       "      <td>3</td>\n",
       "      <td>ALUNO-3</td>\n",
       "      <td>3</td>\n",
       "      <td>H</td>\n",
       "      <td>Não</td>\n",
       "      <td>7.856389666666666</td>\n",
       "      <td>Ametista</td>\n",
       "      <td>7.91667</td>\n",
       "      <td>8.9</td>\n",
       "      <td>7.5</td>\n",
       "      <td>5.5</td>\n",
       "      <td>8.125</td>\n",
       "      <td>8.111113333333334</td>\n",
       "      <td>10</td>\n",
       "    </tr>\n",
       "    <tr>\n",
       "      <th>2</th>\n",
       "      <td>2020</td>\n",
       "      <td>4</td>\n",
       "      <td>ALUNO-4</td>\n",
       "      <td>1</td>\n",
       "      <td>D</td>\n",
       "      <td>Não</td>\n",
       "      <td>5.076252</td>\n",
       "      <td>Quartzo</td>\n",
       "      <td>8.000020000000001</td>\n",
       "      <td>4.1</td>\n",
       "      <td>6.875</td>\n",
       "      <td>0</td>\n",
       "      <td>7.1875</td>\n",
       "      <td>7.75</td>\n",
       "      <td>5</td>\n",
       "    </tr>\n",
       "    <tr>\n",
       "      <th>3</th>\n",
       "      <td>2020</td>\n",
       "      <td>5</td>\n",
       "      <td>ALUNO-5</td>\n",
       "      <td>2</td>\n",
       "      <td>M</td>\n",
       "      <td>Não</td>\n",
       "      <td>8.077085</td>\n",
       "      <td>Ametista</td>\n",
       "      <td>7.50002</td>\n",
       "      <td>8</td>\n",
       "      <td>7.5</td>\n",
       "      <td>7.5</td>\n",
       "      <td>8.4375</td>\n",
       "      <td>8.166665</td>\n",
       "      <td>10</td>\n",
       "    </tr>\n",
       "    <tr>\n",
       "      <th>4</th>\n",
       "      <td>2020</td>\n",
       "      <td>8</td>\n",
       "      <td>ALUNO-8</td>\n",
       "      <td>4</td>\n",
       "      <td>L</td>\n",
       "      <td>Sim</td>\n",
       "      <td>8.381390666666666</td>\n",
       "      <td>Ametista</td>\n",
       "      <td>8.33334</td>\n",
       "      <td>9.9</td>\n",
       "      <td>4.375</td>\n",
       "      <td>7.333333333333333</td>\n",
       "      <td>8.749999999999998</td>\n",
       "      <td>8.94445</td>\n",
       "      <td>10</td>\n",
       "    </tr>\n",
       "    <tr>\n",
       "      <th>...</th>\n",
       "      <td>...</td>\n",
       "      <td>...</td>\n",
       "      <td>...</td>\n",
       "      <td>...</td>\n",
       "      <td>...</td>\n",
       "      <td>...</td>\n",
       "      <td>...</td>\n",
       "      <td>...</td>\n",
       "      <td>...</td>\n",
       "      <td>...</td>\n",
       "      <td>...</td>\n",
       "      <td>...</td>\n",
       "      <td>...</td>\n",
       "      <td>...</td>\n",
       "      <td>...</td>\n",
       "    </tr>\n",
       "    <tr>\n",
       "      <th>2271</th>\n",
       "      <td>2022</td>\n",
       "      <td>1342</td>\n",
       "      <td>ALUNO-1342</td>\n",
       "      <td>2.0</td>\n",
       "      <td>K</td>\n",
       "      <td>Não</td>\n",
       "      <td>8.150001</td>\n",
       "      <td>Topázio</td>\n",
       "      <td>7.91668</td>\n",
       "      <td>9.666667</td>\n",
       "      <td>7.5</td>\n",
       "      <td>7.75</td>\n",
       "      <td>6.25</td>\n",
       "      <td>7.5</td>\n",
       "      <td>10.0</td>\n",
       "    </tr>\n",
       "    <tr>\n",
       "      <th>2272</th>\n",
       "      <td>2022</td>\n",
       "      <td>1343</td>\n",
       "      <td>ALUNO-1343</td>\n",
       "      <td>2.0</td>\n",
       "      <td>K</td>\n",
       "      <td>Não</td>\n",
       "      <td>5.674644</td>\n",
       "      <td>Quartzo</td>\n",
       "      <td>7.41668</td>\n",
       "      <td>6.470435</td>\n",
       "      <td>6.25</td>\n",
       "      <td>2.0</td>\n",
       "      <td>6.25</td>\n",
       "      <td>7.444443</td>\n",
       "      <td>5.0</td>\n",
       "    </tr>\n",
       "    <tr>\n",
       "      <th>2273</th>\n",
       "      <td>2022</td>\n",
       "      <td>1346</td>\n",
       "      <td>ALUNO-1346</td>\n",
       "      <td>0.0</td>\n",
       "      <td>U</td>\n",
       "      <td>Sim</td>\n",
       "      <td>8.135538</td>\n",
       "      <td>Topázio</td>\n",
       "      <td>9.00002</td>\n",
       "      <td>9.031839</td>\n",
       "      <td>7.5</td>\n",
       "      <td>9.0</td>\n",
       "      <td>5.625</td>\n",
       "      <td>9.08334</td>\n",
       "      <td>5.0</td>\n",
       "    </tr>\n",
       "    <tr>\n",
       "      <th>2274</th>\n",
       "      <td>2022</td>\n",
       "      <td>1348</td>\n",
       "      <td>ALUNO-1348</td>\n",
       "      <td>4.0</td>\n",
       "      <td>P</td>\n",
       "      <td>Não</td>\n",
       "      <td>6.749981</td>\n",
       "      <td>Ágata</td>\n",
       "      <td>8.33334</td>\n",
       "      <td>9.17803</td>\n",
       "      <td>5.625</td>\n",
       "      <td>5.9</td>\n",
       "      <td>6.71875</td>\n",
       "      <td>5.833328</td>\n",
       "      <td>5.0</td>\n",
       "    </tr>\n",
       "    <tr>\n",
       "      <th>2275</th>\n",
       "      <td>2022</td>\n",
       "      <td>1349</td>\n",
       "      <td>ALUNO-1349</td>\n",
       "      <td>3.0</td>\n",
       "      <td>M</td>\n",
       "      <td>Não</td>\n",
       "      <td>6.399688</td>\n",
       "      <td>Ágata</td>\n",
       "      <td>7.91667</td>\n",
       "      <td>7.540114</td>\n",
       "      <td>7.5</td>\n",
       "      <td>4.5</td>\n",
       "      <td>7.5</td>\n",
       "      <td>5.999993</td>\n",
       "      <td>5.0</td>\n",
       "    </tr>\n",
       "  </tbody>\n",
       "</table>\n",
       "<p>2276 rows × 15 columns</p>\n",
       "</div>"
      ]
     },
     "execution_count": 188,
     "metadata": {},
     "output_type": "execute_result"
    }
   ],
   "execution_count": 188
  },
  {
   "metadata": {
    "ExecuteTime": {
     "end_time": "2024-08-11T15:11:21.313960Z",
     "start_time": "2024-08-11T15:11:21.298684Z"
    }
   },
   "cell_type": "code",
   "source": "df_final.info()",
   "id": "98b2d9f94c85d028",
   "outputs": [
    {
     "name": "stdout",
     "output_type": "stream",
     "text": [
      "<class 'pandas.core.frame.DataFrame'>\n",
      "RangeIndex: 2276 entries, 0 to 2275\n",
      "Data columns (total 15 columns):\n",
      " #   Column        Non-Null Count  Dtype \n",
      "---  ------        --------------  ----- \n",
      " 0   ANO_PESQUISA  2276 non-null   int64 \n",
      " 1   ID_ALUNO      2276 non-null   int32 \n",
      " 2   NOME          2276 non-null   object\n",
      " 3   FASE          2276 non-null   object\n",
      " 4   TURMA         2276 non-null   object\n",
      " 5   PONTO_VIRADA  2250 non-null   object\n",
      " 6   INDE          2276 non-null   object\n",
      " 7   PEDRA         2276 non-null   object\n",
      " 8   IAA           2276 non-null   object\n",
      " 9   IEG           2276 non-null   object\n",
      " 10  IPS           2276 non-null   object\n",
      " 11  IDA           2276 non-null   object\n",
      " 12  IPP           2276 non-null   object\n",
      " 13  IPV           2276 non-null   object\n",
      " 14  IAN           2276 non-null   object\n",
      "dtypes: int32(1), int64(1), object(13)\n",
      "memory usage: 258.0+ KB\n"
     ]
    }
   ],
   "execution_count": 189
  },
  {
   "metadata": {
    "ExecuteTime": {
     "end_time": "2024-08-11T15:11:21.414934Z",
     "start_time": "2024-08-11T15:11:21.407969Z"
    }
   },
   "cell_type": "code",
   "source": "df_final.iloc[680]",
   "id": "710318d4c3ef292c",
   "outputs": [
    {
     "data": {
      "text/plain": [
       "ANO_PESQUISA          2020\n",
       "ID_ALUNO              1259\n",
       "NOME            ALUNO-1259\n",
       "FASE                     D\n",
       "TURMA                    2\n",
       "PONTO_VIRADA         D9600\n",
       "INDE                  D980\n",
       "PEDRA             D9891/2A\n",
       "IAA                   D910\n",
       "IEG                   V920\n",
       "IPS                   D930\n",
       "IDA                   D940\n",
       "IPP                   D950\n",
       "IPV                   D960\n",
       "IAN                   D970\n",
       "Name: 680, dtype: object"
      ]
     },
     "execution_count": 190,
     "metadata": {},
     "output_type": "execute_result"
    }
   ],
   "execution_count": 190
  },
  {
   "metadata": {
    "ExecuteTime": {
     "end_time": "2024-08-11T15:11:21.508828Z",
     "start_time": "2024-08-11T15:11:21.502628Z"
    }
   },
   "cell_type": "code",
   "source": "df_final.drop(680, inplace=True)",
   "id": "1ab901f014ddb48d",
   "outputs": [],
   "execution_count": 191
  },
  {
   "metadata": {
    "ExecuteTime": {
     "end_time": "2024-08-11T15:11:21.627860Z",
     "start_time": "2024-08-11T15:11:21.620124Z"
    }
   },
   "cell_type": "code",
   "source": "df_final.iloc[759]",
   "id": "4f46b9fd5daa8e5e",
   "outputs": [
    {
     "data": {
      "text/plain": [
       "ANO_PESQUISA        2021\n",
       "ID_ALUNO              71\n",
       "NOME            ALUNO-71\n",
       "FASE                 0.0\n",
       "TURMA                  J\n",
       "PONTO_VIRADA      #NULO!\n",
       "INDE              #NULO!\n",
       "PEDRA             #NULO!\n",
       "IAA                  7.4\n",
       "IEG                  0.0\n",
       "IPS                  5.0\n",
       "IDA                  3.6\n",
       "IPP                  0.0\n",
       "IPV                  0.0\n",
       "IAN                  5.0\n",
       "Name: 760, dtype: object"
      ]
     },
     "execution_count": 192,
     "metadata": {},
     "output_type": "execute_result"
    }
   ],
   "execution_count": 192
  },
  {
   "metadata": {
    "ExecuteTime": {
     "end_time": "2024-08-11T15:11:21.837636Z",
     "start_time": "2024-08-11T15:11:21.830638Z"
    }
   },
   "cell_type": "code",
   "source": "df_final.replace('#NULO!', np.nan, inplace=True)",
   "id": "5796945974bf5887",
   "outputs": [],
   "execution_count": 193
  },
  {
   "metadata": {
    "ExecuteTime": {
     "end_time": "2024-08-11T15:11:21.928045Z",
     "start_time": "2024-08-11T15:11:21.918258Z"
    }
   },
   "cell_type": "code",
   "source": "df_final[['INDE', 'IAN', 'IDA', 'IEG', 'IAA', 'IPS', 'IPP','IPV']] = df_final[['INDE', 'IAN', 'IDA', 'IEG', 'IAA', 'IPS', 'IPP','IPV']].astype(float)",
   "id": "f75a09e3da56bfe8",
   "outputs": [],
   "execution_count": 194
  },
  {
   "metadata": {
    "ExecuteTime": {
     "end_time": "2024-08-11T15:11:21.999577Z",
     "start_time": "2024-08-11T15:11:21.989278Z"
    }
   },
   "cell_type": "code",
   "source": "df_final.info()",
   "id": "7b57119dce056c08",
   "outputs": [
    {
     "name": "stdout",
     "output_type": "stream",
     "text": [
      "<class 'pandas.core.frame.DataFrame'>\n",
      "Index: 2275 entries, 0 to 2275\n",
      "Data columns (total 15 columns):\n",
      " #   Column        Non-Null Count  Dtype  \n",
      "---  ------        --------------  -----  \n",
      " 0   ANO_PESQUISA  2275 non-null   int64  \n",
      " 1   ID_ALUNO      2275 non-null   int32  \n",
      " 2   NOME          2275 non-null   object \n",
      " 3   FASE          2275 non-null   object \n",
      " 4   TURMA         2275 non-null   object \n",
      " 5   PONTO_VIRADA  2247 non-null   object \n",
      " 6   INDE          2273 non-null   float64\n",
      " 7   PEDRA         2273 non-null   object \n",
      " 8   IAA           2275 non-null   float64\n",
      " 9   IEG           2275 non-null   float64\n",
      " 10  IPS           2275 non-null   float64\n",
      " 11  IDA           2275 non-null   float64\n",
      " 12  IPP           2275 non-null   float64\n",
      " 13  IPV           2275 non-null   float64\n",
      " 14  IAN           2275 non-null   float64\n",
      "dtypes: float64(8), int32(1), int64(1), object(5)\n",
      "memory usage: 275.5+ KB\n"
     ]
    }
   ],
   "execution_count": 195
  },
  {
   "metadata": {
    "ExecuteTime": {
     "end_time": "2024-08-11T15:11:22.067125Z",
     "start_time": "2024-08-11T15:11:22.061121Z"
    }
   },
   "cell_type": "code",
   "source": "df_final[['ANO_PESQUISA','ID_ALUNO','FASE']] = df_final[['ANO_PESQUISA','ID_ALUNO','FASE']].astype(int)",
   "id": "332fc2d34beb164c",
   "outputs": [],
   "execution_count": 196
  },
  {
   "metadata": {
    "ExecuteTime": {
     "end_time": "2024-08-11T15:11:22.169455Z",
     "start_time": "2024-08-11T15:11:22.155138Z"
    }
   },
   "cell_type": "code",
   "source": "df_final.info()",
   "id": "e8b5d1edd34f8f95",
   "outputs": [
    {
     "name": "stdout",
     "output_type": "stream",
     "text": [
      "<class 'pandas.core.frame.DataFrame'>\n",
      "Index: 2275 entries, 0 to 2275\n",
      "Data columns (total 15 columns):\n",
      " #   Column        Non-Null Count  Dtype  \n",
      "---  ------        --------------  -----  \n",
      " 0   ANO_PESQUISA  2275 non-null   int32  \n",
      " 1   ID_ALUNO      2275 non-null   int32  \n",
      " 2   NOME          2275 non-null   object \n",
      " 3   FASE          2275 non-null   int32  \n",
      " 4   TURMA         2275 non-null   object \n",
      " 5   PONTO_VIRADA  2247 non-null   object \n",
      " 6   INDE          2273 non-null   float64\n",
      " 7   PEDRA         2273 non-null   object \n",
      " 8   IAA           2275 non-null   float64\n",
      " 9   IEG           2275 non-null   float64\n",
      " 10  IPS           2275 non-null   float64\n",
      " 11  IDA           2275 non-null   float64\n",
      " 12  IPP           2275 non-null   float64\n",
      " 13  IPV           2275 non-null   float64\n",
      " 14  IAN           2275 non-null   float64\n",
      "dtypes: float64(8), int32(3), object(4)\n",
      "memory usage: 257.7+ KB\n"
     ]
    }
   ],
   "execution_count": 197
  },
  {
   "metadata": {
    "ExecuteTime": {
     "end_time": "2024-08-11T15:11:22.240801Z",
     "start_time": "2024-08-11T15:11:22.233463Z"
    }
   },
   "cell_type": "code",
   "source": "df = df_final.round(2)",
   "id": "3290d061889faf09",
   "outputs": [],
   "execution_count": 198
  },
  {
   "metadata": {
    "ExecuteTime": {
     "end_time": "2024-08-11T15:11:22.371762Z",
     "start_time": "2024-08-11T15:11:22.358437Z"
    }
   },
   "cell_type": "code",
   "source": "df.head()",
   "id": "11f470444ad4330a",
   "outputs": [
    {
     "data": {
      "text/plain": [
       "   ANO_PESQUISA  ID_ALUNO     NOME  FASE TURMA PONTO_VIRADA  INDE     PEDRA  \\\n",
       "0          2020         1  ALUNO-1     2     H          Não  7.88  Ametista   \n",
       "1          2020         3  ALUNO-3     3     H          Não  7.86  Ametista   \n",
       "2          2020         4  ALUNO-4     1     D          Não  5.08   Quartzo   \n",
       "3          2020         5  ALUNO-5     2     M          Não  8.08  Ametista   \n",
       "4          2020         8  ALUNO-8     4     L          Sim  8.38  Ametista   \n",
       "\n",
       "    IAA  IEG   IPS   IDA   IPP   IPV   IAN  \n",
       "0  8.50  8.7  7.50  7.00  5.94  7.75  10.0  \n",
       "1  7.92  8.9  7.50  5.50  8.12  8.11  10.0  \n",
       "2  8.00  4.1  6.88  0.00  7.19  7.75   5.0  \n",
       "3  7.50  8.0  7.50  7.50  8.44  8.17  10.0  \n",
       "4  8.33  9.9  4.38  7.33  8.75  8.94  10.0  "
      ],
      "text/html": [
       "<div>\n",
       "<style scoped>\n",
       "    .dataframe tbody tr th:only-of-type {\n",
       "        vertical-align: middle;\n",
       "    }\n",
       "\n",
       "    .dataframe tbody tr th {\n",
       "        vertical-align: top;\n",
       "    }\n",
       "\n",
       "    .dataframe thead th {\n",
       "        text-align: right;\n",
       "    }\n",
       "</style>\n",
       "<table border=\"1\" class=\"dataframe\">\n",
       "  <thead>\n",
       "    <tr style=\"text-align: right;\">\n",
       "      <th></th>\n",
       "      <th>ANO_PESQUISA</th>\n",
       "      <th>ID_ALUNO</th>\n",
       "      <th>NOME</th>\n",
       "      <th>FASE</th>\n",
       "      <th>TURMA</th>\n",
       "      <th>PONTO_VIRADA</th>\n",
       "      <th>INDE</th>\n",
       "      <th>PEDRA</th>\n",
       "      <th>IAA</th>\n",
       "      <th>IEG</th>\n",
       "      <th>IPS</th>\n",
       "      <th>IDA</th>\n",
       "      <th>IPP</th>\n",
       "      <th>IPV</th>\n",
       "      <th>IAN</th>\n",
       "    </tr>\n",
       "  </thead>\n",
       "  <tbody>\n",
       "    <tr>\n",
       "      <th>0</th>\n",
       "      <td>2020</td>\n",
       "      <td>1</td>\n",
       "      <td>ALUNO-1</td>\n",
       "      <td>2</td>\n",
       "      <td>H</td>\n",
       "      <td>Não</td>\n",
       "      <td>7.88</td>\n",
       "      <td>Ametista</td>\n",
       "      <td>8.50</td>\n",
       "      <td>8.7</td>\n",
       "      <td>7.50</td>\n",
       "      <td>7.00</td>\n",
       "      <td>5.94</td>\n",
       "      <td>7.75</td>\n",
       "      <td>10.0</td>\n",
       "    </tr>\n",
       "    <tr>\n",
       "      <th>1</th>\n",
       "      <td>2020</td>\n",
       "      <td>3</td>\n",
       "      <td>ALUNO-3</td>\n",
       "      <td>3</td>\n",
       "      <td>H</td>\n",
       "      <td>Não</td>\n",
       "      <td>7.86</td>\n",
       "      <td>Ametista</td>\n",
       "      <td>7.92</td>\n",
       "      <td>8.9</td>\n",
       "      <td>7.50</td>\n",
       "      <td>5.50</td>\n",
       "      <td>8.12</td>\n",
       "      <td>8.11</td>\n",
       "      <td>10.0</td>\n",
       "    </tr>\n",
       "    <tr>\n",
       "      <th>2</th>\n",
       "      <td>2020</td>\n",
       "      <td>4</td>\n",
       "      <td>ALUNO-4</td>\n",
       "      <td>1</td>\n",
       "      <td>D</td>\n",
       "      <td>Não</td>\n",
       "      <td>5.08</td>\n",
       "      <td>Quartzo</td>\n",
       "      <td>8.00</td>\n",
       "      <td>4.1</td>\n",
       "      <td>6.88</td>\n",
       "      <td>0.00</td>\n",
       "      <td>7.19</td>\n",
       "      <td>7.75</td>\n",
       "      <td>5.0</td>\n",
       "    </tr>\n",
       "    <tr>\n",
       "      <th>3</th>\n",
       "      <td>2020</td>\n",
       "      <td>5</td>\n",
       "      <td>ALUNO-5</td>\n",
       "      <td>2</td>\n",
       "      <td>M</td>\n",
       "      <td>Não</td>\n",
       "      <td>8.08</td>\n",
       "      <td>Ametista</td>\n",
       "      <td>7.50</td>\n",
       "      <td>8.0</td>\n",
       "      <td>7.50</td>\n",
       "      <td>7.50</td>\n",
       "      <td>8.44</td>\n",
       "      <td>8.17</td>\n",
       "      <td>10.0</td>\n",
       "    </tr>\n",
       "    <tr>\n",
       "      <th>4</th>\n",
       "      <td>2020</td>\n",
       "      <td>8</td>\n",
       "      <td>ALUNO-8</td>\n",
       "      <td>4</td>\n",
       "      <td>L</td>\n",
       "      <td>Sim</td>\n",
       "      <td>8.38</td>\n",
       "      <td>Ametista</td>\n",
       "      <td>8.33</td>\n",
       "      <td>9.9</td>\n",
       "      <td>4.38</td>\n",
       "      <td>7.33</td>\n",
       "      <td>8.75</td>\n",
       "      <td>8.94</td>\n",
       "      <td>10.0</td>\n",
       "    </tr>\n",
       "  </tbody>\n",
       "</table>\n",
       "</div>"
      ]
     },
     "execution_count": 199,
     "metadata": {},
     "output_type": "execute_result"
    }
   ],
   "execution_count": 199
  },
  {
   "metadata": {
    "ExecuteTime": {
     "end_time": "2024-08-11T15:11:22.431706Z",
     "start_time": "2024-08-11T15:11:22.405671Z"
    }
   },
   "cell_type": "code",
   "source": [
    "df_media_ano_fase = df.groupby(['ANO_PESQUISA', 'FASE'])[['INDE', 'IAN', 'IDA', 'IEG', 'IAA', 'IPS', 'IPP','IPV']].mean().round(2)\n",
    "df_media_ano_fase.columns = ['INDE_MEDIO_ANO_FASE', 'IAN_MEDIO_ANO_FASE', 'IDA_MEDIO_ANO_FASE', 'IEG_MEDIO_ANO_FASE', 'IAA_MEDIO_ANO_FASE', 'IPS_MEDIO_ANO_FASE', 'IPP_MEDIO_ANO_FASE', 'IPV_MEDIO_ANO_FASE']\n",
    "df_media_ano_fase"
   ],
   "id": "98149972a991190",
   "outputs": [
    {
     "data": {
      "text/plain": [
       "                   INDE_MEDIO_ANO_FASE  IAN_MEDIO_ANO_FASE  \\\n",
       "ANO_PESQUISA FASE                                            \n",
       "2020         0                    8.02                7.50   \n",
       "             1                    7.42                6.34   \n",
       "             2                    7.11                7.34   \n",
       "             3                    7.34                7.81   \n",
       "             4                    7.08                7.45   \n",
       "             5                    6.84                7.27   \n",
       "             6                    6.24                8.67   \n",
       "             7                    7.29                9.24   \n",
       "             8                    7.71               10.00   \n",
       "2021         0                    7.29                7.09   \n",
       "             1                    6.92                5.96   \n",
       "             2                    6.61                6.70   \n",
       "             3                    6.70                7.50   \n",
       "             4                    6.83                7.42   \n",
       "             5                    6.89                6.90   \n",
       "             6                    7.01                6.96   \n",
       "             7                    7.66                8.95   \n",
       "2022         0                    7.37                6.80   \n",
       "             1                    7.20                5.74   \n",
       "             2                    6.96                6.40   \n",
       "             3                    6.60                6.99   \n",
       "             4                    7.01                6.48   \n",
       "             5                    6.88                6.25   \n",
       "             6                    7.20                5.83   \n",
       "             7                    6.38                6.09   \n",
       "\n",
       "                   IDA_MEDIO_ANO_FASE  IEG_MEDIO_ANO_FASE  IAA_MEDIO_ANO_FASE  \\\n",
       "ANO_PESQUISA FASE                                                               \n",
       "2020         0                   8.97                9.88                8.91   \n",
       "             1                   7.07                7.83                8.72   \n",
       "             2                   5.13                7.92                8.26   \n",
       "             3                   6.40                7.41                8.55   \n",
       "             4                   5.02                6.93                8.63   \n",
       "             5                   5.05                6.97                8.22   \n",
       "             6                   4.13                6.07                4.72   \n",
       "             7                   5.71                7.15                8.13   \n",
       "             8                   8.70                5.00                8.38   \n",
       "2021         0                   5.73                7.80                8.91   \n",
       "             1                   4.78                7.51                8.34   \n",
       "             2                   5.11                6.20                7.29   \n",
       "             3                   5.46                5.96                8.22   \n",
       "             4                   5.75                6.31                8.40   \n",
       "             5                   6.01                6.65                7.97   \n",
       "             6                   6.40                7.12                8.20   \n",
       "             7                   6.79                7.84                8.58   \n",
       "2022         0                   7.13                8.09                8.98   \n",
       "             1                   6.45                8.52                8.64   \n",
       "             2                   5.40                8.16                8.41   \n",
       "             3                   5.13                7.07                7.48   \n",
       "             4                   6.05                7.66                7.71   \n",
       "             5                   5.87                7.34                8.10   \n",
       "             6                   6.69                7.03                6.50   \n",
       "             7                   4.85                6.92                6.76   \n",
       "\n",
       "                   IPS_MEDIO_ANO_FASE  IPP_MEDIO_ANO_FASE  IPV_MEDIO_ANO_FASE  \n",
       "ANO_PESQUISA FASE                                                              \n",
       "2020         0                   6.81                5.69                6.80  \n",
       "             1                   6.89                7.13                7.68  \n",
       "             2                   6.73                7.37                7.67  \n",
       "             3                   6.60                7.91                7.47  \n",
       "             4                   7.08                8.25                7.73  \n",
       "             5                   6.13                7.68                7.11  \n",
       "             6                   6.56                7.45                7.30  \n",
       "             7                   6.76                7.46                7.79  \n",
       "             8                   6.95                0.00                0.00  \n",
       "2021         0                   6.95                6.93                7.63  \n",
       "             1                   7.13                7.78                7.71  \n",
       "             2                   7.04                7.67                7.39  \n",
       "             3                   6.84                7.51                7.05  \n",
       "             4                   6.55                7.85                7.02  \n",
       "             5                   6.20                7.88                7.34  \n",
       "             6                   5.68                7.73                7.28  \n",
       "             7                   6.42                8.01                7.71  \n",
       "2022         0                   7.01                5.31                7.56  \n",
       "             1                   7.08                5.86                7.36  \n",
       "             2                   6.82                6.16                7.34  \n",
       "             3                   6.72                7.30                6.55  \n",
       "             4                   6.61                7.42                7.21  \n",
       "             5                   6.86                6.59                7.26  \n",
       "             6                   7.95                7.86                8.22  \n",
       "             7                   6.47                6.95                6.98  "
      ],
      "text/html": [
       "<div>\n",
       "<style scoped>\n",
       "    .dataframe tbody tr th:only-of-type {\n",
       "        vertical-align: middle;\n",
       "    }\n",
       "\n",
       "    .dataframe tbody tr th {\n",
       "        vertical-align: top;\n",
       "    }\n",
       "\n",
       "    .dataframe thead th {\n",
       "        text-align: right;\n",
       "    }\n",
       "</style>\n",
       "<table border=\"1\" class=\"dataframe\">\n",
       "  <thead>\n",
       "    <tr style=\"text-align: right;\">\n",
       "      <th></th>\n",
       "      <th></th>\n",
       "      <th>INDE_MEDIO_ANO_FASE</th>\n",
       "      <th>IAN_MEDIO_ANO_FASE</th>\n",
       "      <th>IDA_MEDIO_ANO_FASE</th>\n",
       "      <th>IEG_MEDIO_ANO_FASE</th>\n",
       "      <th>IAA_MEDIO_ANO_FASE</th>\n",
       "      <th>IPS_MEDIO_ANO_FASE</th>\n",
       "      <th>IPP_MEDIO_ANO_FASE</th>\n",
       "      <th>IPV_MEDIO_ANO_FASE</th>\n",
       "    </tr>\n",
       "    <tr>\n",
       "      <th>ANO_PESQUISA</th>\n",
       "      <th>FASE</th>\n",
       "      <th></th>\n",
       "      <th></th>\n",
       "      <th></th>\n",
       "      <th></th>\n",
       "      <th></th>\n",
       "      <th></th>\n",
       "      <th></th>\n",
       "      <th></th>\n",
       "    </tr>\n",
       "  </thead>\n",
       "  <tbody>\n",
       "    <tr>\n",
       "      <th rowspan=\"9\" valign=\"top\">2020</th>\n",
       "      <th>0</th>\n",
       "      <td>8.02</td>\n",
       "      <td>7.50</td>\n",
       "      <td>8.97</td>\n",
       "      <td>9.88</td>\n",
       "      <td>8.91</td>\n",
       "      <td>6.81</td>\n",
       "      <td>5.69</td>\n",
       "      <td>6.80</td>\n",
       "    </tr>\n",
       "    <tr>\n",
       "      <th>1</th>\n",
       "      <td>7.42</td>\n",
       "      <td>6.34</td>\n",
       "      <td>7.07</td>\n",
       "      <td>7.83</td>\n",
       "      <td>8.72</td>\n",
       "      <td>6.89</td>\n",
       "      <td>7.13</td>\n",
       "      <td>7.68</td>\n",
       "    </tr>\n",
       "    <tr>\n",
       "      <th>2</th>\n",
       "      <td>7.11</td>\n",
       "      <td>7.34</td>\n",
       "      <td>5.13</td>\n",
       "      <td>7.92</td>\n",
       "      <td>8.26</td>\n",
       "      <td>6.73</td>\n",
       "      <td>7.37</td>\n",
       "      <td>7.67</td>\n",
       "    </tr>\n",
       "    <tr>\n",
       "      <th>3</th>\n",
       "      <td>7.34</td>\n",
       "      <td>7.81</td>\n",
       "      <td>6.40</td>\n",
       "      <td>7.41</td>\n",
       "      <td>8.55</td>\n",
       "      <td>6.60</td>\n",
       "      <td>7.91</td>\n",
       "      <td>7.47</td>\n",
       "    </tr>\n",
       "    <tr>\n",
       "      <th>4</th>\n",
       "      <td>7.08</td>\n",
       "      <td>7.45</td>\n",
       "      <td>5.02</td>\n",
       "      <td>6.93</td>\n",
       "      <td>8.63</td>\n",
       "      <td>7.08</td>\n",
       "      <td>8.25</td>\n",
       "      <td>7.73</td>\n",
       "    </tr>\n",
       "    <tr>\n",
       "      <th>5</th>\n",
       "      <td>6.84</td>\n",
       "      <td>7.27</td>\n",
       "      <td>5.05</td>\n",
       "      <td>6.97</td>\n",
       "      <td>8.22</td>\n",
       "      <td>6.13</td>\n",
       "      <td>7.68</td>\n",
       "      <td>7.11</td>\n",
       "    </tr>\n",
       "    <tr>\n",
       "      <th>6</th>\n",
       "      <td>6.24</td>\n",
       "      <td>8.67</td>\n",
       "      <td>4.13</td>\n",
       "      <td>6.07</td>\n",
       "      <td>4.72</td>\n",
       "      <td>6.56</td>\n",
       "      <td>7.45</td>\n",
       "      <td>7.30</td>\n",
       "    </tr>\n",
       "    <tr>\n",
       "      <th>7</th>\n",
       "      <td>7.29</td>\n",
       "      <td>9.24</td>\n",
       "      <td>5.71</td>\n",
       "      <td>7.15</td>\n",
       "      <td>8.13</td>\n",
       "      <td>6.76</td>\n",
       "      <td>7.46</td>\n",
       "      <td>7.79</td>\n",
       "    </tr>\n",
       "    <tr>\n",
       "      <th>8</th>\n",
       "      <td>7.71</td>\n",
       "      <td>10.00</td>\n",
       "      <td>8.70</td>\n",
       "      <td>5.00</td>\n",
       "      <td>8.38</td>\n",
       "      <td>6.95</td>\n",
       "      <td>0.00</td>\n",
       "      <td>0.00</td>\n",
       "    </tr>\n",
       "    <tr>\n",
       "      <th rowspan=\"8\" valign=\"top\">2021</th>\n",
       "      <th>0</th>\n",
       "      <td>7.29</td>\n",
       "      <td>7.09</td>\n",
       "      <td>5.73</td>\n",
       "      <td>7.80</td>\n",
       "      <td>8.91</td>\n",
       "      <td>6.95</td>\n",
       "      <td>6.93</td>\n",
       "      <td>7.63</td>\n",
       "    </tr>\n",
       "    <tr>\n",
       "      <th>1</th>\n",
       "      <td>6.92</td>\n",
       "      <td>5.96</td>\n",
       "      <td>4.78</td>\n",
       "      <td>7.51</td>\n",
       "      <td>8.34</td>\n",
       "      <td>7.13</td>\n",
       "      <td>7.78</td>\n",
       "      <td>7.71</td>\n",
       "    </tr>\n",
       "    <tr>\n",
       "      <th>2</th>\n",
       "      <td>6.61</td>\n",
       "      <td>6.70</td>\n",
       "      <td>5.11</td>\n",
       "      <td>6.20</td>\n",
       "      <td>7.29</td>\n",
       "      <td>7.04</td>\n",
       "      <td>7.67</td>\n",
       "      <td>7.39</td>\n",
       "    </tr>\n",
       "    <tr>\n",
       "      <th>3</th>\n",
       "      <td>6.70</td>\n",
       "      <td>7.50</td>\n",
       "      <td>5.46</td>\n",
       "      <td>5.96</td>\n",
       "      <td>8.22</td>\n",
       "      <td>6.84</td>\n",
       "      <td>7.51</td>\n",
       "      <td>7.05</td>\n",
       "    </tr>\n",
       "    <tr>\n",
       "      <th>4</th>\n",
       "      <td>6.83</td>\n",
       "      <td>7.42</td>\n",
       "      <td>5.75</td>\n",
       "      <td>6.31</td>\n",
       "      <td>8.40</td>\n",
       "      <td>6.55</td>\n",
       "      <td>7.85</td>\n",
       "      <td>7.02</td>\n",
       "    </tr>\n",
       "    <tr>\n",
       "      <th>5</th>\n",
       "      <td>6.89</td>\n",
       "      <td>6.90</td>\n",
       "      <td>6.01</td>\n",
       "      <td>6.65</td>\n",
       "      <td>7.97</td>\n",
       "      <td>6.20</td>\n",
       "      <td>7.88</td>\n",
       "      <td>7.34</td>\n",
       "    </tr>\n",
       "    <tr>\n",
       "      <th>6</th>\n",
       "      <td>7.01</td>\n",
       "      <td>6.96</td>\n",
       "      <td>6.40</td>\n",
       "      <td>7.12</td>\n",
       "      <td>8.20</td>\n",
       "      <td>5.68</td>\n",
       "      <td>7.73</td>\n",
       "      <td>7.28</td>\n",
       "    </tr>\n",
       "    <tr>\n",
       "      <th>7</th>\n",
       "      <td>7.66</td>\n",
       "      <td>8.95</td>\n",
       "      <td>6.79</td>\n",
       "      <td>7.84</td>\n",
       "      <td>8.58</td>\n",
       "      <td>6.42</td>\n",
       "      <td>8.01</td>\n",
       "      <td>7.71</td>\n",
       "    </tr>\n",
       "    <tr>\n",
       "      <th rowspan=\"8\" valign=\"top\">2022</th>\n",
       "      <th>0</th>\n",
       "      <td>7.37</td>\n",
       "      <td>6.80</td>\n",
       "      <td>7.13</td>\n",
       "      <td>8.09</td>\n",
       "      <td>8.98</td>\n",
       "      <td>7.01</td>\n",
       "      <td>5.31</td>\n",
       "      <td>7.56</td>\n",
       "    </tr>\n",
       "    <tr>\n",
       "      <th>1</th>\n",
       "      <td>7.20</td>\n",
       "      <td>5.74</td>\n",
       "      <td>6.45</td>\n",
       "      <td>8.52</td>\n",
       "      <td>8.64</td>\n",
       "      <td>7.08</td>\n",
       "      <td>5.86</td>\n",
       "      <td>7.36</td>\n",
       "    </tr>\n",
       "    <tr>\n",
       "      <th>2</th>\n",
       "      <td>6.96</td>\n",
       "      <td>6.40</td>\n",
       "      <td>5.40</td>\n",
       "      <td>8.16</td>\n",
       "      <td>8.41</td>\n",
       "      <td>6.82</td>\n",
       "      <td>6.16</td>\n",
       "      <td>7.34</td>\n",
       "    </tr>\n",
       "    <tr>\n",
       "      <th>3</th>\n",
       "      <td>6.60</td>\n",
       "      <td>6.99</td>\n",
       "      <td>5.13</td>\n",
       "      <td>7.07</td>\n",
       "      <td>7.48</td>\n",
       "      <td>6.72</td>\n",
       "      <td>7.30</td>\n",
       "      <td>6.55</td>\n",
       "    </tr>\n",
       "    <tr>\n",
       "      <th>4</th>\n",
       "      <td>7.01</td>\n",
       "      <td>6.48</td>\n",
       "      <td>6.05</td>\n",
       "      <td>7.66</td>\n",
       "      <td>7.71</td>\n",
       "      <td>6.61</td>\n",
       "      <td>7.42</td>\n",
       "      <td>7.21</td>\n",
       "    </tr>\n",
       "    <tr>\n",
       "      <th>5</th>\n",
       "      <td>6.88</td>\n",
       "      <td>6.25</td>\n",
       "      <td>5.87</td>\n",
       "      <td>7.34</td>\n",
       "      <td>8.10</td>\n",
       "      <td>6.86</td>\n",
       "      <td>6.59</td>\n",
       "      <td>7.26</td>\n",
       "    </tr>\n",
       "    <tr>\n",
       "      <th>6</th>\n",
       "      <td>7.20</td>\n",
       "      <td>5.83</td>\n",
       "      <td>6.69</td>\n",
       "      <td>7.03</td>\n",
       "      <td>6.50</td>\n",
       "      <td>7.95</td>\n",
       "      <td>7.86</td>\n",
       "      <td>8.22</td>\n",
       "    </tr>\n",
       "    <tr>\n",
       "      <th>7</th>\n",
       "      <td>6.38</td>\n",
       "      <td>6.09</td>\n",
       "      <td>4.85</td>\n",
       "      <td>6.92</td>\n",
       "      <td>6.76</td>\n",
       "      <td>6.47</td>\n",
       "      <td>6.95</td>\n",
       "      <td>6.98</td>\n",
       "    </tr>\n",
       "  </tbody>\n",
       "</table>\n",
       "</div>"
      ]
     },
     "execution_count": 200,
     "metadata": {},
     "output_type": "execute_result"
    }
   ],
   "execution_count": 200
  },
  {
   "metadata": {
    "ExecuteTime": {
     "end_time": "2024-08-11T15:11:22.559598Z",
     "start_time": "2024-08-11T15:11:22.528856Z"
    }
   },
   "cell_type": "code",
   "source": [
    "df_media_ano_fase_turma = df.groupby(['ANO_PESQUISA', 'FASE', 'TURMA'])[['INDE', 'IAN', 'IDA', 'IEG', 'IAA', 'IPS', 'IPP','IPV']].mean().round(2)\n",
    "df_media_ano_fase_turma.columns = ['INDE_MEDIO_ANO_FASE_TURMA', 'IAN_MEDIO_ANO_FASE_TURMA', 'IDA_MEDIO_ANO_FASE_TURMA', 'IEG_MEDIO_ANO_FASE_TURMA', 'IAA_MEDIO_ANO_FASE_TURMA', 'IPS_MEDIO_ANO_FASE_TURMA', 'IPP_MEDIO_ANO_FASE_TURMA', 'IPV_MEDIO_ANO_FASE_TURMA']\n",
    "df_media_ano_fase_turma"
   ],
   "id": "b579f3c202f6ae52",
   "outputs": [
    {
     "data": {
      "text/plain": [
       "                         INDE_MEDIO_ANO_FASE_TURMA  IAN_MEDIO_ANO_FASE_TURMA  \\\n",
       "ANO_PESQUISA FASE TURMA                                                        \n",
       "2020         0    A                           7.97                      8.12   \n",
       "                  B                           8.66                      8.64   \n",
       "                  C                           8.32                      9.29   \n",
       "                  D                           7.76                      5.77   \n",
       "                  E                           7.79                      7.27   \n",
       "...                                            ...                       ...   \n",
       "2022         5    K                           7.22                      6.50   \n",
       "                  L                           7.77                      7.50   \n",
       "             6    A                           7.20                      5.83   \n",
       "             7    A                           5.90                      6.67   \n",
       "                  D                           7.27                      5.00   \n",
       "\n",
       "                         IDA_MEDIO_ANO_FASE_TURMA  IEG_MEDIO_ANO_FASE_TURMA  \\\n",
       "ANO_PESQUISA FASE TURMA                                                       \n",
       "2020         0    A                          9.19                      9.85   \n",
       "                  B                          9.30                     10.00   \n",
       "                  C                          7.11                     10.00   \n",
       "                  D                          9.17                      9.75   \n",
       "                  E                          9.18                      9.99   \n",
       "...                                           ...                       ...   \n",
       "2022         5    K                          6.34                      8.33   \n",
       "                  L                          7.06                      8.12   \n",
       "             6    A                          6.69                      7.03   \n",
       "             7    A                          4.04                      5.68   \n",
       "                  D                          6.38                      9.25   \n",
       "\n",
       "                         IAA_MEDIO_ANO_FASE_TURMA  IPS_MEDIO_ANO_FASE_TURMA  \\\n",
       "ANO_PESQUISA FASE TURMA                                                       \n",
       "2020         0    A                          8.68                      6.72   \n",
       "                  B                          9.17                      7.67   \n",
       "                  C                          9.20                      7.86   \n",
       "                  D                          8.77                      5.77   \n",
       "                  E                          8.89                      6.19   \n",
       "...                                           ...                       ...   \n",
       "2022         5    K                          8.12                      6.12   \n",
       "                  L                          8.75                      7.25   \n",
       "             6    A                          6.50                      7.95   \n",
       "             7    A                          6.08                      6.25   \n",
       "                  D                          8.02                      6.88   \n",
       "\n",
       "                         IPP_MEDIO_ANO_FASE_TURMA  IPV_MEDIO_ANO_FASE_TURMA  \n",
       "ANO_PESQUISA FASE TURMA                                                      \n",
       "2020         0    A                          4.69                      6.69  \n",
       "                  B                          7.05                      7.73  \n",
       "                  C                          7.10                      7.75  \n",
       "                  D                          5.96                      6.74  \n",
       "                  E                          4.12                      6.56  \n",
       "...                                           ...                       ...  \n",
       "2022         5    K                          7.33                      7.42  \n",
       "                  L                          8.11                      7.88  \n",
       "             6    A                          7.86                      8.22  \n",
       "             7    A                          6.92                      6.83  \n",
       "                  D                          7.01                      7.24  \n",
       "\n",
       "[201 rows x 8 columns]"
      ],
      "text/html": [
       "<div>\n",
       "<style scoped>\n",
       "    .dataframe tbody tr th:only-of-type {\n",
       "        vertical-align: middle;\n",
       "    }\n",
       "\n",
       "    .dataframe tbody tr th {\n",
       "        vertical-align: top;\n",
       "    }\n",
       "\n",
       "    .dataframe thead th {\n",
       "        text-align: right;\n",
       "    }\n",
       "</style>\n",
       "<table border=\"1\" class=\"dataframe\">\n",
       "  <thead>\n",
       "    <tr style=\"text-align: right;\">\n",
       "      <th></th>\n",
       "      <th></th>\n",
       "      <th></th>\n",
       "      <th>INDE_MEDIO_ANO_FASE_TURMA</th>\n",
       "      <th>IAN_MEDIO_ANO_FASE_TURMA</th>\n",
       "      <th>IDA_MEDIO_ANO_FASE_TURMA</th>\n",
       "      <th>IEG_MEDIO_ANO_FASE_TURMA</th>\n",
       "      <th>IAA_MEDIO_ANO_FASE_TURMA</th>\n",
       "      <th>IPS_MEDIO_ANO_FASE_TURMA</th>\n",
       "      <th>IPP_MEDIO_ANO_FASE_TURMA</th>\n",
       "      <th>IPV_MEDIO_ANO_FASE_TURMA</th>\n",
       "    </tr>\n",
       "    <tr>\n",
       "      <th>ANO_PESQUISA</th>\n",
       "      <th>FASE</th>\n",
       "      <th>TURMA</th>\n",
       "      <th></th>\n",
       "      <th></th>\n",
       "      <th></th>\n",
       "      <th></th>\n",
       "      <th></th>\n",
       "      <th></th>\n",
       "      <th></th>\n",
       "      <th></th>\n",
       "    </tr>\n",
       "  </thead>\n",
       "  <tbody>\n",
       "    <tr>\n",
       "      <th rowspan=\"5\" valign=\"top\">2020</th>\n",
       "      <th rowspan=\"5\" valign=\"top\">0</th>\n",
       "      <th>A</th>\n",
       "      <td>7.97</td>\n",
       "      <td>8.12</td>\n",
       "      <td>9.19</td>\n",
       "      <td>9.85</td>\n",
       "      <td>8.68</td>\n",
       "      <td>6.72</td>\n",
       "      <td>4.69</td>\n",
       "      <td>6.69</td>\n",
       "    </tr>\n",
       "    <tr>\n",
       "      <th>B</th>\n",
       "      <td>8.66</td>\n",
       "      <td>8.64</td>\n",
       "      <td>9.30</td>\n",
       "      <td>10.00</td>\n",
       "      <td>9.17</td>\n",
       "      <td>7.67</td>\n",
       "      <td>7.05</td>\n",
       "      <td>7.73</td>\n",
       "    </tr>\n",
       "    <tr>\n",
       "      <th>C</th>\n",
       "      <td>8.32</td>\n",
       "      <td>9.29</td>\n",
       "      <td>7.11</td>\n",
       "      <td>10.00</td>\n",
       "      <td>9.20</td>\n",
       "      <td>7.86</td>\n",
       "      <td>7.10</td>\n",
       "      <td>7.75</td>\n",
       "    </tr>\n",
       "    <tr>\n",
       "      <th>D</th>\n",
       "      <td>7.76</td>\n",
       "      <td>5.77</td>\n",
       "      <td>9.17</td>\n",
       "      <td>9.75</td>\n",
       "      <td>8.77</td>\n",
       "      <td>5.77</td>\n",
       "      <td>5.96</td>\n",
       "      <td>6.74</td>\n",
       "    </tr>\n",
       "    <tr>\n",
       "      <th>E</th>\n",
       "      <td>7.79</td>\n",
       "      <td>7.27</td>\n",
       "      <td>9.18</td>\n",
       "      <td>9.99</td>\n",
       "      <td>8.89</td>\n",
       "      <td>6.19</td>\n",
       "      <td>4.12</td>\n",
       "      <td>6.56</td>\n",
       "    </tr>\n",
       "    <tr>\n",
       "      <th>...</th>\n",
       "      <th>...</th>\n",
       "      <th>...</th>\n",
       "      <td>...</td>\n",
       "      <td>...</td>\n",
       "      <td>...</td>\n",
       "      <td>...</td>\n",
       "      <td>...</td>\n",
       "      <td>...</td>\n",
       "      <td>...</td>\n",
       "      <td>...</td>\n",
       "    </tr>\n",
       "    <tr>\n",
       "      <th rowspan=\"5\" valign=\"top\">2022</th>\n",
       "      <th rowspan=\"2\" valign=\"top\">5</th>\n",
       "      <th>K</th>\n",
       "      <td>7.22</td>\n",
       "      <td>6.50</td>\n",
       "      <td>6.34</td>\n",
       "      <td>8.33</td>\n",
       "      <td>8.12</td>\n",
       "      <td>6.12</td>\n",
       "      <td>7.33</td>\n",
       "      <td>7.42</td>\n",
       "    </tr>\n",
       "    <tr>\n",
       "      <th>L</th>\n",
       "      <td>7.77</td>\n",
       "      <td>7.50</td>\n",
       "      <td>7.06</td>\n",
       "      <td>8.12</td>\n",
       "      <td>8.75</td>\n",
       "      <td>7.25</td>\n",
       "      <td>8.11</td>\n",
       "      <td>7.88</td>\n",
       "    </tr>\n",
       "    <tr>\n",
       "      <th>6</th>\n",
       "      <th>A</th>\n",
       "      <td>7.20</td>\n",
       "      <td>5.83</td>\n",
       "      <td>6.69</td>\n",
       "      <td>7.03</td>\n",
       "      <td>6.50</td>\n",
       "      <td>7.95</td>\n",
       "      <td>7.86</td>\n",
       "      <td>8.22</td>\n",
       "    </tr>\n",
       "    <tr>\n",
       "      <th rowspan=\"2\" valign=\"top\">7</th>\n",
       "      <th>A</th>\n",
       "      <td>5.90</td>\n",
       "      <td>6.67</td>\n",
       "      <td>4.04</td>\n",
       "      <td>5.68</td>\n",
       "      <td>6.08</td>\n",
       "      <td>6.25</td>\n",
       "      <td>6.92</td>\n",
       "      <td>6.83</td>\n",
       "    </tr>\n",
       "    <tr>\n",
       "      <th>D</th>\n",
       "      <td>7.27</td>\n",
       "      <td>5.00</td>\n",
       "      <td>6.38</td>\n",
       "      <td>9.25</td>\n",
       "      <td>8.02</td>\n",
       "      <td>6.88</td>\n",
       "      <td>7.01</td>\n",
       "      <td>7.24</td>\n",
       "    </tr>\n",
       "  </tbody>\n",
       "</table>\n",
       "<p>201 rows × 8 columns</p>\n",
       "</div>"
      ]
     },
     "execution_count": 201,
     "metadata": {},
     "output_type": "execute_result"
    }
   ],
   "execution_count": 201
  },
  {
   "metadata": {
    "ExecuteTime": {
     "end_time": "2024-08-11T15:11:22.724406Z",
     "start_time": "2024-08-11T15:11:22.685612Z"
    }
   },
   "cell_type": "code",
   "source": [
    "join_media_ano_fase = pd.merge(\n",
    "    left=df,\n",
    "    right=df_media_ano_fase,\n",
    "    how='left',\n",
    "    left_on=['ANO_PESQUISA', 'FASE'],\n",
    "    right_on=['ANO_PESQUISA', 'FASE'],\n",
    ")\n",
    "join_media_ano_fase"
   ],
   "id": "521580c2f4fed4b6",
   "outputs": [
    {
     "data": {
      "text/plain": [
       "      ANO_PESQUISA  ID_ALUNO        NOME  FASE TURMA PONTO_VIRADA  INDE  \\\n",
       "0             2020         1     ALUNO-1     2     H          Não  7.88   \n",
       "1             2020         3     ALUNO-3     3     H          Não  7.86   \n",
       "2             2020         4     ALUNO-4     1     D          Não  5.08   \n",
       "3             2020         5     ALUNO-5     2     M          Não  8.08   \n",
       "4             2020         8     ALUNO-8     4     L          Sim  8.38   \n",
       "...            ...       ...         ...   ...   ...          ...   ...   \n",
       "2270          2022      1342  ALUNO-1342     2     K          Não  8.15   \n",
       "2271          2022      1343  ALUNO-1343     2     K          Não  5.67   \n",
       "2272          2022      1346  ALUNO-1346     0     U          Sim  8.14   \n",
       "2273          2022      1348  ALUNO-1348     4     P          Não  6.75   \n",
       "2274          2022      1349  ALUNO-1349     3     M          Não  6.40   \n",
       "\n",
       "         PEDRA   IAA   IEG   IPS   IDA   IPP   IPV   IAN  INDE_MEDIO_ANO_FASE  \\\n",
       "0     Ametista  8.50  8.70  7.50  7.00  5.94  7.75  10.0                 7.11   \n",
       "1     Ametista  7.92  8.90  7.50  5.50  8.12  8.11  10.0                 7.34   \n",
       "2      Quartzo  8.00  4.10  6.88  0.00  7.19  7.75   5.0                 7.42   \n",
       "3     Ametista  7.50  8.00  7.50  7.50  8.44  8.17  10.0                 7.11   \n",
       "4     Ametista  8.33  9.90  4.38  7.33  8.75  8.94  10.0                 7.08   \n",
       "...        ...   ...   ...   ...   ...   ...   ...   ...                  ...   \n",
       "2270   Topázio  7.92  9.67  7.50  7.75  6.25  7.50  10.0                 6.96   \n",
       "2271   Quartzo  7.42  6.47  6.25  2.00  6.25  7.44   5.0                 6.96   \n",
       "2272   Topázio  9.00  9.03  7.50  9.00  5.62  9.08   5.0                 7.37   \n",
       "2273     Ágata  8.33  9.18  5.62  5.90  6.72  5.83   5.0                 7.01   \n",
       "2274     Ágata  7.92  7.54  7.50  4.50  7.50  6.00   5.0                 6.60   \n",
       "\n",
       "      IAN_MEDIO_ANO_FASE  IDA_MEDIO_ANO_FASE  IEG_MEDIO_ANO_FASE  \\\n",
       "0                   7.34                5.13                7.92   \n",
       "1                   7.81                6.40                7.41   \n",
       "2                   6.34                7.07                7.83   \n",
       "3                   7.34                5.13                7.92   \n",
       "4                   7.45                5.02                6.93   \n",
       "...                  ...                 ...                 ...   \n",
       "2270                6.40                5.40                8.16   \n",
       "2271                6.40                5.40                8.16   \n",
       "2272                6.80                7.13                8.09   \n",
       "2273                6.48                6.05                7.66   \n",
       "2274                6.99                5.13                7.07   \n",
       "\n",
       "      IAA_MEDIO_ANO_FASE  IPS_MEDIO_ANO_FASE  IPP_MEDIO_ANO_FASE  \\\n",
       "0                   8.26                6.73                7.37   \n",
       "1                   8.55                6.60                7.91   \n",
       "2                   8.72                6.89                7.13   \n",
       "3                   8.26                6.73                7.37   \n",
       "4                   8.63                7.08                8.25   \n",
       "...                  ...                 ...                 ...   \n",
       "2270                8.41                6.82                6.16   \n",
       "2271                8.41                6.82                6.16   \n",
       "2272                8.98                7.01                5.31   \n",
       "2273                7.71                6.61                7.42   \n",
       "2274                7.48                6.72                7.30   \n",
       "\n",
       "      IPV_MEDIO_ANO_FASE  \n",
       "0                   7.67  \n",
       "1                   7.47  \n",
       "2                   7.68  \n",
       "3                   7.67  \n",
       "4                   7.73  \n",
       "...                  ...  \n",
       "2270                7.34  \n",
       "2271                7.34  \n",
       "2272                7.56  \n",
       "2273                7.21  \n",
       "2274                6.55  \n",
       "\n",
       "[2275 rows x 23 columns]"
      ],
      "text/html": [
       "<div>\n",
       "<style scoped>\n",
       "    .dataframe tbody tr th:only-of-type {\n",
       "        vertical-align: middle;\n",
       "    }\n",
       "\n",
       "    .dataframe tbody tr th {\n",
       "        vertical-align: top;\n",
       "    }\n",
       "\n",
       "    .dataframe thead th {\n",
       "        text-align: right;\n",
       "    }\n",
       "</style>\n",
       "<table border=\"1\" class=\"dataframe\">\n",
       "  <thead>\n",
       "    <tr style=\"text-align: right;\">\n",
       "      <th></th>\n",
       "      <th>ANO_PESQUISA</th>\n",
       "      <th>ID_ALUNO</th>\n",
       "      <th>NOME</th>\n",
       "      <th>FASE</th>\n",
       "      <th>TURMA</th>\n",
       "      <th>PONTO_VIRADA</th>\n",
       "      <th>INDE</th>\n",
       "      <th>PEDRA</th>\n",
       "      <th>IAA</th>\n",
       "      <th>IEG</th>\n",
       "      <th>IPS</th>\n",
       "      <th>IDA</th>\n",
       "      <th>IPP</th>\n",
       "      <th>IPV</th>\n",
       "      <th>IAN</th>\n",
       "      <th>INDE_MEDIO_ANO_FASE</th>\n",
       "      <th>IAN_MEDIO_ANO_FASE</th>\n",
       "      <th>IDA_MEDIO_ANO_FASE</th>\n",
       "      <th>IEG_MEDIO_ANO_FASE</th>\n",
       "      <th>IAA_MEDIO_ANO_FASE</th>\n",
       "      <th>IPS_MEDIO_ANO_FASE</th>\n",
       "      <th>IPP_MEDIO_ANO_FASE</th>\n",
       "      <th>IPV_MEDIO_ANO_FASE</th>\n",
       "    </tr>\n",
       "  </thead>\n",
       "  <tbody>\n",
       "    <tr>\n",
       "      <th>0</th>\n",
       "      <td>2020</td>\n",
       "      <td>1</td>\n",
       "      <td>ALUNO-1</td>\n",
       "      <td>2</td>\n",
       "      <td>H</td>\n",
       "      <td>Não</td>\n",
       "      <td>7.88</td>\n",
       "      <td>Ametista</td>\n",
       "      <td>8.50</td>\n",
       "      <td>8.70</td>\n",
       "      <td>7.50</td>\n",
       "      <td>7.00</td>\n",
       "      <td>5.94</td>\n",
       "      <td>7.75</td>\n",
       "      <td>10.0</td>\n",
       "      <td>7.11</td>\n",
       "      <td>7.34</td>\n",
       "      <td>5.13</td>\n",
       "      <td>7.92</td>\n",
       "      <td>8.26</td>\n",
       "      <td>6.73</td>\n",
       "      <td>7.37</td>\n",
       "      <td>7.67</td>\n",
       "    </tr>\n",
       "    <tr>\n",
       "      <th>1</th>\n",
       "      <td>2020</td>\n",
       "      <td>3</td>\n",
       "      <td>ALUNO-3</td>\n",
       "      <td>3</td>\n",
       "      <td>H</td>\n",
       "      <td>Não</td>\n",
       "      <td>7.86</td>\n",
       "      <td>Ametista</td>\n",
       "      <td>7.92</td>\n",
       "      <td>8.90</td>\n",
       "      <td>7.50</td>\n",
       "      <td>5.50</td>\n",
       "      <td>8.12</td>\n",
       "      <td>8.11</td>\n",
       "      <td>10.0</td>\n",
       "      <td>7.34</td>\n",
       "      <td>7.81</td>\n",
       "      <td>6.40</td>\n",
       "      <td>7.41</td>\n",
       "      <td>8.55</td>\n",
       "      <td>6.60</td>\n",
       "      <td>7.91</td>\n",
       "      <td>7.47</td>\n",
       "    </tr>\n",
       "    <tr>\n",
       "      <th>2</th>\n",
       "      <td>2020</td>\n",
       "      <td>4</td>\n",
       "      <td>ALUNO-4</td>\n",
       "      <td>1</td>\n",
       "      <td>D</td>\n",
       "      <td>Não</td>\n",
       "      <td>5.08</td>\n",
       "      <td>Quartzo</td>\n",
       "      <td>8.00</td>\n",
       "      <td>4.10</td>\n",
       "      <td>6.88</td>\n",
       "      <td>0.00</td>\n",
       "      <td>7.19</td>\n",
       "      <td>7.75</td>\n",
       "      <td>5.0</td>\n",
       "      <td>7.42</td>\n",
       "      <td>6.34</td>\n",
       "      <td>7.07</td>\n",
       "      <td>7.83</td>\n",
       "      <td>8.72</td>\n",
       "      <td>6.89</td>\n",
       "      <td>7.13</td>\n",
       "      <td>7.68</td>\n",
       "    </tr>\n",
       "    <tr>\n",
       "      <th>3</th>\n",
       "      <td>2020</td>\n",
       "      <td>5</td>\n",
       "      <td>ALUNO-5</td>\n",
       "      <td>2</td>\n",
       "      <td>M</td>\n",
       "      <td>Não</td>\n",
       "      <td>8.08</td>\n",
       "      <td>Ametista</td>\n",
       "      <td>7.50</td>\n",
       "      <td>8.00</td>\n",
       "      <td>7.50</td>\n",
       "      <td>7.50</td>\n",
       "      <td>8.44</td>\n",
       "      <td>8.17</td>\n",
       "      <td>10.0</td>\n",
       "      <td>7.11</td>\n",
       "      <td>7.34</td>\n",
       "      <td>5.13</td>\n",
       "      <td>7.92</td>\n",
       "      <td>8.26</td>\n",
       "      <td>6.73</td>\n",
       "      <td>7.37</td>\n",
       "      <td>7.67</td>\n",
       "    </tr>\n",
       "    <tr>\n",
       "      <th>4</th>\n",
       "      <td>2020</td>\n",
       "      <td>8</td>\n",
       "      <td>ALUNO-8</td>\n",
       "      <td>4</td>\n",
       "      <td>L</td>\n",
       "      <td>Sim</td>\n",
       "      <td>8.38</td>\n",
       "      <td>Ametista</td>\n",
       "      <td>8.33</td>\n",
       "      <td>9.90</td>\n",
       "      <td>4.38</td>\n",
       "      <td>7.33</td>\n",
       "      <td>8.75</td>\n",
       "      <td>8.94</td>\n",
       "      <td>10.0</td>\n",
       "      <td>7.08</td>\n",
       "      <td>7.45</td>\n",
       "      <td>5.02</td>\n",
       "      <td>6.93</td>\n",
       "      <td>8.63</td>\n",
       "      <td>7.08</td>\n",
       "      <td>8.25</td>\n",
       "      <td>7.73</td>\n",
       "    </tr>\n",
       "    <tr>\n",
       "      <th>...</th>\n",
       "      <td>...</td>\n",
       "      <td>...</td>\n",
       "      <td>...</td>\n",
       "      <td>...</td>\n",
       "      <td>...</td>\n",
       "      <td>...</td>\n",
       "      <td>...</td>\n",
       "      <td>...</td>\n",
       "      <td>...</td>\n",
       "      <td>...</td>\n",
       "      <td>...</td>\n",
       "      <td>...</td>\n",
       "      <td>...</td>\n",
       "      <td>...</td>\n",
       "      <td>...</td>\n",
       "      <td>...</td>\n",
       "      <td>...</td>\n",
       "      <td>...</td>\n",
       "      <td>...</td>\n",
       "      <td>...</td>\n",
       "      <td>...</td>\n",
       "      <td>...</td>\n",
       "      <td>...</td>\n",
       "    </tr>\n",
       "    <tr>\n",
       "      <th>2270</th>\n",
       "      <td>2022</td>\n",
       "      <td>1342</td>\n",
       "      <td>ALUNO-1342</td>\n",
       "      <td>2</td>\n",
       "      <td>K</td>\n",
       "      <td>Não</td>\n",
       "      <td>8.15</td>\n",
       "      <td>Topázio</td>\n",
       "      <td>7.92</td>\n",
       "      <td>9.67</td>\n",
       "      <td>7.50</td>\n",
       "      <td>7.75</td>\n",
       "      <td>6.25</td>\n",
       "      <td>7.50</td>\n",
       "      <td>10.0</td>\n",
       "      <td>6.96</td>\n",
       "      <td>6.40</td>\n",
       "      <td>5.40</td>\n",
       "      <td>8.16</td>\n",
       "      <td>8.41</td>\n",
       "      <td>6.82</td>\n",
       "      <td>6.16</td>\n",
       "      <td>7.34</td>\n",
       "    </tr>\n",
       "    <tr>\n",
       "      <th>2271</th>\n",
       "      <td>2022</td>\n",
       "      <td>1343</td>\n",
       "      <td>ALUNO-1343</td>\n",
       "      <td>2</td>\n",
       "      <td>K</td>\n",
       "      <td>Não</td>\n",
       "      <td>5.67</td>\n",
       "      <td>Quartzo</td>\n",
       "      <td>7.42</td>\n",
       "      <td>6.47</td>\n",
       "      <td>6.25</td>\n",
       "      <td>2.00</td>\n",
       "      <td>6.25</td>\n",
       "      <td>7.44</td>\n",
       "      <td>5.0</td>\n",
       "      <td>6.96</td>\n",
       "      <td>6.40</td>\n",
       "      <td>5.40</td>\n",
       "      <td>8.16</td>\n",
       "      <td>8.41</td>\n",
       "      <td>6.82</td>\n",
       "      <td>6.16</td>\n",
       "      <td>7.34</td>\n",
       "    </tr>\n",
       "    <tr>\n",
       "      <th>2272</th>\n",
       "      <td>2022</td>\n",
       "      <td>1346</td>\n",
       "      <td>ALUNO-1346</td>\n",
       "      <td>0</td>\n",
       "      <td>U</td>\n",
       "      <td>Sim</td>\n",
       "      <td>8.14</td>\n",
       "      <td>Topázio</td>\n",
       "      <td>9.00</td>\n",
       "      <td>9.03</td>\n",
       "      <td>7.50</td>\n",
       "      <td>9.00</td>\n",
       "      <td>5.62</td>\n",
       "      <td>9.08</td>\n",
       "      <td>5.0</td>\n",
       "      <td>7.37</td>\n",
       "      <td>6.80</td>\n",
       "      <td>7.13</td>\n",
       "      <td>8.09</td>\n",
       "      <td>8.98</td>\n",
       "      <td>7.01</td>\n",
       "      <td>5.31</td>\n",
       "      <td>7.56</td>\n",
       "    </tr>\n",
       "    <tr>\n",
       "      <th>2273</th>\n",
       "      <td>2022</td>\n",
       "      <td>1348</td>\n",
       "      <td>ALUNO-1348</td>\n",
       "      <td>4</td>\n",
       "      <td>P</td>\n",
       "      <td>Não</td>\n",
       "      <td>6.75</td>\n",
       "      <td>Ágata</td>\n",
       "      <td>8.33</td>\n",
       "      <td>9.18</td>\n",
       "      <td>5.62</td>\n",
       "      <td>5.90</td>\n",
       "      <td>6.72</td>\n",
       "      <td>5.83</td>\n",
       "      <td>5.0</td>\n",
       "      <td>7.01</td>\n",
       "      <td>6.48</td>\n",
       "      <td>6.05</td>\n",
       "      <td>7.66</td>\n",
       "      <td>7.71</td>\n",
       "      <td>6.61</td>\n",
       "      <td>7.42</td>\n",
       "      <td>7.21</td>\n",
       "    </tr>\n",
       "    <tr>\n",
       "      <th>2274</th>\n",
       "      <td>2022</td>\n",
       "      <td>1349</td>\n",
       "      <td>ALUNO-1349</td>\n",
       "      <td>3</td>\n",
       "      <td>M</td>\n",
       "      <td>Não</td>\n",
       "      <td>6.40</td>\n",
       "      <td>Ágata</td>\n",
       "      <td>7.92</td>\n",
       "      <td>7.54</td>\n",
       "      <td>7.50</td>\n",
       "      <td>4.50</td>\n",
       "      <td>7.50</td>\n",
       "      <td>6.00</td>\n",
       "      <td>5.0</td>\n",
       "      <td>6.60</td>\n",
       "      <td>6.99</td>\n",
       "      <td>5.13</td>\n",
       "      <td>7.07</td>\n",
       "      <td>7.48</td>\n",
       "      <td>6.72</td>\n",
       "      <td>7.30</td>\n",
       "      <td>6.55</td>\n",
       "    </tr>\n",
       "  </tbody>\n",
       "</table>\n",
       "<p>2275 rows × 23 columns</p>\n",
       "</div>"
      ]
     },
     "execution_count": 202,
     "metadata": {},
     "output_type": "execute_result"
    }
   ],
   "execution_count": 202
  },
  {
   "metadata": {
    "ExecuteTime": {
     "end_time": "2024-08-11T15:11:23.185654Z",
     "start_time": "2024-08-11T15:11:23.118432Z"
    }
   },
   "cell_type": "code",
   "source": [
    "join_media_ano_fase_turma = pd.merge(\n",
    "    left=join_media_ano_fase,\n",
    "    right=df_media_ano_fase_turma,\n",
    "    how='left',\n",
    "    left_on=['ANO_PESQUISA', 'FASE','TURMA'],\n",
    "    right_on=['ANO_PESQUISA', 'FASE', 'TURMA'],\n",
    ")\n",
    "join_media_ano_fase_turma"
   ],
   "id": "89acf5c9529d9f5d",
   "outputs": [
    {
     "data": {
      "text/plain": [
       "      ANO_PESQUISA  ID_ALUNO        NOME  FASE TURMA PONTO_VIRADA  INDE  \\\n",
       "0             2020         1     ALUNO-1     2     H          Não  7.88   \n",
       "1             2020         3     ALUNO-3     3     H          Não  7.86   \n",
       "2             2020         4     ALUNO-4     1     D          Não  5.08   \n",
       "3             2020         5     ALUNO-5     2     M          Não  8.08   \n",
       "4             2020         8     ALUNO-8     4     L          Sim  8.38   \n",
       "...            ...       ...         ...   ...   ...          ...   ...   \n",
       "2270          2022      1342  ALUNO-1342     2     K          Não  8.15   \n",
       "2271          2022      1343  ALUNO-1343     2     K          Não  5.67   \n",
       "2272          2022      1346  ALUNO-1346     0     U          Sim  8.14   \n",
       "2273          2022      1348  ALUNO-1348     4     P          Não  6.75   \n",
       "2274          2022      1349  ALUNO-1349     3     M          Não  6.40   \n",
       "\n",
       "         PEDRA   IAA   IEG   IPS   IDA   IPP   IPV   IAN  INDE_MEDIO_ANO_FASE  \\\n",
       "0     Ametista  8.50  8.70  7.50  7.00  5.94  7.75  10.0                 7.11   \n",
       "1     Ametista  7.92  8.90  7.50  5.50  8.12  8.11  10.0                 7.34   \n",
       "2      Quartzo  8.00  4.10  6.88  0.00  7.19  7.75   5.0                 7.42   \n",
       "3     Ametista  7.50  8.00  7.50  7.50  8.44  8.17  10.0                 7.11   \n",
       "4     Ametista  8.33  9.90  4.38  7.33  8.75  8.94  10.0                 7.08   \n",
       "...        ...   ...   ...   ...   ...   ...   ...   ...                  ...   \n",
       "2270   Topázio  7.92  9.67  7.50  7.75  6.25  7.50  10.0                 6.96   \n",
       "2271   Quartzo  7.42  6.47  6.25  2.00  6.25  7.44   5.0                 6.96   \n",
       "2272   Topázio  9.00  9.03  7.50  9.00  5.62  9.08   5.0                 7.37   \n",
       "2273     Ágata  8.33  9.18  5.62  5.90  6.72  5.83   5.0                 7.01   \n",
       "2274     Ágata  7.92  7.54  7.50  4.50  7.50  6.00   5.0                 6.60   \n",
       "\n",
       "      IAN_MEDIO_ANO_FASE  IDA_MEDIO_ANO_FASE  IEG_MEDIO_ANO_FASE  \\\n",
       "0                   7.34                5.13                7.92   \n",
       "1                   7.81                6.40                7.41   \n",
       "2                   6.34                7.07                7.83   \n",
       "3                   7.34                5.13                7.92   \n",
       "4                   7.45                5.02                6.93   \n",
       "...                  ...                 ...                 ...   \n",
       "2270                6.40                5.40                8.16   \n",
       "2271                6.40                5.40                8.16   \n",
       "2272                6.80                7.13                8.09   \n",
       "2273                6.48                6.05                7.66   \n",
       "2274                6.99                5.13                7.07   \n",
       "\n",
       "      IAA_MEDIO_ANO_FASE  IPS_MEDIO_ANO_FASE  IPP_MEDIO_ANO_FASE  \\\n",
       "0                   8.26                6.73                7.37   \n",
       "1                   8.55                6.60                7.91   \n",
       "2                   8.72                6.89                7.13   \n",
       "3                   8.26                6.73                7.37   \n",
       "4                   8.63                7.08                8.25   \n",
       "...                  ...                 ...                 ...   \n",
       "2270                8.41                6.82                6.16   \n",
       "2271                8.41                6.82                6.16   \n",
       "2272                8.98                7.01                5.31   \n",
       "2273                7.71                6.61                7.42   \n",
       "2274                7.48                6.72                7.30   \n",
       "\n",
       "      IPV_MEDIO_ANO_FASE  INDE_MEDIO_ANO_FASE_TURMA  IAN_MEDIO_ANO_FASE_TURMA  \\\n",
       "0                   7.67                       6.75                      7.08   \n",
       "1                   7.47                       6.23                      7.22   \n",
       "2                   7.68                       7.45                      5.67   \n",
       "3                   7.67                       6.75                      7.35   \n",
       "4                   7.73                       6.71                      8.21   \n",
       "...                  ...                        ...                       ...   \n",
       "2270                7.34                       6.71                      5.77   \n",
       "2271                7.34                       6.71                      5.77   \n",
       "2272                7.56                       7.68                      6.11   \n",
       "2273                7.21                       6.98                      5.83   \n",
       "2274                6.55                       6.31                      6.41   \n",
       "\n",
       "      IDA_MEDIO_ANO_FASE_TURMA  IEG_MEDIO_ANO_FASE_TURMA  \\\n",
       "0                         3.98                      7.72   \n",
       "1                         5.09                      5.57   \n",
       "2                         7.55                      8.01   \n",
       "3                         4.18                      7.35   \n",
       "4                         4.36                      6.29   \n",
       "...                        ...                       ...   \n",
       "2270                      4.55                      8.30   \n",
       "2271                      4.55                      8.30   \n",
       "2272                      7.40                      8.66   \n",
       "2273                      5.87                      8.07   \n",
       "2274                      4.94                      6.70   \n",
       "\n",
       "      IAA_MEDIO_ANO_FASE_TURMA  IPS_MEDIO_ANO_FASE_TURMA  \\\n",
       "0                         8.65                      6.15   \n",
       "1                         8.66                      5.97   \n",
       "2                         8.66                      6.79   \n",
       "3                         7.93                      6.47   \n",
       "4                         8.45                      6.43   \n",
       "...                        ...                       ...   \n",
       "2270                      8.47                      6.68   \n",
       "2271                      8.47                      6.68   \n",
       "2272                      9.56                      7.50   \n",
       "2273                      8.24                      6.74   \n",
       "2274                      7.89                      6.88   \n",
       "\n",
       "      IPP_MEDIO_ANO_FASE_TURMA  IPV_MEDIO_ANO_FASE_TURMA  \n",
       "0                         6.04                      8.10  \n",
       "1                         7.13                      6.02  \n",
       "2                         6.79                      7.76  \n",
       "3                         7.45                      7.65  \n",
       "4                         8.17                      7.29  \n",
       "...                        ...                       ...  \n",
       "2270                      6.14                      7.19  \n",
       "2271                      6.14                      7.19  \n",
       "2272                      5.55                      7.96  \n",
       "2273                      7.19                      6.93  \n",
       "2274                      6.99                      5.81  \n",
       "\n",
       "[2275 rows x 31 columns]"
      ],
      "text/html": [
       "<div>\n",
       "<style scoped>\n",
       "    .dataframe tbody tr th:only-of-type {\n",
       "        vertical-align: middle;\n",
       "    }\n",
       "\n",
       "    .dataframe tbody tr th {\n",
       "        vertical-align: top;\n",
       "    }\n",
       "\n",
       "    .dataframe thead th {\n",
       "        text-align: right;\n",
       "    }\n",
       "</style>\n",
       "<table border=\"1\" class=\"dataframe\">\n",
       "  <thead>\n",
       "    <tr style=\"text-align: right;\">\n",
       "      <th></th>\n",
       "      <th>ANO_PESQUISA</th>\n",
       "      <th>ID_ALUNO</th>\n",
       "      <th>NOME</th>\n",
       "      <th>FASE</th>\n",
       "      <th>TURMA</th>\n",
       "      <th>PONTO_VIRADA</th>\n",
       "      <th>INDE</th>\n",
       "      <th>PEDRA</th>\n",
       "      <th>IAA</th>\n",
       "      <th>IEG</th>\n",
       "      <th>IPS</th>\n",
       "      <th>IDA</th>\n",
       "      <th>IPP</th>\n",
       "      <th>IPV</th>\n",
       "      <th>IAN</th>\n",
       "      <th>INDE_MEDIO_ANO_FASE</th>\n",
       "      <th>IAN_MEDIO_ANO_FASE</th>\n",
       "      <th>IDA_MEDIO_ANO_FASE</th>\n",
       "      <th>IEG_MEDIO_ANO_FASE</th>\n",
       "      <th>IAA_MEDIO_ANO_FASE</th>\n",
       "      <th>IPS_MEDIO_ANO_FASE</th>\n",
       "      <th>IPP_MEDIO_ANO_FASE</th>\n",
       "      <th>IPV_MEDIO_ANO_FASE</th>\n",
       "      <th>INDE_MEDIO_ANO_FASE_TURMA</th>\n",
       "      <th>IAN_MEDIO_ANO_FASE_TURMA</th>\n",
       "      <th>IDA_MEDIO_ANO_FASE_TURMA</th>\n",
       "      <th>IEG_MEDIO_ANO_FASE_TURMA</th>\n",
       "      <th>IAA_MEDIO_ANO_FASE_TURMA</th>\n",
       "      <th>IPS_MEDIO_ANO_FASE_TURMA</th>\n",
       "      <th>IPP_MEDIO_ANO_FASE_TURMA</th>\n",
       "      <th>IPV_MEDIO_ANO_FASE_TURMA</th>\n",
       "    </tr>\n",
       "  </thead>\n",
       "  <tbody>\n",
       "    <tr>\n",
       "      <th>0</th>\n",
       "      <td>2020</td>\n",
       "      <td>1</td>\n",
       "      <td>ALUNO-1</td>\n",
       "      <td>2</td>\n",
       "      <td>H</td>\n",
       "      <td>Não</td>\n",
       "      <td>7.88</td>\n",
       "      <td>Ametista</td>\n",
       "      <td>8.50</td>\n",
       "      <td>8.70</td>\n",
       "      <td>7.50</td>\n",
       "      <td>7.00</td>\n",
       "      <td>5.94</td>\n",
       "      <td>7.75</td>\n",
       "      <td>10.0</td>\n",
       "      <td>7.11</td>\n",
       "      <td>7.34</td>\n",
       "      <td>5.13</td>\n",
       "      <td>7.92</td>\n",
       "      <td>8.26</td>\n",
       "      <td>6.73</td>\n",
       "      <td>7.37</td>\n",
       "      <td>7.67</td>\n",
       "      <td>6.75</td>\n",
       "      <td>7.08</td>\n",
       "      <td>3.98</td>\n",
       "      <td>7.72</td>\n",
       "      <td>8.65</td>\n",
       "      <td>6.15</td>\n",
       "      <td>6.04</td>\n",
       "      <td>8.10</td>\n",
       "    </tr>\n",
       "    <tr>\n",
       "      <th>1</th>\n",
       "      <td>2020</td>\n",
       "      <td>3</td>\n",
       "      <td>ALUNO-3</td>\n",
       "      <td>3</td>\n",
       "      <td>H</td>\n",
       "      <td>Não</td>\n",
       "      <td>7.86</td>\n",
       "      <td>Ametista</td>\n",
       "      <td>7.92</td>\n",
       "      <td>8.90</td>\n",
       "      <td>7.50</td>\n",
       "      <td>5.50</td>\n",
       "      <td>8.12</td>\n",
       "      <td>8.11</td>\n",
       "      <td>10.0</td>\n",
       "      <td>7.34</td>\n",
       "      <td>7.81</td>\n",
       "      <td>6.40</td>\n",
       "      <td>7.41</td>\n",
       "      <td>8.55</td>\n",
       "      <td>6.60</td>\n",
       "      <td>7.91</td>\n",
       "      <td>7.47</td>\n",
       "      <td>6.23</td>\n",
       "      <td>7.22</td>\n",
       "      <td>5.09</td>\n",
       "      <td>5.57</td>\n",
       "      <td>8.66</td>\n",
       "      <td>5.97</td>\n",
       "      <td>7.13</td>\n",
       "      <td>6.02</td>\n",
       "    </tr>\n",
       "    <tr>\n",
       "      <th>2</th>\n",
       "      <td>2020</td>\n",
       "      <td>4</td>\n",
       "      <td>ALUNO-4</td>\n",
       "      <td>1</td>\n",
       "      <td>D</td>\n",
       "      <td>Não</td>\n",
       "      <td>5.08</td>\n",
       "      <td>Quartzo</td>\n",
       "      <td>8.00</td>\n",
       "      <td>4.10</td>\n",
       "      <td>6.88</td>\n",
       "      <td>0.00</td>\n",
       "      <td>7.19</td>\n",
       "      <td>7.75</td>\n",
       "      <td>5.0</td>\n",
       "      <td>7.42</td>\n",
       "      <td>6.34</td>\n",
       "      <td>7.07</td>\n",
       "      <td>7.83</td>\n",
       "      <td>8.72</td>\n",
       "      <td>6.89</td>\n",
       "      <td>7.13</td>\n",
       "      <td>7.68</td>\n",
       "      <td>7.45</td>\n",
       "      <td>5.67</td>\n",
       "      <td>7.55</td>\n",
       "      <td>8.01</td>\n",
       "      <td>8.66</td>\n",
       "      <td>6.79</td>\n",
       "      <td>6.79</td>\n",
       "      <td>7.76</td>\n",
       "    </tr>\n",
       "    <tr>\n",
       "      <th>3</th>\n",
       "      <td>2020</td>\n",
       "      <td>5</td>\n",
       "      <td>ALUNO-5</td>\n",
       "      <td>2</td>\n",
       "      <td>M</td>\n",
       "      <td>Não</td>\n",
       "      <td>8.08</td>\n",
       "      <td>Ametista</td>\n",
       "      <td>7.50</td>\n",
       "      <td>8.00</td>\n",
       "      <td>7.50</td>\n",
       "      <td>7.50</td>\n",
       "      <td>8.44</td>\n",
       "      <td>8.17</td>\n",
       "      <td>10.0</td>\n",
       "      <td>7.11</td>\n",
       "      <td>7.34</td>\n",
       "      <td>5.13</td>\n",
       "      <td>7.92</td>\n",
       "      <td>8.26</td>\n",
       "      <td>6.73</td>\n",
       "      <td>7.37</td>\n",
       "      <td>7.67</td>\n",
       "      <td>6.75</td>\n",
       "      <td>7.35</td>\n",
       "      <td>4.18</td>\n",
       "      <td>7.35</td>\n",
       "      <td>7.93</td>\n",
       "      <td>6.47</td>\n",
       "      <td>7.45</td>\n",
       "      <td>7.65</td>\n",
       "    </tr>\n",
       "    <tr>\n",
       "      <th>4</th>\n",
       "      <td>2020</td>\n",
       "      <td>8</td>\n",
       "      <td>ALUNO-8</td>\n",
       "      <td>4</td>\n",
       "      <td>L</td>\n",
       "      <td>Sim</td>\n",
       "      <td>8.38</td>\n",
       "      <td>Ametista</td>\n",
       "      <td>8.33</td>\n",
       "      <td>9.90</td>\n",
       "      <td>4.38</td>\n",
       "      <td>7.33</td>\n",
       "      <td>8.75</td>\n",
       "      <td>8.94</td>\n",
       "      <td>10.0</td>\n",
       "      <td>7.08</td>\n",
       "      <td>7.45</td>\n",
       "      <td>5.02</td>\n",
       "      <td>6.93</td>\n",
       "      <td>8.63</td>\n",
       "      <td>7.08</td>\n",
       "      <td>8.25</td>\n",
       "      <td>7.73</td>\n",
       "      <td>6.71</td>\n",
       "      <td>8.21</td>\n",
       "      <td>4.36</td>\n",
       "      <td>6.29</td>\n",
       "      <td>8.45</td>\n",
       "      <td>6.43</td>\n",
       "      <td>8.17</td>\n",
       "      <td>7.29</td>\n",
       "    </tr>\n",
       "    <tr>\n",
       "      <th>...</th>\n",
       "      <td>...</td>\n",
       "      <td>...</td>\n",
       "      <td>...</td>\n",
       "      <td>...</td>\n",
       "      <td>...</td>\n",
       "      <td>...</td>\n",
       "      <td>...</td>\n",
       "      <td>...</td>\n",
       "      <td>...</td>\n",
       "      <td>...</td>\n",
       "      <td>...</td>\n",
       "      <td>...</td>\n",
       "      <td>...</td>\n",
       "      <td>...</td>\n",
       "      <td>...</td>\n",
       "      <td>...</td>\n",
       "      <td>...</td>\n",
       "      <td>...</td>\n",
       "      <td>...</td>\n",
       "      <td>...</td>\n",
       "      <td>...</td>\n",
       "      <td>...</td>\n",
       "      <td>...</td>\n",
       "      <td>...</td>\n",
       "      <td>...</td>\n",
       "      <td>...</td>\n",
       "      <td>...</td>\n",
       "      <td>...</td>\n",
       "      <td>...</td>\n",
       "      <td>...</td>\n",
       "      <td>...</td>\n",
       "    </tr>\n",
       "    <tr>\n",
       "      <th>2270</th>\n",
       "      <td>2022</td>\n",
       "      <td>1342</td>\n",
       "      <td>ALUNO-1342</td>\n",
       "      <td>2</td>\n",
       "      <td>K</td>\n",
       "      <td>Não</td>\n",
       "      <td>8.15</td>\n",
       "      <td>Topázio</td>\n",
       "      <td>7.92</td>\n",
       "      <td>9.67</td>\n",
       "      <td>7.50</td>\n",
       "      <td>7.75</td>\n",
       "      <td>6.25</td>\n",
       "      <td>7.50</td>\n",
       "      <td>10.0</td>\n",
       "      <td>6.96</td>\n",
       "      <td>6.40</td>\n",
       "      <td>5.40</td>\n",
       "      <td>8.16</td>\n",
       "      <td>8.41</td>\n",
       "      <td>6.82</td>\n",
       "      <td>6.16</td>\n",
       "      <td>7.34</td>\n",
       "      <td>6.71</td>\n",
       "      <td>5.77</td>\n",
       "      <td>4.55</td>\n",
       "      <td>8.30</td>\n",
       "      <td>8.47</td>\n",
       "      <td>6.68</td>\n",
       "      <td>6.14</td>\n",
       "      <td>7.19</td>\n",
       "    </tr>\n",
       "    <tr>\n",
       "      <th>2271</th>\n",
       "      <td>2022</td>\n",
       "      <td>1343</td>\n",
       "      <td>ALUNO-1343</td>\n",
       "      <td>2</td>\n",
       "      <td>K</td>\n",
       "      <td>Não</td>\n",
       "      <td>5.67</td>\n",
       "      <td>Quartzo</td>\n",
       "      <td>7.42</td>\n",
       "      <td>6.47</td>\n",
       "      <td>6.25</td>\n",
       "      <td>2.00</td>\n",
       "      <td>6.25</td>\n",
       "      <td>7.44</td>\n",
       "      <td>5.0</td>\n",
       "      <td>6.96</td>\n",
       "      <td>6.40</td>\n",
       "      <td>5.40</td>\n",
       "      <td>8.16</td>\n",
       "      <td>8.41</td>\n",
       "      <td>6.82</td>\n",
       "      <td>6.16</td>\n",
       "      <td>7.34</td>\n",
       "      <td>6.71</td>\n",
       "      <td>5.77</td>\n",
       "      <td>4.55</td>\n",
       "      <td>8.30</td>\n",
       "      <td>8.47</td>\n",
       "      <td>6.68</td>\n",
       "      <td>6.14</td>\n",
       "      <td>7.19</td>\n",
       "    </tr>\n",
       "    <tr>\n",
       "      <th>2272</th>\n",
       "      <td>2022</td>\n",
       "      <td>1346</td>\n",
       "      <td>ALUNO-1346</td>\n",
       "      <td>0</td>\n",
       "      <td>U</td>\n",
       "      <td>Sim</td>\n",
       "      <td>8.14</td>\n",
       "      <td>Topázio</td>\n",
       "      <td>9.00</td>\n",
       "      <td>9.03</td>\n",
       "      <td>7.50</td>\n",
       "      <td>9.00</td>\n",
       "      <td>5.62</td>\n",
       "      <td>9.08</td>\n",
       "      <td>5.0</td>\n",
       "      <td>7.37</td>\n",
       "      <td>6.80</td>\n",
       "      <td>7.13</td>\n",
       "      <td>8.09</td>\n",
       "      <td>8.98</td>\n",
       "      <td>7.01</td>\n",
       "      <td>5.31</td>\n",
       "      <td>7.56</td>\n",
       "      <td>7.68</td>\n",
       "      <td>6.11</td>\n",
       "      <td>7.40</td>\n",
       "      <td>8.66</td>\n",
       "      <td>9.56</td>\n",
       "      <td>7.50</td>\n",
       "      <td>5.55</td>\n",
       "      <td>7.96</td>\n",
       "    </tr>\n",
       "    <tr>\n",
       "      <th>2273</th>\n",
       "      <td>2022</td>\n",
       "      <td>1348</td>\n",
       "      <td>ALUNO-1348</td>\n",
       "      <td>4</td>\n",
       "      <td>P</td>\n",
       "      <td>Não</td>\n",
       "      <td>6.75</td>\n",
       "      <td>Ágata</td>\n",
       "      <td>8.33</td>\n",
       "      <td>9.18</td>\n",
       "      <td>5.62</td>\n",
       "      <td>5.90</td>\n",
       "      <td>6.72</td>\n",
       "      <td>5.83</td>\n",
       "      <td>5.0</td>\n",
       "      <td>7.01</td>\n",
       "      <td>6.48</td>\n",
       "      <td>6.05</td>\n",
       "      <td>7.66</td>\n",
       "      <td>7.71</td>\n",
       "      <td>6.61</td>\n",
       "      <td>7.42</td>\n",
       "      <td>7.21</td>\n",
       "      <td>6.98</td>\n",
       "      <td>5.83</td>\n",
       "      <td>5.87</td>\n",
       "      <td>8.07</td>\n",
       "      <td>8.24</td>\n",
       "      <td>6.74</td>\n",
       "      <td>7.19</td>\n",
       "      <td>6.93</td>\n",
       "    </tr>\n",
       "    <tr>\n",
       "      <th>2274</th>\n",
       "      <td>2022</td>\n",
       "      <td>1349</td>\n",
       "      <td>ALUNO-1349</td>\n",
       "      <td>3</td>\n",
       "      <td>M</td>\n",
       "      <td>Não</td>\n",
       "      <td>6.40</td>\n",
       "      <td>Ágata</td>\n",
       "      <td>7.92</td>\n",
       "      <td>7.54</td>\n",
       "      <td>7.50</td>\n",
       "      <td>4.50</td>\n",
       "      <td>7.50</td>\n",
       "      <td>6.00</td>\n",
       "      <td>5.0</td>\n",
       "      <td>6.60</td>\n",
       "      <td>6.99</td>\n",
       "      <td>5.13</td>\n",
       "      <td>7.07</td>\n",
       "      <td>7.48</td>\n",
       "      <td>6.72</td>\n",
       "      <td>7.30</td>\n",
       "      <td>6.55</td>\n",
       "      <td>6.31</td>\n",
       "      <td>6.41</td>\n",
       "      <td>4.94</td>\n",
       "      <td>6.70</td>\n",
       "      <td>7.89</td>\n",
       "      <td>6.88</td>\n",
       "      <td>6.99</td>\n",
       "      <td>5.81</td>\n",
       "    </tr>\n",
       "  </tbody>\n",
       "</table>\n",
       "<p>2275 rows × 31 columns</p>\n",
       "</div>"
      ]
     },
     "execution_count": 203,
     "metadata": {},
     "output_type": "execute_result"
    }
   ],
   "execution_count": 203
  },
  {
   "metadata": {
    "ExecuteTime": {
     "end_time": "2024-08-11T15:11:23.766684Z",
     "start_time": "2024-08-11T15:11:23.682665Z"
    }
   },
   "cell_type": "code",
   "source": "join_media_ano_fase_turma.to_csv('./dados/dados_finais.csv', index=False)",
   "id": "1a51f3ae096743b8",
   "outputs": [],
   "execution_count": 204
  },
  {
   "metadata": {
    "ExecuteTime": {
     "end_time": "2024-08-11T15:11:24.358037Z",
     "start_time": "2024-08-11T15:11:24.335647Z"
    }
   },
   "cell_type": "code",
   "source": [
    "def gera_df_comparativo_aluno_medias(df):\n",
    "    dataframes = {}\n",
    "    for index, row in df.iterrows():\n",
    "        ano_pesquisa = row['ANO_PESQUISA']\n",
    "        data = {\n",
    "            'Indice': ['IAN', 'IDA', 'IEG', 'IAA', 'IPS', 'IPP','IPV']*3,\n",
    "            'Legenda': [f'Notas do Aluno ({ano_pesquisa})']*7 + [f'Médias da Fase ({ano_pesquisa})']*7 +[f'Médias da Turma ({ano_pesquisa})']*7,\n",
    "            'Nota': [df['IAN'][index], df['IDA'][index], df['IEG'][index], df['IAA'][index], df['IPS'][index], df['IPP'][index], df['IPV'][index], df['IAN_MEDIO_ANO_FASE'][index], df['IDA_MEDIO_ANO_FASE'][index], df['IEG_MEDIO_ANO_FASE'][index], df['IAA_MEDIO_ANO_FASE'][index], df['IPS_MEDIO_ANO_FASE'][index], df['IPP_MEDIO_ANO_FASE'][index], df['IPV_MEDIO_ANO_FASE'][index], df['IAN_MEDIO_ANO_FASE_TURMA'][index], df['IDA_MEDIO_ANO_FASE_TURMA'][index], df['IEG_MEDIO_ANO_FASE_TURMA'][index], df['IAA_MEDIO_ANO_FASE_TURMA'][index], df['IPS_MEDIO_ANO_FASE_TURMA'][index], df['IPP_MEDIO_ANO_FASE_TURMA'][index], df['IPV_MEDIO_ANO_FASE_TURMA'][index]]\n",
    "        }\n",
    "        novo_df = pd.DataFrame(data)\n",
    "        dataframes[ano_pesquisa] = novo_df\n",
    "    return dataframes"
   ],
   "id": "8a4ee3d6ee15c3aa",
   "outputs": [],
   "execution_count": 205
  },
  {
   "metadata": {
    "ExecuteTime": {
     "end_time": "2024-08-11T15:11:24.855234Z",
     "start_time": "2024-08-11T15:11:24.847044Z"
    }
   },
   "cell_type": "code",
   "source": [
    "def gera_df_comparativo_anos(df):\n",
    "    data = {\n",
    "        'Indice': [],\n",
    "        'Legenda': [],\n",
    "        'Nota': []\n",
    "    }\n",
    "    for index, row in df.iterrows():\n",
    "        data['Indice'] += ['IAN', 'IDA', 'IEG', 'IAA', 'IPS', 'IPP','IPV']\n",
    "        data['Legenda'] += [f\"Notas do Aluno ({df['ANO_PESQUISA'][index]})\"]*7\n",
    "        data['Nota'] += [df['IAN'][index],df['IDA'][index],df['IEG'][index],df['IAA'][index],df['IPS'][index],df['IPP'][index],df['IPV'][index]]\n",
    "    novo_df = pd.DataFrame(data)\n",
    "    return novo_df"
   ],
   "id": "33bc5af3e613d0a",
   "outputs": [],
   "execution_count": 206
  },
  {
   "metadata": {
    "ExecuteTime": {
     "end_time": "2024-08-11T15:11:25.094009Z",
     "start_time": "2024-08-11T15:11:25.083246Z"
    }
   },
   "cell_type": "code",
   "source": "df_copy = join_media_ano_fase_turma.copy()",
   "id": "8347ef51c50ae298",
   "outputs": [],
   "execution_count": 207
  },
  {
   "metadata": {
    "ExecuteTime": {
     "end_time": "2024-08-11T15:11:25.304022Z",
     "start_time": "2024-08-11T15:11:25.299331Z"
    }
   },
   "cell_type": "code",
   "source": "df1 = df_copy[(df_copy['ID_ALUNO'] == 5)]",
   "id": "214241fc6bbc57e4",
   "outputs": [],
   "execution_count": 208
  },
  {
   "metadata": {
    "ExecuteTime": {
     "end_time": "2024-08-11T15:11:25.465365Z",
     "start_time": "2024-08-11T15:11:25.457401Z"
    }
   },
   "cell_type": "code",
   "source": [
    "teste1 = gera_df_comparativo_aluno_medias(df1)\n",
    "teste2 = gera_df_comparativo_anos(df1)"
   ],
   "id": "2731e6ee05eea7c9",
   "outputs": [],
   "execution_count": 209
  },
  {
   "metadata": {
    "ExecuteTime": {
     "end_time": "2024-08-11T15:11:25.749620Z",
     "start_time": "2024-08-11T15:11:25.506373Z"
    }
   },
   "cell_type": "code",
   "source": [
    "for index, key in enumerate(teste1):\n",
    "    fig1 = px.line_polar(teste1[key], r=\"Nota\", theta=\"Indice\", color=\"Legenda\",\n",
    "                        line_close=True, title='Comparativo das Notas do Aluno com as Médias ('+str(key)+')', markers=True, range_r=[0,10],  start_angle=0, direction='counterclockwise')\n",
    "    fig1.show()"
   ],
   "id": "a2b899ece74c9987",
   "outputs": [
    {
     "data": {
      "application/vnd.plotly.v1+json": {
       "data": [
        {
         "hovertemplate": "Legenda=Notas do Aluno (2020)<br>Nota=%{r}<br>Indice=%{theta}<extra></extra>",
         "legendgroup": "Notas do Aluno (2020)",
         "line": {
          "color": "#636efa",
          "dash": "solid"
         },
         "marker": {
          "symbol": "circle"
         },
         "mode": "lines+markers",
         "name": "Notas do Aluno (2020)",
         "r": [
          10.0,
          7.5,
          8.0,
          7.5,
          7.5,
          8.44,
          8.17,
          10.0
         ],
         "showlegend": true,
         "subplot": "polar",
         "theta": [
          "IAN",
          "IDA",
          "IEG",
          "IAA",
          "IPS",
          "IPP",
          "IPV",
          "IAN"
         ],
         "type": "scatterpolar"
        },
        {
         "hovertemplate": "Legenda=Médias da Fase (2020)<br>Nota=%{r}<br>Indice=%{theta}<extra></extra>",
         "legendgroup": "Médias da Fase (2020)",
         "line": {
          "color": "#EF553B",
          "dash": "solid"
         },
         "marker": {
          "symbol": "circle"
         },
         "mode": "lines+markers",
         "name": "Médias da Fase (2020)",
         "r": [
          7.34,
          5.13,
          7.92,
          8.26,
          6.73,
          7.37,
          7.67,
          7.34
         ],
         "showlegend": true,
         "subplot": "polar",
         "theta": [
          "IAN",
          "IDA",
          "IEG",
          "IAA",
          "IPS",
          "IPP",
          "IPV",
          "IAN"
         ],
         "type": "scatterpolar"
        },
        {
         "hovertemplate": "Legenda=Médias da Turma (2020)<br>Nota=%{r}<br>Indice=%{theta}<extra></extra>",
         "legendgroup": "Médias da Turma (2020)",
         "line": {
          "color": "#00cc96",
          "dash": "solid"
         },
         "marker": {
          "symbol": "circle"
         },
         "mode": "lines+markers",
         "name": "Médias da Turma (2020)",
         "r": [
          7.35,
          4.18,
          7.35,
          7.93,
          6.47,
          7.45,
          7.65,
          7.35
         ],
         "showlegend": true,
         "subplot": "polar",
         "theta": [
          "IAN",
          "IDA",
          "IEG",
          "IAA",
          "IPS",
          "IPP",
          "IPV",
          "IAN"
         ],
         "type": "scatterpolar"
        }
       ],
       "layout": {
        "template": {
         "data": {
          "histogram2dcontour": [
           {
            "type": "histogram2dcontour",
            "colorbar": {
             "outlinewidth": 0,
             "ticks": ""
            },
            "colorscale": [
             [
              0.0,
              "#0d0887"
             ],
             [
              0.1111111111111111,
              "#46039f"
             ],
             [
              0.2222222222222222,
              "#7201a8"
             ],
             [
              0.3333333333333333,
              "#9c179e"
             ],
             [
              0.4444444444444444,
              "#bd3786"
             ],
             [
              0.5555555555555556,
              "#d8576b"
             ],
             [
              0.6666666666666666,
              "#ed7953"
             ],
             [
              0.7777777777777778,
              "#fb9f3a"
             ],
             [
              0.8888888888888888,
              "#fdca26"
             ],
             [
              1.0,
              "#f0f921"
             ]
            ]
           }
          ],
          "choropleth": [
           {
            "type": "choropleth",
            "colorbar": {
             "outlinewidth": 0,
             "ticks": ""
            }
           }
          ],
          "histogram2d": [
           {
            "type": "histogram2d",
            "colorbar": {
             "outlinewidth": 0,
             "ticks": ""
            },
            "colorscale": [
             [
              0.0,
              "#0d0887"
             ],
             [
              0.1111111111111111,
              "#46039f"
             ],
             [
              0.2222222222222222,
              "#7201a8"
             ],
             [
              0.3333333333333333,
              "#9c179e"
             ],
             [
              0.4444444444444444,
              "#bd3786"
             ],
             [
              0.5555555555555556,
              "#d8576b"
             ],
             [
              0.6666666666666666,
              "#ed7953"
             ],
             [
              0.7777777777777778,
              "#fb9f3a"
             ],
             [
              0.8888888888888888,
              "#fdca26"
             ],
             [
              1.0,
              "#f0f921"
             ]
            ]
           }
          ],
          "heatmap": [
           {
            "type": "heatmap",
            "colorbar": {
             "outlinewidth": 0,
             "ticks": ""
            },
            "colorscale": [
             [
              0.0,
              "#0d0887"
             ],
             [
              0.1111111111111111,
              "#46039f"
             ],
             [
              0.2222222222222222,
              "#7201a8"
             ],
             [
              0.3333333333333333,
              "#9c179e"
             ],
             [
              0.4444444444444444,
              "#bd3786"
             ],
             [
              0.5555555555555556,
              "#d8576b"
             ],
             [
              0.6666666666666666,
              "#ed7953"
             ],
             [
              0.7777777777777778,
              "#fb9f3a"
             ],
             [
              0.8888888888888888,
              "#fdca26"
             ],
             [
              1.0,
              "#f0f921"
             ]
            ]
           }
          ],
          "heatmapgl": [
           {
            "type": "heatmapgl",
            "colorbar": {
             "outlinewidth": 0,
             "ticks": ""
            },
            "colorscale": [
             [
              0.0,
              "#0d0887"
             ],
             [
              0.1111111111111111,
              "#46039f"
             ],
             [
              0.2222222222222222,
              "#7201a8"
             ],
             [
              0.3333333333333333,
              "#9c179e"
             ],
             [
              0.4444444444444444,
              "#bd3786"
             ],
             [
              0.5555555555555556,
              "#d8576b"
             ],
             [
              0.6666666666666666,
              "#ed7953"
             ],
             [
              0.7777777777777778,
              "#fb9f3a"
             ],
             [
              0.8888888888888888,
              "#fdca26"
             ],
             [
              1.0,
              "#f0f921"
             ]
            ]
           }
          ],
          "contourcarpet": [
           {
            "type": "contourcarpet",
            "colorbar": {
             "outlinewidth": 0,
             "ticks": ""
            }
           }
          ],
          "contour": [
           {
            "type": "contour",
            "colorbar": {
             "outlinewidth": 0,
             "ticks": ""
            },
            "colorscale": [
             [
              0.0,
              "#0d0887"
             ],
             [
              0.1111111111111111,
              "#46039f"
             ],
             [
              0.2222222222222222,
              "#7201a8"
             ],
             [
              0.3333333333333333,
              "#9c179e"
             ],
             [
              0.4444444444444444,
              "#bd3786"
             ],
             [
              0.5555555555555556,
              "#d8576b"
             ],
             [
              0.6666666666666666,
              "#ed7953"
             ],
             [
              0.7777777777777778,
              "#fb9f3a"
             ],
             [
              0.8888888888888888,
              "#fdca26"
             ],
             [
              1.0,
              "#f0f921"
             ]
            ]
           }
          ],
          "surface": [
           {
            "type": "surface",
            "colorbar": {
             "outlinewidth": 0,
             "ticks": ""
            },
            "colorscale": [
             [
              0.0,
              "#0d0887"
             ],
             [
              0.1111111111111111,
              "#46039f"
             ],
             [
              0.2222222222222222,
              "#7201a8"
             ],
             [
              0.3333333333333333,
              "#9c179e"
             ],
             [
              0.4444444444444444,
              "#bd3786"
             ],
             [
              0.5555555555555556,
              "#d8576b"
             ],
             [
              0.6666666666666666,
              "#ed7953"
             ],
             [
              0.7777777777777778,
              "#fb9f3a"
             ],
             [
              0.8888888888888888,
              "#fdca26"
             ],
             [
              1.0,
              "#f0f921"
             ]
            ]
           }
          ],
          "mesh3d": [
           {
            "type": "mesh3d",
            "colorbar": {
             "outlinewidth": 0,
             "ticks": ""
            }
           }
          ],
          "scatter": [
           {
            "fillpattern": {
             "fillmode": "overlay",
             "size": 10,
             "solidity": 0.2
            },
            "type": "scatter"
           }
          ],
          "parcoords": [
           {
            "type": "parcoords",
            "line": {
             "colorbar": {
              "outlinewidth": 0,
              "ticks": ""
             }
            }
           }
          ],
          "scatterpolargl": [
           {
            "type": "scatterpolargl",
            "marker": {
             "colorbar": {
              "outlinewidth": 0,
              "ticks": ""
             }
            }
           }
          ],
          "bar": [
           {
            "error_x": {
             "color": "#2a3f5f"
            },
            "error_y": {
             "color": "#2a3f5f"
            },
            "marker": {
             "line": {
              "color": "#E5ECF6",
              "width": 0.5
             },
             "pattern": {
              "fillmode": "overlay",
              "size": 10,
              "solidity": 0.2
             }
            },
            "type": "bar"
           }
          ],
          "scattergeo": [
           {
            "type": "scattergeo",
            "marker": {
             "colorbar": {
              "outlinewidth": 0,
              "ticks": ""
             }
            }
           }
          ],
          "scatterpolar": [
           {
            "type": "scatterpolar",
            "marker": {
             "colorbar": {
              "outlinewidth": 0,
              "ticks": ""
             }
            }
           }
          ],
          "histogram": [
           {
            "marker": {
             "pattern": {
              "fillmode": "overlay",
              "size": 10,
              "solidity": 0.2
             }
            },
            "type": "histogram"
           }
          ],
          "scattergl": [
           {
            "type": "scattergl",
            "marker": {
             "colorbar": {
              "outlinewidth": 0,
              "ticks": ""
             }
            }
           }
          ],
          "scatter3d": [
           {
            "type": "scatter3d",
            "line": {
             "colorbar": {
              "outlinewidth": 0,
              "ticks": ""
             }
            },
            "marker": {
             "colorbar": {
              "outlinewidth": 0,
              "ticks": ""
             }
            }
           }
          ],
          "scattermapbox": [
           {
            "type": "scattermapbox",
            "marker": {
             "colorbar": {
              "outlinewidth": 0,
              "ticks": ""
             }
            }
           }
          ],
          "scatterternary": [
           {
            "type": "scatterternary",
            "marker": {
             "colorbar": {
              "outlinewidth": 0,
              "ticks": ""
             }
            }
           }
          ],
          "scattercarpet": [
           {
            "type": "scattercarpet",
            "marker": {
             "colorbar": {
              "outlinewidth": 0,
              "ticks": ""
             }
            }
           }
          ],
          "carpet": [
           {
            "aaxis": {
             "endlinecolor": "#2a3f5f",
             "gridcolor": "white",
             "linecolor": "white",
             "minorgridcolor": "white",
             "startlinecolor": "#2a3f5f"
            },
            "baxis": {
             "endlinecolor": "#2a3f5f",
             "gridcolor": "white",
             "linecolor": "white",
             "minorgridcolor": "white",
             "startlinecolor": "#2a3f5f"
            },
            "type": "carpet"
           }
          ],
          "table": [
           {
            "cells": {
             "fill": {
              "color": "#EBF0F8"
             },
             "line": {
              "color": "white"
             }
            },
            "header": {
             "fill": {
              "color": "#C8D4E3"
             },
             "line": {
              "color": "white"
             }
            },
            "type": "table"
           }
          ],
          "barpolar": [
           {
            "marker": {
             "line": {
              "color": "#E5ECF6",
              "width": 0.5
             },
             "pattern": {
              "fillmode": "overlay",
              "size": 10,
              "solidity": 0.2
             }
            },
            "type": "barpolar"
           }
          ],
          "pie": [
           {
            "automargin": true,
            "type": "pie"
           }
          ]
         },
         "layout": {
          "autotypenumbers": "strict",
          "colorway": [
           "#636efa",
           "#EF553B",
           "#00cc96",
           "#ab63fa",
           "#FFA15A",
           "#19d3f3",
           "#FF6692",
           "#B6E880",
           "#FF97FF",
           "#FECB52"
          ],
          "font": {
           "color": "#2a3f5f"
          },
          "hovermode": "closest",
          "hoverlabel": {
           "align": "left"
          },
          "paper_bgcolor": "white",
          "plot_bgcolor": "#E5ECF6",
          "polar": {
           "bgcolor": "#E5ECF6",
           "angularaxis": {
            "gridcolor": "white",
            "linecolor": "white",
            "ticks": ""
           },
           "radialaxis": {
            "gridcolor": "white",
            "linecolor": "white",
            "ticks": ""
           }
          },
          "ternary": {
           "bgcolor": "#E5ECF6",
           "aaxis": {
            "gridcolor": "white",
            "linecolor": "white",
            "ticks": ""
           },
           "baxis": {
            "gridcolor": "white",
            "linecolor": "white",
            "ticks": ""
           },
           "caxis": {
            "gridcolor": "white",
            "linecolor": "white",
            "ticks": ""
           }
          },
          "coloraxis": {
           "colorbar": {
            "outlinewidth": 0,
            "ticks": ""
           }
          },
          "colorscale": {
           "sequential": [
            [
             0.0,
             "#0d0887"
            ],
            [
             0.1111111111111111,
             "#46039f"
            ],
            [
             0.2222222222222222,
             "#7201a8"
            ],
            [
             0.3333333333333333,
             "#9c179e"
            ],
            [
             0.4444444444444444,
             "#bd3786"
            ],
            [
             0.5555555555555556,
             "#d8576b"
            ],
            [
             0.6666666666666666,
             "#ed7953"
            ],
            [
             0.7777777777777778,
             "#fb9f3a"
            ],
            [
             0.8888888888888888,
             "#fdca26"
            ],
            [
             1.0,
             "#f0f921"
            ]
           ],
           "sequentialminus": [
            [
             0.0,
             "#0d0887"
            ],
            [
             0.1111111111111111,
             "#46039f"
            ],
            [
             0.2222222222222222,
             "#7201a8"
            ],
            [
             0.3333333333333333,
             "#9c179e"
            ],
            [
             0.4444444444444444,
             "#bd3786"
            ],
            [
             0.5555555555555556,
             "#d8576b"
            ],
            [
             0.6666666666666666,
             "#ed7953"
            ],
            [
             0.7777777777777778,
             "#fb9f3a"
            ],
            [
             0.8888888888888888,
             "#fdca26"
            ],
            [
             1.0,
             "#f0f921"
            ]
           ],
           "diverging": [
            [
             0,
             "#8e0152"
            ],
            [
             0.1,
             "#c51b7d"
            ],
            [
             0.2,
             "#de77ae"
            ],
            [
             0.3,
             "#f1b6da"
            ],
            [
             0.4,
             "#fde0ef"
            ],
            [
             0.5,
             "#f7f7f7"
            ],
            [
             0.6,
             "#e6f5d0"
            ],
            [
             0.7,
             "#b8e186"
            ],
            [
             0.8,
             "#7fbc41"
            ],
            [
             0.9,
             "#4d9221"
            ],
            [
             1,
             "#276419"
            ]
           ]
          },
          "xaxis": {
           "gridcolor": "white",
           "linecolor": "white",
           "ticks": "",
           "title": {
            "standoff": 15
           },
           "zerolinecolor": "white",
           "automargin": true,
           "zerolinewidth": 2
          },
          "yaxis": {
           "gridcolor": "white",
           "linecolor": "white",
           "ticks": "",
           "title": {
            "standoff": 15
           },
           "zerolinecolor": "white",
           "automargin": true,
           "zerolinewidth": 2
          },
          "scene": {
           "xaxis": {
            "backgroundcolor": "#E5ECF6",
            "gridcolor": "white",
            "linecolor": "white",
            "showbackground": true,
            "ticks": "",
            "zerolinecolor": "white",
            "gridwidth": 2
           },
           "yaxis": {
            "backgroundcolor": "#E5ECF6",
            "gridcolor": "white",
            "linecolor": "white",
            "showbackground": true,
            "ticks": "",
            "zerolinecolor": "white",
            "gridwidth": 2
           },
           "zaxis": {
            "backgroundcolor": "#E5ECF6",
            "gridcolor": "white",
            "linecolor": "white",
            "showbackground": true,
            "ticks": "",
            "zerolinecolor": "white",
            "gridwidth": 2
           }
          },
          "shapedefaults": {
           "line": {
            "color": "#2a3f5f"
           }
          },
          "annotationdefaults": {
           "arrowcolor": "#2a3f5f",
           "arrowhead": 0,
           "arrowwidth": 1
          },
          "geo": {
           "bgcolor": "white",
           "landcolor": "#E5ECF6",
           "subunitcolor": "white",
           "showland": true,
           "showlakes": true,
           "lakecolor": "white"
          },
          "title": {
           "x": 0.05
          },
          "mapbox": {
           "style": "light"
          }
         }
        },
        "polar": {
         "domain": {
          "x": [
           0.0,
           1.0
          ],
          "y": [
           0.0,
           1.0
          ]
         },
         "angularaxis": {
          "direction": "counterclockwise",
          "rotation": 0
         },
         "radialaxis": {
          "range": [
           0,
           10
          ]
         }
        },
        "legend": {
         "title": {
          "text": "Legenda"
         },
         "tracegroupgap": 0
        },
        "title": {
         "text": "Comparativo das Notas do Aluno com as Médias (2020)"
        }
       },
       "config": {
        "plotlyServerURL": "https://plot.ly"
       }
      },
      "text/html": [
       "<div>                            <div id=\"765f8f00-2832-49ba-ae16-1ce409894ec6\" class=\"plotly-graph-div\" style=\"height:525px; width:100%;\"></div>            <script type=\"text/javascript\">                require([\"plotly\"], function(Plotly) {                    window.PLOTLYENV=window.PLOTLYENV || {};                                    if (document.getElementById(\"765f8f00-2832-49ba-ae16-1ce409894ec6\")) {                    Plotly.newPlot(                        \"765f8f00-2832-49ba-ae16-1ce409894ec6\",                        [{\"hovertemplate\":\"Legenda=Notas do Aluno (2020)\\u003cbr\\u003eNota=%{r}\\u003cbr\\u003eIndice=%{theta}\\u003cextra\\u003e\\u003c\\u002fextra\\u003e\",\"legendgroup\":\"Notas do Aluno (2020)\",\"line\":{\"color\":\"#636efa\",\"dash\":\"solid\"},\"marker\":{\"symbol\":\"circle\"},\"mode\":\"lines+markers\",\"name\":\"Notas do Aluno (2020)\",\"r\":[10.0,7.5,8.0,7.5,7.5,8.44,8.17,10.0],\"showlegend\":true,\"subplot\":\"polar\",\"theta\":[\"IAN\",\"IDA\",\"IEG\",\"IAA\",\"IPS\",\"IPP\",\"IPV\",\"IAN\"],\"type\":\"scatterpolar\"},{\"hovertemplate\":\"Legenda=M\\u00e9dias da Fase (2020)\\u003cbr\\u003eNota=%{r}\\u003cbr\\u003eIndice=%{theta}\\u003cextra\\u003e\\u003c\\u002fextra\\u003e\",\"legendgroup\":\"M\\u00e9dias da Fase (2020)\",\"line\":{\"color\":\"#EF553B\",\"dash\":\"solid\"},\"marker\":{\"symbol\":\"circle\"},\"mode\":\"lines+markers\",\"name\":\"M\\u00e9dias da Fase (2020)\",\"r\":[7.34,5.13,7.92,8.26,6.73,7.37,7.67,7.34],\"showlegend\":true,\"subplot\":\"polar\",\"theta\":[\"IAN\",\"IDA\",\"IEG\",\"IAA\",\"IPS\",\"IPP\",\"IPV\",\"IAN\"],\"type\":\"scatterpolar\"},{\"hovertemplate\":\"Legenda=M\\u00e9dias da Turma (2020)\\u003cbr\\u003eNota=%{r}\\u003cbr\\u003eIndice=%{theta}\\u003cextra\\u003e\\u003c\\u002fextra\\u003e\",\"legendgroup\":\"M\\u00e9dias da Turma (2020)\",\"line\":{\"color\":\"#00cc96\",\"dash\":\"solid\"},\"marker\":{\"symbol\":\"circle\"},\"mode\":\"lines+markers\",\"name\":\"M\\u00e9dias da Turma (2020)\",\"r\":[7.35,4.18,7.35,7.93,6.47,7.45,7.65,7.35],\"showlegend\":true,\"subplot\":\"polar\",\"theta\":[\"IAN\",\"IDA\",\"IEG\",\"IAA\",\"IPS\",\"IPP\",\"IPV\",\"IAN\"],\"type\":\"scatterpolar\"}],                        {\"template\":{\"data\":{\"histogram2dcontour\":[{\"type\":\"histogram2dcontour\",\"colorbar\":{\"outlinewidth\":0,\"ticks\":\"\"},\"colorscale\":[[0.0,\"#0d0887\"],[0.1111111111111111,\"#46039f\"],[0.2222222222222222,\"#7201a8\"],[0.3333333333333333,\"#9c179e\"],[0.4444444444444444,\"#bd3786\"],[0.5555555555555556,\"#d8576b\"],[0.6666666666666666,\"#ed7953\"],[0.7777777777777778,\"#fb9f3a\"],[0.8888888888888888,\"#fdca26\"],[1.0,\"#f0f921\"]]}],\"choropleth\":[{\"type\":\"choropleth\",\"colorbar\":{\"outlinewidth\":0,\"ticks\":\"\"}}],\"histogram2d\":[{\"type\":\"histogram2d\",\"colorbar\":{\"outlinewidth\":0,\"ticks\":\"\"},\"colorscale\":[[0.0,\"#0d0887\"],[0.1111111111111111,\"#46039f\"],[0.2222222222222222,\"#7201a8\"],[0.3333333333333333,\"#9c179e\"],[0.4444444444444444,\"#bd3786\"],[0.5555555555555556,\"#d8576b\"],[0.6666666666666666,\"#ed7953\"],[0.7777777777777778,\"#fb9f3a\"],[0.8888888888888888,\"#fdca26\"],[1.0,\"#f0f921\"]]}],\"heatmap\":[{\"type\":\"heatmap\",\"colorbar\":{\"outlinewidth\":0,\"ticks\":\"\"},\"colorscale\":[[0.0,\"#0d0887\"],[0.1111111111111111,\"#46039f\"],[0.2222222222222222,\"#7201a8\"],[0.3333333333333333,\"#9c179e\"],[0.4444444444444444,\"#bd3786\"],[0.5555555555555556,\"#d8576b\"],[0.6666666666666666,\"#ed7953\"],[0.7777777777777778,\"#fb9f3a\"],[0.8888888888888888,\"#fdca26\"],[1.0,\"#f0f921\"]]}],\"heatmapgl\":[{\"type\":\"heatmapgl\",\"colorbar\":{\"outlinewidth\":0,\"ticks\":\"\"},\"colorscale\":[[0.0,\"#0d0887\"],[0.1111111111111111,\"#46039f\"],[0.2222222222222222,\"#7201a8\"],[0.3333333333333333,\"#9c179e\"],[0.4444444444444444,\"#bd3786\"],[0.5555555555555556,\"#d8576b\"],[0.6666666666666666,\"#ed7953\"],[0.7777777777777778,\"#fb9f3a\"],[0.8888888888888888,\"#fdca26\"],[1.0,\"#f0f921\"]]}],\"contourcarpet\":[{\"type\":\"contourcarpet\",\"colorbar\":{\"outlinewidth\":0,\"ticks\":\"\"}}],\"contour\":[{\"type\":\"contour\",\"colorbar\":{\"outlinewidth\":0,\"ticks\":\"\"},\"colorscale\":[[0.0,\"#0d0887\"],[0.1111111111111111,\"#46039f\"],[0.2222222222222222,\"#7201a8\"],[0.3333333333333333,\"#9c179e\"],[0.4444444444444444,\"#bd3786\"],[0.5555555555555556,\"#d8576b\"],[0.6666666666666666,\"#ed7953\"],[0.7777777777777778,\"#fb9f3a\"],[0.8888888888888888,\"#fdca26\"],[1.0,\"#f0f921\"]]}],\"surface\":[{\"type\":\"surface\",\"colorbar\":{\"outlinewidth\":0,\"ticks\":\"\"},\"colorscale\":[[0.0,\"#0d0887\"],[0.1111111111111111,\"#46039f\"],[0.2222222222222222,\"#7201a8\"],[0.3333333333333333,\"#9c179e\"],[0.4444444444444444,\"#bd3786\"],[0.5555555555555556,\"#d8576b\"],[0.6666666666666666,\"#ed7953\"],[0.7777777777777778,\"#fb9f3a\"],[0.8888888888888888,\"#fdca26\"],[1.0,\"#f0f921\"]]}],\"mesh3d\":[{\"type\":\"mesh3d\",\"colorbar\":{\"outlinewidth\":0,\"ticks\":\"\"}}],\"scatter\":[{\"fillpattern\":{\"fillmode\":\"overlay\",\"size\":10,\"solidity\":0.2},\"type\":\"scatter\"}],\"parcoords\":[{\"type\":\"parcoords\",\"line\":{\"colorbar\":{\"outlinewidth\":0,\"ticks\":\"\"}}}],\"scatterpolargl\":[{\"type\":\"scatterpolargl\",\"marker\":{\"colorbar\":{\"outlinewidth\":0,\"ticks\":\"\"}}}],\"bar\":[{\"error_x\":{\"color\":\"#2a3f5f\"},\"error_y\":{\"color\":\"#2a3f5f\"},\"marker\":{\"line\":{\"color\":\"#E5ECF6\",\"width\":0.5},\"pattern\":{\"fillmode\":\"overlay\",\"size\":10,\"solidity\":0.2}},\"type\":\"bar\"}],\"scattergeo\":[{\"type\":\"scattergeo\",\"marker\":{\"colorbar\":{\"outlinewidth\":0,\"ticks\":\"\"}}}],\"scatterpolar\":[{\"type\":\"scatterpolar\",\"marker\":{\"colorbar\":{\"outlinewidth\":0,\"ticks\":\"\"}}}],\"histogram\":[{\"marker\":{\"pattern\":{\"fillmode\":\"overlay\",\"size\":10,\"solidity\":0.2}},\"type\":\"histogram\"}],\"scattergl\":[{\"type\":\"scattergl\",\"marker\":{\"colorbar\":{\"outlinewidth\":0,\"ticks\":\"\"}}}],\"scatter3d\":[{\"type\":\"scatter3d\",\"line\":{\"colorbar\":{\"outlinewidth\":0,\"ticks\":\"\"}},\"marker\":{\"colorbar\":{\"outlinewidth\":0,\"ticks\":\"\"}}}],\"scattermapbox\":[{\"type\":\"scattermapbox\",\"marker\":{\"colorbar\":{\"outlinewidth\":0,\"ticks\":\"\"}}}],\"scatterternary\":[{\"type\":\"scatterternary\",\"marker\":{\"colorbar\":{\"outlinewidth\":0,\"ticks\":\"\"}}}],\"scattercarpet\":[{\"type\":\"scattercarpet\",\"marker\":{\"colorbar\":{\"outlinewidth\":0,\"ticks\":\"\"}}}],\"carpet\":[{\"aaxis\":{\"endlinecolor\":\"#2a3f5f\",\"gridcolor\":\"white\",\"linecolor\":\"white\",\"minorgridcolor\":\"white\",\"startlinecolor\":\"#2a3f5f\"},\"baxis\":{\"endlinecolor\":\"#2a3f5f\",\"gridcolor\":\"white\",\"linecolor\":\"white\",\"minorgridcolor\":\"white\",\"startlinecolor\":\"#2a3f5f\"},\"type\":\"carpet\"}],\"table\":[{\"cells\":{\"fill\":{\"color\":\"#EBF0F8\"},\"line\":{\"color\":\"white\"}},\"header\":{\"fill\":{\"color\":\"#C8D4E3\"},\"line\":{\"color\":\"white\"}},\"type\":\"table\"}],\"barpolar\":[{\"marker\":{\"line\":{\"color\":\"#E5ECF6\",\"width\":0.5},\"pattern\":{\"fillmode\":\"overlay\",\"size\":10,\"solidity\":0.2}},\"type\":\"barpolar\"}],\"pie\":[{\"automargin\":true,\"type\":\"pie\"}]},\"layout\":{\"autotypenumbers\":\"strict\",\"colorway\":[\"#636efa\",\"#EF553B\",\"#00cc96\",\"#ab63fa\",\"#FFA15A\",\"#19d3f3\",\"#FF6692\",\"#B6E880\",\"#FF97FF\",\"#FECB52\"],\"font\":{\"color\":\"#2a3f5f\"},\"hovermode\":\"closest\",\"hoverlabel\":{\"align\":\"left\"},\"paper_bgcolor\":\"white\",\"plot_bgcolor\":\"#E5ECF6\",\"polar\":{\"bgcolor\":\"#E5ECF6\",\"angularaxis\":{\"gridcolor\":\"white\",\"linecolor\":\"white\",\"ticks\":\"\"},\"radialaxis\":{\"gridcolor\":\"white\",\"linecolor\":\"white\",\"ticks\":\"\"}},\"ternary\":{\"bgcolor\":\"#E5ECF6\",\"aaxis\":{\"gridcolor\":\"white\",\"linecolor\":\"white\",\"ticks\":\"\"},\"baxis\":{\"gridcolor\":\"white\",\"linecolor\":\"white\",\"ticks\":\"\"},\"caxis\":{\"gridcolor\":\"white\",\"linecolor\":\"white\",\"ticks\":\"\"}},\"coloraxis\":{\"colorbar\":{\"outlinewidth\":0,\"ticks\":\"\"}},\"colorscale\":{\"sequential\":[[0.0,\"#0d0887\"],[0.1111111111111111,\"#46039f\"],[0.2222222222222222,\"#7201a8\"],[0.3333333333333333,\"#9c179e\"],[0.4444444444444444,\"#bd3786\"],[0.5555555555555556,\"#d8576b\"],[0.6666666666666666,\"#ed7953\"],[0.7777777777777778,\"#fb9f3a\"],[0.8888888888888888,\"#fdca26\"],[1.0,\"#f0f921\"]],\"sequentialminus\":[[0.0,\"#0d0887\"],[0.1111111111111111,\"#46039f\"],[0.2222222222222222,\"#7201a8\"],[0.3333333333333333,\"#9c179e\"],[0.4444444444444444,\"#bd3786\"],[0.5555555555555556,\"#d8576b\"],[0.6666666666666666,\"#ed7953\"],[0.7777777777777778,\"#fb9f3a\"],[0.8888888888888888,\"#fdca26\"],[1.0,\"#f0f921\"]],\"diverging\":[[0,\"#8e0152\"],[0.1,\"#c51b7d\"],[0.2,\"#de77ae\"],[0.3,\"#f1b6da\"],[0.4,\"#fde0ef\"],[0.5,\"#f7f7f7\"],[0.6,\"#e6f5d0\"],[0.7,\"#b8e186\"],[0.8,\"#7fbc41\"],[0.9,\"#4d9221\"],[1,\"#276419\"]]},\"xaxis\":{\"gridcolor\":\"white\",\"linecolor\":\"white\",\"ticks\":\"\",\"title\":{\"standoff\":15},\"zerolinecolor\":\"white\",\"automargin\":true,\"zerolinewidth\":2},\"yaxis\":{\"gridcolor\":\"white\",\"linecolor\":\"white\",\"ticks\":\"\",\"title\":{\"standoff\":15},\"zerolinecolor\":\"white\",\"automargin\":true,\"zerolinewidth\":2},\"scene\":{\"xaxis\":{\"backgroundcolor\":\"#E5ECF6\",\"gridcolor\":\"white\",\"linecolor\":\"white\",\"showbackground\":true,\"ticks\":\"\",\"zerolinecolor\":\"white\",\"gridwidth\":2},\"yaxis\":{\"backgroundcolor\":\"#E5ECF6\",\"gridcolor\":\"white\",\"linecolor\":\"white\",\"showbackground\":true,\"ticks\":\"\",\"zerolinecolor\":\"white\",\"gridwidth\":2},\"zaxis\":{\"backgroundcolor\":\"#E5ECF6\",\"gridcolor\":\"white\",\"linecolor\":\"white\",\"showbackground\":true,\"ticks\":\"\",\"zerolinecolor\":\"white\",\"gridwidth\":2}},\"shapedefaults\":{\"line\":{\"color\":\"#2a3f5f\"}},\"annotationdefaults\":{\"arrowcolor\":\"#2a3f5f\",\"arrowhead\":0,\"arrowwidth\":1},\"geo\":{\"bgcolor\":\"white\",\"landcolor\":\"#E5ECF6\",\"subunitcolor\":\"white\",\"showland\":true,\"showlakes\":true,\"lakecolor\":\"white\"},\"title\":{\"x\":0.05},\"mapbox\":{\"style\":\"light\"}}},\"polar\":{\"domain\":{\"x\":[0.0,1.0],\"y\":[0.0,1.0]},\"angularaxis\":{\"direction\":\"counterclockwise\",\"rotation\":0},\"radialaxis\":{\"range\":[0,10]}},\"legend\":{\"title\":{\"text\":\"Legenda\"},\"tracegroupgap\":0},\"title\":{\"text\":\"Comparativo das Notas do Aluno com as M\\u00e9dias (2020)\"}},                        {\"responsive\": true}                    ).then(function(){\n",
       "                            \n",
       "var gd = document.getElementById('765f8f00-2832-49ba-ae16-1ce409894ec6');\n",
       "var x = new MutationObserver(function (mutations, observer) {{\n",
       "        var display = window.getComputedStyle(gd).display;\n",
       "        if (!display || display === 'none') {{\n",
       "            console.log([gd, 'removed!']);\n",
       "            Plotly.purge(gd);\n",
       "            observer.disconnect();\n",
       "        }}\n",
       "}});\n",
       "\n",
       "// Listen for the removal of the full notebook cells\n",
       "var notebookContainer = gd.closest('#notebook-container');\n",
       "if (notebookContainer) {{\n",
       "    x.observe(notebookContainer, {childList: true});\n",
       "}}\n",
       "\n",
       "// Listen for the clearing of the current output cell\n",
       "var outputEl = gd.closest('.output');\n",
       "if (outputEl) {{\n",
       "    x.observe(outputEl, {childList: true});\n",
       "}}\n",
       "\n",
       "                        })                };                });            </script>        </div>"
      ]
     },
     "metadata": {},
     "output_type": "display_data"
    },
    {
     "data": {
      "application/vnd.plotly.v1+json": {
       "data": [
        {
         "hovertemplate": "Legenda=Notas do Aluno (2021)<br>Nota=%{r}<br>Indice=%{theta}<extra></extra>",
         "legendgroup": "Notas do Aluno (2021)",
         "line": {
          "color": "#636efa",
          "dash": "solid"
         },
         "marker": {
          "symbol": "circle"
         },
         "mode": "lines+markers",
         "name": "Notas do Aluno (2021)",
         "r": [
          10.0,
          5.4,
          7.5,
          7.4,
          7.5,
          8.5,
          7.4,
          10.0
         ],
         "showlegend": true,
         "subplot": "polar",
         "theta": [
          "IAN",
          "IDA",
          "IEG",
          "IAA",
          "IPS",
          "IPP",
          "IPV",
          "IAN"
         ],
         "type": "scatterpolar"
        },
        {
         "hovertemplate": "Legenda=Médias da Fase (2021)<br>Nota=%{r}<br>Indice=%{theta}<extra></extra>",
         "legendgroup": "Médias da Fase (2021)",
         "line": {
          "color": "#EF553B",
          "dash": "solid"
         },
         "marker": {
          "symbol": "circle"
         },
         "mode": "lines+markers",
         "name": "Médias da Fase (2021)",
         "r": [
          6.7,
          5.11,
          6.2,
          7.29,
          7.04,
          7.67,
          7.39,
          6.7
         ],
         "showlegend": true,
         "subplot": "polar",
         "theta": [
          "IAN",
          "IDA",
          "IEG",
          "IAA",
          "IPS",
          "IPP",
          "IPV",
          "IAN"
         ],
         "type": "scatterpolar"
        },
        {
         "hovertemplate": "Legenda=Médias da Turma (2021)<br>Nota=%{r}<br>Indice=%{theta}<extra></extra>",
         "legendgroup": "Médias da Turma (2021)",
         "line": {
          "color": "#00cc96",
          "dash": "solid"
         },
         "marker": {
          "symbol": "circle"
         },
         "mode": "lines+markers",
         "name": "Médias da Turma (2021)",
         "r": [
          6.43,
          4.37,
          6.19,
          5.7,
          7.5,
          8.06,
          7.0,
          6.43
         ],
         "showlegend": true,
         "subplot": "polar",
         "theta": [
          "IAN",
          "IDA",
          "IEG",
          "IAA",
          "IPS",
          "IPP",
          "IPV",
          "IAN"
         ],
         "type": "scatterpolar"
        }
       ],
       "layout": {
        "template": {
         "data": {
          "histogram2dcontour": [
           {
            "type": "histogram2dcontour",
            "colorbar": {
             "outlinewidth": 0,
             "ticks": ""
            },
            "colorscale": [
             [
              0.0,
              "#0d0887"
             ],
             [
              0.1111111111111111,
              "#46039f"
             ],
             [
              0.2222222222222222,
              "#7201a8"
             ],
             [
              0.3333333333333333,
              "#9c179e"
             ],
             [
              0.4444444444444444,
              "#bd3786"
             ],
             [
              0.5555555555555556,
              "#d8576b"
             ],
             [
              0.6666666666666666,
              "#ed7953"
             ],
             [
              0.7777777777777778,
              "#fb9f3a"
             ],
             [
              0.8888888888888888,
              "#fdca26"
             ],
             [
              1.0,
              "#f0f921"
             ]
            ]
           }
          ],
          "choropleth": [
           {
            "type": "choropleth",
            "colorbar": {
             "outlinewidth": 0,
             "ticks": ""
            }
           }
          ],
          "histogram2d": [
           {
            "type": "histogram2d",
            "colorbar": {
             "outlinewidth": 0,
             "ticks": ""
            },
            "colorscale": [
             [
              0.0,
              "#0d0887"
             ],
             [
              0.1111111111111111,
              "#46039f"
             ],
             [
              0.2222222222222222,
              "#7201a8"
             ],
             [
              0.3333333333333333,
              "#9c179e"
             ],
             [
              0.4444444444444444,
              "#bd3786"
             ],
             [
              0.5555555555555556,
              "#d8576b"
             ],
             [
              0.6666666666666666,
              "#ed7953"
             ],
             [
              0.7777777777777778,
              "#fb9f3a"
             ],
             [
              0.8888888888888888,
              "#fdca26"
             ],
             [
              1.0,
              "#f0f921"
             ]
            ]
           }
          ],
          "heatmap": [
           {
            "type": "heatmap",
            "colorbar": {
             "outlinewidth": 0,
             "ticks": ""
            },
            "colorscale": [
             [
              0.0,
              "#0d0887"
             ],
             [
              0.1111111111111111,
              "#46039f"
             ],
             [
              0.2222222222222222,
              "#7201a8"
             ],
             [
              0.3333333333333333,
              "#9c179e"
             ],
             [
              0.4444444444444444,
              "#bd3786"
             ],
             [
              0.5555555555555556,
              "#d8576b"
             ],
             [
              0.6666666666666666,
              "#ed7953"
             ],
             [
              0.7777777777777778,
              "#fb9f3a"
             ],
             [
              0.8888888888888888,
              "#fdca26"
             ],
             [
              1.0,
              "#f0f921"
             ]
            ]
           }
          ],
          "heatmapgl": [
           {
            "type": "heatmapgl",
            "colorbar": {
             "outlinewidth": 0,
             "ticks": ""
            },
            "colorscale": [
             [
              0.0,
              "#0d0887"
             ],
             [
              0.1111111111111111,
              "#46039f"
             ],
             [
              0.2222222222222222,
              "#7201a8"
             ],
             [
              0.3333333333333333,
              "#9c179e"
             ],
             [
              0.4444444444444444,
              "#bd3786"
             ],
             [
              0.5555555555555556,
              "#d8576b"
             ],
             [
              0.6666666666666666,
              "#ed7953"
             ],
             [
              0.7777777777777778,
              "#fb9f3a"
             ],
             [
              0.8888888888888888,
              "#fdca26"
             ],
             [
              1.0,
              "#f0f921"
             ]
            ]
           }
          ],
          "contourcarpet": [
           {
            "type": "contourcarpet",
            "colorbar": {
             "outlinewidth": 0,
             "ticks": ""
            }
           }
          ],
          "contour": [
           {
            "type": "contour",
            "colorbar": {
             "outlinewidth": 0,
             "ticks": ""
            },
            "colorscale": [
             [
              0.0,
              "#0d0887"
             ],
             [
              0.1111111111111111,
              "#46039f"
             ],
             [
              0.2222222222222222,
              "#7201a8"
             ],
             [
              0.3333333333333333,
              "#9c179e"
             ],
             [
              0.4444444444444444,
              "#bd3786"
             ],
             [
              0.5555555555555556,
              "#d8576b"
             ],
             [
              0.6666666666666666,
              "#ed7953"
             ],
             [
              0.7777777777777778,
              "#fb9f3a"
             ],
             [
              0.8888888888888888,
              "#fdca26"
             ],
             [
              1.0,
              "#f0f921"
             ]
            ]
           }
          ],
          "surface": [
           {
            "type": "surface",
            "colorbar": {
             "outlinewidth": 0,
             "ticks": ""
            },
            "colorscale": [
             [
              0.0,
              "#0d0887"
             ],
             [
              0.1111111111111111,
              "#46039f"
             ],
             [
              0.2222222222222222,
              "#7201a8"
             ],
             [
              0.3333333333333333,
              "#9c179e"
             ],
             [
              0.4444444444444444,
              "#bd3786"
             ],
             [
              0.5555555555555556,
              "#d8576b"
             ],
             [
              0.6666666666666666,
              "#ed7953"
             ],
             [
              0.7777777777777778,
              "#fb9f3a"
             ],
             [
              0.8888888888888888,
              "#fdca26"
             ],
             [
              1.0,
              "#f0f921"
             ]
            ]
           }
          ],
          "mesh3d": [
           {
            "type": "mesh3d",
            "colorbar": {
             "outlinewidth": 0,
             "ticks": ""
            }
           }
          ],
          "scatter": [
           {
            "fillpattern": {
             "fillmode": "overlay",
             "size": 10,
             "solidity": 0.2
            },
            "type": "scatter"
           }
          ],
          "parcoords": [
           {
            "type": "parcoords",
            "line": {
             "colorbar": {
              "outlinewidth": 0,
              "ticks": ""
             }
            }
           }
          ],
          "scatterpolargl": [
           {
            "type": "scatterpolargl",
            "marker": {
             "colorbar": {
              "outlinewidth": 0,
              "ticks": ""
             }
            }
           }
          ],
          "bar": [
           {
            "error_x": {
             "color": "#2a3f5f"
            },
            "error_y": {
             "color": "#2a3f5f"
            },
            "marker": {
             "line": {
              "color": "#E5ECF6",
              "width": 0.5
             },
             "pattern": {
              "fillmode": "overlay",
              "size": 10,
              "solidity": 0.2
             }
            },
            "type": "bar"
           }
          ],
          "scattergeo": [
           {
            "type": "scattergeo",
            "marker": {
             "colorbar": {
              "outlinewidth": 0,
              "ticks": ""
             }
            }
           }
          ],
          "scatterpolar": [
           {
            "type": "scatterpolar",
            "marker": {
             "colorbar": {
              "outlinewidth": 0,
              "ticks": ""
             }
            }
           }
          ],
          "histogram": [
           {
            "marker": {
             "pattern": {
              "fillmode": "overlay",
              "size": 10,
              "solidity": 0.2
             }
            },
            "type": "histogram"
           }
          ],
          "scattergl": [
           {
            "type": "scattergl",
            "marker": {
             "colorbar": {
              "outlinewidth": 0,
              "ticks": ""
             }
            }
           }
          ],
          "scatter3d": [
           {
            "type": "scatter3d",
            "line": {
             "colorbar": {
              "outlinewidth": 0,
              "ticks": ""
             }
            },
            "marker": {
             "colorbar": {
              "outlinewidth": 0,
              "ticks": ""
             }
            }
           }
          ],
          "scattermapbox": [
           {
            "type": "scattermapbox",
            "marker": {
             "colorbar": {
              "outlinewidth": 0,
              "ticks": ""
             }
            }
           }
          ],
          "scatterternary": [
           {
            "type": "scatterternary",
            "marker": {
             "colorbar": {
              "outlinewidth": 0,
              "ticks": ""
             }
            }
           }
          ],
          "scattercarpet": [
           {
            "type": "scattercarpet",
            "marker": {
             "colorbar": {
              "outlinewidth": 0,
              "ticks": ""
             }
            }
           }
          ],
          "carpet": [
           {
            "aaxis": {
             "endlinecolor": "#2a3f5f",
             "gridcolor": "white",
             "linecolor": "white",
             "minorgridcolor": "white",
             "startlinecolor": "#2a3f5f"
            },
            "baxis": {
             "endlinecolor": "#2a3f5f",
             "gridcolor": "white",
             "linecolor": "white",
             "minorgridcolor": "white",
             "startlinecolor": "#2a3f5f"
            },
            "type": "carpet"
           }
          ],
          "table": [
           {
            "cells": {
             "fill": {
              "color": "#EBF0F8"
             },
             "line": {
              "color": "white"
             }
            },
            "header": {
             "fill": {
              "color": "#C8D4E3"
             },
             "line": {
              "color": "white"
             }
            },
            "type": "table"
           }
          ],
          "barpolar": [
           {
            "marker": {
             "line": {
              "color": "#E5ECF6",
              "width": 0.5
             },
             "pattern": {
              "fillmode": "overlay",
              "size": 10,
              "solidity": 0.2
             }
            },
            "type": "barpolar"
           }
          ],
          "pie": [
           {
            "automargin": true,
            "type": "pie"
           }
          ]
         },
         "layout": {
          "autotypenumbers": "strict",
          "colorway": [
           "#636efa",
           "#EF553B",
           "#00cc96",
           "#ab63fa",
           "#FFA15A",
           "#19d3f3",
           "#FF6692",
           "#B6E880",
           "#FF97FF",
           "#FECB52"
          ],
          "font": {
           "color": "#2a3f5f"
          },
          "hovermode": "closest",
          "hoverlabel": {
           "align": "left"
          },
          "paper_bgcolor": "white",
          "plot_bgcolor": "#E5ECF6",
          "polar": {
           "bgcolor": "#E5ECF6",
           "angularaxis": {
            "gridcolor": "white",
            "linecolor": "white",
            "ticks": ""
           },
           "radialaxis": {
            "gridcolor": "white",
            "linecolor": "white",
            "ticks": ""
           }
          },
          "ternary": {
           "bgcolor": "#E5ECF6",
           "aaxis": {
            "gridcolor": "white",
            "linecolor": "white",
            "ticks": ""
           },
           "baxis": {
            "gridcolor": "white",
            "linecolor": "white",
            "ticks": ""
           },
           "caxis": {
            "gridcolor": "white",
            "linecolor": "white",
            "ticks": ""
           }
          },
          "coloraxis": {
           "colorbar": {
            "outlinewidth": 0,
            "ticks": ""
           }
          },
          "colorscale": {
           "sequential": [
            [
             0.0,
             "#0d0887"
            ],
            [
             0.1111111111111111,
             "#46039f"
            ],
            [
             0.2222222222222222,
             "#7201a8"
            ],
            [
             0.3333333333333333,
             "#9c179e"
            ],
            [
             0.4444444444444444,
             "#bd3786"
            ],
            [
             0.5555555555555556,
             "#d8576b"
            ],
            [
             0.6666666666666666,
             "#ed7953"
            ],
            [
             0.7777777777777778,
             "#fb9f3a"
            ],
            [
             0.8888888888888888,
             "#fdca26"
            ],
            [
             1.0,
             "#f0f921"
            ]
           ],
           "sequentialminus": [
            [
             0.0,
             "#0d0887"
            ],
            [
             0.1111111111111111,
             "#46039f"
            ],
            [
             0.2222222222222222,
             "#7201a8"
            ],
            [
             0.3333333333333333,
             "#9c179e"
            ],
            [
             0.4444444444444444,
             "#bd3786"
            ],
            [
             0.5555555555555556,
             "#d8576b"
            ],
            [
             0.6666666666666666,
             "#ed7953"
            ],
            [
             0.7777777777777778,
             "#fb9f3a"
            ],
            [
             0.8888888888888888,
             "#fdca26"
            ],
            [
             1.0,
             "#f0f921"
            ]
           ],
           "diverging": [
            [
             0,
             "#8e0152"
            ],
            [
             0.1,
             "#c51b7d"
            ],
            [
             0.2,
             "#de77ae"
            ],
            [
             0.3,
             "#f1b6da"
            ],
            [
             0.4,
             "#fde0ef"
            ],
            [
             0.5,
             "#f7f7f7"
            ],
            [
             0.6,
             "#e6f5d0"
            ],
            [
             0.7,
             "#b8e186"
            ],
            [
             0.8,
             "#7fbc41"
            ],
            [
             0.9,
             "#4d9221"
            ],
            [
             1,
             "#276419"
            ]
           ]
          },
          "xaxis": {
           "gridcolor": "white",
           "linecolor": "white",
           "ticks": "",
           "title": {
            "standoff": 15
           },
           "zerolinecolor": "white",
           "automargin": true,
           "zerolinewidth": 2
          },
          "yaxis": {
           "gridcolor": "white",
           "linecolor": "white",
           "ticks": "",
           "title": {
            "standoff": 15
           },
           "zerolinecolor": "white",
           "automargin": true,
           "zerolinewidth": 2
          },
          "scene": {
           "xaxis": {
            "backgroundcolor": "#E5ECF6",
            "gridcolor": "white",
            "linecolor": "white",
            "showbackground": true,
            "ticks": "",
            "zerolinecolor": "white",
            "gridwidth": 2
           },
           "yaxis": {
            "backgroundcolor": "#E5ECF6",
            "gridcolor": "white",
            "linecolor": "white",
            "showbackground": true,
            "ticks": "",
            "zerolinecolor": "white",
            "gridwidth": 2
           },
           "zaxis": {
            "backgroundcolor": "#E5ECF6",
            "gridcolor": "white",
            "linecolor": "white",
            "showbackground": true,
            "ticks": "",
            "zerolinecolor": "white",
            "gridwidth": 2
           }
          },
          "shapedefaults": {
           "line": {
            "color": "#2a3f5f"
           }
          },
          "annotationdefaults": {
           "arrowcolor": "#2a3f5f",
           "arrowhead": 0,
           "arrowwidth": 1
          },
          "geo": {
           "bgcolor": "white",
           "landcolor": "#E5ECF6",
           "subunitcolor": "white",
           "showland": true,
           "showlakes": true,
           "lakecolor": "white"
          },
          "title": {
           "x": 0.05
          },
          "mapbox": {
           "style": "light"
          }
         }
        },
        "polar": {
         "domain": {
          "x": [
           0.0,
           1.0
          ],
          "y": [
           0.0,
           1.0
          ]
         },
         "angularaxis": {
          "direction": "counterclockwise",
          "rotation": 0
         },
         "radialaxis": {
          "range": [
           0,
           10
          ]
         }
        },
        "legend": {
         "title": {
          "text": "Legenda"
         },
         "tracegroupgap": 0
        },
        "title": {
         "text": "Comparativo das Notas do Aluno com as Médias (2021)"
        }
       },
       "config": {
        "plotlyServerURL": "https://plot.ly"
       }
      },
      "text/html": [
       "<div>                            <div id=\"5bb61ee6-b533-45b6-8de4-ca9769db1291\" class=\"plotly-graph-div\" style=\"height:525px; width:100%;\"></div>            <script type=\"text/javascript\">                require([\"plotly\"], function(Plotly) {                    window.PLOTLYENV=window.PLOTLYENV || {};                                    if (document.getElementById(\"5bb61ee6-b533-45b6-8de4-ca9769db1291\")) {                    Plotly.newPlot(                        \"5bb61ee6-b533-45b6-8de4-ca9769db1291\",                        [{\"hovertemplate\":\"Legenda=Notas do Aluno (2021)\\u003cbr\\u003eNota=%{r}\\u003cbr\\u003eIndice=%{theta}\\u003cextra\\u003e\\u003c\\u002fextra\\u003e\",\"legendgroup\":\"Notas do Aluno (2021)\",\"line\":{\"color\":\"#636efa\",\"dash\":\"solid\"},\"marker\":{\"symbol\":\"circle\"},\"mode\":\"lines+markers\",\"name\":\"Notas do Aluno (2021)\",\"r\":[10.0,5.4,7.5,7.4,7.5,8.5,7.4,10.0],\"showlegend\":true,\"subplot\":\"polar\",\"theta\":[\"IAN\",\"IDA\",\"IEG\",\"IAA\",\"IPS\",\"IPP\",\"IPV\",\"IAN\"],\"type\":\"scatterpolar\"},{\"hovertemplate\":\"Legenda=M\\u00e9dias da Fase (2021)\\u003cbr\\u003eNota=%{r}\\u003cbr\\u003eIndice=%{theta}\\u003cextra\\u003e\\u003c\\u002fextra\\u003e\",\"legendgroup\":\"M\\u00e9dias da Fase (2021)\",\"line\":{\"color\":\"#EF553B\",\"dash\":\"solid\"},\"marker\":{\"symbol\":\"circle\"},\"mode\":\"lines+markers\",\"name\":\"M\\u00e9dias da Fase (2021)\",\"r\":[6.7,5.11,6.2,7.29,7.04,7.67,7.39,6.7],\"showlegend\":true,\"subplot\":\"polar\",\"theta\":[\"IAN\",\"IDA\",\"IEG\",\"IAA\",\"IPS\",\"IPP\",\"IPV\",\"IAN\"],\"type\":\"scatterpolar\"},{\"hovertemplate\":\"Legenda=M\\u00e9dias da Turma (2021)\\u003cbr\\u003eNota=%{r}\\u003cbr\\u003eIndice=%{theta}\\u003cextra\\u003e\\u003c\\u002fextra\\u003e\",\"legendgroup\":\"M\\u00e9dias da Turma (2021)\",\"line\":{\"color\":\"#00cc96\",\"dash\":\"solid\"},\"marker\":{\"symbol\":\"circle\"},\"mode\":\"lines+markers\",\"name\":\"M\\u00e9dias da Turma (2021)\",\"r\":[6.43,4.37,6.19,5.7,7.5,8.06,7.0,6.43],\"showlegend\":true,\"subplot\":\"polar\",\"theta\":[\"IAN\",\"IDA\",\"IEG\",\"IAA\",\"IPS\",\"IPP\",\"IPV\",\"IAN\"],\"type\":\"scatterpolar\"}],                        {\"template\":{\"data\":{\"histogram2dcontour\":[{\"type\":\"histogram2dcontour\",\"colorbar\":{\"outlinewidth\":0,\"ticks\":\"\"},\"colorscale\":[[0.0,\"#0d0887\"],[0.1111111111111111,\"#46039f\"],[0.2222222222222222,\"#7201a8\"],[0.3333333333333333,\"#9c179e\"],[0.4444444444444444,\"#bd3786\"],[0.5555555555555556,\"#d8576b\"],[0.6666666666666666,\"#ed7953\"],[0.7777777777777778,\"#fb9f3a\"],[0.8888888888888888,\"#fdca26\"],[1.0,\"#f0f921\"]]}],\"choropleth\":[{\"type\":\"choropleth\",\"colorbar\":{\"outlinewidth\":0,\"ticks\":\"\"}}],\"histogram2d\":[{\"type\":\"histogram2d\",\"colorbar\":{\"outlinewidth\":0,\"ticks\":\"\"},\"colorscale\":[[0.0,\"#0d0887\"],[0.1111111111111111,\"#46039f\"],[0.2222222222222222,\"#7201a8\"],[0.3333333333333333,\"#9c179e\"],[0.4444444444444444,\"#bd3786\"],[0.5555555555555556,\"#d8576b\"],[0.6666666666666666,\"#ed7953\"],[0.7777777777777778,\"#fb9f3a\"],[0.8888888888888888,\"#fdca26\"],[1.0,\"#f0f921\"]]}],\"heatmap\":[{\"type\":\"heatmap\",\"colorbar\":{\"outlinewidth\":0,\"ticks\":\"\"},\"colorscale\":[[0.0,\"#0d0887\"],[0.1111111111111111,\"#46039f\"],[0.2222222222222222,\"#7201a8\"],[0.3333333333333333,\"#9c179e\"],[0.4444444444444444,\"#bd3786\"],[0.5555555555555556,\"#d8576b\"],[0.6666666666666666,\"#ed7953\"],[0.7777777777777778,\"#fb9f3a\"],[0.8888888888888888,\"#fdca26\"],[1.0,\"#f0f921\"]]}],\"heatmapgl\":[{\"type\":\"heatmapgl\",\"colorbar\":{\"outlinewidth\":0,\"ticks\":\"\"},\"colorscale\":[[0.0,\"#0d0887\"],[0.1111111111111111,\"#46039f\"],[0.2222222222222222,\"#7201a8\"],[0.3333333333333333,\"#9c179e\"],[0.4444444444444444,\"#bd3786\"],[0.5555555555555556,\"#d8576b\"],[0.6666666666666666,\"#ed7953\"],[0.7777777777777778,\"#fb9f3a\"],[0.8888888888888888,\"#fdca26\"],[1.0,\"#f0f921\"]]}],\"contourcarpet\":[{\"type\":\"contourcarpet\",\"colorbar\":{\"outlinewidth\":0,\"ticks\":\"\"}}],\"contour\":[{\"type\":\"contour\",\"colorbar\":{\"outlinewidth\":0,\"ticks\":\"\"},\"colorscale\":[[0.0,\"#0d0887\"],[0.1111111111111111,\"#46039f\"],[0.2222222222222222,\"#7201a8\"],[0.3333333333333333,\"#9c179e\"],[0.4444444444444444,\"#bd3786\"],[0.5555555555555556,\"#d8576b\"],[0.6666666666666666,\"#ed7953\"],[0.7777777777777778,\"#fb9f3a\"],[0.8888888888888888,\"#fdca26\"],[1.0,\"#f0f921\"]]}],\"surface\":[{\"type\":\"surface\",\"colorbar\":{\"outlinewidth\":0,\"ticks\":\"\"},\"colorscale\":[[0.0,\"#0d0887\"],[0.1111111111111111,\"#46039f\"],[0.2222222222222222,\"#7201a8\"],[0.3333333333333333,\"#9c179e\"],[0.4444444444444444,\"#bd3786\"],[0.5555555555555556,\"#d8576b\"],[0.6666666666666666,\"#ed7953\"],[0.7777777777777778,\"#fb9f3a\"],[0.8888888888888888,\"#fdca26\"],[1.0,\"#f0f921\"]]}],\"mesh3d\":[{\"type\":\"mesh3d\",\"colorbar\":{\"outlinewidth\":0,\"ticks\":\"\"}}],\"scatter\":[{\"fillpattern\":{\"fillmode\":\"overlay\",\"size\":10,\"solidity\":0.2},\"type\":\"scatter\"}],\"parcoords\":[{\"type\":\"parcoords\",\"line\":{\"colorbar\":{\"outlinewidth\":0,\"ticks\":\"\"}}}],\"scatterpolargl\":[{\"type\":\"scatterpolargl\",\"marker\":{\"colorbar\":{\"outlinewidth\":0,\"ticks\":\"\"}}}],\"bar\":[{\"error_x\":{\"color\":\"#2a3f5f\"},\"error_y\":{\"color\":\"#2a3f5f\"},\"marker\":{\"line\":{\"color\":\"#E5ECF6\",\"width\":0.5},\"pattern\":{\"fillmode\":\"overlay\",\"size\":10,\"solidity\":0.2}},\"type\":\"bar\"}],\"scattergeo\":[{\"type\":\"scattergeo\",\"marker\":{\"colorbar\":{\"outlinewidth\":0,\"ticks\":\"\"}}}],\"scatterpolar\":[{\"type\":\"scatterpolar\",\"marker\":{\"colorbar\":{\"outlinewidth\":0,\"ticks\":\"\"}}}],\"histogram\":[{\"marker\":{\"pattern\":{\"fillmode\":\"overlay\",\"size\":10,\"solidity\":0.2}},\"type\":\"histogram\"}],\"scattergl\":[{\"type\":\"scattergl\",\"marker\":{\"colorbar\":{\"outlinewidth\":0,\"ticks\":\"\"}}}],\"scatter3d\":[{\"type\":\"scatter3d\",\"line\":{\"colorbar\":{\"outlinewidth\":0,\"ticks\":\"\"}},\"marker\":{\"colorbar\":{\"outlinewidth\":0,\"ticks\":\"\"}}}],\"scattermapbox\":[{\"type\":\"scattermapbox\",\"marker\":{\"colorbar\":{\"outlinewidth\":0,\"ticks\":\"\"}}}],\"scatterternary\":[{\"type\":\"scatterternary\",\"marker\":{\"colorbar\":{\"outlinewidth\":0,\"ticks\":\"\"}}}],\"scattercarpet\":[{\"type\":\"scattercarpet\",\"marker\":{\"colorbar\":{\"outlinewidth\":0,\"ticks\":\"\"}}}],\"carpet\":[{\"aaxis\":{\"endlinecolor\":\"#2a3f5f\",\"gridcolor\":\"white\",\"linecolor\":\"white\",\"minorgridcolor\":\"white\",\"startlinecolor\":\"#2a3f5f\"},\"baxis\":{\"endlinecolor\":\"#2a3f5f\",\"gridcolor\":\"white\",\"linecolor\":\"white\",\"minorgridcolor\":\"white\",\"startlinecolor\":\"#2a3f5f\"},\"type\":\"carpet\"}],\"table\":[{\"cells\":{\"fill\":{\"color\":\"#EBF0F8\"},\"line\":{\"color\":\"white\"}},\"header\":{\"fill\":{\"color\":\"#C8D4E3\"},\"line\":{\"color\":\"white\"}},\"type\":\"table\"}],\"barpolar\":[{\"marker\":{\"line\":{\"color\":\"#E5ECF6\",\"width\":0.5},\"pattern\":{\"fillmode\":\"overlay\",\"size\":10,\"solidity\":0.2}},\"type\":\"barpolar\"}],\"pie\":[{\"automargin\":true,\"type\":\"pie\"}]},\"layout\":{\"autotypenumbers\":\"strict\",\"colorway\":[\"#636efa\",\"#EF553B\",\"#00cc96\",\"#ab63fa\",\"#FFA15A\",\"#19d3f3\",\"#FF6692\",\"#B6E880\",\"#FF97FF\",\"#FECB52\"],\"font\":{\"color\":\"#2a3f5f\"},\"hovermode\":\"closest\",\"hoverlabel\":{\"align\":\"left\"},\"paper_bgcolor\":\"white\",\"plot_bgcolor\":\"#E5ECF6\",\"polar\":{\"bgcolor\":\"#E5ECF6\",\"angularaxis\":{\"gridcolor\":\"white\",\"linecolor\":\"white\",\"ticks\":\"\"},\"radialaxis\":{\"gridcolor\":\"white\",\"linecolor\":\"white\",\"ticks\":\"\"}},\"ternary\":{\"bgcolor\":\"#E5ECF6\",\"aaxis\":{\"gridcolor\":\"white\",\"linecolor\":\"white\",\"ticks\":\"\"},\"baxis\":{\"gridcolor\":\"white\",\"linecolor\":\"white\",\"ticks\":\"\"},\"caxis\":{\"gridcolor\":\"white\",\"linecolor\":\"white\",\"ticks\":\"\"}},\"coloraxis\":{\"colorbar\":{\"outlinewidth\":0,\"ticks\":\"\"}},\"colorscale\":{\"sequential\":[[0.0,\"#0d0887\"],[0.1111111111111111,\"#46039f\"],[0.2222222222222222,\"#7201a8\"],[0.3333333333333333,\"#9c179e\"],[0.4444444444444444,\"#bd3786\"],[0.5555555555555556,\"#d8576b\"],[0.6666666666666666,\"#ed7953\"],[0.7777777777777778,\"#fb9f3a\"],[0.8888888888888888,\"#fdca26\"],[1.0,\"#f0f921\"]],\"sequentialminus\":[[0.0,\"#0d0887\"],[0.1111111111111111,\"#46039f\"],[0.2222222222222222,\"#7201a8\"],[0.3333333333333333,\"#9c179e\"],[0.4444444444444444,\"#bd3786\"],[0.5555555555555556,\"#d8576b\"],[0.6666666666666666,\"#ed7953\"],[0.7777777777777778,\"#fb9f3a\"],[0.8888888888888888,\"#fdca26\"],[1.0,\"#f0f921\"]],\"diverging\":[[0,\"#8e0152\"],[0.1,\"#c51b7d\"],[0.2,\"#de77ae\"],[0.3,\"#f1b6da\"],[0.4,\"#fde0ef\"],[0.5,\"#f7f7f7\"],[0.6,\"#e6f5d0\"],[0.7,\"#b8e186\"],[0.8,\"#7fbc41\"],[0.9,\"#4d9221\"],[1,\"#276419\"]]},\"xaxis\":{\"gridcolor\":\"white\",\"linecolor\":\"white\",\"ticks\":\"\",\"title\":{\"standoff\":15},\"zerolinecolor\":\"white\",\"automargin\":true,\"zerolinewidth\":2},\"yaxis\":{\"gridcolor\":\"white\",\"linecolor\":\"white\",\"ticks\":\"\",\"title\":{\"standoff\":15},\"zerolinecolor\":\"white\",\"automargin\":true,\"zerolinewidth\":2},\"scene\":{\"xaxis\":{\"backgroundcolor\":\"#E5ECF6\",\"gridcolor\":\"white\",\"linecolor\":\"white\",\"showbackground\":true,\"ticks\":\"\",\"zerolinecolor\":\"white\",\"gridwidth\":2},\"yaxis\":{\"backgroundcolor\":\"#E5ECF6\",\"gridcolor\":\"white\",\"linecolor\":\"white\",\"showbackground\":true,\"ticks\":\"\",\"zerolinecolor\":\"white\",\"gridwidth\":2},\"zaxis\":{\"backgroundcolor\":\"#E5ECF6\",\"gridcolor\":\"white\",\"linecolor\":\"white\",\"showbackground\":true,\"ticks\":\"\",\"zerolinecolor\":\"white\",\"gridwidth\":2}},\"shapedefaults\":{\"line\":{\"color\":\"#2a3f5f\"}},\"annotationdefaults\":{\"arrowcolor\":\"#2a3f5f\",\"arrowhead\":0,\"arrowwidth\":1},\"geo\":{\"bgcolor\":\"white\",\"landcolor\":\"#E5ECF6\",\"subunitcolor\":\"white\",\"showland\":true,\"showlakes\":true,\"lakecolor\":\"white\"},\"title\":{\"x\":0.05},\"mapbox\":{\"style\":\"light\"}}},\"polar\":{\"domain\":{\"x\":[0.0,1.0],\"y\":[0.0,1.0]},\"angularaxis\":{\"direction\":\"counterclockwise\",\"rotation\":0},\"radialaxis\":{\"range\":[0,10]}},\"legend\":{\"title\":{\"text\":\"Legenda\"},\"tracegroupgap\":0},\"title\":{\"text\":\"Comparativo das Notas do Aluno com as M\\u00e9dias (2021)\"}},                        {\"responsive\": true}                    ).then(function(){\n",
       "                            \n",
       "var gd = document.getElementById('5bb61ee6-b533-45b6-8de4-ca9769db1291');\n",
       "var x = new MutationObserver(function (mutations, observer) {{\n",
       "        var display = window.getComputedStyle(gd).display;\n",
       "        if (!display || display === 'none') {{\n",
       "            console.log([gd, 'removed!']);\n",
       "            Plotly.purge(gd);\n",
       "            observer.disconnect();\n",
       "        }}\n",
       "}});\n",
       "\n",
       "// Listen for the removal of the full notebook cells\n",
       "var notebookContainer = gd.closest('#notebook-container');\n",
       "if (notebookContainer) {{\n",
       "    x.observe(notebookContainer, {childList: true});\n",
       "}}\n",
       "\n",
       "// Listen for the clearing of the current output cell\n",
       "var outputEl = gd.closest('.output');\n",
       "if (outputEl) {{\n",
       "    x.observe(outputEl, {childList: true});\n",
       "}}\n",
       "\n",
       "                        })                };                });            </script>        </div>"
      ]
     },
     "metadata": {},
     "output_type": "display_data"
    },
    {
     "data": {
      "application/vnd.plotly.v1+json": {
       "data": [
        {
         "hovertemplate": "Legenda=Notas do Aluno (2022)<br>Nota=%{r}<br>Indice=%{theta}<extra></extra>",
         "legendgroup": "Notas do Aluno (2022)",
         "line": {
          "color": "#636efa",
          "dash": "solid"
         },
         "marker": {
          "symbol": "circle"
         },
         "mode": "lines+markers",
         "name": "Notas do Aluno (2022)",
         "r": [
          5.0,
          7.08,
          8.56,
          6.42,
          7.5,
          6.46,
          7.83,
          5.0
         ],
         "showlegend": true,
         "subplot": "polar",
         "theta": [
          "IAN",
          "IDA",
          "IEG",
          "IAA",
          "IPS",
          "IPP",
          "IPV",
          "IAN"
         ],
         "type": "scatterpolar"
        },
        {
         "hovertemplate": "Legenda=Médias da Fase (2022)<br>Nota=%{r}<br>Indice=%{theta}<extra></extra>",
         "legendgroup": "Médias da Fase (2022)",
         "line": {
          "color": "#EF553B",
          "dash": "solid"
         },
         "marker": {
          "symbol": "circle"
         },
         "mode": "lines+markers",
         "name": "Médias da Fase (2022)",
         "r": [
          6.4,
          5.4,
          8.16,
          8.41,
          6.82,
          6.16,
          7.34,
          6.4
         ],
         "showlegend": true,
         "subplot": "polar",
         "theta": [
          "IAN",
          "IDA",
          "IEG",
          "IAA",
          "IPS",
          "IPP",
          "IPV",
          "IAN"
         ],
         "type": "scatterpolar"
        },
        {
         "hovertemplate": "Legenda=Médias da Turma (2022)<br>Nota=%{r}<br>Indice=%{theta}<extra></extra>",
         "legendgroup": "Médias da Turma (2022)",
         "line": {
          "color": "#00cc96",
          "dash": "solid"
         },
         "marker": {
          "symbol": "circle"
         },
         "mode": "lines+markers",
         "name": "Médias da Turma (2022)",
         "r": [
          6.33,
          6.36,
          9.32,
          8.35,
          7.21,
          6.45,
          8.05,
          6.33
         ],
         "showlegend": true,
         "subplot": "polar",
         "theta": [
          "IAN",
          "IDA",
          "IEG",
          "IAA",
          "IPS",
          "IPP",
          "IPV",
          "IAN"
         ],
         "type": "scatterpolar"
        }
       ],
       "layout": {
        "template": {
         "data": {
          "histogram2dcontour": [
           {
            "type": "histogram2dcontour",
            "colorbar": {
             "outlinewidth": 0,
             "ticks": ""
            },
            "colorscale": [
             [
              0.0,
              "#0d0887"
             ],
             [
              0.1111111111111111,
              "#46039f"
             ],
             [
              0.2222222222222222,
              "#7201a8"
             ],
             [
              0.3333333333333333,
              "#9c179e"
             ],
             [
              0.4444444444444444,
              "#bd3786"
             ],
             [
              0.5555555555555556,
              "#d8576b"
             ],
             [
              0.6666666666666666,
              "#ed7953"
             ],
             [
              0.7777777777777778,
              "#fb9f3a"
             ],
             [
              0.8888888888888888,
              "#fdca26"
             ],
             [
              1.0,
              "#f0f921"
             ]
            ]
           }
          ],
          "choropleth": [
           {
            "type": "choropleth",
            "colorbar": {
             "outlinewidth": 0,
             "ticks": ""
            }
           }
          ],
          "histogram2d": [
           {
            "type": "histogram2d",
            "colorbar": {
             "outlinewidth": 0,
             "ticks": ""
            },
            "colorscale": [
             [
              0.0,
              "#0d0887"
             ],
             [
              0.1111111111111111,
              "#46039f"
             ],
             [
              0.2222222222222222,
              "#7201a8"
             ],
             [
              0.3333333333333333,
              "#9c179e"
             ],
             [
              0.4444444444444444,
              "#bd3786"
             ],
             [
              0.5555555555555556,
              "#d8576b"
             ],
             [
              0.6666666666666666,
              "#ed7953"
             ],
             [
              0.7777777777777778,
              "#fb9f3a"
             ],
             [
              0.8888888888888888,
              "#fdca26"
             ],
             [
              1.0,
              "#f0f921"
             ]
            ]
           }
          ],
          "heatmap": [
           {
            "type": "heatmap",
            "colorbar": {
             "outlinewidth": 0,
             "ticks": ""
            },
            "colorscale": [
             [
              0.0,
              "#0d0887"
             ],
             [
              0.1111111111111111,
              "#46039f"
             ],
             [
              0.2222222222222222,
              "#7201a8"
             ],
             [
              0.3333333333333333,
              "#9c179e"
             ],
             [
              0.4444444444444444,
              "#bd3786"
             ],
             [
              0.5555555555555556,
              "#d8576b"
             ],
             [
              0.6666666666666666,
              "#ed7953"
             ],
             [
              0.7777777777777778,
              "#fb9f3a"
             ],
             [
              0.8888888888888888,
              "#fdca26"
             ],
             [
              1.0,
              "#f0f921"
             ]
            ]
           }
          ],
          "heatmapgl": [
           {
            "type": "heatmapgl",
            "colorbar": {
             "outlinewidth": 0,
             "ticks": ""
            },
            "colorscale": [
             [
              0.0,
              "#0d0887"
             ],
             [
              0.1111111111111111,
              "#46039f"
             ],
             [
              0.2222222222222222,
              "#7201a8"
             ],
             [
              0.3333333333333333,
              "#9c179e"
             ],
             [
              0.4444444444444444,
              "#bd3786"
             ],
             [
              0.5555555555555556,
              "#d8576b"
             ],
             [
              0.6666666666666666,
              "#ed7953"
             ],
             [
              0.7777777777777778,
              "#fb9f3a"
             ],
             [
              0.8888888888888888,
              "#fdca26"
             ],
             [
              1.0,
              "#f0f921"
             ]
            ]
           }
          ],
          "contourcarpet": [
           {
            "type": "contourcarpet",
            "colorbar": {
             "outlinewidth": 0,
             "ticks": ""
            }
           }
          ],
          "contour": [
           {
            "type": "contour",
            "colorbar": {
             "outlinewidth": 0,
             "ticks": ""
            },
            "colorscale": [
             [
              0.0,
              "#0d0887"
             ],
             [
              0.1111111111111111,
              "#46039f"
             ],
             [
              0.2222222222222222,
              "#7201a8"
             ],
             [
              0.3333333333333333,
              "#9c179e"
             ],
             [
              0.4444444444444444,
              "#bd3786"
             ],
             [
              0.5555555555555556,
              "#d8576b"
             ],
             [
              0.6666666666666666,
              "#ed7953"
             ],
             [
              0.7777777777777778,
              "#fb9f3a"
             ],
             [
              0.8888888888888888,
              "#fdca26"
             ],
             [
              1.0,
              "#f0f921"
             ]
            ]
           }
          ],
          "surface": [
           {
            "type": "surface",
            "colorbar": {
             "outlinewidth": 0,
             "ticks": ""
            },
            "colorscale": [
             [
              0.0,
              "#0d0887"
             ],
             [
              0.1111111111111111,
              "#46039f"
             ],
             [
              0.2222222222222222,
              "#7201a8"
             ],
             [
              0.3333333333333333,
              "#9c179e"
             ],
             [
              0.4444444444444444,
              "#bd3786"
             ],
             [
              0.5555555555555556,
              "#d8576b"
             ],
             [
              0.6666666666666666,
              "#ed7953"
             ],
             [
              0.7777777777777778,
              "#fb9f3a"
             ],
             [
              0.8888888888888888,
              "#fdca26"
             ],
             [
              1.0,
              "#f0f921"
             ]
            ]
           }
          ],
          "mesh3d": [
           {
            "type": "mesh3d",
            "colorbar": {
             "outlinewidth": 0,
             "ticks": ""
            }
           }
          ],
          "scatter": [
           {
            "fillpattern": {
             "fillmode": "overlay",
             "size": 10,
             "solidity": 0.2
            },
            "type": "scatter"
           }
          ],
          "parcoords": [
           {
            "type": "parcoords",
            "line": {
             "colorbar": {
              "outlinewidth": 0,
              "ticks": ""
             }
            }
           }
          ],
          "scatterpolargl": [
           {
            "type": "scatterpolargl",
            "marker": {
             "colorbar": {
              "outlinewidth": 0,
              "ticks": ""
             }
            }
           }
          ],
          "bar": [
           {
            "error_x": {
             "color": "#2a3f5f"
            },
            "error_y": {
             "color": "#2a3f5f"
            },
            "marker": {
             "line": {
              "color": "#E5ECF6",
              "width": 0.5
             },
             "pattern": {
              "fillmode": "overlay",
              "size": 10,
              "solidity": 0.2
             }
            },
            "type": "bar"
           }
          ],
          "scattergeo": [
           {
            "type": "scattergeo",
            "marker": {
             "colorbar": {
              "outlinewidth": 0,
              "ticks": ""
             }
            }
           }
          ],
          "scatterpolar": [
           {
            "type": "scatterpolar",
            "marker": {
             "colorbar": {
              "outlinewidth": 0,
              "ticks": ""
             }
            }
           }
          ],
          "histogram": [
           {
            "marker": {
             "pattern": {
              "fillmode": "overlay",
              "size": 10,
              "solidity": 0.2
             }
            },
            "type": "histogram"
           }
          ],
          "scattergl": [
           {
            "type": "scattergl",
            "marker": {
             "colorbar": {
              "outlinewidth": 0,
              "ticks": ""
             }
            }
           }
          ],
          "scatter3d": [
           {
            "type": "scatter3d",
            "line": {
             "colorbar": {
              "outlinewidth": 0,
              "ticks": ""
             }
            },
            "marker": {
             "colorbar": {
              "outlinewidth": 0,
              "ticks": ""
             }
            }
           }
          ],
          "scattermapbox": [
           {
            "type": "scattermapbox",
            "marker": {
             "colorbar": {
              "outlinewidth": 0,
              "ticks": ""
             }
            }
           }
          ],
          "scatterternary": [
           {
            "type": "scatterternary",
            "marker": {
             "colorbar": {
              "outlinewidth": 0,
              "ticks": ""
             }
            }
           }
          ],
          "scattercarpet": [
           {
            "type": "scattercarpet",
            "marker": {
             "colorbar": {
              "outlinewidth": 0,
              "ticks": ""
             }
            }
           }
          ],
          "carpet": [
           {
            "aaxis": {
             "endlinecolor": "#2a3f5f",
             "gridcolor": "white",
             "linecolor": "white",
             "minorgridcolor": "white",
             "startlinecolor": "#2a3f5f"
            },
            "baxis": {
             "endlinecolor": "#2a3f5f",
             "gridcolor": "white",
             "linecolor": "white",
             "minorgridcolor": "white",
             "startlinecolor": "#2a3f5f"
            },
            "type": "carpet"
           }
          ],
          "table": [
           {
            "cells": {
             "fill": {
              "color": "#EBF0F8"
             },
             "line": {
              "color": "white"
             }
            },
            "header": {
             "fill": {
              "color": "#C8D4E3"
             },
             "line": {
              "color": "white"
             }
            },
            "type": "table"
           }
          ],
          "barpolar": [
           {
            "marker": {
             "line": {
              "color": "#E5ECF6",
              "width": 0.5
             },
             "pattern": {
              "fillmode": "overlay",
              "size": 10,
              "solidity": 0.2
             }
            },
            "type": "barpolar"
           }
          ],
          "pie": [
           {
            "automargin": true,
            "type": "pie"
           }
          ]
         },
         "layout": {
          "autotypenumbers": "strict",
          "colorway": [
           "#636efa",
           "#EF553B",
           "#00cc96",
           "#ab63fa",
           "#FFA15A",
           "#19d3f3",
           "#FF6692",
           "#B6E880",
           "#FF97FF",
           "#FECB52"
          ],
          "font": {
           "color": "#2a3f5f"
          },
          "hovermode": "closest",
          "hoverlabel": {
           "align": "left"
          },
          "paper_bgcolor": "white",
          "plot_bgcolor": "#E5ECF6",
          "polar": {
           "bgcolor": "#E5ECF6",
           "angularaxis": {
            "gridcolor": "white",
            "linecolor": "white",
            "ticks": ""
           },
           "radialaxis": {
            "gridcolor": "white",
            "linecolor": "white",
            "ticks": ""
           }
          },
          "ternary": {
           "bgcolor": "#E5ECF6",
           "aaxis": {
            "gridcolor": "white",
            "linecolor": "white",
            "ticks": ""
           },
           "baxis": {
            "gridcolor": "white",
            "linecolor": "white",
            "ticks": ""
           },
           "caxis": {
            "gridcolor": "white",
            "linecolor": "white",
            "ticks": ""
           }
          },
          "coloraxis": {
           "colorbar": {
            "outlinewidth": 0,
            "ticks": ""
           }
          },
          "colorscale": {
           "sequential": [
            [
             0.0,
             "#0d0887"
            ],
            [
             0.1111111111111111,
             "#46039f"
            ],
            [
             0.2222222222222222,
             "#7201a8"
            ],
            [
             0.3333333333333333,
             "#9c179e"
            ],
            [
             0.4444444444444444,
             "#bd3786"
            ],
            [
             0.5555555555555556,
             "#d8576b"
            ],
            [
             0.6666666666666666,
             "#ed7953"
            ],
            [
             0.7777777777777778,
             "#fb9f3a"
            ],
            [
             0.8888888888888888,
             "#fdca26"
            ],
            [
             1.0,
             "#f0f921"
            ]
           ],
           "sequentialminus": [
            [
             0.0,
             "#0d0887"
            ],
            [
             0.1111111111111111,
             "#46039f"
            ],
            [
             0.2222222222222222,
             "#7201a8"
            ],
            [
             0.3333333333333333,
             "#9c179e"
            ],
            [
             0.4444444444444444,
             "#bd3786"
            ],
            [
             0.5555555555555556,
             "#d8576b"
            ],
            [
             0.6666666666666666,
             "#ed7953"
            ],
            [
             0.7777777777777778,
             "#fb9f3a"
            ],
            [
             0.8888888888888888,
             "#fdca26"
            ],
            [
             1.0,
             "#f0f921"
            ]
           ],
           "diverging": [
            [
             0,
             "#8e0152"
            ],
            [
             0.1,
             "#c51b7d"
            ],
            [
             0.2,
             "#de77ae"
            ],
            [
             0.3,
             "#f1b6da"
            ],
            [
             0.4,
             "#fde0ef"
            ],
            [
             0.5,
             "#f7f7f7"
            ],
            [
             0.6,
             "#e6f5d0"
            ],
            [
             0.7,
             "#b8e186"
            ],
            [
             0.8,
             "#7fbc41"
            ],
            [
             0.9,
             "#4d9221"
            ],
            [
             1,
             "#276419"
            ]
           ]
          },
          "xaxis": {
           "gridcolor": "white",
           "linecolor": "white",
           "ticks": "",
           "title": {
            "standoff": 15
           },
           "zerolinecolor": "white",
           "automargin": true,
           "zerolinewidth": 2
          },
          "yaxis": {
           "gridcolor": "white",
           "linecolor": "white",
           "ticks": "",
           "title": {
            "standoff": 15
           },
           "zerolinecolor": "white",
           "automargin": true,
           "zerolinewidth": 2
          },
          "scene": {
           "xaxis": {
            "backgroundcolor": "#E5ECF6",
            "gridcolor": "white",
            "linecolor": "white",
            "showbackground": true,
            "ticks": "",
            "zerolinecolor": "white",
            "gridwidth": 2
           },
           "yaxis": {
            "backgroundcolor": "#E5ECF6",
            "gridcolor": "white",
            "linecolor": "white",
            "showbackground": true,
            "ticks": "",
            "zerolinecolor": "white",
            "gridwidth": 2
           },
           "zaxis": {
            "backgroundcolor": "#E5ECF6",
            "gridcolor": "white",
            "linecolor": "white",
            "showbackground": true,
            "ticks": "",
            "zerolinecolor": "white",
            "gridwidth": 2
           }
          },
          "shapedefaults": {
           "line": {
            "color": "#2a3f5f"
           }
          },
          "annotationdefaults": {
           "arrowcolor": "#2a3f5f",
           "arrowhead": 0,
           "arrowwidth": 1
          },
          "geo": {
           "bgcolor": "white",
           "landcolor": "#E5ECF6",
           "subunitcolor": "white",
           "showland": true,
           "showlakes": true,
           "lakecolor": "white"
          },
          "title": {
           "x": 0.05
          },
          "mapbox": {
           "style": "light"
          }
         }
        },
        "polar": {
         "domain": {
          "x": [
           0.0,
           1.0
          ],
          "y": [
           0.0,
           1.0
          ]
         },
         "angularaxis": {
          "direction": "counterclockwise",
          "rotation": 0
         },
         "radialaxis": {
          "range": [
           0,
           10
          ]
         }
        },
        "legend": {
         "title": {
          "text": "Legenda"
         },
         "tracegroupgap": 0
        },
        "title": {
         "text": "Comparativo das Notas do Aluno com as Médias (2022)"
        }
       },
       "config": {
        "plotlyServerURL": "https://plot.ly"
       }
      },
      "text/html": [
       "<div>                            <div id=\"1ba6b20e-e6fe-428c-9f9f-c2c26089aa90\" class=\"plotly-graph-div\" style=\"height:525px; width:100%;\"></div>            <script type=\"text/javascript\">                require([\"plotly\"], function(Plotly) {                    window.PLOTLYENV=window.PLOTLYENV || {};                                    if (document.getElementById(\"1ba6b20e-e6fe-428c-9f9f-c2c26089aa90\")) {                    Plotly.newPlot(                        \"1ba6b20e-e6fe-428c-9f9f-c2c26089aa90\",                        [{\"hovertemplate\":\"Legenda=Notas do Aluno (2022)\\u003cbr\\u003eNota=%{r}\\u003cbr\\u003eIndice=%{theta}\\u003cextra\\u003e\\u003c\\u002fextra\\u003e\",\"legendgroup\":\"Notas do Aluno (2022)\",\"line\":{\"color\":\"#636efa\",\"dash\":\"solid\"},\"marker\":{\"symbol\":\"circle\"},\"mode\":\"lines+markers\",\"name\":\"Notas do Aluno (2022)\",\"r\":[5.0,7.08,8.56,6.42,7.5,6.46,7.83,5.0],\"showlegend\":true,\"subplot\":\"polar\",\"theta\":[\"IAN\",\"IDA\",\"IEG\",\"IAA\",\"IPS\",\"IPP\",\"IPV\",\"IAN\"],\"type\":\"scatterpolar\"},{\"hovertemplate\":\"Legenda=M\\u00e9dias da Fase (2022)\\u003cbr\\u003eNota=%{r}\\u003cbr\\u003eIndice=%{theta}\\u003cextra\\u003e\\u003c\\u002fextra\\u003e\",\"legendgroup\":\"M\\u00e9dias da Fase (2022)\",\"line\":{\"color\":\"#EF553B\",\"dash\":\"solid\"},\"marker\":{\"symbol\":\"circle\"},\"mode\":\"lines+markers\",\"name\":\"M\\u00e9dias da Fase (2022)\",\"r\":[6.4,5.4,8.16,8.41,6.82,6.16,7.34,6.4],\"showlegend\":true,\"subplot\":\"polar\",\"theta\":[\"IAN\",\"IDA\",\"IEG\",\"IAA\",\"IPS\",\"IPP\",\"IPV\",\"IAN\"],\"type\":\"scatterpolar\"},{\"hovertemplate\":\"Legenda=M\\u00e9dias da Turma (2022)\\u003cbr\\u003eNota=%{r}\\u003cbr\\u003eIndice=%{theta}\\u003cextra\\u003e\\u003c\\u002fextra\\u003e\",\"legendgroup\":\"M\\u00e9dias da Turma (2022)\",\"line\":{\"color\":\"#00cc96\",\"dash\":\"solid\"},\"marker\":{\"symbol\":\"circle\"},\"mode\":\"lines+markers\",\"name\":\"M\\u00e9dias da Turma (2022)\",\"r\":[6.33,6.36,9.32,8.35,7.21,6.45,8.05,6.33],\"showlegend\":true,\"subplot\":\"polar\",\"theta\":[\"IAN\",\"IDA\",\"IEG\",\"IAA\",\"IPS\",\"IPP\",\"IPV\",\"IAN\"],\"type\":\"scatterpolar\"}],                        {\"template\":{\"data\":{\"histogram2dcontour\":[{\"type\":\"histogram2dcontour\",\"colorbar\":{\"outlinewidth\":0,\"ticks\":\"\"},\"colorscale\":[[0.0,\"#0d0887\"],[0.1111111111111111,\"#46039f\"],[0.2222222222222222,\"#7201a8\"],[0.3333333333333333,\"#9c179e\"],[0.4444444444444444,\"#bd3786\"],[0.5555555555555556,\"#d8576b\"],[0.6666666666666666,\"#ed7953\"],[0.7777777777777778,\"#fb9f3a\"],[0.8888888888888888,\"#fdca26\"],[1.0,\"#f0f921\"]]}],\"choropleth\":[{\"type\":\"choropleth\",\"colorbar\":{\"outlinewidth\":0,\"ticks\":\"\"}}],\"histogram2d\":[{\"type\":\"histogram2d\",\"colorbar\":{\"outlinewidth\":0,\"ticks\":\"\"},\"colorscale\":[[0.0,\"#0d0887\"],[0.1111111111111111,\"#46039f\"],[0.2222222222222222,\"#7201a8\"],[0.3333333333333333,\"#9c179e\"],[0.4444444444444444,\"#bd3786\"],[0.5555555555555556,\"#d8576b\"],[0.6666666666666666,\"#ed7953\"],[0.7777777777777778,\"#fb9f3a\"],[0.8888888888888888,\"#fdca26\"],[1.0,\"#f0f921\"]]}],\"heatmap\":[{\"type\":\"heatmap\",\"colorbar\":{\"outlinewidth\":0,\"ticks\":\"\"},\"colorscale\":[[0.0,\"#0d0887\"],[0.1111111111111111,\"#46039f\"],[0.2222222222222222,\"#7201a8\"],[0.3333333333333333,\"#9c179e\"],[0.4444444444444444,\"#bd3786\"],[0.5555555555555556,\"#d8576b\"],[0.6666666666666666,\"#ed7953\"],[0.7777777777777778,\"#fb9f3a\"],[0.8888888888888888,\"#fdca26\"],[1.0,\"#f0f921\"]]}],\"heatmapgl\":[{\"type\":\"heatmapgl\",\"colorbar\":{\"outlinewidth\":0,\"ticks\":\"\"},\"colorscale\":[[0.0,\"#0d0887\"],[0.1111111111111111,\"#46039f\"],[0.2222222222222222,\"#7201a8\"],[0.3333333333333333,\"#9c179e\"],[0.4444444444444444,\"#bd3786\"],[0.5555555555555556,\"#d8576b\"],[0.6666666666666666,\"#ed7953\"],[0.7777777777777778,\"#fb9f3a\"],[0.8888888888888888,\"#fdca26\"],[1.0,\"#f0f921\"]]}],\"contourcarpet\":[{\"type\":\"contourcarpet\",\"colorbar\":{\"outlinewidth\":0,\"ticks\":\"\"}}],\"contour\":[{\"type\":\"contour\",\"colorbar\":{\"outlinewidth\":0,\"ticks\":\"\"},\"colorscale\":[[0.0,\"#0d0887\"],[0.1111111111111111,\"#46039f\"],[0.2222222222222222,\"#7201a8\"],[0.3333333333333333,\"#9c179e\"],[0.4444444444444444,\"#bd3786\"],[0.5555555555555556,\"#d8576b\"],[0.6666666666666666,\"#ed7953\"],[0.7777777777777778,\"#fb9f3a\"],[0.8888888888888888,\"#fdca26\"],[1.0,\"#f0f921\"]]}],\"surface\":[{\"type\":\"surface\",\"colorbar\":{\"outlinewidth\":0,\"ticks\":\"\"},\"colorscale\":[[0.0,\"#0d0887\"],[0.1111111111111111,\"#46039f\"],[0.2222222222222222,\"#7201a8\"],[0.3333333333333333,\"#9c179e\"],[0.4444444444444444,\"#bd3786\"],[0.5555555555555556,\"#d8576b\"],[0.6666666666666666,\"#ed7953\"],[0.7777777777777778,\"#fb9f3a\"],[0.8888888888888888,\"#fdca26\"],[1.0,\"#f0f921\"]]}],\"mesh3d\":[{\"type\":\"mesh3d\",\"colorbar\":{\"outlinewidth\":0,\"ticks\":\"\"}}],\"scatter\":[{\"fillpattern\":{\"fillmode\":\"overlay\",\"size\":10,\"solidity\":0.2},\"type\":\"scatter\"}],\"parcoords\":[{\"type\":\"parcoords\",\"line\":{\"colorbar\":{\"outlinewidth\":0,\"ticks\":\"\"}}}],\"scatterpolargl\":[{\"type\":\"scatterpolargl\",\"marker\":{\"colorbar\":{\"outlinewidth\":0,\"ticks\":\"\"}}}],\"bar\":[{\"error_x\":{\"color\":\"#2a3f5f\"},\"error_y\":{\"color\":\"#2a3f5f\"},\"marker\":{\"line\":{\"color\":\"#E5ECF6\",\"width\":0.5},\"pattern\":{\"fillmode\":\"overlay\",\"size\":10,\"solidity\":0.2}},\"type\":\"bar\"}],\"scattergeo\":[{\"type\":\"scattergeo\",\"marker\":{\"colorbar\":{\"outlinewidth\":0,\"ticks\":\"\"}}}],\"scatterpolar\":[{\"type\":\"scatterpolar\",\"marker\":{\"colorbar\":{\"outlinewidth\":0,\"ticks\":\"\"}}}],\"histogram\":[{\"marker\":{\"pattern\":{\"fillmode\":\"overlay\",\"size\":10,\"solidity\":0.2}},\"type\":\"histogram\"}],\"scattergl\":[{\"type\":\"scattergl\",\"marker\":{\"colorbar\":{\"outlinewidth\":0,\"ticks\":\"\"}}}],\"scatter3d\":[{\"type\":\"scatter3d\",\"line\":{\"colorbar\":{\"outlinewidth\":0,\"ticks\":\"\"}},\"marker\":{\"colorbar\":{\"outlinewidth\":0,\"ticks\":\"\"}}}],\"scattermapbox\":[{\"type\":\"scattermapbox\",\"marker\":{\"colorbar\":{\"outlinewidth\":0,\"ticks\":\"\"}}}],\"scatterternary\":[{\"type\":\"scatterternary\",\"marker\":{\"colorbar\":{\"outlinewidth\":0,\"ticks\":\"\"}}}],\"scattercarpet\":[{\"type\":\"scattercarpet\",\"marker\":{\"colorbar\":{\"outlinewidth\":0,\"ticks\":\"\"}}}],\"carpet\":[{\"aaxis\":{\"endlinecolor\":\"#2a3f5f\",\"gridcolor\":\"white\",\"linecolor\":\"white\",\"minorgridcolor\":\"white\",\"startlinecolor\":\"#2a3f5f\"},\"baxis\":{\"endlinecolor\":\"#2a3f5f\",\"gridcolor\":\"white\",\"linecolor\":\"white\",\"minorgridcolor\":\"white\",\"startlinecolor\":\"#2a3f5f\"},\"type\":\"carpet\"}],\"table\":[{\"cells\":{\"fill\":{\"color\":\"#EBF0F8\"},\"line\":{\"color\":\"white\"}},\"header\":{\"fill\":{\"color\":\"#C8D4E3\"},\"line\":{\"color\":\"white\"}},\"type\":\"table\"}],\"barpolar\":[{\"marker\":{\"line\":{\"color\":\"#E5ECF6\",\"width\":0.5},\"pattern\":{\"fillmode\":\"overlay\",\"size\":10,\"solidity\":0.2}},\"type\":\"barpolar\"}],\"pie\":[{\"automargin\":true,\"type\":\"pie\"}]},\"layout\":{\"autotypenumbers\":\"strict\",\"colorway\":[\"#636efa\",\"#EF553B\",\"#00cc96\",\"#ab63fa\",\"#FFA15A\",\"#19d3f3\",\"#FF6692\",\"#B6E880\",\"#FF97FF\",\"#FECB52\"],\"font\":{\"color\":\"#2a3f5f\"},\"hovermode\":\"closest\",\"hoverlabel\":{\"align\":\"left\"},\"paper_bgcolor\":\"white\",\"plot_bgcolor\":\"#E5ECF6\",\"polar\":{\"bgcolor\":\"#E5ECF6\",\"angularaxis\":{\"gridcolor\":\"white\",\"linecolor\":\"white\",\"ticks\":\"\"},\"radialaxis\":{\"gridcolor\":\"white\",\"linecolor\":\"white\",\"ticks\":\"\"}},\"ternary\":{\"bgcolor\":\"#E5ECF6\",\"aaxis\":{\"gridcolor\":\"white\",\"linecolor\":\"white\",\"ticks\":\"\"},\"baxis\":{\"gridcolor\":\"white\",\"linecolor\":\"white\",\"ticks\":\"\"},\"caxis\":{\"gridcolor\":\"white\",\"linecolor\":\"white\",\"ticks\":\"\"}},\"coloraxis\":{\"colorbar\":{\"outlinewidth\":0,\"ticks\":\"\"}},\"colorscale\":{\"sequential\":[[0.0,\"#0d0887\"],[0.1111111111111111,\"#46039f\"],[0.2222222222222222,\"#7201a8\"],[0.3333333333333333,\"#9c179e\"],[0.4444444444444444,\"#bd3786\"],[0.5555555555555556,\"#d8576b\"],[0.6666666666666666,\"#ed7953\"],[0.7777777777777778,\"#fb9f3a\"],[0.8888888888888888,\"#fdca26\"],[1.0,\"#f0f921\"]],\"sequentialminus\":[[0.0,\"#0d0887\"],[0.1111111111111111,\"#46039f\"],[0.2222222222222222,\"#7201a8\"],[0.3333333333333333,\"#9c179e\"],[0.4444444444444444,\"#bd3786\"],[0.5555555555555556,\"#d8576b\"],[0.6666666666666666,\"#ed7953\"],[0.7777777777777778,\"#fb9f3a\"],[0.8888888888888888,\"#fdca26\"],[1.0,\"#f0f921\"]],\"diverging\":[[0,\"#8e0152\"],[0.1,\"#c51b7d\"],[0.2,\"#de77ae\"],[0.3,\"#f1b6da\"],[0.4,\"#fde0ef\"],[0.5,\"#f7f7f7\"],[0.6,\"#e6f5d0\"],[0.7,\"#b8e186\"],[0.8,\"#7fbc41\"],[0.9,\"#4d9221\"],[1,\"#276419\"]]},\"xaxis\":{\"gridcolor\":\"white\",\"linecolor\":\"white\",\"ticks\":\"\",\"title\":{\"standoff\":15},\"zerolinecolor\":\"white\",\"automargin\":true,\"zerolinewidth\":2},\"yaxis\":{\"gridcolor\":\"white\",\"linecolor\":\"white\",\"ticks\":\"\",\"title\":{\"standoff\":15},\"zerolinecolor\":\"white\",\"automargin\":true,\"zerolinewidth\":2},\"scene\":{\"xaxis\":{\"backgroundcolor\":\"#E5ECF6\",\"gridcolor\":\"white\",\"linecolor\":\"white\",\"showbackground\":true,\"ticks\":\"\",\"zerolinecolor\":\"white\",\"gridwidth\":2},\"yaxis\":{\"backgroundcolor\":\"#E5ECF6\",\"gridcolor\":\"white\",\"linecolor\":\"white\",\"showbackground\":true,\"ticks\":\"\",\"zerolinecolor\":\"white\",\"gridwidth\":2},\"zaxis\":{\"backgroundcolor\":\"#E5ECF6\",\"gridcolor\":\"white\",\"linecolor\":\"white\",\"showbackground\":true,\"ticks\":\"\",\"zerolinecolor\":\"white\",\"gridwidth\":2}},\"shapedefaults\":{\"line\":{\"color\":\"#2a3f5f\"}},\"annotationdefaults\":{\"arrowcolor\":\"#2a3f5f\",\"arrowhead\":0,\"arrowwidth\":1},\"geo\":{\"bgcolor\":\"white\",\"landcolor\":\"#E5ECF6\",\"subunitcolor\":\"white\",\"showland\":true,\"showlakes\":true,\"lakecolor\":\"white\"},\"title\":{\"x\":0.05},\"mapbox\":{\"style\":\"light\"}}},\"polar\":{\"domain\":{\"x\":[0.0,1.0],\"y\":[0.0,1.0]},\"angularaxis\":{\"direction\":\"counterclockwise\",\"rotation\":0},\"radialaxis\":{\"range\":[0,10]}},\"legend\":{\"title\":{\"text\":\"Legenda\"},\"tracegroupgap\":0},\"title\":{\"text\":\"Comparativo das Notas do Aluno com as M\\u00e9dias (2022)\"}},                        {\"responsive\": true}                    ).then(function(){\n",
       "                            \n",
       "var gd = document.getElementById('1ba6b20e-e6fe-428c-9f9f-c2c26089aa90');\n",
       "var x = new MutationObserver(function (mutations, observer) {{\n",
       "        var display = window.getComputedStyle(gd).display;\n",
       "        if (!display || display === 'none') {{\n",
       "            console.log([gd, 'removed!']);\n",
       "            Plotly.purge(gd);\n",
       "            observer.disconnect();\n",
       "        }}\n",
       "}});\n",
       "\n",
       "// Listen for the removal of the full notebook cells\n",
       "var notebookContainer = gd.closest('#notebook-container');\n",
       "if (notebookContainer) {{\n",
       "    x.observe(notebookContainer, {childList: true});\n",
       "}}\n",
       "\n",
       "// Listen for the clearing of the current output cell\n",
       "var outputEl = gd.closest('.output');\n",
       "if (outputEl) {{\n",
       "    x.observe(outputEl, {childList: true});\n",
       "}}\n",
       "\n",
       "                        })                };                });            </script>        </div>"
      ]
     },
     "metadata": {},
     "output_type": "display_data"
    }
   ],
   "execution_count": 210
  },
  {
   "metadata": {
    "ExecuteTime": {
     "end_time": "2024-08-11T15:11:26.022519Z",
     "start_time": "2024-08-11T15:11:25.753568Z"
    }
   },
   "cell_type": "code",
   "source": [
    "fig = make_subplots(rows=1, cols=3, specs=[[{'type': 'polar'}]*3],\n",
    "                    subplot_titles=('2020', '2021', '2022'), column_titles=('2020', '2021', '2022'), x_title=\"Evolução do Aluno por Ano\")\n",
    "for index, key in enumerate(teste1):\n",
    "    fig1 = px.line_polar(teste1[key], r=\"Nota\", theta=\"Indice\", color=\"Legenda\", line_close=True, title=\"2020\", markers=True, range_r=[0,10], start_angle=0, direction='counterclockwise')\n",
    "    fig.add_traces(list(fig1.select_traces()),1,index+1)\n",
    "\n",
    "\n",
    "# fig.update_layout(\n",
    "#     polar = dict(\n",
    "#         angularaxis = dict(\n",
    "#             rotation=0, # start position of angular axis\n",
    "#             direction=\"counterclockwise\"\n",
    "#         )\n",
    "#     ),\n",
    "#     polar2 = dict(\n",
    "#         angularaxis = dict(\n",
    "#             rotation = 0,\n",
    "#             direction = \"counterclockwise\"\n",
    "#         ),\n",
    "#     ))\n",
    "\n",
    "fig.show()\n"
   ],
   "id": "3c4b7ea0a115a11",
   "outputs": [
    {
     "data": {
      "application/vnd.plotly.v1+json": {
       "data": [
        {
         "hovertemplate": "Legenda=Notas do Aluno (2020)<br>Nota=%{r}<br>Indice=%{theta}<extra></extra>",
         "legendgroup": "Notas do Aluno (2020)",
         "line": {
          "color": "#636efa",
          "dash": "solid"
         },
         "marker": {
          "symbol": "circle"
         },
         "mode": "lines+markers",
         "name": "Notas do Aluno (2020)",
         "r": [
          10.0,
          7.5,
          8.0,
          7.5,
          7.5,
          8.44,
          8.17,
          10.0
         ],
         "showlegend": true,
         "subplot": "polar",
         "theta": [
          "IAN",
          "IDA",
          "IEG",
          "IAA",
          "IPS",
          "IPP",
          "IPV",
          "IAN"
         ],
         "type": "scatterpolar"
        },
        {
         "hovertemplate": "Legenda=Médias da Fase (2020)<br>Nota=%{r}<br>Indice=%{theta}<extra></extra>",
         "legendgroup": "Médias da Fase (2020)",
         "line": {
          "color": "#EF553B",
          "dash": "solid"
         },
         "marker": {
          "symbol": "circle"
         },
         "mode": "lines+markers",
         "name": "Médias da Fase (2020)",
         "r": [
          7.34,
          5.13,
          7.92,
          8.26,
          6.73,
          7.37,
          7.67,
          7.34
         ],
         "showlegend": true,
         "subplot": "polar",
         "theta": [
          "IAN",
          "IDA",
          "IEG",
          "IAA",
          "IPS",
          "IPP",
          "IPV",
          "IAN"
         ],
         "type": "scatterpolar"
        },
        {
         "hovertemplate": "Legenda=Médias da Turma (2020)<br>Nota=%{r}<br>Indice=%{theta}<extra></extra>",
         "legendgroup": "Médias da Turma (2020)",
         "line": {
          "color": "#00cc96",
          "dash": "solid"
         },
         "marker": {
          "symbol": "circle"
         },
         "mode": "lines+markers",
         "name": "Médias da Turma (2020)",
         "r": [
          7.35,
          4.18,
          7.35,
          7.93,
          6.47,
          7.45,
          7.65,
          7.35
         ],
         "showlegend": true,
         "subplot": "polar",
         "theta": [
          "IAN",
          "IDA",
          "IEG",
          "IAA",
          "IPS",
          "IPP",
          "IPV",
          "IAN"
         ],
         "type": "scatterpolar"
        },
        {
         "hovertemplate": "Legenda=Notas do Aluno (2021)<br>Nota=%{r}<br>Indice=%{theta}<extra></extra>",
         "legendgroup": "Notas do Aluno (2021)",
         "line": {
          "color": "#636efa",
          "dash": "solid"
         },
         "marker": {
          "symbol": "circle"
         },
         "mode": "lines+markers",
         "name": "Notas do Aluno (2021)",
         "r": [
          10.0,
          5.4,
          7.5,
          7.4,
          7.5,
          8.5,
          7.4,
          10.0
         ],
         "showlegend": true,
         "subplot": "polar2",
         "theta": [
          "IAN",
          "IDA",
          "IEG",
          "IAA",
          "IPS",
          "IPP",
          "IPV",
          "IAN"
         ],
         "type": "scatterpolar"
        },
        {
         "hovertemplate": "Legenda=Médias da Fase (2021)<br>Nota=%{r}<br>Indice=%{theta}<extra></extra>",
         "legendgroup": "Médias da Fase (2021)",
         "line": {
          "color": "#EF553B",
          "dash": "solid"
         },
         "marker": {
          "symbol": "circle"
         },
         "mode": "lines+markers",
         "name": "Médias da Fase (2021)",
         "r": [
          6.7,
          5.11,
          6.2,
          7.29,
          7.04,
          7.67,
          7.39,
          6.7
         ],
         "showlegend": true,
         "subplot": "polar2",
         "theta": [
          "IAN",
          "IDA",
          "IEG",
          "IAA",
          "IPS",
          "IPP",
          "IPV",
          "IAN"
         ],
         "type": "scatterpolar"
        },
        {
         "hovertemplate": "Legenda=Médias da Turma (2021)<br>Nota=%{r}<br>Indice=%{theta}<extra></extra>",
         "legendgroup": "Médias da Turma (2021)",
         "line": {
          "color": "#00cc96",
          "dash": "solid"
         },
         "marker": {
          "symbol": "circle"
         },
         "mode": "lines+markers",
         "name": "Médias da Turma (2021)",
         "r": [
          6.43,
          4.37,
          6.19,
          5.7,
          7.5,
          8.06,
          7.0,
          6.43
         ],
         "showlegend": true,
         "subplot": "polar2",
         "theta": [
          "IAN",
          "IDA",
          "IEG",
          "IAA",
          "IPS",
          "IPP",
          "IPV",
          "IAN"
         ],
         "type": "scatterpolar"
        },
        {
         "hovertemplate": "Legenda=Notas do Aluno (2022)<br>Nota=%{r}<br>Indice=%{theta}<extra></extra>",
         "legendgroup": "Notas do Aluno (2022)",
         "line": {
          "color": "#636efa",
          "dash": "solid"
         },
         "marker": {
          "symbol": "circle"
         },
         "mode": "lines+markers",
         "name": "Notas do Aluno (2022)",
         "r": [
          5.0,
          7.08,
          8.56,
          6.42,
          7.5,
          6.46,
          7.83,
          5.0
         ],
         "showlegend": true,
         "subplot": "polar3",
         "theta": [
          "IAN",
          "IDA",
          "IEG",
          "IAA",
          "IPS",
          "IPP",
          "IPV",
          "IAN"
         ],
         "type": "scatterpolar"
        },
        {
         "hovertemplate": "Legenda=Médias da Fase (2022)<br>Nota=%{r}<br>Indice=%{theta}<extra></extra>",
         "legendgroup": "Médias da Fase (2022)",
         "line": {
          "color": "#EF553B",
          "dash": "solid"
         },
         "marker": {
          "symbol": "circle"
         },
         "mode": "lines+markers",
         "name": "Médias da Fase (2022)",
         "r": [
          6.4,
          5.4,
          8.16,
          8.41,
          6.82,
          6.16,
          7.34,
          6.4
         ],
         "showlegend": true,
         "subplot": "polar3",
         "theta": [
          "IAN",
          "IDA",
          "IEG",
          "IAA",
          "IPS",
          "IPP",
          "IPV",
          "IAN"
         ],
         "type": "scatterpolar"
        },
        {
         "hovertemplate": "Legenda=Médias da Turma (2022)<br>Nota=%{r}<br>Indice=%{theta}<extra></extra>",
         "legendgroup": "Médias da Turma (2022)",
         "line": {
          "color": "#00cc96",
          "dash": "solid"
         },
         "marker": {
          "symbol": "circle"
         },
         "mode": "lines+markers",
         "name": "Médias da Turma (2022)",
         "r": [
          6.33,
          6.36,
          9.32,
          8.35,
          7.21,
          6.45,
          8.05,
          6.33
         ],
         "showlegend": true,
         "subplot": "polar3",
         "theta": [
          "IAN",
          "IDA",
          "IEG",
          "IAA",
          "IPS",
          "IPP",
          "IPV",
          "IAN"
         ],
         "type": "scatterpolar"
        }
       ],
       "layout": {
        "template": {
         "data": {
          "histogram2dcontour": [
           {
            "type": "histogram2dcontour",
            "colorbar": {
             "outlinewidth": 0,
             "ticks": ""
            },
            "colorscale": [
             [
              0.0,
              "#0d0887"
             ],
             [
              0.1111111111111111,
              "#46039f"
             ],
             [
              0.2222222222222222,
              "#7201a8"
             ],
             [
              0.3333333333333333,
              "#9c179e"
             ],
             [
              0.4444444444444444,
              "#bd3786"
             ],
             [
              0.5555555555555556,
              "#d8576b"
             ],
             [
              0.6666666666666666,
              "#ed7953"
             ],
             [
              0.7777777777777778,
              "#fb9f3a"
             ],
             [
              0.8888888888888888,
              "#fdca26"
             ],
             [
              1.0,
              "#f0f921"
             ]
            ]
           }
          ],
          "choropleth": [
           {
            "type": "choropleth",
            "colorbar": {
             "outlinewidth": 0,
             "ticks": ""
            }
           }
          ],
          "histogram2d": [
           {
            "type": "histogram2d",
            "colorbar": {
             "outlinewidth": 0,
             "ticks": ""
            },
            "colorscale": [
             [
              0.0,
              "#0d0887"
             ],
             [
              0.1111111111111111,
              "#46039f"
             ],
             [
              0.2222222222222222,
              "#7201a8"
             ],
             [
              0.3333333333333333,
              "#9c179e"
             ],
             [
              0.4444444444444444,
              "#bd3786"
             ],
             [
              0.5555555555555556,
              "#d8576b"
             ],
             [
              0.6666666666666666,
              "#ed7953"
             ],
             [
              0.7777777777777778,
              "#fb9f3a"
             ],
             [
              0.8888888888888888,
              "#fdca26"
             ],
             [
              1.0,
              "#f0f921"
             ]
            ]
           }
          ],
          "heatmap": [
           {
            "type": "heatmap",
            "colorbar": {
             "outlinewidth": 0,
             "ticks": ""
            },
            "colorscale": [
             [
              0.0,
              "#0d0887"
             ],
             [
              0.1111111111111111,
              "#46039f"
             ],
             [
              0.2222222222222222,
              "#7201a8"
             ],
             [
              0.3333333333333333,
              "#9c179e"
             ],
             [
              0.4444444444444444,
              "#bd3786"
             ],
             [
              0.5555555555555556,
              "#d8576b"
             ],
             [
              0.6666666666666666,
              "#ed7953"
             ],
             [
              0.7777777777777778,
              "#fb9f3a"
             ],
             [
              0.8888888888888888,
              "#fdca26"
             ],
             [
              1.0,
              "#f0f921"
             ]
            ]
           }
          ],
          "heatmapgl": [
           {
            "type": "heatmapgl",
            "colorbar": {
             "outlinewidth": 0,
             "ticks": ""
            },
            "colorscale": [
             [
              0.0,
              "#0d0887"
             ],
             [
              0.1111111111111111,
              "#46039f"
             ],
             [
              0.2222222222222222,
              "#7201a8"
             ],
             [
              0.3333333333333333,
              "#9c179e"
             ],
             [
              0.4444444444444444,
              "#bd3786"
             ],
             [
              0.5555555555555556,
              "#d8576b"
             ],
             [
              0.6666666666666666,
              "#ed7953"
             ],
             [
              0.7777777777777778,
              "#fb9f3a"
             ],
             [
              0.8888888888888888,
              "#fdca26"
             ],
             [
              1.0,
              "#f0f921"
             ]
            ]
           }
          ],
          "contourcarpet": [
           {
            "type": "contourcarpet",
            "colorbar": {
             "outlinewidth": 0,
             "ticks": ""
            }
           }
          ],
          "contour": [
           {
            "type": "contour",
            "colorbar": {
             "outlinewidth": 0,
             "ticks": ""
            },
            "colorscale": [
             [
              0.0,
              "#0d0887"
             ],
             [
              0.1111111111111111,
              "#46039f"
             ],
             [
              0.2222222222222222,
              "#7201a8"
             ],
             [
              0.3333333333333333,
              "#9c179e"
             ],
             [
              0.4444444444444444,
              "#bd3786"
             ],
             [
              0.5555555555555556,
              "#d8576b"
             ],
             [
              0.6666666666666666,
              "#ed7953"
             ],
             [
              0.7777777777777778,
              "#fb9f3a"
             ],
             [
              0.8888888888888888,
              "#fdca26"
             ],
             [
              1.0,
              "#f0f921"
             ]
            ]
           }
          ],
          "surface": [
           {
            "type": "surface",
            "colorbar": {
             "outlinewidth": 0,
             "ticks": ""
            },
            "colorscale": [
             [
              0.0,
              "#0d0887"
             ],
             [
              0.1111111111111111,
              "#46039f"
             ],
             [
              0.2222222222222222,
              "#7201a8"
             ],
             [
              0.3333333333333333,
              "#9c179e"
             ],
             [
              0.4444444444444444,
              "#bd3786"
             ],
             [
              0.5555555555555556,
              "#d8576b"
             ],
             [
              0.6666666666666666,
              "#ed7953"
             ],
             [
              0.7777777777777778,
              "#fb9f3a"
             ],
             [
              0.8888888888888888,
              "#fdca26"
             ],
             [
              1.0,
              "#f0f921"
             ]
            ]
           }
          ],
          "mesh3d": [
           {
            "type": "mesh3d",
            "colorbar": {
             "outlinewidth": 0,
             "ticks": ""
            }
           }
          ],
          "scatter": [
           {
            "fillpattern": {
             "fillmode": "overlay",
             "size": 10,
             "solidity": 0.2
            },
            "type": "scatter"
           }
          ],
          "parcoords": [
           {
            "type": "parcoords",
            "line": {
             "colorbar": {
              "outlinewidth": 0,
              "ticks": ""
             }
            }
           }
          ],
          "scatterpolargl": [
           {
            "type": "scatterpolargl",
            "marker": {
             "colorbar": {
              "outlinewidth": 0,
              "ticks": ""
             }
            }
           }
          ],
          "bar": [
           {
            "error_x": {
             "color": "#2a3f5f"
            },
            "error_y": {
             "color": "#2a3f5f"
            },
            "marker": {
             "line": {
              "color": "#E5ECF6",
              "width": 0.5
             },
             "pattern": {
              "fillmode": "overlay",
              "size": 10,
              "solidity": 0.2
             }
            },
            "type": "bar"
           }
          ],
          "scattergeo": [
           {
            "type": "scattergeo",
            "marker": {
             "colorbar": {
              "outlinewidth": 0,
              "ticks": ""
             }
            }
           }
          ],
          "scatterpolar": [
           {
            "type": "scatterpolar",
            "marker": {
             "colorbar": {
              "outlinewidth": 0,
              "ticks": ""
             }
            }
           }
          ],
          "histogram": [
           {
            "marker": {
             "pattern": {
              "fillmode": "overlay",
              "size": 10,
              "solidity": 0.2
             }
            },
            "type": "histogram"
           }
          ],
          "scattergl": [
           {
            "type": "scattergl",
            "marker": {
             "colorbar": {
              "outlinewidth": 0,
              "ticks": ""
             }
            }
           }
          ],
          "scatter3d": [
           {
            "type": "scatter3d",
            "line": {
             "colorbar": {
              "outlinewidth": 0,
              "ticks": ""
             }
            },
            "marker": {
             "colorbar": {
              "outlinewidth": 0,
              "ticks": ""
             }
            }
           }
          ],
          "scattermapbox": [
           {
            "type": "scattermapbox",
            "marker": {
             "colorbar": {
              "outlinewidth": 0,
              "ticks": ""
             }
            }
           }
          ],
          "scatterternary": [
           {
            "type": "scatterternary",
            "marker": {
             "colorbar": {
              "outlinewidth": 0,
              "ticks": ""
             }
            }
           }
          ],
          "scattercarpet": [
           {
            "type": "scattercarpet",
            "marker": {
             "colorbar": {
              "outlinewidth": 0,
              "ticks": ""
             }
            }
           }
          ],
          "carpet": [
           {
            "aaxis": {
             "endlinecolor": "#2a3f5f",
             "gridcolor": "white",
             "linecolor": "white",
             "minorgridcolor": "white",
             "startlinecolor": "#2a3f5f"
            },
            "baxis": {
             "endlinecolor": "#2a3f5f",
             "gridcolor": "white",
             "linecolor": "white",
             "minorgridcolor": "white",
             "startlinecolor": "#2a3f5f"
            },
            "type": "carpet"
           }
          ],
          "table": [
           {
            "cells": {
             "fill": {
              "color": "#EBF0F8"
             },
             "line": {
              "color": "white"
             }
            },
            "header": {
             "fill": {
              "color": "#C8D4E3"
             },
             "line": {
              "color": "white"
             }
            },
            "type": "table"
           }
          ],
          "barpolar": [
           {
            "marker": {
             "line": {
              "color": "#E5ECF6",
              "width": 0.5
             },
             "pattern": {
              "fillmode": "overlay",
              "size": 10,
              "solidity": 0.2
             }
            },
            "type": "barpolar"
           }
          ],
          "pie": [
           {
            "automargin": true,
            "type": "pie"
           }
          ]
         },
         "layout": {
          "autotypenumbers": "strict",
          "colorway": [
           "#636efa",
           "#EF553B",
           "#00cc96",
           "#ab63fa",
           "#FFA15A",
           "#19d3f3",
           "#FF6692",
           "#B6E880",
           "#FF97FF",
           "#FECB52"
          ],
          "font": {
           "color": "#2a3f5f"
          },
          "hovermode": "closest",
          "hoverlabel": {
           "align": "left"
          },
          "paper_bgcolor": "white",
          "plot_bgcolor": "#E5ECF6",
          "polar": {
           "bgcolor": "#E5ECF6",
           "angularaxis": {
            "gridcolor": "white",
            "linecolor": "white",
            "ticks": ""
           },
           "radialaxis": {
            "gridcolor": "white",
            "linecolor": "white",
            "ticks": ""
           }
          },
          "ternary": {
           "bgcolor": "#E5ECF6",
           "aaxis": {
            "gridcolor": "white",
            "linecolor": "white",
            "ticks": ""
           },
           "baxis": {
            "gridcolor": "white",
            "linecolor": "white",
            "ticks": ""
           },
           "caxis": {
            "gridcolor": "white",
            "linecolor": "white",
            "ticks": ""
           }
          },
          "coloraxis": {
           "colorbar": {
            "outlinewidth": 0,
            "ticks": ""
           }
          },
          "colorscale": {
           "sequential": [
            [
             0.0,
             "#0d0887"
            ],
            [
             0.1111111111111111,
             "#46039f"
            ],
            [
             0.2222222222222222,
             "#7201a8"
            ],
            [
             0.3333333333333333,
             "#9c179e"
            ],
            [
             0.4444444444444444,
             "#bd3786"
            ],
            [
             0.5555555555555556,
             "#d8576b"
            ],
            [
             0.6666666666666666,
             "#ed7953"
            ],
            [
             0.7777777777777778,
             "#fb9f3a"
            ],
            [
             0.8888888888888888,
             "#fdca26"
            ],
            [
             1.0,
             "#f0f921"
            ]
           ],
           "sequentialminus": [
            [
             0.0,
             "#0d0887"
            ],
            [
             0.1111111111111111,
             "#46039f"
            ],
            [
             0.2222222222222222,
             "#7201a8"
            ],
            [
             0.3333333333333333,
             "#9c179e"
            ],
            [
             0.4444444444444444,
             "#bd3786"
            ],
            [
             0.5555555555555556,
             "#d8576b"
            ],
            [
             0.6666666666666666,
             "#ed7953"
            ],
            [
             0.7777777777777778,
             "#fb9f3a"
            ],
            [
             0.8888888888888888,
             "#fdca26"
            ],
            [
             1.0,
             "#f0f921"
            ]
           ],
           "diverging": [
            [
             0,
             "#8e0152"
            ],
            [
             0.1,
             "#c51b7d"
            ],
            [
             0.2,
             "#de77ae"
            ],
            [
             0.3,
             "#f1b6da"
            ],
            [
             0.4,
             "#fde0ef"
            ],
            [
             0.5,
             "#f7f7f7"
            ],
            [
             0.6,
             "#e6f5d0"
            ],
            [
             0.7,
             "#b8e186"
            ],
            [
             0.8,
             "#7fbc41"
            ],
            [
             0.9,
             "#4d9221"
            ],
            [
             1,
             "#276419"
            ]
           ]
          },
          "xaxis": {
           "gridcolor": "white",
           "linecolor": "white",
           "ticks": "",
           "title": {
            "standoff": 15
           },
           "zerolinecolor": "white",
           "automargin": true,
           "zerolinewidth": 2
          },
          "yaxis": {
           "gridcolor": "white",
           "linecolor": "white",
           "ticks": "",
           "title": {
            "standoff": 15
           },
           "zerolinecolor": "white",
           "automargin": true,
           "zerolinewidth": 2
          },
          "scene": {
           "xaxis": {
            "backgroundcolor": "#E5ECF6",
            "gridcolor": "white",
            "linecolor": "white",
            "showbackground": true,
            "ticks": "",
            "zerolinecolor": "white",
            "gridwidth": 2
           },
           "yaxis": {
            "backgroundcolor": "#E5ECF6",
            "gridcolor": "white",
            "linecolor": "white",
            "showbackground": true,
            "ticks": "",
            "zerolinecolor": "white",
            "gridwidth": 2
           },
           "zaxis": {
            "backgroundcolor": "#E5ECF6",
            "gridcolor": "white",
            "linecolor": "white",
            "showbackground": true,
            "ticks": "",
            "zerolinecolor": "white",
            "gridwidth": 2
           }
          },
          "shapedefaults": {
           "line": {
            "color": "#2a3f5f"
           }
          },
          "annotationdefaults": {
           "arrowcolor": "#2a3f5f",
           "arrowhead": 0,
           "arrowwidth": 1
          },
          "geo": {
           "bgcolor": "white",
           "landcolor": "#E5ECF6",
           "subunitcolor": "white",
           "showland": true,
           "showlakes": true,
           "lakecolor": "white"
          },
          "title": {
           "x": 0.05
          },
          "mapbox": {
           "style": "light"
          }
         }
        },
        "polar": {
         "domain": {
          "x": [
           0.0,
           0.2888888888888889
          ],
          "y": [
           0.0,
           1.0
          ]
         }
        },
        "polar2": {
         "domain": {
          "x": [
           0.35555555555555557,
           0.6444444444444445
          ],
          "y": [
           0.0,
           1.0
          ]
         }
        },
        "polar3": {
         "domain": {
          "x": [
           0.7111111111111111,
           1.0
          ],
          "y": [
           0.0,
           1.0
          ]
         }
        },
        "annotations": [
         {
          "font": {
           "size": 16
          },
          "showarrow": false,
          "text": "2020",
          "x": 0.14444444444444446,
          "xanchor": "center",
          "xref": "paper",
          "y": 1.0,
          "yanchor": "bottom",
          "yref": "paper"
         },
         {
          "font": {
           "size": 16
          },
          "showarrow": false,
          "text": "2021",
          "x": 0.5,
          "xanchor": "center",
          "xref": "paper",
          "y": 1.0,
          "yanchor": "bottom",
          "yref": "paper"
         },
         {
          "font": {
           "size": 16
          },
          "showarrow": false,
          "text": "2022",
          "x": 0.8555555555555556,
          "xanchor": "center",
          "xref": "paper",
          "y": 1.0,
          "yanchor": "bottom",
          "yref": "paper"
         },
         {
          "font": {
           "size": 16
          },
          "showarrow": false,
          "text": "2020",
          "x": 0.14444444444444446,
          "xanchor": "center",
          "xref": "paper",
          "y": 1.0,
          "yanchor": "bottom",
          "yref": "paper"
         },
         {
          "font": {
           "size": 16
          },
          "showarrow": false,
          "text": "2021",
          "x": 0.5,
          "xanchor": "center",
          "xref": "paper",
          "y": 1.0,
          "yanchor": "bottom",
          "yref": "paper"
         },
         {
          "font": {
           "size": 16
          },
          "showarrow": false,
          "text": "2022",
          "x": 0.8555555555555556,
          "xanchor": "center",
          "xref": "paper",
          "y": 1.0,
          "yanchor": "bottom",
          "yref": "paper"
         },
         {
          "font": {
           "size": 16
          },
          "showarrow": false,
          "text": "Evolução do Aluno por Ano",
          "x": 0.5,
          "xanchor": "center",
          "xref": "paper",
          "y": 0,
          "yanchor": "top",
          "yref": "paper",
          "yshift": -30
         }
        ]
       },
       "config": {
        "plotlyServerURL": "https://plot.ly"
       }
      },
      "text/html": [
       "<div>                            <div id=\"10e38c6e-28ef-435b-abc8-374076d5b806\" class=\"plotly-graph-div\" style=\"height:525px; width:100%;\"></div>            <script type=\"text/javascript\">                require([\"plotly\"], function(Plotly) {                    window.PLOTLYENV=window.PLOTLYENV || {};                                    if (document.getElementById(\"10e38c6e-28ef-435b-abc8-374076d5b806\")) {                    Plotly.newPlot(                        \"10e38c6e-28ef-435b-abc8-374076d5b806\",                        [{\"hovertemplate\":\"Legenda=Notas do Aluno (2020)\\u003cbr\\u003eNota=%{r}\\u003cbr\\u003eIndice=%{theta}\\u003cextra\\u003e\\u003c\\u002fextra\\u003e\",\"legendgroup\":\"Notas do Aluno (2020)\",\"line\":{\"color\":\"#636efa\",\"dash\":\"solid\"},\"marker\":{\"symbol\":\"circle\"},\"mode\":\"lines+markers\",\"name\":\"Notas do Aluno (2020)\",\"r\":[10.0,7.5,8.0,7.5,7.5,8.44,8.17,10.0],\"showlegend\":true,\"subplot\":\"polar\",\"theta\":[\"IAN\",\"IDA\",\"IEG\",\"IAA\",\"IPS\",\"IPP\",\"IPV\",\"IAN\"],\"type\":\"scatterpolar\"},{\"hovertemplate\":\"Legenda=M\\u00e9dias da Fase (2020)\\u003cbr\\u003eNota=%{r}\\u003cbr\\u003eIndice=%{theta}\\u003cextra\\u003e\\u003c\\u002fextra\\u003e\",\"legendgroup\":\"M\\u00e9dias da Fase (2020)\",\"line\":{\"color\":\"#EF553B\",\"dash\":\"solid\"},\"marker\":{\"symbol\":\"circle\"},\"mode\":\"lines+markers\",\"name\":\"M\\u00e9dias da Fase (2020)\",\"r\":[7.34,5.13,7.92,8.26,6.73,7.37,7.67,7.34],\"showlegend\":true,\"subplot\":\"polar\",\"theta\":[\"IAN\",\"IDA\",\"IEG\",\"IAA\",\"IPS\",\"IPP\",\"IPV\",\"IAN\"],\"type\":\"scatterpolar\"},{\"hovertemplate\":\"Legenda=M\\u00e9dias da Turma (2020)\\u003cbr\\u003eNota=%{r}\\u003cbr\\u003eIndice=%{theta}\\u003cextra\\u003e\\u003c\\u002fextra\\u003e\",\"legendgroup\":\"M\\u00e9dias da Turma (2020)\",\"line\":{\"color\":\"#00cc96\",\"dash\":\"solid\"},\"marker\":{\"symbol\":\"circle\"},\"mode\":\"lines+markers\",\"name\":\"M\\u00e9dias da Turma (2020)\",\"r\":[7.35,4.18,7.35,7.93,6.47,7.45,7.65,7.35],\"showlegend\":true,\"subplot\":\"polar\",\"theta\":[\"IAN\",\"IDA\",\"IEG\",\"IAA\",\"IPS\",\"IPP\",\"IPV\",\"IAN\"],\"type\":\"scatterpolar\"},{\"hovertemplate\":\"Legenda=Notas do Aluno (2021)\\u003cbr\\u003eNota=%{r}\\u003cbr\\u003eIndice=%{theta}\\u003cextra\\u003e\\u003c\\u002fextra\\u003e\",\"legendgroup\":\"Notas do Aluno (2021)\",\"line\":{\"color\":\"#636efa\",\"dash\":\"solid\"},\"marker\":{\"symbol\":\"circle\"},\"mode\":\"lines+markers\",\"name\":\"Notas do Aluno (2021)\",\"r\":[10.0,5.4,7.5,7.4,7.5,8.5,7.4,10.0],\"showlegend\":true,\"subplot\":\"polar2\",\"theta\":[\"IAN\",\"IDA\",\"IEG\",\"IAA\",\"IPS\",\"IPP\",\"IPV\",\"IAN\"],\"type\":\"scatterpolar\"},{\"hovertemplate\":\"Legenda=M\\u00e9dias da Fase (2021)\\u003cbr\\u003eNota=%{r}\\u003cbr\\u003eIndice=%{theta}\\u003cextra\\u003e\\u003c\\u002fextra\\u003e\",\"legendgroup\":\"M\\u00e9dias da Fase (2021)\",\"line\":{\"color\":\"#EF553B\",\"dash\":\"solid\"},\"marker\":{\"symbol\":\"circle\"},\"mode\":\"lines+markers\",\"name\":\"M\\u00e9dias da Fase (2021)\",\"r\":[6.7,5.11,6.2,7.29,7.04,7.67,7.39,6.7],\"showlegend\":true,\"subplot\":\"polar2\",\"theta\":[\"IAN\",\"IDA\",\"IEG\",\"IAA\",\"IPS\",\"IPP\",\"IPV\",\"IAN\"],\"type\":\"scatterpolar\"},{\"hovertemplate\":\"Legenda=M\\u00e9dias da Turma (2021)\\u003cbr\\u003eNota=%{r}\\u003cbr\\u003eIndice=%{theta}\\u003cextra\\u003e\\u003c\\u002fextra\\u003e\",\"legendgroup\":\"M\\u00e9dias da Turma (2021)\",\"line\":{\"color\":\"#00cc96\",\"dash\":\"solid\"},\"marker\":{\"symbol\":\"circle\"},\"mode\":\"lines+markers\",\"name\":\"M\\u00e9dias da Turma (2021)\",\"r\":[6.43,4.37,6.19,5.7,7.5,8.06,7.0,6.43],\"showlegend\":true,\"subplot\":\"polar2\",\"theta\":[\"IAN\",\"IDA\",\"IEG\",\"IAA\",\"IPS\",\"IPP\",\"IPV\",\"IAN\"],\"type\":\"scatterpolar\"},{\"hovertemplate\":\"Legenda=Notas do Aluno (2022)\\u003cbr\\u003eNota=%{r}\\u003cbr\\u003eIndice=%{theta}\\u003cextra\\u003e\\u003c\\u002fextra\\u003e\",\"legendgroup\":\"Notas do Aluno (2022)\",\"line\":{\"color\":\"#636efa\",\"dash\":\"solid\"},\"marker\":{\"symbol\":\"circle\"},\"mode\":\"lines+markers\",\"name\":\"Notas do Aluno (2022)\",\"r\":[5.0,7.08,8.56,6.42,7.5,6.46,7.83,5.0],\"showlegend\":true,\"subplot\":\"polar3\",\"theta\":[\"IAN\",\"IDA\",\"IEG\",\"IAA\",\"IPS\",\"IPP\",\"IPV\",\"IAN\"],\"type\":\"scatterpolar\"},{\"hovertemplate\":\"Legenda=M\\u00e9dias da Fase (2022)\\u003cbr\\u003eNota=%{r}\\u003cbr\\u003eIndice=%{theta}\\u003cextra\\u003e\\u003c\\u002fextra\\u003e\",\"legendgroup\":\"M\\u00e9dias da Fase (2022)\",\"line\":{\"color\":\"#EF553B\",\"dash\":\"solid\"},\"marker\":{\"symbol\":\"circle\"},\"mode\":\"lines+markers\",\"name\":\"M\\u00e9dias da Fase (2022)\",\"r\":[6.4,5.4,8.16,8.41,6.82,6.16,7.34,6.4],\"showlegend\":true,\"subplot\":\"polar3\",\"theta\":[\"IAN\",\"IDA\",\"IEG\",\"IAA\",\"IPS\",\"IPP\",\"IPV\",\"IAN\"],\"type\":\"scatterpolar\"},{\"hovertemplate\":\"Legenda=M\\u00e9dias da Turma (2022)\\u003cbr\\u003eNota=%{r}\\u003cbr\\u003eIndice=%{theta}\\u003cextra\\u003e\\u003c\\u002fextra\\u003e\",\"legendgroup\":\"M\\u00e9dias da Turma (2022)\",\"line\":{\"color\":\"#00cc96\",\"dash\":\"solid\"},\"marker\":{\"symbol\":\"circle\"},\"mode\":\"lines+markers\",\"name\":\"M\\u00e9dias da Turma (2022)\",\"r\":[6.33,6.36,9.32,8.35,7.21,6.45,8.05,6.33],\"showlegend\":true,\"subplot\":\"polar3\",\"theta\":[\"IAN\",\"IDA\",\"IEG\",\"IAA\",\"IPS\",\"IPP\",\"IPV\",\"IAN\"],\"type\":\"scatterpolar\"}],                        {\"template\":{\"data\":{\"histogram2dcontour\":[{\"type\":\"histogram2dcontour\",\"colorbar\":{\"outlinewidth\":0,\"ticks\":\"\"},\"colorscale\":[[0.0,\"#0d0887\"],[0.1111111111111111,\"#46039f\"],[0.2222222222222222,\"#7201a8\"],[0.3333333333333333,\"#9c179e\"],[0.4444444444444444,\"#bd3786\"],[0.5555555555555556,\"#d8576b\"],[0.6666666666666666,\"#ed7953\"],[0.7777777777777778,\"#fb9f3a\"],[0.8888888888888888,\"#fdca26\"],[1.0,\"#f0f921\"]]}],\"choropleth\":[{\"type\":\"choropleth\",\"colorbar\":{\"outlinewidth\":0,\"ticks\":\"\"}}],\"histogram2d\":[{\"type\":\"histogram2d\",\"colorbar\":{\"outlinewidth\":0,\"ticks\":\"\"},\"colorscale\":[[0.0,\"#0d0887\"],[0.1111111111111111,\"#46039f\"],[0.2222222222222222,\"#7201a8\"],[0.3333333333333333,\"#9c179e\"],[0.4444444444444444,\"#bd3786\"],[0.5555555555555556,\"#d8576b\"],[0.6666666666666666,\"#ed7953\"],[0.7777777777777778,\"#fb9f3a\"],[0.8888888888888888,\"#fdca26\"],[1.0,\"#f0f921\"]]}],\"heatmap\":[{\"type\":\"heatmap\",\"colorbar\":{\"outlinewidth\":0,\"ticks\":\"\"},\"colorscale\":[[0.0,\"#0d0887\"],[0.1111111111111111,\"#46039f\"],[0.2222222222222222,\"#7201a8\"],[0.3333333333333333,\"#9c179e\"],[0.4444444444444444,\"#bd3786\"],[0.5555555555555556,\"#d8576b\"],[0.6666666666666666,\"#ed7953\"],[0.7777777777777778,\"#fb9f3a\"],[0.8888888888888888,\"#fdca26\"],[1.0,\"#f0f921\"]]}],\"heatmapgl\":[{\"type\":\"heatmapgl\",\"colorbar\":{\"outlinewidth\":0,\"ticks\":\"\"},\"colorscale\":[[0.0,\"#0d0887\"],[0.1111111111111111,\"#46039f\"],[0.2222222222222222,\"#7201a8\"],[0.3333333333333333,\"#9c179e\"],[0.4444444444444444,\"#bd3786\"],[0.5555555555555556,\"#d8576b\"],[0.6666666666666666,\"#ed7953\"],[0.7777777777777778,\"#fb9f3a\"],[0.8888888888888888,\"#fdca26\"],[1.0,\"#f0f921\"]]}],\"contourcarpet\":[{\"type\":\"contourcarpet\",\"colorbar\":{\"outlinewidth\":0,\"ticks\":\"\"}}],\"contour\":[{\"type\":\"contour\",\"colorbar\":{\"outlinewidth\":0,\"ticks\":\"\"},\"colorscale\":[[0.0,\"#0d0887\"],[0.1111111111111111,\"#46039f\"],[0.2222222222222222,\"#7201a8\"],[0.3333333333333333,\"#9c179e\"],[0.4444444444444444,\"#bd3786\"],[0.5555555555555556,\"#d8576b\"],[0.6666666666666666,\"#ed7953\"],[0.7777777777777778,\"#fb9f3a\"],[0.8888888888888888,\"#fdca26\"],[1.0,\"#f0f921\"]]}],\"surface\":[{\"type\":\"surface\",\"colorbar\":{\"outlinewidth\":0,\"ticks\":\"\"},\"colorscale\":[[0.0,\"#0d0887\"],[0.1111111111111111,\"#46039f\"],[0.2222222222222222,\"#7201a8\"],[0.3333333333333333,\"#9c179e\"],[0.4444444444444444,\"#bd3786\"],[0.5555555555555556,\"#d8576b\"],[0.6666666666666666,\"#ed7953\"],[0.7777777777777778,\"#fb9f3a\"],[0.8888888888888888,\"#fdca26\"],[1.0,\"#f0f921\"]]}],\"mesh3d\":[{\"type\":\"mesh3d\",\"colorbar\":{\"outlinewidth\":0,\"ticks\":\"\"}}],\"scatter\":[{\"fillpattern\":{\"fillmode\":\"overlay\",\"size\":10,\"solidity\":0.2},\"type\":\"scatter\"}],\"parcoords\":[{\"type\":\"parcoords\",\"line\":{\"colorbar\":{\"outlinewidth\":0,\"ticks\":\"\"}}}],\"scatterpolargl\":[{\"type\":\"scatterpolargl\",\"marker\":{\"colorbar\":{\"outlinewidth\":0,\"ticks\":\"\"}}}],\"bar\":[{\"error_x\":{\"color\":\"#2a3f5f\"},\"error_y\":{\"color\":\"#2a3f5f\"},\"marker\":{\"line\":{\"color\":\"#E5ECF6\",\"width\":0.5},\"pattern\":{\"fillmode\":\"overlay\",\"size\":10,\"solidity\":0.2}},\"type\":\"bar\"}],\"scattergeo\":[{\"type\":\"scattergeo\",\"marker\":{\"colorbar\":{\"outlinewidth\":0,\"ticks\":\"\"}}}],\"scatterpolar\":[{\"type\":\"scatterpolar\",\"marker\":{\"colorbar\":{\"outlinewidth\":0,\"ticks\":\"\"}}}],\"histogram\":[{\"marker\":{\"pattern\":{\"fillmode\":\"overlay\",\"size\":10,\"solidity\":0.2}},\"type\":\"histogram\"}],\"scattergl\":[{\"type\":\"scattergl\",\"marker\":{\"colorbar\":{\"outlinewidth\":0,\"ticks\":\"\"}}}],\"scatter3d\":[{\"type\":\"scatter3d\",\"line\":{\"colorbar\":{\"outlinewidth\":0,\"ticks\":\"\"}},\"marker\":{\"colorbar\":{\"outlinewidth\":0,\"ticks\":\"\"}}}],\"scattermapbox\":[{\"type\":\"scattermapbox\",\"marker\":{\"colorbar\":{\"outlinewidth\":0,\"ticks\":\"\"}}}],\"scatterternary\":[{\"type\":\"scatterternary\",\"marker\":{\"colorbar\":{\"outlinewidth\":0,\"ticks\":\"\"}}}],\"scattercarpet\":[{\"type\":\"scattercarpet\",\"marker\":{\"colorbar\":{\"outlinewidth\":0,\"ticks\":\"\"}}}],\"carpet\":[{\"aaxis\":{\"endlinecolor\":\"#2a3f5f\",\"gridcolor\":\"white\",\"linecolor\":\"white\",\"minorgridcolor\":\"white\",\"startlinecolor\":\"#2a3f5f\"},\"baxis\":{\"endlinecolor\":\"#2a3f5f\",\"gridcolor\":\"white\",\"linecolor\":\"white\",\"minorgridcolor\":\"white\",\"startlinecolor\":\"#2a3f5f\"},\"type\":\"carpet\"}],\"table\":[{\"cells\":{\"fill\":{\"color\":\"#EBF0F8\"},\"line\":{\"color\":\"white\"}},\"header\":{\"fill\":{\"color\":\"#C8D4E3\"},\"line\":{\"color\":\"white\"}},\"type\":\"table\"}],\"barpolar\":[{\"marker\":{\"line\":{\"color\":\"#E5ECF6\",\"width\":0.5},\"pattern\":{\"fillmode\":\"overlay\",\"size\":10,\"solidity\":0.2}},\"type\":\"barpolar\"}],\"pie\":[{\"automargin\":true,\"type\":\"pie\"}]},\"layout\":{\"autotypenumbers\":\"strict\",\"colorway\":[\"#636efa\",\"#EF553B\",\"#00cc96\",\"#ab63fa\",\"#FFA15A\",\"#19d3f3\",\"#FF6692\",\"#B6E880\",\"#FF97FF\",\"#FECB52\"],\"font\":{\"color\":\"#2a3f5f\"},\"hovermode\":\"closest\",\"hoverlabel\":{\"align\":\"left\"},\"paper_bgcolor\":\"white\",\"plot_bgcolor\":\"#E5ECF6\",\"polar\":{\"bgcolor\":\"#E5ECF6\",\"angularaxis\":{\"gridcolor\":\"white\",\"linecolor\":\"white\",\"ticks\":\"\"},\"radialaxis\":{\"gridcolor\":\"white\",\"linecolor\":\"white\",\"ticks\":\"\"}},\"ternary\":{\"bgcolor\":\"#E5ECF6\",\"aaxis\":{\"gridcolor\":\"white\",\"linecolor\":\"white\",\"ticks\":\"\"},\"baxis\":{\"gridcolor\":\"white\",\"linecolor\":\"white\",\"ticks\":\"\"},\"caxis\":{\"gridcolor\":\"white\",\"linecolor\":\"white\",\"ticks\":\"\"}},\"coloraxis\":{\"colorbar\":{\"outlinewidth\":0,\"ticks\":\"\"}},\"colorscale\":{\"sequential\":[[0.0,\"#0d0887\"],[0.1111111111111111,\"#46039f\"],[0.2222222222222222,\"#7201a8\"],[0.3333333333333333,\"#9c179e\"],[0.4444444444444444,\"#bd3786\"],[0.5555555555555556,\"#d8576b\"],[0.6666666666666666,\"#ed7953\"],[0.7777777777777778,\"#fb9f3a\"],[0.8888888888888888,\"#fdca26\"],[1.0,\"#f0f921\"]],\"sequentialminus\":[[0.0,\"#0d0887\"],[0.1111111111111111,\"#46039f\"],[0.2222222222222222,\"#7201a8\"],[0.3333333333333333,\"#9c179e\"],[0.4444444444444444,\"#bd3786\"],[0.5555555555555556,\"#d8576b\"],[0.6666666666666666,\"#ed7953\"],[0.7777777777777778,\"#fb9f3a\"],[0.8888888888888888,\"#fdca26\"],[1.0,\"#f0f921\"]],\"diverging\":[[0,\"#8e0152\"],[0.1,\"#c51b7d\"],[0.2,\"#de77ae\"],[0.3,\"#f1b6da\"],[0.4,\"#fde0ef\"],[0.5,\"#f7f7f7\"],[0.6,\"#e6f5d0\"],[0.7,\"#b8e186\"],[0.8,\"#7fbc41\"],[0.9,\"#4d9221\"],[1,\"#276419\"]]},\"xaxis\":{\"gridcolor\":\"white\",\"linecolor\":\"white\",\"ticks\":\"\",\"title\":{\"standoff\":15},\"zerolinecolor\":\"white\",\"automargin\":true,\"zerolinewidth\":2},\"yaxis\":{\"gridcolor\":\"white\",\"linecolor\":\"white\",\"ticks\":\"\",\"title\":{\"standoff\":15},\"zerolinecolor\":\"white\",\"automargin\":true,\"zerolinewidth\":2},\"scene\":{\"xaxis\":{\"backgroundcolor\":\"#E5ECF6\",\"gridcolor\":\"white\",\"linecolor\":\"white\",\"showbackground\":true,\"ticks\":\"\",\"zerolinecolor\":\"white\",\"gridwidth\":2},\"yaxis\":{\"backgroundcolor\":\"#E5ECF6\",\"gridcolor\":\"white\",\"linecolor\":\"white\",\"showbackground\":true,\"ticks\":\"\",\"zerolinecolor\":\"white\",\"gridwidth\":2},\"zaxis\":{\"backgroundcolor\":\"#E5ECF6\",\"gridcolor\":\"white\",\"linecolor\":\"white\",\"showbackground\":true,\"ticks\":\"\",\"zerolinecolor\":\"white\",\"gridwidth\":2}},\"shapedefaults\":{\"line\":{\"color\":\"#2a3f5f\"}},\"annotationdefaults\":{\"arrowcolor\":\"#2a3f5f\",\"arrowhead\":0,\"arrowwidth\":1},\"geo\":{\"bgcolor\":\"white\",\"landcolor\":\"#E5ECF6\",\"subunitcolor\":\"white\",\"showland\":true,\"showlakes\":true,\"lakecolor\":\"white\"},\"title\":{\"x\":0.05},\"mapbox\":{\"style\":\"light\"}}},\"polar\":{\"domain\":{\"x\":[0.0,0.2888888888888889],\"y\":[0.0,1.0]}},\"polar2\":{\"domain\":{\"x\":[0.35555555555555557,0.6444444444444445],\"y\":[0.0,1.0]}},\"polar3\":{\"domain\":{\"x\":[0.7111111111111111,1.0],\"y\":[0.0,1.0]}},\"annotations\":[{\"font\":{\"size\":16},\"showarrow\":false,\"text\":\"2020\",\"x\":0.14444444444444446,\"xanchor\":\"center\",\"xref\":\"paper\",\"y\":1.0,\"yanchor\":\"bottom\",\"yref\":\"paper\"},{\"font\":{\"size\":16},\"showarrow\":false,\"text\":\"2021\",\"x\":0.5,\"xanchor\":\"center\",\"xref\":\"paper\",\"y\":1.0,\"yanchor\":\"bottom\",\"yref\":\"paper\"},{\"font\":{\"size\":16},\"showarrow\":false,\"text\":\"2022\",\"x\":0.8555555555555556,\"xanchor\":\"center\",\"xref\":\"paper\",\"y\":1.0,\"yanchor\":\"bottom\",\"yref\":\"paper\"},{\"font\":{\"size\":16},\"showarrow\":false,\"text\":\"2020\",\"x\":0.14444444444444446,\"xanchor\":\"center\",\"xref\":\"paper\",\"y\":1.0,\"yanchor\":\"bottom\",\"yref\":\"paper\"},{\"font\":{\"size\":16},\"showarrow\":false,\"text\":\"2021\",\"x\":0.5,\"xanchor\":\"center\",\"xref\":\"paper\",\"y\":1.0,\"yanchor\":\"bottom\",\"yref\":\"paper\"},{\"font\":{\"size\":16},\"showarrow\":false,\"text\":\"2022\",\"x\":0.8555555555555556,\"xanchor\":\"center\",\"xref\":\"paper\",\"y\":1.0,\"yanchor\":\"bottom\",\"yref\":\"paper\"},{\"font\":{\"size\":16},\"showarrow\":false,\"text\":\"Evolu\\u00e7\\u00e3o do Aluno por Ano\",\"x\":0.5,\"xanchor\":\"center\",\"xref\":\"paper\",\"y\":0,\"yanchor\":\"top\",\"yref\":\"paper\",\"yshift\":-30}]},                        {\"responsive\": true}                    ).then(function(){\n",
       "                            \n",
       "var gd = document.getElementById('10e38c6e-28ef-435b-abc8-374076d5b806');\n",
       "var x = new MutationObserver(function (mutations, observer) {{\n",
       "        var display = window.getComputedStyle(gd).display;\n",
       "        if (!display || display === 'none') {{\n",
       "            console.log([gd, 'removed!']);\n",
       "            Plotly.purge(gd);\n",
       "            observer.disconnect();\n",
       "        }}\n",
       "}});\n",
       "\n",
       "// Listen for the removal of the full notebook cells\n",
       "var notebookContainer = gd.closest('#notebook-container');\n",
       "if (notebookContainer) {{\n",
       "    x.observe(notebookContainer, {childList: true});\n",
       "}}\n",
       "\n",
       "// Listen for the clearing of the current output cell\n",
       "var outputEl = gd.closest('.output');\n",
       "if (outputEl) {{\n",
       "    x.observe(outputEl, {childList: true});\n",
       "}}\n",
       "\n",
       "                        })                };                });            </script>        </div>"
      ]
     },
     "metadata": {},
     "output_type": "display_data"
    }
   ],
   "execution_count": 211
  },
  {
   "metadata": {
    "ExecuteTime": {
     "end_time": "2024-08-11T15:11:26.179964Z",
     "start_time": "2024-08-11T15:11:26.024528Z"
    }
   },
   "cell_type": "code",
   "source": [
    "fig = make_subplots(rows=1, cols=2, specs=[[{'type': 'scatter'}, {'type': 'polar'}]],\n",
    "                    subplot_titles=('INDE', 'Índices'), column_titles=('INDE', 'Índices'), x_title=\"Evolução do Aluno por Ano\")\n",
    "fig1 = px.line(df1, x=\"ANO_PESQUISA\", y=\"INDE\")\n",
    "\n",
    "fig2 = px.line_polar(teste2, r=\"Nota\", theta=\"Indice\", color=\"Legenda\",\n",
    "                    line_close=True, markers=True, range_r=[0,10], start_angle=0, direction='counterclockwise')\n",
    "\n",
    "fig.add_traces(list(fig1.select_traces()),1,1)\n",
    "fig.add_traces(list(fig2.select_traces()),1,2)\n",
    "fig.show()"
   ],
   "id": "a32a94ca11209d74",
   "outputs": [
    {
     "data": {
      "application/vnd.plotly.v1+json": {
       "data": [
        {
         "hovertemplate": "ANO_PESQUISA=%{x}<br>INDE=%{y}<extra></extra>",
         "legendgroup": "",
         "line": {
          "color": "#636efa",
          "dash": "solid"
         },
         "marker": {
          "symbol": "circle"
         },
         "mode": "lines",
         "name": "",
         "orientation": "v",
         "showlegend": false,
         "x": [
          2020,
          2021,
          2022
         ],
         "xaxis": "x",
         "y": [
          8.08,
          7.4,
          7.23
         ],
         "yaxis": "y",
         "type": "scatter"
        },
        {
         "hovertemplate": "Legenda=Notas do Aluno (2020)<br>Nota=%{r}<br>Indice=%{theta}<extra></extra>",
         "legendgroup": "Notas do Aluno (2020)",
         "line": {
          "color": "#636efa",
          "dash": "solid"
         },
         "marker": {
          "symbol": "circle"
         },
         "mode": "lines+markers",
         "name": "Notas do Aluno (2020)",
         "r": [
          10.0,
          7.5,
          8.0,
          7.5,
          7.5,
          8.44,
          8.17,
          10.0
         ],
         "showlegend": true,
         "subplot": "polar",
         "theta": [
          "IAN",
          "IDA",
          "IEG",
          "IAA",
          "IPS",
          "IPP",
          "IPV",
          "IAN"
         ],
         "type": "scatterpolar"
        },
        {
         "hovertemplate": "Legenda=Notas do Aluno (2021)<br>Nota=%{r}<br>Indice=%{theta}<extra></extra>",
         "legendgroup": "Notas do Aluno (2021)",
         "line": {
          "color": "#EF553B",
          "dash": "solid"
         },
         "marker": {
          "symbol": "circle"
         },
         "mode": "lines+markers",
         "name": "Notas do Aluno (2021)",
         "r": [
          10.0,
          5.4,
          7.5,
          7.4,
          7.5,
          8.5,
          7.4,
          10.0
         ],
         "showlegend": true,
         "subplot": "polar",
         "theta": [
          "IAN",
          "IDA",
          "IEG",
          "IAA",
          "IPS",
          "IPP",
          "IPV",
          "IAN"
         ],
         "type": "scatterpolar"
        },
        {
         "hovertemplate": "Legenda=Notas do Aluno (2022)<br>Nota=%{r}<br>Indice=%{theta}<extra></extra>",
         "legendgroup": "Notas do Aluno (2022)",
         "line": {
          "color": "#00cc96",
          "dash": "solid"
         },
         "marker": {
          "symbol": "circle"
         },
         "mode": "lines+markers",
         "name": "Notas do Aluno (2022)",
         "r": [
          5.0,
          7.08,
          8.56,
          6.42,
          7.5,
          6.46,
          7.83,
          5.0
         ],
         "showlegend": true,
         "subplot": "polar",
         "theta": [
          "IAN",
          "IDA",
          "IEG",
          "IAA",
          "IPS",
          "IPP",
          "IPV",
          "IAN"
         ],
         "type": "scatterpolar"
        }
       ],
       "layout": {
        "template": {
         "data": {
          "histogram2dcontour": [
           {
            "type": "histogram2dcontour",
            "colorbar": {
             "outlinewidth": 0,
             "ticks": ""
            },
            "colorscale": [
             [
              0.0,
              "#0d0887"
             ],
             [
              0.1111111111111111,
              "#46039f"
             ],
             [
              0.2222222222222222,
              "#7201a8"
             ],
             [
              0.3333333333333333,
              "#9c179e"
             ],
             [
              0.4444444444444444,
              "#bd3786"
             ],
             [
              0.5555555555555556,
              "#d8576b"
             ],
             [
              0.6666666666666666,
              "#ed7953"
             ],
             [
              0.7777777777777778,
              "#fb9f3a"
             ],
             [
              0.8888888888888888,
              "#fdca26"
             ],
             [
              1.0,
              "#f0f921"
             ]
            ]
           }
          ],
          "choropleth": [
           {
            "type": "choropleth",
            "colorbar": {
             "outlinewidth": 0,
             "ticks": ""
            }
           }
          ],
          "histogram2d": [
           {
            "type": "histogram2d",
            "colorbar": {
             "outlinewidth": 0,
             "ticks": ""
            },
            "colorscale": [
             [
              0.0,
              "#0d0887"
             ],
             [
              0.1111111111111111,
              "#46039f"
             ],
             [
              0.2222222222222222,
              "#7201a8"
             ],
             [
              0.3333333333333333,
              "#9c179e"
             ],
             [
              0.4444444444444444,
              "#bd3786"
             ],
             [
              0.5555555555555556,
              "#d8576b"
             ],
             [
              0.6666666666666666,
              "#ed7953"
             ],
             [
              0.7777777777777778,
              "#fb9f3a"
             ],
             [
              0.8888888888888888,
              "#fdca26"
             ],
             [
              1.0,
              "#f0f921"
             ]
            ]
           }
          ],
          "heatmap": [
           {
            "type": "heatmap",
            "colorbar": {
             "outlinewidth": 0,
             "ticks": ""
            },
            "colorscale": [
             [
              0.0,
              "#0d0887"
             ],
             [
              0.1111111111111111,
              "#46039f"
             ],
             [
              0.2222222222222222,
              "#7201a8"
             ],
             [
              0.3333333333333333,
              "#9c179e"
             ],
             [
              0.4444444444444444,
              "#bd3786"
             ],
             [
              0.5555555555555556,
              "#d8576b"
             ],
             [
              0.6666666666666666,
              "#ed7953"
             ],
             [
              0.7777777777777778,
              "#fb9f3a"
             ],
             [
              0.8888888888888888,
              "#fdca26"
             ],
             [
              1.0,
              "#f0f921"
             ]
            ]
           }
          ],
          "heatmapgl": [
           {
            "type": "heatmapgl",
            "colorbar": {
             "outlinewidth": 0,
             "ticks": ""
            },
            "colorscale": [
             [
              0.0,
              "#0d0887"
             ],
             [
              0.1111111111111111,
              "#46039f"
             ],
             [
              0.2222222222222222,
              "#7201a8"
             ],
             [
              0.3333333333333333,
              "#9c179e"
             ],
             [
              0.4444444444444444,
              "#bd3786"
             ],
             [
              0.5555555555555556,
              "#d8576b"
             ],
             [
              0.6666666666666666,
              "#ed7953"
             ],
             [
              0.7777777777777778,
              "#fb9f3a"
             ],
             [
              0.8888888888888888,
              "#fdca26"
             ],
             [
              1.0,
              "#f0f921"
             ]
            ]
           }
          ],
          "contourcarpet": [
           {
            "type": "contourcarpet",
            "colorbar": {
             "outlinewidth": 0,
             "ticks": ""
            }
           }
          ],
          "contour": [
           {
            "type": "contour",
            "colorbar": {
             "outlinewidth": 0,
             "ticks": ""
            },
            "colorscale": [
             [
              0.0,
              "#0d0887"
             ],
             [
              0.1111111111111111,
              "#46039f"
             ],
             [
              0.2222222222222222,
              "#7201a8"
             ],
             [
              0.3333333333333333,
              "#9c179e"
             ],
             [
              0.4444444444444444,
              "#bd3786"
             ],
             [
              0.5555555555555556,
              "#d8576b"
             ],
             [
              0.6666666666666666,
              "#ed7953"
             ],
             [
              0.7777777777777778,
              "#fb9f3a"
             ],
             [
              0.8888888888888888,
              "#fdca26"
             ],
             [
              1.0,
              "#f0f921"
             ]
            ]
           }
          ],
          "surface": [
           {
            "type": "surface",
            "colorbar": {
             "outlinewidth": 0,
             "ticks": ""
            },
            "colorscale": [
             [
              0.0,
              "#0d0887"
             ],
             [
              0.1111111111111111,
              "#46039f"
             ],
             [
              0.2222222222222222,
              "#7201a8"
             ],
             [
              0.3333333333333333,
              "#9c179e"
             ],
             [
              0.4444444444444444,
              "#bd3786"
             ],
             [
              0.5555555555555556,
              "#d8576b"
             ],
             [
              0.6666666666666666,
              "#ed7953"
             ],
             [
              0.7777777777777778,
              "#fb9f3a"
             ],
             [
              0.8888888888888888,
              "#fdca26"
             ],
             [
              1.0,
              "#f0f921"
             ]
            ]
           }
          ],
          "mesh3d": [
           {
            "type": "mesh3d",
            "colorbar": {
             "outlinewidth": 0,
             "ticks": ""
            }
           }
          ],
          "scatter": [
           {
            "fillpattern": {
             "fillmode": "overlay",
             "size": 10,
             "solidity": 0.2
            },
            "type": "scatter"
           }
          ],
          "parcoords": [
           {
            "type": "parcoords",
            "line": {
             "colorbar": {
              "outlinewidth": 0,
              "ticks": ""
             }
            }
           }
          ],
          "scatterpolargl": [
           {
            "type": "scatterpolargl",
            "marker": {
             "colorbar": {
              "outlinewidth": 0,
              "ticks": ""
             }
            }
           }
          ],
          "bar": [
           {
            "error_x": {
             "color": "#2a3f5f"
            },
            "error_y": {
             "color": "#2a3f5f"
            },
            "marker": {
             "line": {
              "color": "#E5ECF6",
              "width": 0.5
             },
             "pattern": {
              "fillmode": "overlay",
              "size": 10,
              "solidity": 0.2
             }
            },
            "type": "bar"
           }
          ],
          "scattergeo": [
           {
            "type": "scattergeo",
            "marker": {
             "colorbar": {
              "outlinewidth": 0,
              "ticks": ""
             }
            }
           }
          ],
          "scatterpolar": [
           {
            "type": "scatterpolar",
            "marker": {
             "colorbar": {
              "outlinewidth": 0,
              "ticks": ""
             }
            }
           }
          ],
          "histogram": [
           {
            "marker": {
             "pattern": {
              "fillmode": "overlay",
              "size": 10,
              "solidity": 0.2
             }
            },
            "type": "histogram"
           }
          ],
          "scattergl": [
           {
            "type": "scattergl",
            "marker": {
             "colorbar": {
              "outlinewidth": 0,
              "ticks": ""
             }
            }
           }
          ],
          "scatter3d": [
           {
            "type": "scatter3d",
            "line": {
             "colorbar": {
              "outlinewidth": 0,
              "ticks": ""
             }
            },
            "marker": {
             "colorbar": {
              "outlinewidth": 0,
              "ticks": ""
             }
            }
           }
          ],
          "scattermapbox": [
           {
            "type": "scattermapbox",
            "marker": {
             "colorbar": {
              "outlinewidth": 0,
              "ticks": ""
             }
            }
           }
          ],
          "scatterternary": [
           {
            "type": "scatterternary",
            "marker": {
             "colorbar": {
              "outlinewidth": 0,
              "ticks": ""
             }
            }
           }
          ],
          "scattercarpet": [
           {
            "type": "scattercarpet",
            "marker": {
             "colorbar": {
              "outlinewidth": 0,
              "ticks": ""
             }
            }
           }
          ],
          "carpet": [
           {
            "aaxis": {
             "endlinecolor": "#2a3f5f",
             "gridcolor": "white",
             "linecolor": "white",
             "minorgridcolor": "white",
             "startlinecolor": "#2a3f5f"
            },
            "baxis": {
             "endlinecolor": "#2a3f5f",
             "gridcolor": "white",
             "linecolor": "white",
             "minorgridcolor": "white",
             "startlinecolor": "#2a3f5f"
            },
            "type": "carpet"
           }
          ],
          "table": [
           {
            "cells": {
             "fill": {
              "color": "#EBF0F8"
             },
             "line": {
              "color": "white"
             }
            },
            "header": {
             "fill": {
              "color": "#C8D4E3"
             },
             "line": {
              "color": "white"
             }
            },
            "type": "table"
           }
          ],
          "barpolar": [
           {
            "marker": {
             "line": {
              "color": "#E5ECF6",
              "width": 0.5
             },
             "pattern": {
              "fillmode": "overlay",
              "size": 10,
              "solidity": 0.2
             }
            },
            "type": "barpolar"
           }
          ],
          "pie": [
           {
            "automargin": true,
            "type": "pie"
           }
          ]
         },
         "layout": {
          "autotypenumbers": "strict",
          "colorway": [
           "#636efa",
           "#EF553B",
           "#00cc96",
           "#ab63fa",
           "#FFA15A",
           "#19d3f3",
           "#FF6692",
           "#B6E880",
           "#FF97FF",
           "#FECB52"
          ],
          "font": {
           "color": "#2a3f5f"
          },
          "hovermode": "closest",
          "hoverlabel": {
           "align": "left"
          },
          "paper_bgcolor": "white",
          "plot_bgcolor": "#E5ECF6",
          "polar": {
           "bgcolor": "#E5ECF6",
           "angularaxis": {
            "gridcolor": "white",
            "linecolor": "white",
            "ticks": ""
           },
           "radialaxis": {
            "gridcolor": "white",
            "linecolor": "white",
            "ticks": ""
           }
          },
          "ternary": {
           "bgcolor": "#E5ECF6",
           "aaxis": {
            "gridcolor": "white",
            "linecolor": "white",
            "ticks": ""
           },
           "baxis": {
            "gridcolor": "white",
            "linecolor": "white",
            "ticks": ""
           },
           "caxis": {
            "gridcolor": "white",
            "linecolor": "white",
            "ticks": ""
           }
          },
          "coloraxis": {
           "colorbar": {
            "outlinewidth": 0,
            "ticks": ""
           }
          },
          "colorscale": {
           "sequential": [
            [
             0.0,
             "#0d0887"
            ],
            [
             0.1111111111111111,
             "#46039f"
            ],
            [
             0.2222222222222222,
             "#7201a8"
            ],
            [
             0.3333333333333333,
             "#9c179e"
            ],
            [
             0.4444444444444444,
             "#bd3786"
            ],
            [
             0.5555555555555556,
             "#d8576b"
            ],
            [
             0.6666666666666666,
             "#ed7953"
            ],
            [
             0.7777777777777778,
             "#fb9f3a"
            ],
            [
             0.8888888888888888,
             "#fdca26"
            ],
            [
             1.0,
             "#f0f921"
            ]
           ],
           "sequentialminus": [
            [
             0.0,
             "#0d0887"
            ],
            [
             0.1111111111111111,
             "#46039f"
            ],
            [
             0.2222222222222222,
             "#7201a8"
            ],
            [
             0.3333333333333333,
             "#9c179e"
            ],
            [
             0.4444444444444444,
             "#bd3786"
            ],
            [
             0.5555555555555556,
             "#d8576b"
            ],
            [
             0.6666666666666666,
             "#ed7953"
            ],
            [
             0.7777777777777778,
             "#fb9f3a"
            ],
            [
             0.8888888888888888,
             "#fdca26"
            ],
            [
             1.0,
             "#f0f921"
            ]
           ],
           "diverging": [
            [
             0,
             "#8e0152"
            ],
            [
             0.1,
             "#c51b7d"
            ],
            [
             0.2,
             "#de77ae"
            ],
            [
             0.3,
             "#f1b6da"
            ],
            [
             0.4,
             "#fde0ef"
            ],
            [
             0.5,
             "#f7f7f7"
            ],
            [
             0.6,
             "#e6f5d0"
            ],
            [
             0.7,
             "#b8e186"
            ],
            [
             0.8,
             "#7fbc41"
            ],
            [
             0.9,
             "#4d9221"
            ],
            [
             1,
             "#276419"
            ]
           ]
          },
          "xaxis": {
           "gridcolor": "white",
           "linecolor": "white",
           "ticks": "",
           "title": {
            "standoff": 15
           },
           "zerolinecolor": "white",
           "automargin": true,
           "zerolinewidth": 2
          },
          "yaxis": {
           "gridcolor": "white",
           "linecolor": "white",
           "ticks": "",
           "title": {
            "standoff": 15
           },
           "zerolinecolor": "white",
           "automargin": true,
           "zerolinewidth": 2
          },
          "scene": {
           "xaxis": {
            "backgroundcolor": "#E5ECF6",
            "gridcolor": "white",
            "linecolor": "white",
            "showbackground": true,
            "ticks": "",
            "zerolinecolor": "white",
            "gridwidth": 2
           },
           "yaxis": {
            "backgroundcolor": "#E5ECF6",
            "gridcolor": "white",
            "linecolor": "white",
            "showbackground": true,
            "ticks": "",
            "zerolinecolor": "white",
            "gridwidth": 2
           },
           "zaxis": {
            "backgroundcolor": "#E5ECF6",
            "gridcolor": "white",
            "linecolor": "white",
            "showbackground": true,
            "ticks": "",
            "zerolinecolor": "white",
            "gridwidth": 2
           }
          },
          "shapedefaults": {
           "line": {
            "color": "#2a3f5f"
           }
          },
          "annotationdefaults": {
           "arrowcolor": "#2a3f5f",
           "arrowhead": 0,
           "arrowwidth": 1
          },
          "geo": {
           "bgcolor": "white",
           "landcolor": "#E5ECF6",
           "subunitcolor": "white",
           "showland": true,
           "showlakes": true,
           "lakecolor": "white"
          },
          "title": {
           "x": 0.05
          },
          "mapbox": {
           "style": "light"
          }
         }
        },
        "xaxis": {
         "anchor": "y",
         "domain": [
          0.0,
          0.45
         ]
        },
        "yaxis": {
         "anchor": "x",
         "domain": [
          0.0,
          1.0
         ]
        },
        "polar": {
         "domain": {
          "x": [
           0.55,
           1.0
          ],
          "y": [
           0.0,
           1.0
          ]
         }
        },
        "annotations": [
         {
          "font": {
           "size": 16
          },
          "showarrow": false,
          "text": "INDE",
          "x": 0.225,
          "xanchor": "center",
          "xref": "paper",
          "y": 1.0,
          "yanchor": "bottom",
          "yref": "paper"
         },
         {
          "font": {
           "size": 16
          },
          "showarrow": false,
          "text": "Índices",
          "x": 0.775,
          "xanchor": "center",
          "xref": "paper",
          "y": 1.0,
          "yanchor": "bottom",
          "yref": "paper"
         },
         {
          "font": {
           "size": 16
          },
          "showarrow": false,
          "text": "INDE",
          "x": 0.225,
          "xanchor": "center",
          "xref": "paper",
          "y": 1.0,
          "yanchor": "bottom",
          "yref": "paper"
         },
         {
          "font": {
           "size": 16
          },
          "showarrow": false,
          "text": "Índices",
          "x": 0.775,
          "xanchor": "center",
          "xref": "paper",
          "y": 1.0,
          "yanchor": "bottom",
          "yref": "paper"
         },
         {
          "font": {
           "size": 16
          },
          "showarrow": false,
          "text": "Evolução do Aluno por Ano",
          "x": 0.5,
          "xanchor": "center",
          "xref": "paper",
          "y": 0,
          "yanchor": "top",
          "yref": "paper",
          "yshift": -30
         }
        ]
       },
       "config": {
        "plotlyServerURL": "https://plot.ly"
       }
      },
      "text/html": [
       "<div>                            <div id=\"585751e6-46e9-4453-90be-e7ef4957e114\" class=\"plotly-graph-div\" style=\"height:525px; width:100%;\"></div>            <script type=\"text/javascript\">                require([\"plotly\"], function(Plotly) {                    window.PLOTLYENV=window.PLOTLYENV || {};                                    if (document.getElementById(\"585751e6-46e9-4453-90be-e7ef4957e114\")) {                    Plotly.newPlot(                        \"585751e6-46e9-4453-90be-e7ef4957e114\",                        [{\"hovertemplate\":\"ANO_PESQUISA=%{x}\\u003cbr\\u003eINDE=%{y}\\u003cextra\\u003e\\u003c\\u002fextra\\u003e\",\"legendgroup\":\"\",\"line\":{\"color\":\"#636efa\",\"dash\":\"solid\"},\"marker\":{\"symbol\":\"circle\"},\"mode\":\"lines\",\"name\":\"\",\"orientation\":\"v\",\"showlegend\":false,\"x\":[2020,2021,2022],\"xaxis\":\"x\",\"y\":[8.08,7.4,7.23],\"yaxis\":\"y\",\"type\":\"scatter\"},{\"hovertemplate\":\"Legenda=Notas do Aluno (2020)\\u003cbr\\u003eNota=%{r}\\u003cbr\\u003eIndice=%{theta}\\u003cextra\\u003e\\u003c\\u002fextra\\u003e\",\"legendgroup\":\"Notas do Aluno (2020)\",\"line\":{\"color\":\"#636efa\",\"dash\":\"solid\"},\"marker\":{\"symbol\":\"circle\"},\"mode\":\"lines+markers\",\"name\":\"Notas do Aluno (2020)\",\"r\":[10.0,7.5,8.0,7.5,7.5,8.44,8.17,10.0],\"showlegend\":true,\"subplot\":\"polar\",\"theta\":[\"IAN\",\"IDA\",\"IEG\",\"IAA\",\"IPS\",\"IPP\",\"IPV\",\"IAN\"],\"type\":\"scatterpolar\"},{\"hovertemplate\":\"Legenda=Notas do Aluno (2021)\\u003cbr\\u003eNota=%{r}\\u003cbr\\u003eIndice=%{theta}\\u003cextra\\u003e\\u003c\\u002fextra\\u003e\",\"legendgroup\":\"Notas do Aluno (2021)\",\"line\":{\"color\":\"#EF553B\",\"dash\":\"solid\"},\"marker\":{\"symbol\":\"circle\"},\"mode\":\"lines+markers\",\"name\":\"Notas do Aluno (2021)\",\"r\":[10.0,5.4,7.5,7.4,7.5,8.5,7.4,10.0],\"showlegend\":true,\"subplot\":\"polar\",\"theta\":[\"IAN\",\"IDA\",\"IEG\",\"IAA\",\"IPS\",\"IPP\",\"IPV\",\"IAN\"],\"type\":\"scatterpolar\"},{\"hovertemplate\":\"Legenda=Notas do Aluno (2022)\\u003cbr\\u003eNota=%{r}\\u003cbr\\u003eIndice=%{theta}\\u003cextra\\u003e\\u003c\\u002fextra\\u003e\",\"legendgroup\":\"Notas do Aluno (2022)\",\"line\":{\"color\":\"#00cc96\",\"dash\":\"solid\"},\"marker\":{\"symbol\":\"circle\"},\"mode\":\"lines+markers\",\"name\":\"Notas do Aluno (2022)\",\"r\":[5.0,7.08,8.56,6.42,7.5,6.46,7.83,5.0],\"showlegend\":true,\"subplot\":\"polar\",\"theta\":[\"IAN\",\"IDA\",\"IEG\",\"IAA\",\"IPS\",\"IPP\",\"IPV\",\"IAN\"],\"type\":\"scatterpolar\"}],                        {\"template\":{\"data\":{\"histogram2dcontour\":[{\"type\":\"histogram2dcontour\",\"colorbar\":{\"outlinewidth\":0,\"ticks\":\"\"},\"colorscale\":[[0.0,\"#0d0887\"],[0.1111111111111111,\"#46039f\"],[0.2222222222222222,\"#7201a8\"],[0.3333333333333333,\"#9c179e\"],[0.4444444444444444,\"#bd3786\"],[0.5555555555555556,\"#d8576b\"],[0.6666666666666666,\"#ed7953\"],[0.7777777777777778,\"#fb9f3a\"],[0.8888888888888888,\"#fdca26\"],[1.0,\"#f0f921\"]]}],\"choropleth\":[{\"type\":\"choropleth\",\"colorbar\":{\"outlinewidth\":0,\"ticks\":\"\"}}],\"histogram2d\":[{\"type\":\"histogram2d\",\"colorbar\":{\"outlinewidth\":0,\"ticks\":\"\"},\"colorscale\":[[0.0,\"#0d0887\"],[0.1111111111111111,\"#46039f\"],[0.2222222222222222,\"#7201a8\"],[0.3333333333333333,\"#9c179e\"],[0.4444444444444444,\"#bd3786\"],[0.5555555555555556,\"#d8576b\"],[0.6666666666666666,\"#ed7953\"],[0.7777777777777778,\"#fb9f3a\"],[0.8888888888888888,\"#fdca26\"],[1.0,\"#f0f921\"]]}],\"heatmap\":[{\"type\":\"heatmap\",\"colorbar\":{\"outlinewidth\":0,\"ticks\":\"\"},\"colorscale\":[[0.0,\"#0d0887\"],[0.1111111111111111,\"#46039f\"],[0.2222222222222222,\"#7201a8\"],[0.3333333333333333,\"#9c179e\"],[0.4444444444444444,\"#bd3786\"],[0.5555555555555556,\"#d8576b\"],[0.6666666666666666,\"#ed7953\"],[0.7777777777777778,\"#fb9f3a\"],[0.8888888888888888,\"#fdca26\"],[1.0,\"#f0f921\"]]}],\"heatmapgl\":[{\"type\":\"heatmapgl\",\"colorbar\":{\"outlinewidth\":0,\"ticks\":\"\"},\"colorscale\":[[0.0,\"#0d0887\"],[0.1111111111111111,\"#46039f\"],[0.2222222222222222,\"#7201a8\"],[0.3333333333333333,\"#9c179e\"],[0.4444444444444444,\"#bd3786\"],[0.5555555555555556,\"#d8576b\"],[0.6666666666666666,\"#ed7953\"],[0.7777777777777778,\"#fb9f3a\"],[0.8888888888888888,\"#fdca26\"],[1.0,\"#f0f921\"]]}],\"contourcarpet\":[{\"type\":\"contourcarpet\",\"colorbar\":{\"outlinewidth\":0,\"ticks\":\"\"}}],\"contour\":[{\"type\":\"contour\",\"colorbar\":{\"outlinewidth\":0,\"ticks\":\"\"},\"colorscale\":[[0.0,\"#0d0887\"],[0.1111111111111111,\"#46039f\"],[0.2222222222222222,\"#7201a8\"],[0.3333333333333333,\"#9c179e\"],[0.4444444444444444,\"#bd3786\"],[0.5555555555555556,\"#d8576b\"],[0.6666666666666666,\"#ed7953\"],[0.7777777777777778,\"#fb9f3a\"],[0.8888888888888888,\"#fdca26\"],[1.0,\"#f0f921\"]]}],\"surface\":[{\"type\":\"surface\",\"colorbar\":{\"outlinewidth\":0,\"ticks\":\"\"},\"colorscale\":[[0.0,\"#0d0887\"],[0.1111111111111111,\"#46039f\"],[0.2222222222222222,\"#7201a8\"],[0.3333333333333333,\"#9c179e\"],[0.4444444444444444,\"#bd3786\"],[0.5555555555555556,\"#d8576b\"],[0.6666666666666666,\"#ed7953\"],[0.7777777777777778,\"#fb9f3a\"],[0.8888888888888888,\"#fdca26\"],[1.0,\"#f0f921\"]]}],\"mesh3d\":[{\"type\":\"mesh3d\",\"colorbar\":{\"outlinewidth\":0,\"ticks\":\"\"}}],\"scatter\":[{\"fillpattern\":{\"fillmode\":\"overlay\",\"size\":10,\"solidity\":0.2},\"type\":\"scatter\"}],\"parcoords\":[{\"type\":\"parcoords\",\"line\":{\"colorbar\":{\"outlinewidth\":0,\"ticks\":\"\"}}}],\"scatterpolargl\":[{\"type\":\"scatterpolargl\",\"marker\":{\"colorbar\":{\"outlinewidth\":0,\"ticks\":\"\"}}}],\"bar\":[{\"error_x\":{\"color\":\"#2a3f5f\"},\"error_y\":{\"color\":\"#2a3f5f\"},\"marker\":{\"line\":{\"color\":\"#E5ECF6\",\"width\":0.5},\"pattern\":{\"fillmode\":\"overlay\",\"size\":10,\"solidity\":0.2}},\"type\":\"bar\"}],\"scattergeo\":[{\"type\":\"scattergeo\",\"marker\":{\"colorbar\":{\"outlinewidth\":0,\"ticks\":\"\"}}}],\"scatterpolar\":[{\"type\":\"scatterpolar\",\"marker\":{\"colorbar\":{\"outlinewidth\":0,\"ticks\":\"\"}}}],\"histogram\":[{\"marker\":{\"pattern\":{\"fillmode\":\"overlay\",\"size\":10,\"solidity\":0.2}},\"type\":\"histogram\"}],\"scattergl\":[{\"type\":\"scattergl\",\"marker\":{\"colorbar\":{\"outlinewidth\":0,\"ticks\":\"\"}}}],\"scatter3d\":[{\"type\":\"scatter3d\",\"line\":{\"colorbar\":{\"outlinewidth\":0,\"ticks\":\"\"}},\"marker\":{\"colorbar\":{\"outlinewidth\":0,\"ticks\":\"\"}}}],\"scattermapbox\":[{\"type\":\"scattermapbox\",\"marker\":{\"colorbar\":{\"outlinewidth\":0,\"ticks\":\"\"}}}],\"scatterternary\":[{\"type\":\"scatterternary\",\"marker\":{\"colorbar\":{\"outlinewidth\":0,\"ticks\":\"\"}}}],\"scattercarpet\":[{\"type\":\"scattercarpet\",\"marker\":{\"colorbar\":{\"outlinewidth\":0,\"ticks\":\"\"}}}],\"carpet\":[{\"aaxis\":{\"endlinecolor\":\"#2a3f5f\",\"gridcolor\":\"white\",\"linecolor\":\"white\",\"minorgridcolor\":\"white\",\"startlinecolor\":\"#2a3f5f\"},\"baxis\":{\"endlinecolor\":\"#2a3f5f\",\"gridcolor\":\"white\",\"linecolor\":\"white\",\"minorgridcolor\":\"white\",\"startlinecolor\":\"#2a3f5f\"},\"type\":\"carpet\"}],\"table\":[{\"cells\":{\"fill\":{\"color\":\"#EBF0F8\"},\"line\":{\"color\":\"white\"}},\"header\":{\"fill\":{\"color\":\"#C8D4E3\"},\"line\":{\"color\":\"white\"}},\"type\":\"table\"}],\"barpolar\":[{\"marker\":{\"line\":{\"color\":\"#E5ECF6\",\"width\":0.5},\"pattern\":{\"fillmode\":\"overlay\",\"size\":10,\"solidity\":0.2}},\"type\":\"barpolar\"}],\"pie\":[{\"automargin\":true,\"type\":\"pie\"}]},\"layout\":{\"autotypenumbers\":\"strict\",\"colorway\":[\"#636efa\",\"#EF553B\",\"#00cc96\",\"#ab63fa\",\"#FFA15A\",\"#19d3f3\",\"#FF6692\",\"#B6E880\",\"#FF97FF\",\"#FECB52\"],\"font\":{\"color\":\"#2a3f5f\"},\"hovermode\":\"closest\",\"hoverlabel\":{\"align\":\"left\"},\"paper_bgcolor\":\"white\",\"plot_bgcolor\":\"#E5ECF6\",\"polar\":{\"bgcolor\":\"#E5ECF6\",\"angularaxis\":{\"gridcolor\":\"white\",\"linecolor\":\"white\",\"ticks\":\"\"},\"radialaxis\":{\"gridcolor\":\"white\",\"linecolor\":\"white\",\"ticks\":\"\"}},\"ternary\":{\"bgcolor\":\"#E5ECF6\",\"aaxis\":{\"gridcolor\":\"white\",\"linecolor\":\"white\",\"ticks\":\"\"},\"baxis\":{\"gridcolor\":\"white\",\"linecolor\":\"white\",\"ticks\":\"\"},\"caxis\":{\"gridcolor\":\"white\",\"linecolor\":\"white\",\"ticks\":\"\"}},\"coloraxis\":{\"colorbar\":{\"outlinewidth\":0,\"ticks\":\"\"}},\"colorscale\":{\"sequential\":[[0.0,\"#0d0887\"],[0.1111111111111111,\"#46039f\"],[0.2222222222222222,\"#7201a8\"],[0.3333333333333333,\"#9c179e\"],[0.4444444444444444,\"#bd3786\"],[0.5555555555555556,\"#d8576b\"],[0.6666666666666666,\"#ed7953\"],[0.7777777777777778,\"#fb9f3a\"],[0.8888888888888888,\"#fdca26\"],[1.0,\"#f0f921\"]],\"sequentialminus\":[[0.0,\"#0d0887\"],[0.1111111111111111,\"#46039f\"],[0.2222222222222222,\"#7201a8\"],[0.3333333333333333,\"#9c179e\"],[0.4444444444444444,\"#bd3786\"],[0.5555555555555556,\"#d8576b\"],[0.6666666666666666,\"#ed7953\"],[0.7777777777777778,\"#fb9f3a\"],[0.8888888888888888,\"#fdca26\"],[1.0,\"#f0f921\"]],\"diverging\":[[0,\"#8e0152\"],[0.1,\"#c51b7d\"],[0.2,\"#de77ae\"],[0.3,\"#f1b6da\"],[0.4,\"#fde0ef\"],[0.5,\"#f7f7f7\"],[0.6,\"#e6f5d0\"],[0.7,\"#b8e186\"],[0.8,\"#7fbc41\"],[0.9,\"#4d9221\"],[1,\"#276419\"]]},\"xaxis\":{\"gridcolor\":\"white\",\"linecolor\":\"white\",\"ticks\":\"\",\"title\":{\"standoff\":15},\"zerolinecolor\":\"white\",\"automargin\":true,\"zerolinewidth\":2},\"yaxis\":{\"gridcolor\":\"white\",\"linecolor\":\"white\",\"ticks\":\"\",\"title\":{\"standoff\":15},\"zerolinecolor\":\"white\",\"automargin\":true,\"zerolinewidth\":2},\"scene\":{\"xaxis\":{\"backgroundcolor\":\"#E5ECF6\",\"gridcolor\":\"white\",\"linecolor\":\"white\",\"showbackground\":true,\"ticks\":\"\",\"zerolinecolor\":\"white\",\"gridwidth\":2},\"yaxis\":{\"backgroundcolor\":\"#E5ECF6\",\"gridcolor\":\"white\",\"linecolor\":\"white\",\"showbackground\":true,\"ticks\":\"\",\"zerolinecolor\":\"white\",\"gridwidth\":2},\"zaxis\":{\"backgroundcolor\":\"#E5ECF6\",\"gridcolor\":\"white\",\"linecolor\":\"white\",\"showbackground\":true,\"ticks\":\"\",\"zerolinecolor\":\"white\",\"gridwidth\":2}},\"shapedefaults\":{\"line\":{\"color\":\"#2a3f5f\"}},\"annotationdefaults\":{\"arrowcolor\":\"#2a3f5f\",\"arrowhead\":0,\"arrowwidth\":1},\"geo\":{\"bgcolor\":\"white\",\"landcolor\":\"#E5ECF6\",\"subunitcolor\":\"white\",\"showland\":true,\"showlakes\":true,\"lakecolor\":\"white\"},\"title\":{\"x\":0.05},\"mapbox\":{\"style\":\"light\"}}},\"xaxis\":{\"anchor\":\"y\",\"domain\":[0.0,0.45]},\"yaxis\":{\"anchor\":\"x\",\"domain\":[0.0,1.0]},\"polar\":{\"domain\":{\"x\":[0.55,1.0],\"y\":[0.0,1.0]}},\"annotations\":[{\"font\":{\"size\":16},\"showarrow\":false,\"text\":\"INDE\",\"x\":0.225,\"xanchor\":\"center\",\"xref\":\"paper\",\"y\":1.0,\"yanchor\":\"bottom\",\"yref\":\"paper\"},{\"font\":{\"size\":16},\"showarrow\":false,\"text\":\"\\u00cdndices\",\"x\":0.775,\"xanchor\":\"center\",\"xref\":\"paper\",\"y\":1.0,\"yanchor\":\"bottom\",\"yref\":\"paper\"},{\"font\":{\"size\":16},\"showarrow\":false,\"text\":\"INDE\",\"x\":0.225,\"xanchor\":\"center\",\"xref\":\"paper\",\"y\":1.0,\"yanchor\":\"bottom\",\"yref\":\"paper\"},{\"font\":{\"size\":16},\"showarrow\":false,\"text\":\"\\u00cdndices\",\"x\":0.775,\"xanchor\":\"center\",\"xref\":\"paper\",\"y\":1.0,\"yanchor\":\"bottom\",\"yref\":\"paper\"},{\"font\":{\"size\":16},\"showarrow\":false,\"text\":\"Evolu\\u00e7\\u00e3o do Aluno por Ano\",\"x\":0.5,\"xanchor\":\"center\",\"xref\":\"paper\",\"y\":0,\"yanchor\":\"top\",\"yref\":\"paper\",\"yshift\":-30}]},                        {\"responsive\": true}                    ).then(function(){\n",
       "                            \n",
       "var gd = document.getElementById('585751e6-46e9-4453-90be-e7ef4957e114');\n",
       "var x = new MutationObserver(function (mutations, observer) {{\n",
       "        var display = window.getComputedStyle(gd).display;\n",
       "        if (!display || display === 'none') {{\n",
       "            console.log([gd, 'removed!']);\n",
       "            Plotly.purge(gd);\n",
       "            observer.disconnect();\n",
       "        }}\n",
       "}});\n",
       "\n",
       "// Listen for the removal of the full notebook cells\n",
       "var notebookContainer = gd.closest('#notebook-container');\n",
       "if (notebookContainer) {{\n",
       "    x.observe(notebookContainer, {childList: true});\n",
       "}}\n",
       "\n",
       "// Listen for the clearing of the current output cell\n",
       "var outputEl = gd.closest('.output');\n",
       "if (outputEl) {{\n",
       "    x.observe(outputEl, {childList: true});\n",
       "}}\n",
       "\n",
       "                        })                };                });            </script>        </div>"
      ]
     },
     "metadata": {},
     "output_type": "display_data"
    }
   ],
   "execution_count": 212
  },
  {
   "metadata": {
    "ExecuteTime": {
     "end_time": "2024-08-11T15:11:26.207251Z",
     "start_time": "2024-08-11T15:11:26.181773Z"
    }
   },
   "cell_type": "code",
   "source": "df1",
   "id": "d2e187c80d9b18c8",
   "outputs": [
    {
     "data": {
      "text/plain": [
       "      ANO_PESQUISA  ID_ALUNO     NOME  FASE TURMA PONTO_VIRADA  INDE  \\\n",
       "3             2020         5  ALUNO-5     2     M          Não  8.08   \n",
       "729           2021         5  ALUNO-5     2     L          Não  7.40   \n",
       "1415          2022         5  ALUNO-5     2     L          Não  7.23   \n",
       "\n",
       "         PEDRA   IAA   IEG  IPS   IDA   IPP   IPV   IAN  INDE_MEDIO_ANO_FASE  \\\n",
       "3     Ametista  7.50  8.00  7.5  7.50  8.44  8.17  10.0                 7.11   \n",
       "729   Ametista  7.40  7.50  7.5  5.40  8.50  7.40  10.0                 6.61   \n",
       "1415  Ametista  6.42  8.56  7.5  7.08  6.46  7.83   5.0                 6.96   \n",
       "\n",
       "      IAN_MEDIO_ANO_FASE  IDA_MEDIO_ANO_FASE  IEG_MEDIO_ANO_FASE  \\\n",
       "3                   7.34                5.13                7.92   \n",
       "729                 6.70                5.11                6.20   \n",
       "1415                6.40                5.40                8.16   \n",
       "\n",
       "      IAA_MEDIO_ANO_FASE  IPS_MEDIO_ANO_FASE  IPP_MEDIO_ANO_FASE  \\\n",
       "3                   8.26                6.73                7.37   \n",
       "729                 7.29                7.04                7.67   \n",
       "1415                8.41                6.82                6.16   \n",
       "\n",
       "      IPV_MEDIO_ANO_FASE  INDE_MEDIO_ANO_FASE_TURMA  IAN_MEDIO_ANO_FASE_TURMA  \\\n",
       "3                   7.67                       6.75                      7.35   \n",
       "729                 7.39                       6.28                      6.43   \n",
       "1415                7.34                       7.58                      6.33   \n",
       "\n",
       "      IDA_MEDIO_ANO_FASE_TURMA  IEG_MEDIO_ANO_FASE_TURMA  \\\n",
       "3                         4.18                      7.35   \n",
       "729                       4.37                      6.19   \n",
       "1415                      6.36                      9.32   \n",
       "\n",
       "      IAA_MEDIO_ANO_FASE_TURMA  IPS_MEDIO_ANO_FASE_TURMA  \\\n",
       "3                         7.93                      6.47   \n",
       "729                       5.70                      7.50   \n",
       "1415                      8.35                      7.21   \n",
       "\n",
       "      IPP_MEDIO_ANO_FASE_TURMA  IPV_MEDIO_ANO_FASE_TURMA  \n",
       "3                         7.45                      7.65  \n",
       "729                       8.06                      7.00  \n",
       "1415                      6.45                      8.05  "
      ],
      "text/html": [
       "<div>\n",
       "<style scoped>\n",
       "    .dataframe tbody tr th:only-of-type {\n",
       "        vertical-align: middle;\n",
       "    }\n",
       "\n",
       "    .dataframe tbody tr th {\n",
       "        vertical-align: top;\n",
       "    }\n",
       "\n",
       "    .dataframe thead th {\n",
       "        text-align: right;\n",
       "    }\n",
       "</style>\n",
       "<table border=\"1\" class=\"dataframe\">\n",
       "  <thead>\n",
       "    <tr style=\"text-align: right;\">\n",
       "      <th></th>\n",
       "      <th>ANO_PESQUISA</th>\n",
       "      <th>ID_ALUNO</th>\n",
       "      <th>NOME</th>\n",
       "      <th>FASE</th>\n",
       "      <th>TURMA</th>\n",
       "      <th>PONTO_VIRADA</th>\n",
       "      <th>INDE</th>\n",
       "      <th>PEDRA</th>\n",
       "      <th>IAA</th>\n",
       "      <th>IEG</th>\n",
       "      <th>IPS</th>\n",
       "      <th>IDA</th>\n",
       "      <th>IPP</th>\n",
       "      <th>IPV</th>\n",
       "      <th>IAN</th>\n",
       "      <th>INDE_MEDIO_ANO_FASE</th>\n",
       "      <th>IAN_MEDIO_ANO_FASE</th>\n",
       "      <th>IDA_MEDIO_ANO_FASE</th>\n",
       "      <th>IEG_MEDIO_ANO_FASE</th>\n",
       "      <th>IAA_MEDIO_ANO_FASE</th>\n",
       "      <th>IPS_MEDIO_ANO_FASE</th>\n",
       "      <th>IPP_MEDIO_ANO_FASE</th>\n",
       "      <th>IPV_MEDIO_ANO_FASE</th>\n",
       "      <th>INDE_MEDIO_ANO_FASE_TURMA</th>\n",
       "      <th>IAN_MEDIO_ANO_FASE_TURMA</th>\n",
       "      <th>IDA_MEDIO_ANO_FASE_TURMA</th>\n",
       "      <th>IEG_MEDIO_ANO_FASE_TURMA</th>\n",
       "      <th>IAA_MEDIO_ANO_FASE_TURMA</th>\n",
       "      <th>IPS_MEDIO_ANO_FASE_TURMA</th>\n",
       "      <th>IPP_MEDIO_ANO_FASE_TURMA</th>\n",
       "      <th>IPV_MEDIO_ANO_FASE_TURMA</th>\n",
       "    </tr>\n",
       "  </thead>\n",
       "  <tbody>\n",
       "    <tr>\n",
       "      <th>3</th>\n",
       "      <td>2020</td>\n",
       "      <td>5</td>\n",
       "      <td>ALUNO-5</td>\n",
       "      <td>2</td>\n",
       "      <td>M</td>\n",
       "      <td>Não</td>\n",
       "      <td>8.08</td>\n",
       "      <td>Ametista</td>\n",
       "      <td>7.50</td>\n",
       "      <td>8.00</td>\n",
       "      <td>7.5</td>\n",
       "      <td>7.50</td>\n",
       "      <td>8.44</td>\n",
       "      <td>8.17</td>\n",
       "      <td>10.0</td>\n",
       "      <td>7.11</td>\n",
       "      <td>7.34</td>\n",
       "      <td>5.13</td>\n",
       "      <td>7.92</td>\n",
       "      <td>8.26</td>\n",
       "      <td>6.73</td>\n",
       "      <td>7.37</td>\n",
       "      <td>7.67</td>\n",
       "      <td>6.75</td>\n",
       "      <td>7.35</td>\n",
       "      <td>4.18</td>\n",
       "      <td>7.35</td>\n",
       "      <td>7.93</td>\n",
       "      <td>6.47</td>\n",
       "      <td>7.45</td>\n",
       "      <td>7.65</td>\n",
       "    </tr>\n",
       "    <tr>\n",
       "      <th>729</th>\n",
       "      <td>2021</td>\n",
       "      <td>5</td>\n",
       "      <td>ALUNO-5</td>\n",
       "      <td>2</td>\n",
       "      <td>L</td>\n",
       "      <td>Não</td>\n",
       "      <td>7.40</td>\n",
       "      <td>Ametista</td>\n",
       "      <td>7.40</td>\n",
       "      <td>7.50</td>\n",
       "      <td>7.5</td>\n",
       "      <td>5.40</td>\n",
       "      <td>8.50</td>\n",
       "      <td>7.40</td>\n",
       "      <td>10.0</td>\n",
       "      <td>6.61</td>\n",
       "      <td>6.70</td>\n",
       "      <td>5.11</td>\n",
       "      <td>6.20</td>\n",
       "      <td>7.29</td>\n",
       "      <td>7.04</td>\n",
       "      <td>7.67</td>\n",
       "      <td>7.39</td>\n",
       "      <td>6.28</td>\n",
       "      <td>6.43</td>\n",
       "      <td>4.37</td>\n",
       "      <td>6.19</td>\n",
       "      <td>5.70</td>\n",
       "      <td>7.50</td>\n",
       "      <td>8.06</td>\n",
       "      <td>7.00</td>\n",
       "    </tr>\n",
       "    <tr>\n",
       "      <th>1415</th>\n",
       "      <td>2022</td>\n",
       "      <td>5</td>\n",
       "      <td>ALUNO-5</td>\n",
       "      <td>2</td>\n",
       "      <td>L</td>\n",
       "      <td>Não</td>\n",
       "      <td>7.23</td>\n",
       "      <td>Ametista</td>\n",
       "      <td>6.42</td>\n",
       "      <td>8.56</td>\n",
       "      <td>7.5</td>\n",
       "      <td>7.08</td>\n",
       "      <td>6.46</td>\n",
       "      <td>7.83</td>\n",
       "      <td>5.0</td>\n",
       "      <td>6.96</td>\n",
       "      <td>6.40</td>\n",
       "      <td>5.40</td>\n",
       "      <td>8.16</td>\n",
       "      <td>8.41</td>\n",
       "      <td>6.82</td>\n",
       "      <td>6.16</td>\n",
       "      <td>7.34</td>\n",
       "      <td>7.58</td>\n",
       "      <td>6.33</td>\n",
       "      <td>6.36</td>\n",
       "      <td>9.32</td>\n",
       "      <td>8.35</td>\n",
       "      <td>7.21</td>\n",
       "      <td>6.45</td>\n",
       "      <td>8.05</td>\n",
       "    </tr>\n",
       "  </tbody>\n",
       "</table>\n",
       "</div>"
      ]
     },
     "execution_count": 213,
     "metadata": {},
     "output_type": "execute_result"
    }
   ],
   "execution_count": 213
  },
  {
   "metadata": {
    "ExecuteTime": {
     "end_time": "2024-08-11T15:11:26.267346Z",
     "start_time": "2024-08-11T15:11:26.264088Z"
    }
   },
   "cell_type": "code",
   "source": "",
   "id": "ea0c61b88d60f8f1",
   "outputs": [],
   "execution_count": 213
  }
 ],
 "metadata": {
  "kernelspec": {
   "display_name": "Python 3",
   "language": "python",
   "name": "python3"
  },
  "language_info": {
   "codemirror_mode": {
    "name": "ipython",
    "version": 2
   },
   "file_extension": ".py",
   "mimetype": "text/x-python",
   "name": "python",
   "nbconvert_exporter": "python",
   "pygments_lexer": "ipython2",
   "version": "2.7.6"
  }
 },
 "nbformat": 4,
 "nbformat_minor": 5
}
